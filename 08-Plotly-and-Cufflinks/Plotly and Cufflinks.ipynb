{
 "cells": [
  {
   "cell_type": "markdown",
   "metadata": {},
   "source": [
    "## Plotly and Cufflinks\n",
    "Plotly is a library that allows to create interactive plots that qw can use in dashboards or websites(we can save than as html files or static images)"
   ]
  },
  {
   "cell_type": "markdown",
   "metadata": {},
   "source": [
    "## Installation\n",
    "\n",
    "In order for this all to work, you'll need to install plotly and cufflinks to call plots directly off of a pandas dataframe. These libraries are not currently available through **conda** but are available through **pip**. Install the libraries at your command line/terminal using:\n",
    "\n",
    "    pip install plotly\n",
    "    pip install cufflinks\n",
    "\n",
    "** NOTE: Make sure you only have one installation of Python on your computer when you do this, otherwise the installation may not work. **\n",
    "\n",
    "## Imports and Set-up"
   ]
  },
  {
   "cell_type": "code",
   "execution_count": 1,
   "metadata": {},
   "outputs": [],
   "source": [
    "import pandas as pd\n",
    "import numpy as np\n",
    "%matplotlib inline"
   ]
  },
  {
   "cell_type": "code",
   "execution_count": 3,
   "metadata": {},
   "outputs": [
    {
     "ename": "ImportError",
     "evalue": "cannot import name 'download_plotyjs' from 'plotly.offline' (C:\\Users\\14088\\Documents\\Anaconda\\lib\\site-packages\\plotly\\offline\\__init__.py)",
     "output_type": "error",
     "traceback": [
      "\u001b[1;31m---------------------------------------------------------------------------\u001b[0m",
      "\u001b[1;31mImportError\u001b[0m                               Traceback (most recent call last)",
      "\u001b[1;32m<ipython-input-3-8a04f7e3b808>\u001b[0m in \u001b[0;36m<module>\u001b[1;34m\u001b[0m\n\u001b[0;32m      1\u001b[0m \u001b[1;32mfrom\u001b[0m \u001b[0mplotly\u001b[0m \u001b[1;32mimport\u001b[0m \u001b[0m__version__\u001b[0m\u001b[1;33m\u001b[0m\u001b[1;33m\u001b[0m\u001b[0m\n\u001b[1;32m----> 2\u001b[1;33m \u001b[1;32mfrom\u001b[0m \u001b[0mplotly\u001b[0m\u001b[1;33m.\u001b[0m\u001b[0moffline\u001b[0m \u001b[1;32mimport\u001b[0m \u001b[0mdownload_plotyjs\u001b[0m\u001b[1;33m,\u001b[0m \u001b[0minit_notebook_mode\u001b[0m\u001b[1;33m,\u001b[0m \u001b[0mplot\u001b[0m\u001b[1;33m,\u001b[0m \u001b[0miplot\u001b[0m\u001b[1;33m\u001b[0m\u001b[1;33m\u001b[0m\u001b[0m\n\u001b[0m\u001b[0;32m      3\u001b[0m \u001b[1;33m\u001b[0m\u001b[0m\n\u001b[0;32m      4\u001b[0m \u001b[0mprint\u001b[0m\u001b[1;33m(\u001b[0m\u001b[0m__version__\u001b[0m\u001b[1;33m)\u001b[0m \u001b[1;31m#require version >= 1.9.0\u001b[0m\u001b[1;33m\u001b[0m\u001b[1;33m\u001b[0m\u001b[0m\n",
      "\u001b[1;31mImportError\u001b[0m: cannot import name 'download_plotyjs' from 'plotly.offline' (C:\\Users\\14088\\Documents\\Anaconda\\lib\\site-packages\\plotly\\offline\\__init__.py)"
     ]
    }
   ],
   "source": [
    "from plotly import __version__\n",
    "from plotly.offline import download_plotyjs, init_notebook_mode, plot, iplot\n",
    "\n",
    "print(__version__) #require version >= 1.9.0"
   ]
  },
  {
   "cell_type": "code",
   "execution_count": 4,
   "metadata": {},
   "outputs": [],
   "source": [
    "import cufflinks as cf"
   ]
  },
  {
   "cell_type": "code",
   "execution_count": 5,
   "metadata": {},
   "outputs": [
    {
     "data": {
      "text/html": [
       "        <script type=\"text/javascript\">\n",
       "        window.PlotlyConfig = {MathJaxConfig: 'local'};\n",
       "        if (window.MathJax) {MathJax.Hub.Config({SVG: {font: \"STIX-Web\"}});}\n",
       "        if (typeof require !== 'undefined') {\n",
       "        require.undef(\"plotly\");\n",
       "        requirejs.config({\n",
       "            paths: {\n",
       "                'plotly': ['https://cdn.plot.ly/plotly-latest.min']\n",
       "            }\n",
       "        });\n",
       "        require(['plotly'], function(Plotly) {\n",
       "            window._Plotly = Plotly;\n",
       "        });\n",
       "        }\n",
       "        </script>\n",
       "        "
      ]
     },
     "metadata": {},
     "output_type": "display_data"
    }
   ],
   "source": [
    "# For offline use\n",
    "cf.go_offline()"
   ]
  },
  {
   "cell_type": "markdown",
   "metadata": {},
   "source": [
    "### Fake Data"
   ]
  },
  {
   "cell_type": "code",
   "execution_count": 7,
   "metadata": {},
   "outputs": [],
   "source": [
    "df = pd.DataFrame(np.random.randn(100,4),columns='A B C D'.split())"
   ]
  },
  {
   "cell_type": "code",
   "execution_count": 8,
   "metadata": {},
   "outputs": [
    {
     "data": {
      "text/html": [
       "<div>\n",
       "<style scoped>\n",
       "    .dataframe tbody tr th:only-of-type {\n",
       "        vertical-align: middle;\n",
       "    }\n",
       "\n",
       "    .dataframe tbody tr th {\n",
       "        vertical-align: top;\n",
       "    }\n",
       "\n",
       "    .dataframe thead th {\n",
       "        text-align: right;\n",
       "    }\n",
       "</style>\n",
       "<table border=\"1\" class=\"dataframe\">\n",
       "  <thead>\n",
       "    <tr style=\"text-align: right;\">\n",
       "      <th></th>\n",
       "      <th>A</th>\n",
       "      <th>B</th>\n",
       "      <th>C</th>\n",
       "      <th>D</th>\n",
       "    </tr>\n",
       "  </thead>\n",
       "  <tbody>\n",
       "    <tr>\n",
       "      <th>0</th>\n",
       "      <td>0.644944</td>\n",
       "      <td>-0.080134</td>\n",
       "      <td>-1.447757</td>\n",
       "      <td>2.108995</td>\n",
       "    </tr>\n",
       "    <tr>\n",
       "      <th>1</th>\n",
       "      <td>-1.243349</td>\n",
       "      <td>0.022696</td>\n",
       "      <td>-1.723360</td>\n",
       "      <td>0.807087</td>\n",
       "    </tr>\n",
       "    <tr>\n",
       "      <th>2</th>\n",
       "      <td>-0.499253</td>\n",
       "      <td>2.032705</td>\n",
       "      <td>-0.598421</td>\n",
       "      <td>-0.731340</td>\n",
       "    </tr>\n",
       "    <tr>\n",
       "      <th>3</th>\n",
       "      <td>2.495154</td>\n",
       "      <td>-0.718199</td>\n",
       "      <td>-0.936888</td>\n",
       "      <td>-2.487121</td>\n",
       "    </tr>\n",
       "    <tr>\n",
       "      <th>4</th>\n",
       "      <td>0.718153</td>\n",
       "      <td>1.662174</td>\n",
       "      <td>0.906214</td>\n",
       "      <td>0.616602</td>\n",
       "    </tr>\n",
       "  </tbody>\n",
       "</table>\n",
       "</div>"
      ],
      "text/plain": [
       "          A         B         C         D\n",
       "0  0.644944 -0.080134 -1.447757  2.108995\n",
       "1 -1.243349  0.022696 -1.723360  0.807087\n",
       "2 -0.499253  2.032705 -0.598421 -0.731340\n",
       "3  2.495154 -0.718199 -0.936888 -2.487121\n",
       "4  0.718153  1.662174  0.906214  0.616602"
      ]
     },
     "execution_count": 8,
     "metadata": {},
     "output_type": "execute_result"
    }
   ],
   "source": [
    "df.head()"
   ]
  },
  {
   "cell_type": "code",
   "execution_count": 10,
   "metadata": {},
   "outputs": [],
   "source": [
    "df2 = pd.DataFrame({'Category':['A','B','C'],'Values':[32,43,50]})"
   ]
  },
  {
   "cell_type": "code",
   "execution_count": 12,
   "metadata": {},
   "outputs": [
    {
     "data": {
      "text/html": [
       "<div>\n",
       "<style scoped>\n",
       "    .dataframe tbody tr th:only-of-type {\n",
       "        vertical-align: middle;\n",
       "    }\n",
       "\n",
       "    .dataframe tbody tr th {\n",
       "        vertical-align: top;\n",
       "    }\n",
       "\n",
       "    .dataframe thead th {\n",
       "        text-align: right;\n",
       "    }\n",
       "</style>\n",
       "<table border=\"1\" class=\"dataframe\">\n",
       "  <thead>\n",
       "    <tr style=\"text-align: right;\">\n",
       "      <th></th>\n",
       "      <th>Category</th>\n",
       "      <th>Values</th>\n",
       "    </tr>\n",
       "  </thead>\n",
       "  <tbody>\n",
       "    <tr>\n",
       "      <th>0</th>\n",
       "      <td>A</td>\n",
       "      <td>32</td>\n",
       "    </tr>\n",
       "    <tr>\n",
       "      <th>1</th>\n",
       "      <td>B</td>\n",
       "      <td>43</td>\n",
       "    </tr>\n",
       "    <tr>\n",
       "      <th>2</th>\n",
       "      <td>C</td>\n",
       "      <td>50</td>\n",
       "    </tr>\n",
       "  </tbody>\n",
       "</table>\n",
       "</div>"
      ],
      "text/plain": [
       "  Category  Values\n",
       "0        A      32\n",
       "1        B      43\n",
       "2        C      50"
      ]
     },
     "execution_count": 12,
     "metadata": {},
     "output_type": "execute_result"
    }
   ],
   "source": [
    "df2"
   ]
  },
  {
   "cell_type": "markdown",
   "metadata": {},
   "source": [
    "## Using Cufflinks and iplot()\n",
    "\n",
    "* scatter\n",
    "* bar\n",
    "* box\n",
    "* spread\n",
    "* ratio\n",
    "* heatmap\n",
    "* surface\n",
    "* histogram\n",
    "* bubble"
   ]
  },
  {
   "cell_type": "markdown",
   "metadata": {},
   "source": [
    "### Scatter"
   ]
  },
  {
   "cell_type": "code",
   "execution_count": 15,
   "metadata": {},
   "outputs": [
    {
     "data": {
      "application/vnd.plotly.v1+json": {
       "config": {
        "linkText": "Export to plot.ly",
        "plotlyServerURL": "https://plot.ly",
        "showLink": true
       },
       "data": [
        {
         "line": {
          "color": "rgba(255, 153, 51, 1.0)",
          "dash": "solid",
          "shape": "linear",
          "width": 1.3
         },
         "marker": {
          "size": 10,
          "symbol": "circle"
         },
         "mode": "markers",
         "name": "B",
         "text": "",
         "type": "scatter",
         "x": [
          0.644944253392509,
          -1.243348684605454,
          -0.4992529425467864,
          2.4951536973358257,
          0.7181532996966965,
          -1.9317140313919021,
          0.11474960965809082,
          -0.1261498964710348,
          -0.5103316332599934,
          -0.8276136470561897,
          -0.2507444797257825,
          -1.3418672073315923,
          0.21175779852862386,
          0.5295284425743242,
          0.8363177959309905,
          0.415861941348495,
          0.871861955304613,
          0.6681642022568207,
          0.6353210567494172,
          -0.8890269089553131,
          -0.5757625912203307,
          0.0473418279138021,
          0.45893720365546087,
          0.20533206162680312,
          0.5342187570105031,
          -0.9577761045178981,
          0.6215579004212394,
          0.3008634269643,
          0.33739228720858727,
          1.5605524266487771,
          1.1653258116847005,
          2.293244270264029,
          -0.7047214962226932,
          0.3962295958236032,
          -0.6537064556460913,
          -0.4985449582239225,
          2.27944819476583,
          0.8499011425816464,
          -0.4860147282091424,
          -0.6444140483491969,
          2.214686187010531,
          0.3838743222004633,
          -0.5539655478660834,
          -0.9901617877531294,
          -2.312706735663867,
          -0.23252768398780077,
          -1.540241546640356,
          1.1808907417329335,
          1.0871707946424356,
          -0.15996342914122272,
          0.022131419531764927,
          0.5380254693737466,
          -0.9069222602195819,
          0.9098672320142027,
          0.39275474249035136,
          0.2515091490652439,
          0.033273504199668645,
          -0.4062481423769172,
          -0.22266747097199469,
          -0.021543501070881897,
          1.1414511969408576,
          -0.882928566564055,
          -0.2269953805998093,
          -1.1414555129144652,
          -0.19982816122859687,
          0.008667300544806618,
          0.98104895613813,
          0.7000475963198131,
          -0.9875553180644235,
          0.2802041042103516,
          -0.27841473507495756,
          -0.28720943739101973,
          -0.3417889952846551,
          0.5204878045371218,
          -0.434114511660545,
          -0.2063332906543763,
          -0.03675127761476961,
          1.1901664803851735,
          0.01200015667771501,
          0.8272860394456298,
          0.05409598408964082,
          -1.270582395308957,
          -1.5555290581226502,
          -0.7117188145510055,
          -0.5312698504250206,
          -1.5695714005160748,
          -0.2290634746353095,
          -1.2991596300694486,
          0.12650435754258949,
          0.5109620491249028,
          -1.526578864329696,
          0.4182122881950908,
          1.4562508551129445,
          1.4324202800329318,
          -0.14732020963007963,
          -0.8109983196533064,
          0.5811563853217354,
          1.2867440891345567,
          -0.6972600913213484,
          1.296152728893862
         ],
         "y": [
          -0.08013390570656855,
          0.02269628397142565,
          2.0327051595328567,
          -0.7181989100120357,
          1.662173623528374,
          -1.8065217941063234,
          1.2110119232992642,
          0.964951897071669,
          -0.85475257177362,
          -0.8248953729479542,
          -1.5826159940641324,
          -0.31771649747982844,
          0.4695556889421146,
          1.1126965404646199,
          0.47540997865652285,
          1.5046965559370773,
          0.25150127187187826,
          0.7342936672975972,
          0.5573821763407487,
          1.6335921713759398,
          0.28423026188458866,
          -0.3513447045334481,
          0.7216116547879913,
          -2.0192256386128222,
          -0.6603785846807382,
          0.6075414069350706,
          -1.3040106662584956,
          -0.13444623772025147,
          1.4643238329452812,
          0.8287147546248804,
          0.5806777413326851,
          0.9303244942852352,
          0.7259757585380316,
          -0.06322536505460559,
          1.2453254912014053,
          0.6080354966321703,
          0.006735045164522672,
          1.6427954888944556,
          -0.5032316059134918,
          -0.8783406051015079,
          0.8369992548650931,
          -0.15452153692557458,
          0.4495271766918472,
          -0.851990999026497,
          -1.10351719090533,
          0.09538065137446597,
          -1.4065321722524897,
          -0.6884313359013833,
          -1.8692741176830965,
          0.7535226372890009,
          1.7893533378361597,
          -0.7663252274224117,
          1.8026469873249986,
          0.04966144641495865,
          -2.827664478329827,
          -0.12053078024314415,
          -0.8406444888833142,
          1.1436342481148736,
          -0.6438301792589787,
          -0.15968908610736374,
          -0.03930255640966198,
          -0.7994520589749605,
          -1.1940497177919867,
          0.10867677592993708,
          -1.3726391157855171,
          -0.1326855930801497,
          -0.5587655308484875,
          -0.7436168413473584,
          -1.6228530763718965,
          0.06949574404363028,
          0.6809559377259978,
          -0.31448231912903674,
          -0.3316012072631598,
          -0.5847889225916768,
          -1.6805967750833015,
          -0.3665019767365411,
          2.008727649743859,
          -0.24327605882879857,
          -0.359785106683067,
          -0.8924991334740093,
          0.12697324601980906,
          0.5531647475745822,
          -1.0258680943681446,
          0.8539067657069088,
          -0.7889592814582247,
          -1.2162060159782722,
          -1.0133611160795266,
          -0.5733977596069428,
          2.0491826184025244,
          -1.0876329251377972,
          -0.07220169619981867,
          -0.5633866328881607,
          -1.2044256319043143,
          0.5572001026112121,
          -0.5831545677877031,
          -1.428781267332909,
          -0.45228906215591375,
          0.156452198379921,
          -0.44290164114833663,
          -0.4004290542117399
         ]
        }
       ],
       "layout": {
        "legend": {
         "bgcolor": "#F5F6F9",
         "font": {
          "color": "#4D5663"
         }
        },
        "paper_bgcolor": "#F5F6F9",
        "plot_bgcolor": "#F5F6F9",
        "template": {
         "data": {
          "bar": [
           {
            "error_x": {
             "color": "#2a3f5f"
            },
            "error_y": {
             "color": "#2a3f5f"
            },
            "marker": {
             "line": {
              "color": "#E5ECF6",
              "width": 0.5
             }
            },
            "type": "bar"
           }
          ],
          "barpolar": [
           {
            "marker": {
             "line": {
              "color": "#E5ECF6",
              "width": 0.5
             }
            },
            "type": "barpolar"
           }
          ],
          "carpet": [
           {
            "aaxis": {
             "endlinecolor": "#2a3f5f",
             "gridcolor": "white",
             "linecolor": "white",
             "minorgridcolor": "white",
             "startlinecolor": "#2a3f5f"
            },
            "baxis": {
             "endlinecolor": "#2a3f5f",
             "gridcolor": "white",
             "linecolor": "white",
             "minorgridcolor": "white",
             "startlinecolor": "#2a3f5f"
            },
            "type": "carpet"
           }
          ],
          "choropleth": [
           {
            "colorbar": {
             "outlinewidth": 0,
             "ticks": ""
            },
            "type": "choropleth"
           }
          ],
          "contour": [
           {
            "colorbar": {
             "outlinewidth": 0,
             "ticks": ""
            },
            "colorscale": [
             [
              0,
              "#0d0887"
             ],
             [
              0.1111111111111111,
              "#46039f"
             ],
             [
              0.2222222222222222,
              "#7201a8"
             ],
             [
              0.3333333333333333,
              "#9c179e"
             ],
             [
              0.4444444444444444,
              "#bd3786"
             ],
             [
              0.5555555555555556,
              "#d8576b"
             ],
             [
              0.6666666666666666,
              "#ed7953"
             ],
             [
              0.7777777777777778,
              "#fb9f3a"
             ],
             [
              0.8888888888888888,
              "#fdca26"
             ],
             [
              1,
              "#f0f921"
             ]
            ],
            "type": "contour"
           }
          ],
          "contourcarpet": [
           {
            "colorbar": {
             "outlinewidth": 0,
             "ticks": ""
            },
            "type": "contourcarpet"
           }
          ],
          "heatmap": [
           {
            "colorbar": {
             "outlinewidth": 0,
             "ticks": ""
            },
            "colorscale": [
             [
              0,
              "#0d0887"
             ],
             [
              0.1111111111111111,
              "#46039f"
             ],
             [
              0.2222222222222222,
              "#7201a8"
             ],
             [
              0.3333333333333333,
              "#9c179e"
             ],
             [
              0.4444444444444444,
              "#bd3786"
             ],
             [
              0.5555555555555556,
              "#d8576b"
             ],
             [
              0.6666666666666666,
              "#ed7953"
             ],
             [
              0.7777777777777778,
              "#fb9f3a"
             ],
             [
              0.8888888888888888,
              "#fdca26"
             ],
             [
              1,
              "#f0f921"
             ]
            ],
            "type": "heatmap"
           }
          ],
          "heatmapgl": [
           {
            "colorbar": {
             "outlinewidth": 0,
             "ticks": ""
            },
            "colorscale": [
             [
              0,
              "#0d0887"
             ],
             [
              0.1111111111111111,
              "#46039f"
             ],
             [
              0.2222222222222222,
              "#7201a8"
             ],
             [
              0.3333333333333333,
              "#9c179e"
             ],
             [
              0.4444444444444444,
              "#bd3786"
             ],
             [
              0.5555555555555556,
              "#d8576b"
             ],
             [
              0.6666666666666666,
              "#ed7953"
             ],
             [
              0.7777777777777778,
              "#fb9f3a"
             ],
             [
              0.8888888888888888,
              "#fdca26"
             ],
             [
              1,
              "#f0f921"
             ]
            ],
            "type": "heatmapgl"
           }
          ],
          "histogram": [
           {
            "marker": {
             "colorbar": {
              "outlinewidth": 0,
              "ticks": ""
             }
            },
            "type": "histogram"
           }
          ],
          "histogram2d": [
           {
            "colorbar": {
             "outlinewidth": 0,
             "ticks": ""
            },
            "colorscale": [
             [
              0,
              "#0d0887"
             ],
             [
              0.1111111111111111,
              "#46039f"
             ],
             [
              0.2222222222222222,
              "#7201a8"
             ],
             [
              0.3333333333333333,
              "#9c179e"
             ],
             [
              0.4444444444444444,
              "#bd3786"
             ],
             [
              0.5555555555555556,
              "#d8576b"
             ],
             [
              0.6666666666666666,
              "#ed7953"
             ],
             [
              0.7777777777777778,
              "#fb9f3a"
             ],
             [
              0.8888888888888888,
              "#fdca26"
             ],
             [
              1,
              "#f0f921"
             ]
            ],
            "type": "histogram2d"
           }
          ],
          "histogram2dcontour": [
           {
            "colorbar": {
             "outlinewidth": 0,
             "ticks": ""
            },
            "colorscale": [
             [
              0,
              "#0d0887"
             ],
             [
              0.1111111111111111,
              "#46039f"
             ],
             [
              0.2222222222222222,
              "#7201a8"
             ],
             [
              0.3333333333333333,
              "#9c179e"
             ],
             [
              0.4444444444444444,
              "#bd3786"
             ],
             [
              0.5555555555555556,
              "#d8576b"
             ],
             [
              0.6666666666666666,
              "#ed7953"
             ],
             [
              0.7777777777777778,
              "#fb9f3a"
             ],
             [
              0.8888888888888888,
              "#fdca26"
             ],
             [
              1,
              "#f0f921"
             ]
            ],
            "type": "histogram2dcontour"
           }
          ],
          "mesh3d": [
           {
            "colorbar": {
             "outlinewidth": 0,
             "ticks": ""
            },
            "type": "mesh3d"
           }
          ],
          "parcoords": [
           {
            "line": {
             "colorbar": {
              "outlinewidth": 0,
              "ticks": ""
             }
            },
            "type": "parcoords"
           }
          ],
          "pie": [
           {
            "automargin": true,
            "type": "pie"
           }
          ],
          "scatter": [
           {
            "marker": {
             "colorbar": {
              "outlinewidth": 0,
              "ticks": ""
             }
            },
            "type": "scatter"
           }
          ],
          "scatter3d": [
           {
            "line": {
             "colorbar": {
              "outlinewidth": 0,
              "ticks": ""
             }
            },
            "marker": {
             "colorbar": {
              "outlinewidth": 0,
              "ticks": ""
             }
            },
            "type": "scatter3d"
           }
          ],
          "scattercarpet": [
           {
            "marker": {
             "colorbar": {
              "outlinewidth": 0,
              "ticks": ""
             }
            },
            "type": "scattercarpet"
           }
          ],
          "scattergeo": [
           {
            "marker": {
             "colorbar": {
              "outlinewidth": 0,
              "ticks": ""
             }
            },
            "type": "scattergeo"
           }
          ],
          "scattergl": [
           {
            "marker": {
             "colorbar": {
              "outlinewidth": 0,
              "ticks": ""
             }
            },
            "type": "scattergl"
           }
          ],
          "scattermapbox": [
           {
            "marker": {
             "colorbar": {
              "outlinewidth": 0,
              "ticks": ""
             }
            },
            "type": "scattermapbox"
           }
          ],
          "scatterpolar": [
           {
            "marker": {
             "colorbar": {
              "outlinewidth": 0,
              "ticks": ""
             }
            },
            "type": "scatterpolar"
           }
          ],
          "scatterpolargl": [
           {
            "marker": {
             "colorbar": {
              "outlinewidth": 0,
              "ticks": ""
             }
            },
            "type": "scatterpolargl"
           }
          ],
          "scatterternary": [
           {
            "marker": {
             "colorbar": {
              "outlinewidth": 0,
              "ticks": ""
             }
            },
            "type": "scatterternary"
           }
          ],
          "surface": [
           {
            "colorbar": {
             "outlinewidth": 0,
             "ticks": ""
            },
            "colorscale": [
             [
              0,
              "#0d0887"
             ],
             [
              0.1111111111111111,
              "#46039f"
             ],
             [
              0.2222222222222222,
              "#7201a8"
             ],
             [
              0.3333333333333333,
              "#9c179e"
             ],
             [
              0.4444444444444444,
              "#bd3786"
             ],
             [
              0.5555555555555556,
              "#d8576b"
             ],
             [
              0.6666666666666666,
              "#ed7953"
             ],
             [
              0.7777777777777778,
              "#fb9f3a"
             ],
             [
              0.8888888888888888,
              "#fdca26"
             ],
             [
              1,
              "#f0f921"
             ]
            ],
            "type": "surface"
           }
          ],
          "table": [
           {
            "cells": {
             "fill": {
              "color": "#EBF0F8"
             },
             "line": {
              "color": "white"
             }
            },
            "header": {
             "fill": {
              "color": "#C8D4E3"
             },
             "line": {
              "color": "white"
             }
            },
            "type": "table"
           }
          ]
         },
         "layout": {
          "annotationdefaults": {
           "arrowcolor": "#2a3f5f",
           "arrowhead": 0,
           "arrowwidth": 1
          },
          "coloraxis": {
           "colorbar": {
            "outlinewidth": 0,
            "ticks": ""
           }
          },
          "colorscale": {
           "diverging": [
            [
             0,
             "#8e0152"
            ],
            [
             0.1,
             "#c51b7d"
            ],
            [
             0.2,
             "#de77ae"
            ],
            [
             0.3,
             "#f1b6da"
            ],
            [
             0.4,
             "#fde0ef"
            ],
            [
             0.5,
             "#f7f7f7"
            ],
            [
             0.6,
             "#e6f5d0"
            ],
            [
             0.7,
             "#b8e186"
            ],
            [
             0.8,
             "#7fbc41"
            ],
            [
             0.9,
             "#4d9221"
            ],
            [
             1,
             "#276419"
            ]
           ],
           "sequential": [
            [
             0,
             "#0d0887"
            ],
            [
             0.1111111111111111,
             "#46039f"
            ],
            [
             0.2222222222222222,
             "#7201a8"
            ],
            [
             0.3333333333333333,
             "#9c179e"
            ],
            [
             0.4444444444444444,
             "#bd3786"
            ],
            [
             0.5555555555555556,
             "#d8576b"
            ],
            [
             0.6666666666666666,
             "#ed7953"
            ],
            [
             0.7777777777777778,
             "#fb9f3a"
            ],
            [
             0.8888888888888888,
             "#fdca26"
            ],
            [
             1,
             "#f0f921"
            ]
           ],
           "sequentialminus": [
            [
             0,
             "#0d0887"
            ],
            [
             0.1111111111111111,
             "#46039f"
            ],
            [
             0.2222222222222222,
             "#7201a8"
            ],
            [
             0.3333333333333333,
             "#9c179e"
            ],
            [
             0.4444444444444444,
             "#bd3786"
            ],
            [
             0.5555555555555556,
             "#d8576b"
            ],
            [
             0.6666666666666666,
             "#ed7953"
            ],
            [
             0.7777777777777778,
             "#fb9f3a"
            ],
            [
             0.8888888888888888,
             "#fdca26"
            ],
            [
             1,
             "#f0f921"
            ]
           ]
          },
          "colorway": [
           "#636efa",
           "#EF553B",
           "#00cc96",
           "#ab63fa",
           "#FFA15A",
           "#19d3f3",
           "#FF6692",
           "#B6E880",
           "#FF97FF",
           "#FECB52"
          ],
          "font": {
           "color": "#2a3f5f"
          },
          "geo": {
           "bgcolor": "white",
           "lakecolor": "white",
           "landcolor": "#E5ECF6",
           "showlakes": true,
           "showland": true,
           "subunitcolor": "white"
          },
          "hoverlabel": {
           "align": "left"
          },
          "hovermode": "closest",
          "mapbox": {
           "style": "light"
          },
          "paper_bgcolor": "white",
          "plot_bgcolor": "#E5ECF6",
          "polar": {
           "angularaxis": {
            "gridcolor": "white",
            "linecolor": "white",
            "ticks": ""
           },
           "bgcolor": "#E5ECF6",
           "radialaxis": {
            "gridcolor": "white",
            "linecolor": "white",
            "ticks": ""
           }
          },
          "scene": {
           "xaxis": {
            "backgroundcolor": "#E5ECF6",
            "gridcolor": "white",
            "gridwidth": 2,
            "linecolor": "white",
            "showbackground": true,
            "ticks": "",
            "zerolinecolor": "white"
           },
           "yaxis": {
            "backgroundcolor": "#E5ECF6",
            "gridcolor": "white",
            "gridwidth": 2,
            "linecolor": "white",
            "showbackground": true,
            "ticks": "",
            "zerolinecolor": "white"
           },
           "zaxis": {
            "backgroundcolor": "#E5ECF6",
            "gridcolor": "white",
            "gridwidth": 2,
            "linecolor": "white",
            "showbackground": true,
            "ticks": "",
            "zerolinecolor": "white"
           }
          },
          "shapedefaults": {
           "line": {
            "color": "#2a3f5f"
           }
          },
          "ternary": {
           "aaxis": {
            "gridcolor": "white",
            "linecolor": "white",
            "ticks": ""
           },
           "baxis": {
            "gridcolor": "white",
            "linecolor": "white",
            "ticks": ""
           },
           "bgcolor": "#E5ECF6",
           "caxis": {
            "gridcolor": "white",
            "linecolor": "white",
            "ticks": ""
           }
          },
          "title": {
           "x": 0.05
          },
          "xaxis": {
           "automargin": true,
           "gridcolor": "white",
           "linecolor": "white",
           "ticks": "",
           "title": {
            "standoff": 15
           },
           "zerolinecolor": "white",
           "zerolinewidth": 2
          },
          "yaxis": {
           "automargin": true,
           "gridcolor": "white",
           "linecolor": "white",
           "ticks": "",
           "title": {
            "standoff": 15
           },
           "zerolinecolor": "white",
           "zerolinewidth": 2
          }
         }
        },
        "title": {
         "font": {
          "color": "#4D5663"
         }
        },
        "xaxis": {
         "gridcolor": "#E1E5ED",
         "showgrid": true,
         "tickfont": {
          "color": "#4D5663"
         },
         "title": {
          "font": {
           "color": "#4D5663"
          },
          "text": ""
         },
         "zerolinecolor": "#E1E5ED"
        },
        "yaxis": {
         "gridcolor": "#E1E5ED",
         "showgrid": true,
         "tickfont": {
          "color": "#4D5663"
         },
         "title": {
          "font": {
           "color": "#4D5663"
          },
          "text": ""
         },
         "zerolinecolor": "#E1E5ED"
        }
       }
      },
      "text/html": [
       "<div>                            <div id=\"12aa124f-81ef-4925-b02b-bbbc64646b12\" class=\"plotly-graph-div\" style=\"height:525px; width:100%;\"></div>            <script type=\"text/javascript\">                require([\"plotly\"], function(Plotly) {                    window.PLOTLYENV=window.PLOTLYENV || {};\n",
       "                    window.PLOTLYENV.BASE_URL='https://plot.ly';                                    if (document.getElementById(\"12aa124f-81ef-4925-b02b-bbbc64646b12\")) {                    Plotly.newPlot(                        \"12aa124f-81ef-4925-b02b-bbbc64646b12\",                        [{\"line\": {\"color\": \"rgba(255, 153, 51, 1.0)\", \"dash\": \"solid\", \"shape\": \"linear\", \"width\": 1.3}, \"marker\": {\"size\": 10, \"symbol\": \"circle\"}, \"mode\": \"markers\", \"name\": \"B\", \"text\": \"\", \"type\": \"scatter\", \"x\": [0.644944253392509, -1.243348684605454, -0.4992529425467864, 2.4951536973358257, 0.7181532996966965, -1.9317140313919021, 0.11474960965809082, -0.1261498964710348, -0.5103316332599934, -0.8276136470561897, -0.2507444797257825, -1.3418672073315923, 0.21175779852862386, 0.5295284425743242, 0.8363177959309905, 0.415861941348495, 0.871861955304613, 0.6681642022568207, 0.6353210567494172, -0.8890269089553131, -0.5757625912203307, 0.0473418279138021, 0.45893720365546087, 0.20533206162680312, 0.5342187570105031, -0.9577761045178981, 0.6215579004212394, 0.3008634269643, 0.33739228720858727, 1.5605524266487771, 1.1653258116847005, 2.293244270264029, -0.7047214962226932, 0.3962295958236032, -0.6537064556460913, -0.4985449582239225, 2.27944819476583, 0.8499011425816464, -0.4860147282091424, -0.6444140483491969, 2.214686187010531, 0.3838743222004633, -0.5539655478660834, -0.9901617877531294, -2.312706735663867, -0.23252768398780077, -1.540241546640356, 1.1808907417329335, 1.0871707946424356, -0.15996342914122272, 0.022131419531764927, 0.5380254693737466, -0.9069222602195819, 0.9098672320142027, 0.39275474249035136, 0.2515091490652439, 0.033273504199668645, -0.4062481423769172, -0.22266747097199469, -0.021543501070881897, 1.1414511969408576, -0.882928566564055, -0.2269953805998093, -1.1414555129144652, -0.19982816122859687, 0.008667300544806618, 0.98104895613813, 0.7000475963198131, -0.9875553180644235, 0.2802041042103516, -0.27841473507495756, -0.28720943739101973, -0.3417889952846551, 0.5204878045371218, -0.434114511660545, -0.2063332906543763, -0.03675127761476961, 1.1901664803851735, 0.01200015667771501, 0.8272860394456298, 0.05409598408964082, -1.270582395308957, -1.5555290581226502, -0.7117188145510055, -0.5312698504250206, -1.5695714005160748, -0.2290634746353095, -1.2991596300694486, 0.12650435754258949, 0.5109620491249028, -1.526578864329696, 0.4182122881950908, 1.4562508551129445, 1.4324202800329318, -0.14732020963007963, -0.8109983196533064, 0.5811563853217354, 1.2867440891345567, -0.6972600913213484, 1.296152728893862], \"y\": [-0.08013390570656855, 0.02269628397142565, 2.0327051595328567, -0.7181989100120357, 1.662173623528374, -1.8065217941063234, 1.2110119232992642, 0.964951897071669, -0.85475257177362, -0.8248953729479542, -1.5826159940641324, -0.31771649747982844, 0.4695556889421146, 1.1126965404646199, 0.47540997865652285, 1.5046965559370773, 0.25150127187187826, 0.7342936672975972, 0.5573821763407487, 1.6335921713759398, 0.28423026188458866, -0.3513447045334481, 0.7216116547879913, -2.0192256386128222, -0.6603785846807382, 0.6075414069350706, -1.3040106662584956, -0.13444623772025147, 1.4643238329452812, 0.8287147546248804, 0.5806777413326851, 0.9303244942852352, 0.7259757585380316, -0.06322536505460559, 1.2453254912014053, 0.6080354966321703, 0.006735045164522672, 1.6427954888944556, -0.5032316059134918, -0.8783406051015079, 0.8369992548650931, -0.15452153692557458, 0.4495271766918472, -0.851990999026497, -1.10351719090533, 0.09538065137446597, -1.4065321722524897, -0.6884313359013833, -1.8692741176830965, 0.7535226372890009, 1.7893533378361597, -0.7663252274224117, 1.8026469873249986, 0.04966144641495865, -2.827664478329827, -0.12053078024314415, -0.8406444888833142, 1.1436342481148736, -0.6438301792589787, -0.15968908610736374, -0.03930255640966198, -0.7994520589749605, -1.1940497177919867, 0.10867677592993708, -1.3726391157855171, -0.1326855930801497, -0.5587655308484875, -0.7436168413473584, -1.6228530763718965, 0.06949574404363028, 0.6809559377259978, -0.31448231912903674, -0.3316012072631598, -0.5847889225916768, -1.6805967750833015, -0.3665019767365411, 2.008727649743859, -0.24327605882879857, -0.359785106683067, -0.8924991334740093, 0.12697324601980906, 0.5531647475745822, -1.0258680943681446, 0.8539067657069088, -0.7889592814582247, -1.2162060159782722, -1.0133611160795266, -0.5733977596069428, 2.0491826184025244, -1.0876329251377972, -0.07220169619981867, -0.5633866328881607, -1.2044256319043143, 0.5572001026112121, -0.5831545677877031, -1.428781267332909, -0.45228906215591375, 0.156452198379921, -0.44290164114833663, -0.4004290542117399]}],                        {\"legend\": {\"bgcolor\": \"#F5F6F9\", \"font\": {\"color\": \"#4D5663\"}}, \"paper_bgcolor\": \"#F5F6F9\", \"plot_bgcolor\": \"#F5F6F9\", \"template\": {\"data\": {\"bar\": [{\"error_x\": {\"color\": \"#2a3f5f\"}, \"error_y\": {\"color\": \"#2a3f5f\"}, \"marker\": {\"line\": {\"color\": \"#E5ECF6\", \"width\": 0.5}}, \"type\": \"bar\"}], \"barpolar\": [{\"marker\": {\"line\": {\"color\": \"#E5ECF6\", \"width\": 0.5}}, \"type\": \"barpolar\"}], \"carpet\": [{\"aaxis\": {\"endlinecolor\": \"#2a3f5f\", \"gridcolor\": \"white\", \"linecolor\": \"white\", \"minorgridcolor\": \"white\", \"startlinecolor\": \"#2a3f5f\"}, \"baxis\": {\"endlinecolor\": \"#2a3f5f\", \"gridcolor\": \"white\", \"linecolor\": \"white\", \"minorgridcolor\": \"white\", \"startlinecolor\": \"#2a3f5f\"}, \"type\": \"carpet\"}], \"choropleth\": [{\"colorbar\": {\"outlinewidth\": 0, \"ticks\": \"\"}, \"type\": \"choropleth\"}], \"contour\": [{\"colorbar\": {\"outlinewidth\": 0, \"ticks\": \"\"}, \"colorscale\": [[0.0, \"#0d0887\"], [0.1111111111111111, \"#46039f\"], [0.2222222222222222, \"#7201a8\"], [0.3333333333333333, \"#9c179e\"], [0.4444444444444444, \"#bd3786\"], [0.5555555555555556, \"#d8576b\"], [0.6666666666666666, \"#ed7953\"], [0.7777777777777778, \"#fb9f3a\"], [0.8888888888888888, \"#fdca26\"], [1.0, \"#f0f921\"]], \"type\": \"contour\"}], \"contourcarpet\": [{\"colorbar\": {\"outlinewidth\": 0, \"ticks\": \"\"}, \"type\": \"contourcarpet\"}], \"heatmap\": [{\"colorbar\": {\"outlinewidth\": 0, \"ticks\": \"\"}, \"colorscale\": [[0.0, \"#0d0887\"], [0.1111111111111111, \"#46039f\"], [0.2222222222222222, \"#7201a8\"], [0.3333333333333333, \"#9c179e\"], [0.4444444444444444, \"#bd3786\"], [0.5555555555555556, \"#d8576b\"], [0.6666666666666666, \"#ed7953\"], [0.7777777777777778, \"#fb9f3a\"], [0.8888888888888888, \"#fdca26\"], [1.0, \"#f0f921\"]], \"type\": \"heatmap\"}], \"heatmapgl\": [{\"colorbar\": {\"outlinewidth\": 0, \"ticks\": \"\"}, \"colorscale\": [[0.0, \"#0d0887\"], [0.1111111111111111, \"#46039f\"], [0.2222222222222222, \"#7201a8\"], [0.3333333333333333, \"#9c179e\"], [0.4444444444444444, \"#bd3786\"], [0.5555555555555556, \"#d8576b\"], [0.6666666666666666, \"#ed7953\"], [0.7777777777777778, \"#fb9f3a\"], [0.8888888888888888, \"#fdca26\"], [1.0, \"#f0f921\"]], \"type\": \"heatmapgl\"}], \"histogram\": [{\"marker\": {\"colorbar\": {\"outlinewidth\": 0, \"ticks\": \"\"}}, \"type\": \"histogram\"}], \"histogram2d\": [{\"colorbar\": {\"outlinewidth\": 0, \"ticks\": \"\"}, \"colorscale\": [[0.0, \"#0d0887\"], [0.1111111111111111, \"#46039f\"], [0.2222222222222222, \"#7201a8\"], [0.3333333333333333, \"#9c179e\"], [0.4444444444444444, \"#bd3786\"], [0.5555555555555556, \"#d8576b\"], [0.6666666666666666, \"#ed7953\"], [0.7777777777777778, \"#fb9f3a\"], [0.8888888888888888, \"#fdca26\"], [1.0, \"#f0f921\"]], \"type\": \"histogram2d\"}], \"histogram2dcontour\": [{\"colorbar\": {\"outlinewidth\": 0, \"ticks\": \"\"}, \"colorscale\": [[0.0, \"#0d0887\"], [0.1111111111111111, \"#46039f\"], [0.2222222222222222, \"#7201a8\"], [0.3333333333333333, \"#9c179e\"], [0.4444444444444444, \"#bd3786\"], [0.5555555555555556, \"#d8576b\"], [0.6666666666666666, \"#ed7953\"], [0.7777777777777778, \"#fb9f3a\"], [0.8888888888888888, \"#fdca26\"], [1.0, \"#f0f921\"]], \"type\": \"histogram2dcontour\"}], \"mesh3d\": [{\"colorbar\": {\"outlinewidth\": 0, \"ticks\": \"\"}, \"type\": \"mesh3d\"}], \"parcoords\": [{\"line\": {\"colorbar\": {\"outlinewidth\": 0, \"ticks\": \"\"}}, \"type\": \"parcoords\"}], \"pie\": [{\"automargin\": true, \"type\": \"pie\"}], \"scatter\": [{\"marker\": {\"colorbar\": {\"outlinewidth\": 0, \"ticks\": \"\"}}, \"type\": \"scatter\"}], \"scatter3d\": [{\"line\": {\"colorbar\": {\"outlinewidth\": 0, \"ticks\": \"\"}}, \"marker\": {\"colorbar\": {\"outlinewidth\": 0, \"ticks\": \"\"}}, \"type\": \"scatter3d\"}], \"scattercarpet\": [{\"marker\": {\"colorbar\": {\"outlinewidth\": 0, \"ticks\": \"\"}}, \"type\": \"scattercarpet\"}], \"scattergeo\": [{\"marker\": {\"colorbar\": {\"outlinewidth\": 0, \"ticks\": \"\"}}, \"type\": \"scattergeo\"}], \"scattergl\": [{\"marker\": {\"colorbar\": {\"outlinewidth\": 0, \"ticks\": \"\"}}, \"type\": \"scattergl\"}], \"scattermapbox\": [{\"marker\": {\"colorbar\": {\"outlinewidth\": 0, \"ticks\": \"\"}}, \"type\": \"scattermapbox\"}], \"scatterpolar\": [{\"marker\": {\"colorbar\": {\"outlinewidth\": 0, \"ticks\": \"\"}}, \"type\": \"scatterpolar\"}], \"scatterpolargl\": [{\"marker\": {\"colorbar\": {\"outlinewidth\": 0, \"ticks\": \"\"}}, \"type\": \"scatterpolargl\"}], \"scatterternary\": [{\"marker\": {\"colorbar\": {\"outlinewidth\": 0, \"ticks\": \"\"}}, \"type\": \"scatterternary\"}], \"surface\": [{\"colorbar\": {\"outlinewidth\": 0, \"ticks\": \"\"}, \"colorscale\": [[0.0, \"#0d0887\"], [0.1111111111111111, \"#46039f\"], [0.2222222222222222, \"#7201a8\"], [0.3333333333333333, \"#9c179e\"], [0.4444444444444444, \"#bd3786\"], [0.5555555555555556, \"#d8576b\"], [0.6666666666666666, \"#ed7953\"], [0.7777777777777778, \"#fb9f3a\"], [0.8888888888888888, \"#fdca26\"], [1.0, \"#f0f921\"]], \"type\": \"surface\"}], \"table\": [{\"cells\": {\"fill\": {\"color\": \"#EBF0F8\"}, \"line\": {\"color\": \"white\"}}, \"header\": {\"fill\": {\"color\": \"#C8D4E3\"}, \"line\": {\"color\": \"white\"}}, \"type\": \"table\"}]}, \"layout\": {\"annotationdefaults\": {\"arrowcolor\": \"#2a3f5f\", \"arrowhead\": 0, \"arrowwidth\": 1}, \"coloraxis\": {\"colorbar\": {\"outlinewidth\": 0, \"ticks\": \"\"}}, \"colorscale\": {\"diverging\": [[0, \"#8e0152\"], [0.1, \"#c51b7d\"], [0.2, \"#de77ae\"], [0.3, \"#f1b6da\"], [0.4, \"#fde0ef\"], [0.5, \"#f7f7f7\"], [0.6, \"#e6f5d0\"], [0.7, \"#b8e186\"], [0.8, \"#7fbc41\"], [0.9, \"#4d9221\"], [1, \"#276419\"]], \"sequential\": [[0.0, \"#0d0887\"], [0.1111111111111111, \"#46039f\"], [0.2222222222222222, \"#7201a8\"], [0.3333333333333333, \"#9c179e\"], [0.4444444444444444, \"#bd3786\"], [0.5555555555555556, \"#d8576b\"], [0.6666666666666666, \"#ed7953\"], [0.7777777777777778, \"#fb9f3a\"], [0.8888888888888888, \"#fdca26\"], [1.0, \"#f0f921\"]], \"sequentialminus\": [[0.0, \"#0d0887\"], [0.1111111111111111, \"#46039f\"], [0.2222222222222222, \"#7201a8\"], [0.3333333333333333, \"#9c179e\"], [0.4444444444444444, \"#bd3786\"], [0.5555555555555556, \"#d8576b\"], [0.6666666666666666, \"#ed7953\"], [0.7777777777777778, \"#fb9f3a\"], [0.8888888888888888, \"#fdca26\"], [1.0, \"#f0f921\"]]}, \"colorway\": [\"#636efa\", \"#EF553B\", \"#00cc96\", \"#ab63fa\", \"#FFA15A\", \"#19d3f3\", \"#FF6692\", \"#B6E880\", \"#FF97FF\", \"#FECB52\"], \"font\": {\"color\": \"#2a3f5f\"}, \"geo\": {\"bgcolor\": \"white\", \"lakecolor\": \"white\", \"landcolor\": \"#E5ECF6\", \"showlakes\": true, \"showland\": true, \"subunitcolor\": \"white\"}, \"hoverlabel\": {\"align\": \"left\"}, \"hovermode\": \"closest\", \"mapbox\": {\"style\": \"light\"}, \"paper_bgcolor\": \"white\", \"plot_bgcolor\": \"#E5ECF6\", \"polar\": {\"angularaxis\": {\"gridcolor\": \"white\", \"linecolor\": \"white\", \"ticks\": \"\"}, \"bgcolor\": \"#E5ECF6\", \"radialaxis\": {\"gridcolor\": \"white\", \"linecolor\": \"white\", \"ticks\": \"\"}}, \"scene\": {\"xaxis\": {\"backgroundcolor\": \"#E5ECF6\", \"gridcolor\": \"white\", \"gridwidth\": 2, \"linecolor\": \"white\", \"showbackground\": true, \"ticks\": \"\", \"zerolinecolor\": \"white\"}, \"yaxis\": {\"backgroundcolor\": \"#E5ECF6\", \"gridcolor\": \"white\", \"gridwidth\": 2, \"linecolor\": \"white\", \"showbackground\": true, \"ticks\": \"\", \"zerolinecolor\": \"white\"}, \"zaxis\": {\"backgroundcolor\": \"#E5ECF6\", \"gridcolor\": \"white\", \"gridwidth\": 2, \"linecolor\": \"white\", \"showbackground\": true, \"ticks\": \"\", \"zerolinecolor\": \"white\"}}, \"shapedefaults\": {\"line\": {\"color\": \"#2a3f5f\"}}, \"ternary\": {\"aaxis\": {\"gridcolor\": \"white\", \"linecolor\": \"white\", \"ticks\": \"\"}, \"baxis\": {\"gridcolor\": \"white\", \"linecolor\": \"white\", \"ticks\": \"\"}, \"bgcolor\": \"#E5ECF6\", \"caxis\": {\"gridcolor\": \"white\", \"linecolor\": \"white\", \"ticks\": \"\"}}, \"title\": {\"x\": 0.05}, \"xaxis\": {\"automargin\": true, \"gridcolor\": \"white\", \"linecolor\": \"white\", \"ticks\": \"\", \"title\": {\"standoff\": 15}, \"zerolinecolor\": \"white\", \"zerolinewidth\": 2}, \"yaxis\": {\"automargin\": true, \"gridcolor\": \"white\", \"linecolor\": \"white\", \"ticks\": \"\", \"title\": {\"standoff\": 15}, \"zerolinecolor\": \"white\", \"zerolinewidth\": 2}}}, \"title\": {\"font\": {\"color\": \"#4D5663\"}}, \"xaxis\": {\"gridcolor\": \"#E1E5ED\", \"showgrid\": true, \"tickfont\": {\"color\": \"#4D5663\"}, \"title\": {\"font\": {\"color\": \"#4D5663\"}, \"text\": \"\"}, \"zerolinecolor\": \"#E1E5ED\"}, \"yaxis\": {\"gridcolor\": \"#E1E5ED\", \"showgrid\": true, \"tickfont\": {\"color\": \"#4D5663\"}, \"title\": {\"font\": {\"color\": \"#4D5663\"}, \"text\": \"\"}, \"zerolinecolor\": \"#E1E5ED\"}},                        {\"showLink\": true, \"linkText\": \"Export to plot.ly\", \"plotlyServerURL\": \"https://plot.ly\", \"responsive\": true}                    ).then(function(){\n",
       "                            \n",
       "var gd = document.getElementById('12aa124f-81ef-4925-b02b-bbbc64646b12');\n",
       "var x = new MutationObserver(function (mutations, observer) {{\n",
       "        var display = window.getComputedStyle(gd).display;\n",
       "        if (!display || display === 'none') {{\n",
       "            console.log([gd, 'removed!']);\n",
       "            Plotly.purge(gd);\n",
       "            observer.disconnect();\n",
       "        }}\n",
       "}});\n",
       "\n",
       "// Listen for the removal of the full notebook cells\n",
       "var notebookContainer = gd.closest('#notebook-container');\n",
       "if (notebookContainer) {{\n",
       "    x.observe(notebookContainer, {childList: true});\n",
       "}}\n",
       "\n",
       "// Listen for the clearing of the current output cell\n",
       "var outputEl = gd.closest('.output');\n",
       "if (outputEl) {{\n",
       "    x.observe(outputEl, {childList: true});\n",
       "}}\n",
       "\n",
       "                        })                };                });            </script>        </div>"
      ]
     },
     "metadata": {},
     "output_type": "display_data"
    }
   ],
   "source": [
    "df.iplot(kind = 'scatter', x='A', y='B', mode='markers',size=10)"
   ]
  },
  {
   "cell_type": "markdown",
   "metadata": {},
   "source": [
    "### Bar Plots"
   ]
  },
  {
   "cell_type": "code",
   "execution_count": 16,
   "metadata": {},
   "outputs": [
    {
     "data": {
      "application/vnd.plotly.v1+json": {
       "config": {
        "linkText": "Export to plot.ly",
        "plotlyServerURL": "https://plot.ly",
        "showLink": true
       },
       "data": [
        {
         "marker": {
          "color": "rgba(255, 153, 51, 0.6)",
          "line": {
           "color": "rgba(255, 153, 51, 1.0)",
           "width": 1
          }
         },
         "name": "Values",
         "orientation": "v",
         "text": "",
         "type": "bar",
         "x": [
          "A",
          "B",
          "C"
         ],
         "y": [
          32,
          43,
          50
         ]
        }
       ],
       "layout": {
        "legend": {
         "bgcolor": "#F5F6F9",
         "font": {
          "color": "#4D5663"
         }
        },
        "paper_bgcolor": "#F5F6F9",
        "plot_bgcolor": "#F5F6F9",
        "template": {
         "data": {
          "bar": [
           {
            "error_x": {
             "color": "#2a3f5f"
            },
            "error_y": {
             "color": "#2a3f5f"
            },
            "marker": {
             "line": {
              "color": "#E5ECF6",
              "width": 0.5
             }
            },
            "type": "bar"
           }
          ],
          "barpolar": [
           {
            "marker": {
             "line": {
              "color": "#E5ECF6",
              "width": 0.5
             }
            },
            "type": "barpolar"
           }
          ],
          "carpet": [
           {
            "aaxis": {
             "endlinecolor": "#2a3f5f",
             "gridcolor": "white",
             "linecolor": "white",
             "minorgridcolor": "white",
             "startlinecolor": "#2a3f5f"
            },
            "baxis": {
             "endlinecolor": "#2a3f5f",
             "gridcolor": "white",
             "linecolor": "white",
             "minorgridcolor": "white",
             "startlinecolor": "#2a3f5f"
            },
            "type": "carpet"
           }
          ],
          "choropleth": [
           {
            "colorbar": {
             "outlinewidth": 0,
             "ticks": ""
            },
            "type": "choropleth"
           }
          ],
          "contour": [
           {
            "colorbar": {
             "outlinewidth": 0,
             "ticks": ""
            },
            "colorscale": [
             [
              0,
              "#0d0887"
             ],
             [
              0.1111111111111111,
              "#46039f"
             ],
             [
              0.2222222222222222,
              "#7201a8"
             ],
             [
              0.3333333333333333,
              "#9c179e"
             ],
             [
              0.4444444444444444,
              "#bd3786"
             ],
             [
              0.5555555555555556,
              "#d8576b"
             ],
             [
              0.6666666666666666,
              "#ed7953"
             ],
             [
              0.7777777777777778,
              "#fb9f3a"
             ],
             [
              0.8888888888888888,
              "#fdca26"
             ],
             [
              1,
              "#f0f921"
             ]
            ],
            "type": "contour"
           }
          ],
          "contourcarpet": [
           {
            "colorbar": {
             "outlinewidth": 0,
             "ticks": ""
            },
            "type": "contourcarpet"
           }
          ],
          "heatmap": [
           {
            "colorbar": {
             "outlinewidth": 0,
             "ticks": ""
            },
            "colorscale": [
             [
              0,
              "#0d0887"
             ],
             [
              0.1111111111111111,
              "#46039f"
             ],
             [
              0.2222222222222222,
              "#7201a8"
             ],
             [
              0.3333333333333333,
              "#9c179e"
             ],
             [
              0.4444444444444444,
              "#bd3786"
             ],
             [
              0.5555555555555556,
              "#d8576b"
             ],
             [
              0.6666666666666666,
              "#ed7953"
             ],
             [
              0.7777777777777778,
              "#fb9f3a"
             ],
             [
              0.8888888888888888,
              "#fdca26"
             ],
             [
              1,
              "#f0f921"
             ]
            ],
            "type": "heatmap"
           }
          ],
          "heatmapgl": [
           {
            "colorbar": {
             "outlinewidth": 0,
             "ticks": ""
            },
            "colorscale": [
             [
              0,
              "#0d0887"
             ],
             [
              0.1111111111111111,
              "#46039f"
             ],
             [
              0.2222222222222222,
              "#7201a8"
             ],
             [
              0.3333333333333333,
              "#9c179e"
             ],
             [
              0.4444444444444444,
              "#bd3786"
             ],
             [
              0.5555555555555556,
              "#d8576b"
             ],
             [
              0.6666666666666666,
              "#ed7953"
             ],
             [
              0.7777777777777778,
              "#fb9f3a"
             ],
             [
              0.8888888888888888,
              "#fdca26"
             ],
             [
              1,
              "#f0f921"
             ]
            ],
            "type": "heatmapgl"
           }
          ],
          "histogram": [
           {
            "marker": {
             "colorbar": {
              "outlinewidth": 0,
              "ticks": ""
             }
            },
            "type": "histogram"
           }
          ],
          "histogram2d": [
           {
            "colorbar": {
             "outlinewidth": 0,
             "ticks": ""
            },
            "colorscale": [
             [
              0,
              "#0d0887"
             ],
             [
              0.1111111111111111,
              "#46039f"
             ],
             [
              0.2222222222222222,
              "#7201a8"
             ],
             [
              0.3333333333333333,
              "#9c179e"
             ],
             [
              0.4444444444444444,
              "#bd3786"
             ],
             [
              0.5555555555555556,
              "#d8576b"
             ],
             [
              0.6666666666666666,
              "#ed7953"
             ],
             [
              0.7777777777777778,
              "#fb9f3a"
             ],
             [
              0.8888888888888888,
              "#fdca26"
             ],
             [
              1,
              "#f0f921"
             ]
            ],
            "type": "histogram2d"
           }
          ],
          "histogram2dcontour": [
           {
            "colorbar": {
             "outlinewidth": 0,
             "ticks": ""
            },
            "colorscale": [
             [
              0,
              "#0d0887"
             ],
             [
              0.1111111111111111,
              "#46039f"
             ],
             [
              0.2222222222222222,
              "#7201a8"
             ],
             [
              0.3333333333333333,
              "#9c179e"
             ],
             [
              0.4444444444444444,
              "#bd3786"
             ],
             [
              0.5555555555555556,
              "#d8576b"
             ],
             [
              0.6666666666666666,
              "#ed7953"
             ],
             [
              0.7777777777777778,
              "#fb9f3a"
             ],
             [
              0.8888888888888888,
              "#fdca26"
             ],
             [
              1,
              "#f0f921"
             ]
            ],
            "type": "histogram2dcontour"
           }
          ],
          "mesh3d": [
           {
            "colorbar": {
             "outlinewidth": 0,
             "ticks": ""
            },
            "type": "mesh3d"
           }
          ],
          "parcoords": [
           {
            "line": {
             "colorbar": {
              "outlinewidth": 0,
              "ticks": ""
             }
            },
            "type": "parcoords"
           }
          ],
          "pie": [
           {
            "automargin": true,
            "type": "pie"
           }
          ],
          "scatter": [
           {
            "marker": {
             "colorbar": {
              "outlinewidth": 0,
              "ticks": ""
             }
            },
            "type": "scatter"
           }
          ],
          "scatter3d": [
           {
            "line": {
             "colorbar": {
              "outlinewidth": 0,
              "ticks": ""
             }
            },
            "marker": {
             "colorbar": {
              "outlinewidth": 0,
              "ticks": ""
             }
            },
            "type": "scatter3d"
           }
          ],
          "scattercarpet": [
           {
            "marker": {
             "colorbar": {
              "outlinewidth": 0,
              "ticks": ""
             }
            },
            "type": "scattercarpet"
           }
          ],
          "scattergeo": [
           {
            "marker": {
             "colorbar": {
              "outlinewidth": 0,
              "ticks": ""
             }
            },
            "type": "scattergeo"
           }
          ],
          "scattergl": [
           {
            "marker": {
             "colorbar": {
              "outlinewidth": 0,
              "ticks": ""
             }
            },
            "type": "scattergl"
           }
          ],
          "scattermapbox": [
           {
            "marker": {
             "colorbar": {
              "outlinewidth": 0,
              "ticks": ""
             }
            },
            "type": "scattermapbox"
           }
          ],
          "scatterpolar": [
           {
            "marker": {
             "colorbar": {
              "outlinewidth": 0,
              "ticks": ""
             }
            },
            "type": "scatterpolar"
           }
          ],
          "scatterpolargl": [
           {
            "marker": {
             "colorbar": {
              "outlinewidth": 0,
              "ticks": ""
             }
            },
            "type": "scatterpolargl"
           }
          ],
          "scatterternary": [
           {
            "marker": {
             "colorbar": {
              "outlinewidth": 0,
              "ticks": ""
             }
            },
            "type": "scatterternary"
           }
          ],
          "surface": [
           {
            "colorbar": {
             "outlinewidth": 0,
             "ticks": ""
            },
            "colorscale": [
             [
              0,
              "#0d0887"
             ],
             [
              0.1111111111111111,
              "#46039f"
             ],
             [
              0.2222222222222222,
              "#7201a8"
             ],
             [
              0.3333333333333333,
              "#9c179e"
             ],
             [
              0.4444444444444444,
              "#bd3786"
             ],
             [
              0.5555555555555556,
              "#d8576b"
             ],
             [
              0.6666666666666666,
              "#ed7953"
             ],
             [
              0.7777777777777778,
              "#fb9f3a"
             ],
             [
              0.8888888888888888,
              "#fdca26"
             ],
             [
              1,
              "#f0f921"
             ]
            ],
            "type": "surface"
           }
          ],
          "table": [
           {
            "cells": {
             "fill": {
              "color": "#EBF0F8"
             },
             "line": {
              "color": "white"
             }
            },
            "header": {
             "fill": {
              "color": "#C8D4E3"
             },
             "line": {
              "color": "white"
             }
            },
            "type": "table"
           }
          ]
         },
         "layout": {
          "annotationdefaults": {
           "arrowcolor": "#2a3f5f",
           "arrowhead": 0,
           "arrowwidth": 1
          },
          "coloraxis": {
           "colorbar": {
            "outlinewidth": 0,
            "ticks": ""
           }
          },
          "colorscale": {
           "diverging": [
            [
             0,
             "#8e0152"
            ],
            [
             0.1,
             "#c51b7d"
            ],
            [
             0.2,
             "#de77ae"
            ],
            [
             0.3,
             "#f1b6da"
            ],
            [
             0.4,
             "#fde0ef"
            ],
            [
             0.5,
             "#f7f7f7"
            ],
            [
             0.6,
             "#e6f5d0"
            ],
            [
             0.7,
             "#b8e186"
            ],
            [
             0.8,
             "#7fbc41"
            ],
            [
             0.9,
             "#4d9221"
            ],
            [
             1,
             "#276419"
            ]
           ],
           "sequential": [
            [
             0,
             "#0d0887"
            ],
            [
             0.1111111111111111,
             "#46039f"
            ],
            [
             0.2222222222222222,
             "#7201a8"
            ],
            [
             0.3333333333333333,
             "#9c179e"
            ],
            [
             0.4444444444444444,
             "#bd3786"
            ],
            [
             0.5555555555555556,
             "#d8576b"
            ],
            [
             0.6666666666666666,
             "#ed7953"
            ],
            [
             0.7777777777777778,
             "#fb9f3a"
            ],
            [
             0.8888888888888888,
             "#fdca26"
            ],
            [
             1,
             "#f0f921"
            ]
           ],
           "sequentialminus": [
            [
             0,
             "#0d0887"
            ],
            [
             0.1111111111111111,
             "#46039f"
            ],
            [
             0.2222222222222222,
             "#7201a8"
            ],
            [
             0.3333333333333333,
             "#9c179e"
            ],
            [
             0.4444444444444444,
             "#bd3786"
            ],
            [
             0.5555555555555556,
             "#d8576b"
            ],
            [
             0.6666666666666666,
             "#ed7953"
            ],
            [
             0.7777777777777778,
             "#fb9f3a"
            ],
            [
             0.8888888888888888,
             "#fdca26"
            ],
            [
             1,
             "#f0f921"
            ]
           ]
          },
          "colorway": [
           "#636efa",
           "#EF553B",
           "#00cc96",
           "#ab63fa",
           "#FFA15A",
           "#19d3f3",
           "#FF6692",
           "#B6E880",
           "#FF97FF",
           "#FECB52"
          ],
          "font": {
           "color": "#2a3f5f"
          },
          "geo": {
           "bgcolor": "white",
           "lakecolor": "white",
           "landcolor": "#E5ECF6",
           "showlakes": true,
           "showland": true,
           "subunitcolor": "white"
          },
          "hoverlabel": {
           "align": "left"
          },
          "hovermode": "closest",
          "mapbox": {
           "style": "light"
          },
          "paper_bgcolor": "white",
          "plot_bgcolor": "#E5ECF6",
          "polar": {
           "angularaxis": {
            "gridcolor": "white",
            "linecolor": "white",
            "ticks": ""
           },
           "bgcolor": "#E5ECF6",
           "radialaxis": {
            "gridcolor": "white",
            "linecolor": "white",
            "ticks": ""
           }
          },
          "scene": {
           "xaxis": {
            "backgroundcolor": "#E5ECF6",
            "gridcolor": "white",
            "gridwidth": 2,
            "linecolor": "white",
            "showbackground": true,
            "ticks": "",
            "zerolinecolor": "white"
           },
           "yaxis": {
            "backgroundcolor": "#E5ECF6",
            "gridcolor": "white",
            "gridwidth": 2,
            "linecolor": "white",
            "showbackground": true,
            "ticks": "",
            "zerolinecolor": "white"
           },
           "zaxis": {
            "backgroundcolor": "#E5ECF6",
            "gridcolor": "white",
            "gridwidth": 2,
            "linecolor": "white",
            "showbackground": true,
            "ticks": "",
            "zerolinecolor": "white"
           }
          },
          "shapedefaults": {
           "line": {
            "color": "#2a3f5f"
           }
          },
          "ternary": {
           "aaxis": {
            "gridcolor": "white",
            "linecolor": "white",
            "ticks": ""
           },
           "baxis": {
            "gridcolor": "white",
            "linecolor": "white",
            "ticks": ""
           },
           "bgcolor": "#E5ECF6",
           "caxis": {
            "gridcolor": "white",
            "linecolor": "white",
            "ticks": ""
           }
          },
          "title": {
           "x": 0.05
          },
          "xaxis": {
           "automargin": true,
           "gridcolor": "white",
           "linecolor": "white",
           "ticks": "",
           "title": {
            "standoff": 15
           },
           "zerolinecolor": "white",
           "zerolinewidth": 2
          },
          "yaxis": {
           "automargin": true,
           "gridcolor": "white",
           "linecolor": "white",
           "ticks": "",
           "title": {
            "standoff": 15
           },
           "zerolinecolor": "white",
           "zerolinewidth": 2
          }
         }
        },
        "title": {
         "font": {
          "color": "#4D5663"
         }
        },
        "xaxis": {
         "gridcolor": "#E1E5ED",
         "showgrid": true,
         "tickfont": {
          "color": "#4D5663"
         },
         "title": {
          "font": {
           "color": "#4D5663"
          },
          "text": ""
         },
         "zerolinecolor": "#E1E5ED"
        },
        "yaxis": {
         "gridcolor": "#E1E5ED",
         "showgrid": true,
         "tickfont": {
          "color": "#4D5663"
         },
         "title": {
          "font": {
           "color": "#4D5663"
          },
          "text": ""
         },
         "zerolinecolor": "#E1E5ED"
        }
       }
      },
      "text/html": [
       "<div>                            <div id=\"6638267c-1fc4-468e-995b-51d1228b0720\" class=\"plotly-graph-div\" style=\"height:525px; width:100%;\"></div>            <script type=\"text/javascript\">                require([\"plotly\"], function(Plotly) {                    window.PLOTLYENV=window.PLOTLYENV || {};\n",
       "                    window.PLOTLYENV.BASE_URL='https://plot.ly';                                    if (document.getElementById(\"6638267c-1fc4-468e-995b-51d1228b0720\")) {                    Plotly.newPlot(                        \"6638267c-1fc4-468e-995b-51d1228b0720\",                        [{\"marker\": {\"color\": \"rgba(255, 153, 51, 0.6)\", \"line\": {\"color\": \"rgba(255, 153, 51, 1.0)\", \"width\": 1}}, \"name\": \"Values\", \"orientation\": \"v\", \"text\": \"\", \"type\": \"bar\", \"x\": [\"A\", \"B\", \"C\"], \"y\": [32, 43, 50]}],                        {\"legend\": {\"bgcolor\": \"#F5F6F9\", \"font\": {\"color\": \"#4D5663\"}}, \"paper_bgcolor\": \"#F5F6F9\", \"plot_bgcolor\": \"#F5F6F9\", \"template\": {\"data\": {\"bar\": [{\"error_x\": {\"color\": \"#2a3f5f\"}, \"error_y\": {\"color\": \"#2a3f5f\"}, \"marker\": {\"line\": {\"color\": \"#E5ECF6\", \"width\": 0.5}}, \"type\": \"bar\"}], \"barpolar\": [{\"marker\": {\"line\": {\"color\": \"#E5ECF6\", \"width\": 0.5}}, \"type\": \"barpolar\"}], \"carpet\": [{\"aaxis\": {\"endlinecolor\": \"#2a3f5f\", \"gridcolor\": \"white\", \"linecolor\": \"white\", \"minorgridcolor\": \"white\", \"startlinecolor\": \"#2a3f5f\"}, \"baxis\": {\"endlinecolor\": \"#2a3f5f\", \"gridcolor\": \"white\", \"linecolor\": \"white\", \"minorgridcolor\": \"white\", \"startlinecolor\": \"#2a3f5f\"}, \"type\": \"carpet\"}], \"choropleth\": [{\"colorbar\": {\"outlinewidth\": 0, \"ticks\": \"\"}, \"type\": \"choropleth\"}], \"contour\": [{\"colorbar\": {\"outlinewidth\": 0, \"ticks\": \"\"}, \"colorscale\": [[0.0, \"#0d0887\"], [0.1111111111111111, \"#46039f\"], [0.2222222222222222, \"#7201a8\"], [0.3333333333333333, \"#9c179e\"], [0.4444444444444444, \"#bd3786\"], [0.5555555555555556, \"#d8576b\"], [0.6666666666666666, \"#ed7953\"], [0.7777777777777778, \"#fb9f3a\"], [0.8888888888888888, \"#fdca26\"], [1.0, \"#f0f921\"]], \"type\": \"contour\"}], \"contourcarpet\": [{\"colorbar\": {\"outlinewidth\": 0, \"ticks\": \"\"}, \"type\": \"contourcarpet\"}], \"heatmap\": [{\"colorbar\": {\"outlinewidth\": 0, \"ticks\": \"\"}, \"colorscale\": [[0.0, \"#0d0887\"], [0.1111111111111111, \"#46039f\"], [0.2222222222222222, \"#7201a8\"], [0.3333333333333333, \"#9c179e\"], [0.4444444444444444, \"#bd3786\"], [0.5555555555555556, \"#d8576b\"], [0.6666666666666666, \"#ed7953\"], [0.7777777777777778, \"#fb9f3a\"], [0.8888888888888888, \"#fdca26\"], [1.0, \"#f0f921\"]], \"type\": \"heatmap\"}], \"heatmapgl\": [{\"colorbar\": {\"outlinewidth\": 0, \"ticks\": \"\"}, \"colorscale\": [[0.0, \"#0d0887\"], [0.1111111111111111, \"#46039f\"], [0.2222222222222222, \"#7201a8\"], [0.3333333333333333, \"#9c179e\"], [0.4444444444444444, \"#bd3786\"], [0.5555555555555556, \"#d8576b\"], [0.6666666666666666, \"#ed7953\"], [0.7777777777777778, \"#fb9f3a\"], [0.8888888888888888, \"#fdca26\"], [1.0, \"#f0f921\"]], \"type\": \"heatmapgl\"}], \"histogram\": [{\"marker\": {\"colorbar\": {\"outlinewidth\": 0, \"ticks\": \"\"}}, \"type\": \"histogram\"}], \"histogram2d\": [{\"colorbar\": {\"outlinewidth\": 0, \"ticks\": \"\"}, \"colorscale\": [[0.0, \"#0d0887\"], [0.1111111111111111, \"#46039f\"], [0.2222222222222222, \"#7201a8\"], [0.3333333333333333, \"#9c179e\"], [0.4444444444444444, \"#bd3786\"], [0.5555555555555556, \"#d8576b\"], [0.6666666666666666, \"#ed7953\"], [0.7777777777777778, \"#fb9f3a\"], [0.8888888888888888, \"#fdca26\"], [1.0, \"#f0f921\"]], \"type\": \"histogram2d\"}], \"histogram2dcontour\": [{\"colorbar\": {\"outlinewidth\": 0, \"ticks\": \"\"}, \"colorscale\": [[0.0, \"#0d0887\"], [0.1111111111111111, \"#46039f\"], [0.2222222222222222, \"#7201a8\"], [0.3333333333333333, \"#9c179e\"], [0.4444444444444444, \"#bd3786\"], [0.5555555555555556, \"#d8576b\"], [0.6666666666666666, \"#ed7953\"], [0.7777777777777778, \"#fb9f3a\"], [0.8888888888888888, \"#fdca26\"], [1.0, \"#f0f921\"]], \"type\": \"histogram2dcontour\"}], \"mesh3d\": [{\"colorbar\": {\"outlinewidth\": 0, \"ticks\": \"\"}, \"type\": \"mesh3d\"}], \"parcoords\": [{\"line\": {\"colorbar\": {\"outlinewidth\": 0, \"ticks\": \"\"}}, \"type\": \"parcoords\"}], \"pie\": [{\"automargin\": true, \"type\": \"pie\"}], \"scatter\": [{\"marker\": {\"colorbar\": {\"outlinewidth\": 0, \"ticks\": \"\"}}, \"type\": \"scatter\"}], \"scatter3d\": [{\"line\": {\"colorbar\": {\"outlinewidth\": 0, \"ticks\": \"\"}}, \"marker\": {\"colorbar\": {\"outlinewidth\": 0, \"ticks\": \"\"}}, \"type\": \"scatter3d\"}], \"scattercarpet\": [{\"marker\": {\"colorbar\": {\"outlinewidth\": 0, \"ticks\": \"\"}}, \"type\": \"scattercarpet\"}], \"scattergeo\": [{\"marker\": {\"colorbar\": {\"outlinewidth\": 0, \"ticks\": \"\"}}, \"type\": \"scattergeo\"}], \"scattergl\": [{\"marker\": {\"colorbar\": {\"outlinewidth\": 0, \"ticks\": \"\"}}, \"type\": \"scattergl\"}], \"scattermapbox\": [{\"marker\": {\"colorbar\": {\"outlinewidth\": 0, \"ticks\": \"\"}}, \"type\": \"scattermapbox\"}], \"scatterpolar\": [{\"marker\": {\"colorbar\": {\"outlinewidth\": 0, \"ticks\": \"\"}}, \"type\": \"scatterpolar\"}], \"scatterpolargl\": [{\"marker\": {\"colorbar\": {\"outlinewidth\": 0, \"ticks\": \"\"}}, \"type\": \"scatterpolargl\"}], \"scatterternary\": [{\"marker\": {\"colorbar\": {\"outlinewidth\": 0, \"ticks\": \"\"}}, \"type\": \"scatterternary\"}], \"surface\": [{\"colorbar\": {\"outlinewidth\": 0, \"ticks\": \"\"}, \"colorscale\": [[0.0, \"#0d0887\"], [0.1111111111111111, \"#46039f\"], [0.2222222222222222, \"#7201a8\"], [0.3333333333333333, \"#9c179e\"], [0.4444444444444444, \"#bd3786\"], [0.5555555555555556, \"#d8576b\"], [0.6666666666666666, \"#ed7953\"], [0.7777777777777778, \"#fb9f3a\"], [0.8888888888888888, \"#fdca26\"], [1.0, \"#f0f921\"]], \"type\": \"surface\"}], \"table\": [{\"cells\": {\"fill\": {\"color\": \"#EBF0F8\"}, \"line\": {\"color\": \"white\"}}, \"header\": {\"fill\": {\"color\": \"#C8D4E3\"}, \"line\": {\"color\": \"white\"}}, \"type\": \"table\"}]}, \"layout\": {\"annotationdefaults\": {\"arrowcolor\": \"#2a3f5f\", \"arrowhead\": 0, \"arrowwidth\": 1}, \"coloraxis\": {\"colorbar\": {\"outlinewidth\": 0, \"ticks\": \"\"}}, \"colorscale\": {\"diverging\": [[0, \"#8e0152\"], [0.1, \"#c51b7d\"], [0.2, \"#de77ae\"], [0.3, \"#f1b6da\"], [0.4, \"#fde0ef\"], [0.5, \"#f7f7f7\"], [0.6, \"#e6f5d0\"], [0.7, \"#b8e186\"], [0.8, \"#7fbc41\"], [0.9, \"#4d9221\"], [1, \"#276419\"]], \"sequential\": [[0.0, \"#0d0887\"], [0.1111111111111111, \"#46039f\"], [0.2222222222222222, \"#7201a8\"], [0.3333333333333333, \"#9c179e\"], [0.4444444444444444, \"#bd3786\"], [0.5555555555555556, \"#d8576b\"], [0.6666666666666666, \"#ed7953\"], [0.7777777777777778, \"#fb9f3a\"], [0.8888888888888888, \"#fdca26\"], [1.0, \"#f0f921\"]], \"sequentialminus\": [[0.0, \"#0d0887\"], [0.1111111111111111, \"#46039f\"], [0.2222222222222222, \"#7201a8\"], [0.3333333333333333, \"#9c179e\"], [0.4444444444444444, \"#bd3786\"], [0.5555555555555556, \"#d8576b\"], [0.6666666666666666, \"#ed7953\"], [0.7777777777777778, \"#fb9f3a\"], [0.8888888888888888, \"#fdca26\"], [1.0, \"#f0f921\"]]}, \"colorway\": [\"#636efa\", \"#EF553B\", \"#00cc96\", \"#ab63fa\", \"#FFA15A\", \"#19d3f3\", \"#FF6692\", \"#B6E880\", \"#FF97FF\", \"#FECB52\"], \"font\": {\"color\": \"#2a3f5f\"}, \"geo\": {\"bgcolor\": \"white\", \"lakecolor\": \"white\", \"landcolor\": \"#E5ECF6\", \"showlakes\": true, \"showland\": true, \"subunitcolor\": \"white\"}, \"hoverlabel\": {\"align\": \"left\"}, \"hovermode\": \"closest\", \"mapbox\": {\"style\": \"light\"}, \"paper_bgcolor\": \"white\", \"plot_bgcolor\": \"#E5ECF6\", \"polar\": {\"angularaxis\": {\"gridcolor\": \"white\", \"linecolor\": \"white\", \"ticks\": \"\"}, \"bgcolor\": \"#E5ECF6\", \"radialaxis\": {\"gridcolor\": \"white\", \"linecolor\": \"white\", \"ticks\": \"\"}}, \"scene\": {\"xaxis\": {\"backgroundcolor\": \"#E5ECF6\", \"gridcolor\": \"white\", \"gridwidth\": 2, \"linecolor\": \"white\", \"showbackground\": true, \"ticks\": \"\", \"zerolinecolor\": \"white\"}, \"yaxis\": {\"backgroundcolor\": \"#E5ECF6\", \"gridcolor\": \"white\", \"gridwidth\": 2, \"linecolor\": \"white\", \"showbackground\": true, \"ticks\": \"\", \"zerolinecolor\": \"white\"}, \"zaxis\": {\"backgroundcolor\": \"#E5ECF6\", \"gridcolor\": \"white\", \"gridwidth\": 2, \"linecolor\": \"white\", \"showbackground\": true, \"ticks\": \"\", \"zerolinecolor\": \"white\"}}, \"shapedefaults\": {\"line\": {\"color\": \"#2a3f5f\"}}, \"ternary\": {\"aaxis\": {\"gridcolor\": \"white\", \"linecolor\": \"white\", \"ticks\": \"\"}, \"baxis\": {\"gridcolor\": \"white\", \"linecolor\": \"white\", \"ticks\": \"\"}, \"bgcolor\": \"#E5ECF6\", \"caxis\": {\"gridcolor\": \"white\", \"linecolor\": \"white\", \"ticks\": \"\"}}, \"title\": {\"x\": 0.05}, \"xaxis\": {\"automargin\": true, \"gridcolor\": \"white\", \"linecolor\": \"white\", \"ticks\": \"\", \"title\": {\"standoff\": 15}, \"zerolinecolor\": \"white\", \"zerolinewidth\": 2}, \"yaxis\": {\"automargin\": true, \"gridcolor\": \"white\", \"linecolor\": \"white\", \"ticks\": \"\", \"title\": {\"standoff\": 15}, \"zerolinecolor\": \"white\", \"zerolinewidth\": 2}}}, \"title\": {\"font\": {\"color\": \"#4D5663\"}}, \"xaxis\": {\"gridcolor\": \"#E1E5ED\", \"showgrid\": true, \"tickfont\": {\"color\": \"#4D5663\"}, \"title\": {\"font\": {\"color\": \"#4D5663\"}, \"text\": \"\"}, \"zerolinecolor\": \"#E1E5ED\"}, \"yaxis\": {\"gridcolor\": \"#E1E5ED\", \"showgrid\": true, \"tickfont\": {\"color\": \"#4D5663\"}, \"title\": {\"font\": {\"color\": \"#4D5663\"}, \"text\": \"\"}, \"zerolinecolor\": \"#E1E5ED\"}},                        {\"showLink\": true, \"linkText\": \"Export to plot.ly\", \"plotlyServerURL\": \"https://plot.ly\", \"responsive\": true}                    ).then(function(){\n",
       "                            \n",
       "var gd = document.getElementById('6638267c-1fc4-468e-995b-51d1228b0720');\n",
       "var x = new MutationObserver(function (mutations, observer) {{\n",
       "        var display = window.getComputedStyle(gd).display;\n",
       "        if (!display || display === 'none') {{\n",
       "            console.log([gd, 'removed!']);\n",
       "            Plotly.purge(gd);\n",
       "            observer.disconnect();\n",
       "        }}\n",
       "}});\n",
       "\n",
       "// Listen for the removal of the full notebook cells\n",
       "var notebookContainer = gd.closest('#notebook-container');\n",
       "if (notebookContainer) {{\n",
       "    x.observe(notebookContainer, {childList: true});\n",
       "}}\n",
       "\n",
       "// Listen for the clearing of the current output cell\n",
       "var outputEl = gd.closest('.output');\n",
       "if (outputEl) {{\n",
       "    x.observe(outputEl, {childList: true});\n",
       "}}\n",
       "\n",
       "                        })                };                });            </script>        </div>"
      ]
     },
     "metadata": {},
     "output_type": "display_data"
    }
   ],
   "source": [
    "df2.iplot(kind='bar', x='Category', y='Values')"
   ]
  },
  {
   "cell_type": "code",
   "execution_count": 17,
   "metadata": {},
   "outputs": [
    {
     "data": {
      "application/vnd.plotly.v1+json": {
       "config": {
        "linkText": "Export to plot.ly",
        "plotlyServerURL": "https://plot.ly",
        "showLink": true
       },
       "data": [
        {
         "marker": {
          "color": "rgba(255, 153, 51, 0.6)",
          "line": {
           "color": "rgba(255, 153, 51, 1.0)",
           "width": 1
          }
         },
         "name": "None",
         "orientation": "v",
         "text": "",
         "type": "bar",
         "x": [
          "A",
          "B",
          "C",
          "D"
         ],
         "y": [
          100,
          100,
          100,
          100
         ]
        }
       ],
       "layout": {
        "legend": {
         "bgcolor": "#F5F6F9",
         "font": {
          "color": "#4D5663"
         }
        },
        "paper_bgcolor": "#F5F6F9",
        "plot_bgcolor": "#F5F6F9",
        "template": {
         "data": {
          "bar": [
           {
            "error_x": {
             "color": "#2a3f5f"
            },
            "error_y": {
             "color": "#2a3f5f"
            },
            "marker": {
             "line": {
              "color": "#E5ECF6",
              "width": 0.5
             }
            },
            "type": "bar"
           }
          ],
          "barpolar": [
           {
            "marker": {
             "line": {
              "color": "#E5ECF6",
              "width": 0.5
             }
            },
            "type": "barpolar"
           }
          ],
          "carpet": [
           {
            "aaxis": {
             "endlinecolor": "#2a3f5f",
             "gridcolor": "white",
             "linecolor": "white",
             "minorgridcolor": "white",
             "startlinecolor": "#2a3f5f"
            },
            "baxis": {
             "endlinecolor": "#2a3f5f",
             "gridcolor": "white",
             "linecolor": "white",
             "minorgridcolor": "white",
             "startlinecolor": "#2a3f5f"
            },
            "type": "carpet"
           }
          ],
          "choropleth": [
           {
            "colorbar": {
             "outlinewidth": 0,
             "ticks": ""
            },
            "type": "choropleth"
           }
          ],
          "contour": [
           {
            "colorbar": {
             "outlinewidth": 0,
             "ticks": ""
            },
            "colorscale": [
             [
              0,
              "#0d0887"
             ],
             [
              0.1111111111111111,
              "#46039f"
             ],
             [
              0.2222222222222222,
              "#7201a8"
             ],
             [
              0.3333333333333333,
              "#9c179e"
             ],
             [
              0.4444444444444444,
              "#bd3786"
             ],
             [
              0.5555555555555556,
              "#d8576b"
             ],
             [
              0.6666666666666666,
              "#ed7953"
             ],
             [
              0.7777777777777778,
              "#fb9f3a"
             ],
             [
              0.8888888888888888,
              "#fdca26"
             ],
             [
              1,
              "#f0f921"
             ]
            ],
            "type": "contour"
           }
          ],
          "contourcarpet": [
           {
            "colorbar": {
             "outlinewidth": 0,
             "ticks": ""
            },
            "type": "contourcarpet"
           }
          ],
          "heatmap": [
           {
            "colorbar": {
             "outlinewidth": 0,
             "ticks": ""
            },
            "colorscale": [
             [
              0,
              "#0d0887"
             ],
             [
              0.1111111111111111,
              "#46039f"
             ],
             [
              0.2222222222222222,
              "#7201a8"
             ],
             [
              0.3333333333333333,
              "#9c179e"
             ],
             [
              0.4444444444444444,
              "#bd3786"
             ],
             [
              0.5555555555555556,
              "#d8576b"
             ],
             [
              0.6666666666666666,
              "#ed7953"
             ],
             [
              0.7777777777777778,
              "#fb9f3a"
             ],
             [
              0.8888888888888888,
              "#fdca26"
             ],
             [
              1,
              "#f0f921"
             ]
            ],
            "type": "heatmap"
           }
          ],
          "heatmapgl": [
           {
            "colorbar": {
             "outlinewidth": 0,
             "ticks": ""
            },
            "colorscale": [
             [
              0,
              "#0d0887"
             ],
             [
              0.1111111111111111,
              "#46039f"
             ],
             [
              0.2222222222222222,
              "#7201a8"
             ],
             [
              0.3333333333333333,
              "#9c179e"
             ],
             [
              0.4444444444444444,
              "#bd3786"
             ],
             [
              0.5555555555555556,
              "#d8576b"
             ],
             [
              0.6666666666666666,
              "#ed7953"
             ],
             [
              0.7777777777777778,
              "#fb9f3a"
             ],
             [
              0.8888888888888888,
              "#fdca26"
             ],
             [
              1,
              "#f0f921"
             ]
            ],
            "type": "heatmapgl"
           }
          ],
          "histogram": [
           {
            "marker": {
             "colorbar": {
              "outlinewidth": 0,
              "ticks": ""
             }
            },
            "type": "histogram"
           }
          ],
          "histogram2d": [
           {
            "colorbar": {
             "outlinewidth": 0,
             "ticks": ""
            },
            "colorscale": [
             [
              0,
              "#0d0887"
             ],
             [
              0.1111111111111111,
              "#46039f"
             ],
             [
              0.2222222222222222,
              "#7201a8"
             ],
             [
              0.3333333333333333,
              "#9c179e"
             ],
             [
              0.4444444444444444,
              "#bd3786"
             ],
             [
              0.5555555555555556,
              "#d8576b"
             ],
             [
              0.6666666666666666,
              "#ed7953"
             ],
             [
              0.7777777777777778,
              "#fb9f3a"
             ],
             [
              0.8888888888888888,
              "#fdca26"
             ],
             [
              1,
              "#f0f921"
             ]
            ],
            "type": "histogram2d"
           }
          ],
          "histogram2dcontour": [
           {
            "colorbar": {
             "outlinewidth": 0,
             "ticks": ""
            },
            "colorscale": [
             [
              0,
              "#0d0887"
             ],
             [
              0.1111111111111111,
              "#46039f"
             ],
             [
              0.2222222222222222,
              "#7201a8"
             ],
             [
              0.3333333333333333,
              "#9c179e"
             ],
             [
              0.4444444444444444,
              "#bd3786"
             ],
             [
              0.5555555555555556,
              "#d8576b"
             ],
             [
              0.6666666666666666,
              "#ed7953"
             ],
             [
              0.7777777777777778,
              "#fb9f3a"
             ],
             [
              0.8888888888888888,
              "#fdca26"
             ],
             [
              1,
              "#f0f921"
             ]
            ],
            "type": "histogram2dcontour"
           }
          ],
          "mesh3d": [
           {
            "colorbar": {
             "outlinewidth": 0,
             "ticks": ""
            },
            "type": "mesh3d"
           }
          ],
          "parcoords": [
           {
            "line": {
             "colorbar": {
              "outlinewidth": 0,
              "ticks": ""
             }
            },
            "type": "parcoords"
           }
          ],
          "pie": [
           {
            "automargin": true,
            "type": "pie"
           }
          ],
          "scatter": [
           {
            "marker": {
             "colorbar": {
              "outlinewidth": 0,
              "ticks": ""
             }
            },
            "type": "scatter"
           }
          ],
          "scatter3d": [
           {
            "line": {
             "colorbar": {
              "outlinewidth": 0,
              "ticks": ""
             }
            },
            "marker": {
             "colorbar": {
              "outlinewidth": 0,
              "ticks": ""
             }
            },
            "type": "scatter3d"
           }
          ],
          "scattercarpet": [
           {
            "marker": {
             "colorbar": {
              "outlinewidth": 0,
              "ticks": ""
             }
            },
            "type": "scattercarpet"
           }
          ],
          "scattergeo": [
           {
            "marker": {
             "colorbar": {
              "outlinewidth": 0,
              "ticks": ""
             }
            },
            "type": "scattergeo"
           }
          ],
          "scattergl": [
           {
            "marker": {
             "colorbar": {
              "outlinewidth": 0,
              "ticks": ""
             }
            },
            "type": "scattergl"
           }
          ],
          "scattermapbox": [
           {
            "marker": {
             "colorbar": {
              "outlinewidth": 0,
              "ticks": ""
             }
            },
            "type": "scattermapbox"
           }
          ],
          "scatterpolar": [
           {
            "marker": {
             "colorbar": {
              "outlinewidth": 0,
              "ticks": ""
             }
            },
            "type": "scatterpolar"
           }
          ],
          "scatterpolargl": [
           {
            "marker": {
             "colorbar": {
              "outlinewidth": 0,
              "ticks": ""
             }
            },
            "type": "scatterpolargl"
           }
          ],
          "scatterternary": [
           {
            "marker": {
             "colorbar": {
              "outlinewidth": 0,
              "ticks": ""
             }
            },
            "type": "scatterternary"
           }
          ],
          "surface": [
           {
            "colorbar": {
             "outlinewidth": 0,
             "ticks": ""
            },
            "colorscale": [
             [
              0,
              "#0d0887"
             ],
             [
              0.1111111111111111,
              "#46039f"
             ],
             [
              0.2222222222222222,
              "#7201a8"
             ],
             [
              0.3333333333333333,
              "#9c179e"
             ],
             [
              0.4444444444444444,
              "#bd3786"
             ],
             [
              0.5555555555555556,
              "#d8576b"
             ],
             [
              0.6666666666666666,
              "#ed7953"
             ],
             [
              0.7777777777777778,
              "#fb9f3a"
             ],
             [
              0.8888888888888888,
              "#fdca26"
             ],
             [
              1,
              "#f0f921"
             ]
            ],
            "type": "surface"
           }
          ],
          "table": [
           {
            "cells": {
             "fill": {
              "color": "#EBF0F8"
             },
             "line": {
              "color": "white"
             }
            },
            "header": {
             "fill": {
              "color": "#C8D4E3"
             },
             "line": {
              "color": "white"
             }
            },
            "type": "table"
           }
          ]
         },
         "layout": {
          "annotationdefaults": {
           "arrowcolor": "#2a3f5f",
           "arrowhead": 0,
           "arrowwidth": 1
          },
          "coloraxis": {
           "colorbar": {
            "outlinewidth": 0,
            "ticks": ""
           }
          },
          "colorscale": {
           "diverging": [
            [
             0,
             "#8e0152"
            ],
            [
             0.1,
             "#c51b7d"
            ],
            [
             0.2,
             "#de77ae"
            ],
            [
             0.3,
             "#f1b6da"
            ],
            [
             0.4,
             "#fde0ef"
            ],
            [
             0.5,
             "#f7f7f7"
            ],
            [
             0.6,
             "#e6f5d0"
            ],
            [
             0.7,
             "#b8e186"
            ],
            [
             0.8,
             "#7fbc41"
            ],
            [
             0.9,
             "#4d9221"
            ],
            [
             1,
             "#276419"
            ]
           ],
           "sequential": [
            [
             0,
             "#0d0887"
            ],
            [
             0.1111111111111111,
             "#46039f"
            ],
            [
             0.2222222222222222,
             "#7201a8"
            ],
            [
             0.3333333333333333,
             "#9c179e"
            ],
            [
             0.4444444444444444,
             "#bd3786"
            ],
            [
             0.5555555555555556,
             "#d8576b"
            ],
            [
             0.6666666666666666,
             "#ed7953"
            ],
            [
             0.7777777777777778,
             "#fb9f3a"
            ],
            [
             0.8888888888888888,
             "#fdca26"
            ],
            [
             1,
             "#f0f921"
            ]
           ],
           "sequentialminus": [
            [
             0,
             "#0d0887"
            ],
            [
             0.1111111111111111,
             "#46039f"
            ],
            [
             0.2222222222222222,
             "#7201a8"
            ],
            [
             0.3333333333333333,
             "#9c179e"
            ],
            [
             0.4444444444444444,
             "#bd3786"
            ],
            [
             0.5555555555555556,
             "#d8576b"
            ],
            [
             0.6666666666666666,
             "#ed7953"
            ],
            [
             0.7777777777777778,
             "#fb9f3a"
            ],
            [
             0.8888888888888888,
             "#fdca26"
            ],
            [
             1,
             "#f0f921"
            ]
           ]
          },
          "colorway": [
           "#636efa",
           "#EF553B",
           "#00cc96",
           "#ab63fa",
           "#FFA15A",
           "#19d3f3",
           "#FF6692",
           "#B6E880",
           "#FF97FF",
           "#FECB52"
          ],
          "font": {
           "color": "#2a3f5f"
          },
          "geo": {
           "bgcolor": "white",
           "lakecolor": "white",
           "landcolor": "#E5ECF6",
           "showlakes": true,
           "showland": true,
           "subunitcolor": "white"
          },
          "hoverlabel": {
           "align": "left"
          },
          "hovermode": "closest",
          "mapbox": {
           "style": "light"
          },
          "paper_bgcolor": "white",
          "plot_bgcolor": "#E5ECF6",
          "polar": {
           "angularaxis": {
            "gridcolor": "white",
            "linecolor": "white",
            "ticks": ""
           },
           "bgcolor": "#E5ECF6",
           "radialaxis": {
            "gridcolor": "white",
            "linecolor": "white",
            "ticks": ""
           }
          },
          "scene": {
           "xaxis": {
            "backgroundcolor": "#E5ECF6",
            "gridcolor": "white",
            "gridwidth": 2,
            "linecolor": "white",
            "showbackground": true,
            "ticks": "",
            "zerolinecolor": "white"
           },
           "yaxis": {
            "backgroundcolor": "#E5ECF6",
            "gridcolor": "white",
            "gridwidth": 2,
            "linecolor": "white",
            "showbackground": true,
            "ticks": "",
            "zerolinecolor": "white"
           },
           "zaxis": {
            "backgroundcolor": "#E5ECF6",
            "gridcolor": "white",
            "gridwidth": 2,
            "linecolor": "white",
            "showbackground": true,
            "ticks": "",
            "zerolinecolor": "white"
           }
          },
          "shapedefaults": {
           "line": {
            "color": "#2a3f5f"
           }
          },
          "ternary": {
           "aaxis": {
            "gridcolor": "white",
            "linecolor": "white",
            "ticks": ""
           },
           "baxis": {
            "gridcolor": "white",
            "linecolor": "white",
            "ticks": ""
           },
           "bgcolor": "#E5ECF6",
           "caxis": {
            "gridcolor": "white",
            "linecolor": "white",
            "ticks": ""
           }
          },
          "title": {
           "x": 0.05
          },
          "xaxis": {
           "automargin": true,
           "gridcolor": "white",
           "linecolor": "white",
           "ticks": "",
           "title": {
            "standoff": 15
           },
           "zerolinecolor": "white",
           "zerolinewidth": 2
          },
          "yaxis": {
           "automargin": true,
           "gridcolor": "white",
           "linecolor": "white",
           "ticks": "",
           "title": {
            "standoff": 15
           },
           "zerolinecolor": "white",
           "zerolinewidth": 2
          }
         }
        },
        "title": {
         "font": {
          "color": "#4D5663"
         }
        },
        "xaxis": {
         "gridcolor": "#E1E5ED",
         "showgrid": true,
         "tickfont": {
          "color": "#4D5663"
         },
         "title": {
          "font": {
           "color": "#4D5663"
          },
          "text": ""
         },
         "zerolinecolor": "#E1E5ED"
        },
        "yaxis": {
         "gridcolor": "#E1E5ED",
         "showgrid": true,
         "tickfont": {
          "color": "#4D5663"
         },
         "title": {
          "font": {
           "color": "#4D5663"
          },
          "text": ""
         },
         "zerolinecolor": "#E1E5ED"
        }
       }
      },
      "text/html": [
       "<div>                            <div id=\"fbb2f2dd-3e9d-4b8f-bd93-28f984d48170\" class=\"plotly-graph-div\" style=\"height:525px; width:100%;\"></div>            <script type=\"text/javascript\">                require([\"plotly\"], function(Plotly) {                    window.PLOTLYENV=window.PLOTLYENV || {};\n",
       "                    window.PLOTLYENV.BASE_URL='https://plot.ly';                                    if (document.getElementById(\"fbb2f2dd-3e9d-4b8f-bd93-28f984d48170\")) {                    Plotly.newPlot(                        \"fbb2f2dd-3e9d-4b8f-bd93-28f984d48170\",                        [{\"marker\": {\"color\": \"rgba(255, 153, 51, 0.6)\", \"line\": {\"color\": \"rgba(255, 153, 51, 1.0)\", \"width\": 1}}, \"name\": \"None\", \"orientation\": \"v\", \"text\": \"\", \"type\": \"bar\", \"x\": [\"A\", \"B\", \"C\", \"D\"], \"y\": [100, 100, 100, 100]}],                        {\"legend\": {\"bgcolor\": \"#F5F6F9\", \"font\": {\"color\": \"#4D5663\"}}, \"paper_bgcolor\": \"#F5F6F9\", \"plot_bgcolor\": \"#F5F6F9\", \"template\": {\"data\": {\"bar\": [{\"error_x\": {\"color\": \"#2a3f5f\"}, \"error_y\": {\"color\": \"#2a3f5f\"}, \"marker\": {\"line\": {\"color\": \"#E5ECF6\", \"width\": 0.5}}, \"type\": \"bar\"}], \"barpolar\": [{\"marker\": {\"line\": {\"color\": \"#E5ECF6\", \"width\": 0.5}}, \"type\": \"barpolar\"}], \"carpet\": [{\"aaxis\": {\"endlinecolor\": \"#2a3f5f\", \"gridcolor\": \"white\", \"linecolor\": \"white\", \"minorgridcolor\": \"white\", \"startlinecolor\": \"#2a3f5f\"}, \"baxis\": {\"endlinecolor\": \"#2a3f5f\", \"gridcolor\": \"white\", \"linecolor\": \"white\", \"minorgridcolor\": \"white\", \"startlinecolor\": \"#2a3f5f\"}, \"type\": \"carpet\"}], \"choropleth\": [{\"colorbar\": {\"outlinewidth\": 0, \"ticks\": \"\"}, \"type\": \"choropleth\"}], \"contour\": [{\"colorbar\": {\"outlinewidth\": 0, \"ticks\": \"\"}, \"colorscale\": [[0.0, \"#0d0887\"], [0.1111111111111111, \"#46039f\"], [0.2222222222222222, \"#7201a8\"], [0.3333333333333333, \"#9c179e\"], [0.4444444444444444, \"#bd3786\"], [0.5555555555555556, \"#d8576b\"], [0.6666666666666666, \"#ed7953\"], [0.7777777777777778, \"#fb9f3a\"], [0.8888888888888888, \"#fdca26\"], [1.0, \"#f0f921\"]], \"type\": \"contour\"}], \"contourcarpet\": [{\"colorbar\": {\"outlinewidth\": 0, \"ticks\": \"\"}, \"type\": \"contourcarpet\"}], \"heatmap\": [{\"colorbar\": {\"outlinewidth\": 0, \"ticks\": \"\"}, \"colorscale\": [[0.0, \"#0d0887\"], [0.1111111111111111, \"#46039f\"], [0.2222222222222222, \"#7201a8\"], [0.3333333333333333, \"#9c179e\"], [0.4444444444444444, \"#bd3786\"], [0.5555555555555556, \"#d8576b\"], [0.6666666666666666, \"#ed7953\"], [0.7777777777777778, \"#fb9f3a\"], [0.8888888888888888, \"#fdca26\"], [1.0, \"#f0f921\"]], \"type\": \"heatmap\"}], \"heatmapgl\": [{\"colorbar\": {\"outlinewidth\": 0, \"ticks\": \"\"}, \"colorscale\": [[0.0, \"#0d0887\"], [0.1111111111111111, \"#46039f\"], [0.2222222222222222, \"#7201a8\"], [0.3333333333333333, \"#9c179e\"], [0.4444444444444444, \"#bd3786\"], [0.5555555555555556, \"#d8576b\"], [0.6666666666666666, \"#ed7953\"], [0.7777777777777778, \"#fb9f3a\"], [0.8888888888888888, \"#fdca26\"], [1.0, \"#f0f921\"]], \"type\": \"heatmapgl\"}], \"histogram\": [{\"marker\": {\"colorbar\": {\"outlinewidth\": 0, \"ticks\": \"\"}}, \"type\": \"histogram\"}], \"histogram2d\": [{\"colorbar\": {\"outlinewidth\": 0, \"ticks\": \"\"}, \"colorscale\": [[0.0, \"#0d0887\"], [0.1111111111111111, \"#46039f\"], [0.2222222222222222, \"#7201a8\"], [0.3333333333333333, \"#9c179e\"], [0.4444444444444444, \"#bd3786\"], [0.5555555555555556, \"#d8576b\"], [0.6666666666666666, \"#ed7953\"], [0.7777777777777778, \"#fb9f3a\"], [0.8888888888888888, \"#fdca26\"], [1.0, \"#f0f921\"]], \"type\": \"histogram2d\"}], \"histogram2dcontour\": [{\"colorbar\": {\"outlinewidth\": 0, \"ticks\": \"\"}, \"colorscale\": [[0.0, \"#0d0887\"], [0.1111111111111111, \"#46039f\"], [0.2222222222222222, \"#7201a8\"], [0.3333333333333333, \"#9c179e\"], [0.4444444444444444, \"#bd3786\"], [0.5555555555555556, \"#d8576b\"], [0.6666666666666666, \"#ed7953\"], [0.7777777777777778, \"#fb9f3a\"], [0.8888888888888888, \"#fdca26\"], [1.0, \"#f0f921\"]], \"type\": \"histogram2dcontour\"}], \"mesh3d\": [{\"colorbar\": {\"outlinewidth\": 0, \"ticks\": \"\"}, \"type\": \"mesh3d\"}], \"parcoords\": [{\"line\": {\"colorbar\": {\"outlinewidth\": 0, \"ticks\": \"\"}}, \"type\": \"parcoords\"}], \"pie\": [{\"automargin\": true, \"type\": \"pie\"}], \"scatter\": [{\"marker\": {\"colorbar\": {\"outlinewidth\": 0, \"ticks\": \"\"}}, \"type\": \"scatter\"}], \"scatter3d\": [{\"line\": {\"colorbar\": {\"outlinewidth\": 0, \"ticks\": \"\"}}, \"marker\": {\"colorbar\": {\"outlinewidth\": 0, \"ticks\": \"\"}}, \"type\": \"scatter3d\"}], \"scattercarpet\": [{\"marker\": {\"colorbar\": {\"outlinewidth\": 0, \"ticks\": \"\"}}, \"type\": \"scattercarpet\"}], \"scattergeo\": [{\"marker\": {\"colorbar\": {\"outlinewidth\": 0, \"ticks\": \"\"}}, \"type\": \"scattergeo\"}], \"scattergl\": [{\"marker\": {\"colorbar\": {\"outlinewidth\": 0, \"ticks\": \"\"}}, \"type\": \"scattergl\"}], \"scattermapbox\": [{\"marker\": {\"colorbar\": {\"outlinewidth\": 0, \"ticks\": \"\"}}, \"type\": \"scattermapbox\"}], \"scatterpolar\": [{\"marker\": {\"colorbar\": {\"outlinewidth\": 0, \"ticks\": \"\"}}, \"type\": \"scatterpolar\"}], \"scatterpolargl\": [{\"marker\": {\"colorbar\": {\"outlinewidth\": 0, \"ticks\": \"\"}}, \"type\": \"scatterpolargl\"}], \"scatterternary\": [{\"marker\": {\"colorbar\": {\"outlinewidth\": 0, \"ticks\": \"\"}}, \"type\": \"scatterternary\"}], \"surface\": [{\"colorbar\": {\"outlinewidth\": 0, \"ticks\": \"\"}, \"colorscale\": [[0.0, \"#0d0887\"], [0.1111111111111111, \"#46039f\"], [0.2222222222222222, \"#7201a8\"], [0.3333333333333333, \"#9c179e\"], [0.4444444444444444, \"#bd3786\"], [0.5555555555555556, \"#d8576b\"], [0.6666666666666666, \"#ed7953\"], [0.7777777777777778, \"#fb9f3a\"], [0.8888888888888888, \"#fdca26\"], [1.0, \"#f0f921\"]], \"type\": \"surface\"}], \"table\": [{\"cells\": {\"fill\": {\"color\": \"#EBF0F8\"}, \"line\": {\"color\": \"white\"}}, \"header\": {\"fill\": {\"color\": \"#C8D4E3\"}, \"line\": {\"color\": \"white\"}}, \"type\": \"table\"}]}, \"layout\": {\"annotationdefaults\": {\"arrowcolor\": \"#2a3f5f\", \"arrowhead\": 0, \"arrowwidth\": 1}, \"coloraxis\": {\"colorbar\": {\"outlinewidth\": 0, \"ticks\": \"\"}}, \"colorscale\": {\"diverging\": [[0, \"#8e0152\"], [0.1, \"#c51b7d\"], [0.2, \"#de77ae\"], [0.3, \"#f1b6da\"], [0.4, \"#fde0ef\"], [0.5, \"#f7f7f7\"], [0.6, \"#e6f5d0\"], [0.7, \"#b8e186\"], [0.8, \"#7fbc41\"], [0.9, \"#4d9221\"], [1, \"#276419\"]], \"sequential\": [[0.0, \"#0d0887\"], [0.1111111111111111, \"#46039f\"], [0.2222222222222222, \"#7201a8\"], [0.3333333333333333, \"#9c179e\"], [0.4444444444444444, \"#bd3786\"], [0.5555555555555556, \"#d8576b\"], [0.6666666666666666, \"#ed7953\"], [0.7777777777777778, \"#fb9f3a\"], [0.8888888888888888, \"#fdca26\"], [1.0, \"#f0f921\"]], \"sequentialminus\": [[0.0, \"#0d0887\"], [0.1111111111111111, \"#46039f\"], [0.2222222222222222, \"#7201a8\"], [0.3333333333333333, \"#9c179e\"], [0.4444444444444444, \"#bd3786\"], [0.5555555555555556, \"#d8576b\"], [0.6666666666666666, \"#ed7953\"], [0.7777777777777778, \"#fb9f3a\"], [0.8888888888888888, \"#fdca26\"], [1.0, \"#f0f921\"]]}, \"colorway\": [\"#636efa\", \"#EF553B\", \"#00cc96\", \"#ab63fa\", \"#FFA15A\", \"#19d3f3\", \"#FF6692\", \"#B6E880\", \"#FF97FF\", \"#FECB52\"], \"font\": {\"color\": \"#2a3f5f\"}, \"geo\": {\"bgcolor\": \"white\", \"lakecolor\": \"white\", \"landcolor\": \"#E5ECF6\", \"showlakes\": true, \"showland\": true, \"subunitcolor\": \"white\"}, \"hoverlabel\": {\"align\": \"left\"}, \"hovermode\": \"closest\", \"mapbox\": {\"style\": \"light\"}, \"paper_bgcolor\": \"white\", \"plot_bgcolor\": \"#E5ECF6\", \"polar\": {\"angularaxis\": {\"gridcolor\": \"white\", \"linecolor\": \"white\", \"ticks\": \"\"}, \"bgcolor\": \"#E5ECF6\", \"radialaxis\": {\"gridcolor\": \"white\", \"linecolor\": \"white\", \"ticks\": \"\"}}, \"scene\": {\"xaxis\": {\"backgroundcolor\": \"#E5ECF6\", \"gridcolor\": \"white\", \"gridwidth\": 2, \"linecolor\": \"white\", \"showbackground\": true, \"ticks\": \"\", \"zerolinecolor\": \"white\"}, \"yaxis\": {\"backgroundcolor\": \"#E5ECF6\", \"gridcolor\": \"white\", \"gridwidth\": 2, \"linecolor\": \"white\", \"showbackground\": true, \"ticks\": \"\", \"zerolinecolor\": \"white\"}, \"zaxis\": {\"backgroundcolor\": \"#E5ECF6\", \"gridcolor\": \"white\", \"gridwidth\": 2, \"linecolor\": \"white\", \"showbackground\": true, \"ticks\": \"\", \"zerolinecolor\": \"white\"}}, \"shapedefaults\": {\"line\": {\"color\": \"#2a3f5f\"}}, \"ternary\": {\"aaxis\": {\"gridcolor\": \"white\", \"linecolor\": \"white\", \"ticks\": \"\"}, \"baxis\": {\"gridcolor\": \"white\", \"linecolor\": \"white\", \"ticks\": \"\"}, \"bgcolor\": \"#E5ECF6\", \"caxis\": {\"gridcolor\": \"white\", \"linecolor\": \"white\", \"ticks\": \"\"}}, \"title\": {\"x\": 0.05}, \"xaxis\": {\"automargin\": true, \"gridcolor\": \"white\", \"linecolor\": \"white\", \"ticks\": \"\", \"title\": {\"standoff\": 15}, \"zerolinecolor\": \"white\", \"zerolinewidth\": 2}, \"yaxis\": {\"automargin\": true, \"gridcolor\": \"white\", \"linecolor\": \"white\", \"ticks\": \"\", \"title\": {\"standoff\": 15}, \"zerolinecolor\": \"white\", \"zerolinewidth\": 2}}}, \"title\": {\"font\": {\"color\": \"#4D5663\"}}, \"xaxis\": {\"gridcolor\": \"#E1E5ED\", \"showgrid\": true, \"tickfont\": {\"color\": \"#4D5663\"}, \"title\": {\"font\": {\"color\": \"#4D5663\"}, \"text\": \"\"}, \"zerolinecolor\": \"#E1E5ED\"}, \"yaxis\": {\"gridcolor\": \"#E1E5ED\", \"showgrid\": true, \"tickfont\": {\"color\": \"#4D5663\"}, \"title\": {\"font\": {\"color\": \"#4D5663\"}, \"text\": \"\"}, \"zerolinecolor\": \"#E1E5ED\"}},                        {\"showLink\": true, \"linkText\": \"Export to plot.ly\", \"plotlyServerURL\": \"https://plot.ly\", \"responsive\": true}                    ).then(function(){\n",
       "                            \n",
       "var gd = document.getElementById('fbb2f2dd-3e9d-4b8f-bd93-28f984d48170');\n",
       "var x = new MutationObserver(function (mutations, observer) {{\n",
       "        var display = window.getComputedStyle(gd).display;\n",
       "        if (!display || display === 'none') {{\n",
       "            console.log([gd, 'removed!']);\n",
       "            Plotly.purge(gd);\n",
       "            observer.disconnect();\n",
       "        }}\n",
       "}});\n",
       "\n",
       "// Listen for the removal of the full notebook cells\n",
       "var notebookContainer = gd.closest('#notebook-container');\n",
       "if (notebookContainer) {{\n",
       "    x.observe(notebookContainer, {childList: true});\n",
       "}}\n",
       "\n",
       "// Listen for the clearing of the current output cell\n",
       "var outputEl = gd.closest('.output');\n",
       "if (outputEl) {{\n",
       "    x.observe(outputEl, {childList: true});\n",
       "}}\n",
       "\n",
       "                        })                };                });            </script>        </div>"
      ]
     },
     "metadata": {},
     "output_type": "display_data"
    }
   ],
   "source": [
    "df.count().iplot(kind='bar')"
   ]
  },
  {
   "cell_type": "markdown",
   "metadata": {},
   "source": [
    "### Boxplots"
   ]
  },
  {
   "cell_type": "code",
   "execution_count": 18,
   "metadata": {},
   "outputs": [
    {
     "data": {
      "application/vnd.plotly.v1+json": {
       "config": {
        "linkText": "Export to plot.ly",
        "plotlyServerURL": "https://plot.ly",
        "showLink": true
       },
       "data": [
        {
         "boxpoints": false,
         "line": {
          "width": 1.3
         },
         "marker": {
          "color": "rgba(255, 153, 51, 1.0)"
         },
         "name": "A",
         "orientation": "v",
         "type": "box",
         "y": [
          0.644944253392509,
          -1.243348684605454,
          -0.4992529425467864,
          2.4951536973358257,
          0.7181532996966965,
          -1.9317140313919021,
          0.11474960965809082,
          -0.1261498964710348,
          -0.5103316332599934,
          -0.8276136470561897,
          -0.2507444797257825,
          -1.3418672073315923,
          0.21175779852862386,
          0.5295284425743242,
          0.8363177959309905,
          0.415861941348495,
          0.871861955304613,
          0.6681642022568207,
          0.6353210567494172,
          -0.8890269089553131,
          -0.5757625912203307,
          0.0473418279138021,
          0.45893720365546087,
          0.20533206162680312,
          0.5342187570105031,
          -0.9577761045178981,
          0.6215579004212394,
          0.3008634269643,
          0.33739228720858727,
          1.5605524266487771,
          1.1653258116847005,
          2.293244270264029,
          -0.7047214962226932,
          0.3962295958236032,
          -0.6537064556460913,
          -0.4985449582239225,
          2.27944819476583,
          0.8499011425816464,
          -0.4860147282091424,
          -0.6444140483491969,
          2.214686187010531,
          0.3838743222004633,
          -0.5539655478660834,
          -0.9901617877531294,
          -2.312706735663867,
          -0.23252768398780077,
          -1.540241546640356,
          1.1808907417329335,
          1.0871707946424356,
          -0.15996342914122272,
          0.022131419531764927,
          0.5380254693737466,
          -0.9069222602195819,
          0.9098672320142027,
          0.39275474249035136,
          0.2515091490652439,
          0.033273504199668645,
          -0.4062481423769172,
          -0.22266747097199469,
          -0.021543501070881897,
          1.1414511969408576,
          -0.882928566564055,
          -0.2269953805998093,
          -1.1414555129144652,
          -0.19982816122859687,
          0.008667300544806618,
          0.98104895613813,
          0.7000475963198131,
          -0.9875553180644235,
          0.2802041042103516,
          -0.27841473507495756,
          -0.28720943739101973,
          -0.3417889952846551,
          0.5204878045371218,
          -0.434114511660545,
          -0.2063332906543763,
          -0.03675127761476961,
          1.1901664803851735,
          0.01200015667771501,
          0.8272860394456298,
          0.05409598408964082,
          -1.270582395308957,
          -1.5555290581226502,
          -0.7117188145510055,
          -0.5312698504250206,
          -1.5695714005160748,
          -0.2290634746353095,
          -1.2991596300694486,
          0.12650435754258949,
          0.5109620491249028,
          -1.526578864329696,
          0.4182122881950908,
          1.4562508551129445,
          1.4324202800329318,
          -0.14732020963007963,
          -0.8109983196533064,
          0.5811563853217354,
          1.2867440891345567,
          -0.6972600913213484,
          1.296152728893862
         ]
        },
        {
         "boxpoints": false,
         "line": {
          "width": 1.3
         },
         "marker": {
          "color": "rgba(55, 128, 191, 1.0)"
         },
         "name": "B",
         "orientation": "v",
         "type": "box",
         "y": [
          -0.08013390570656855,
          0.02269628397142565,
          2.0327051595328567,
          -0.7181989100120357,
          1.662173623528374,
          -1.8065217941063234,
          1.2110119232992642,
          0.964951897071669,
          -0.85475257177362,
          -0.8248953729479542,
          -1.5826159940641324,
          -0.31771649747982844,
          0.4695556889421146,
          1.1126965404646199,
          0.47540997865652285,
          1.5046965559370773,
          0.25150127187187826,
          0.7342936672975972,
          0.5573821763407487,
          1.6335921713759398,
          0.28423026188458866,
          -0.3513447045334481,
          0.7216116547879913,
          -2.0192256386128222,
          -0.6603785846807382,
          0.6075414069350706,
          -1.3040106662584956,
          -0.13444623772025147,
          1.4643238329452812,
          0.8287147546248804,
          0.5806777413326851,
          0.9303244942852352,
          0.7259757585380316,
          -0.06322536505460559,
          1.2453254912014053,
          0.6080354966321703,
          0.006735045164522672,
          1.6427954888944556,
          -0.5032316059134918,
          -0.8783406051015079,
          0.8369992548650931,
          -0.15452153692557458,
          0.4495271766918472,
          -0.851990999026497,
          -1.10351719090533,
          0.09538065137446597,
          -1.4065321722524897,
          -0.6884313359013833,
          -1.8692741176830965,
          0.7535226372890009,
          1.7893533378361597,
          -0.7663252274224117,
          1.8026469873249986,
          0.04966144641495865,
          -2.827664478329827,
          -0.12053078024314415,
          -0.8406444888833142,
          1.1436342481148736,
          -0.6438301792589787,
          -0.15968908610736374,
          -0.03930255640966198,
          -0.7994520589749605,
          -1.1940497177919867,
          0.10867677592993708,
          -1.3726391157855171,
          -0.1326855930801497,
          -0.5587655308484875,
          -0.7436168413473584,
          -1.6228530763718965,
          0.06949574404363028,
          0.6809559377259978,
          -0.31448231912903674,
          -0.3316012072631598,
          -0.5847889225916768,
          -1.6805967750833015,
          -0.3665019767365411,
          2.008727649743859,
          -0.24327605882879857,
          -0.359785106683067,
          -0.8924991334740093,
          0.12697324601980906,
          0.5531647475745822,
          -1.0258680943681446,
          0.8539067657069088,
          -0.7889592814582247,
          -1.2162060159782722,
          -1.0133611160795266,
          -0.5733977596069428,
          2.0491826184025244,
          -1.0876329251377972,
          -0.07220169619981867,
          -0.5633866328881607,
          -1.2044256319043143,
          0.5572001026112121,
          -0.5831545677877031,
          -1.428781267332909,
          -0.45228906215591375,
          0.156452198379921,
          -0.44290164114833663,
          -0.4004290542117399
         ]
        },
        {
         "boxpoints": false,
         "line": {
          "width": 1.3
         },
         "marker": {
          "color": "rgba(50, 171, 96, 1.0)"
         },
         "name": "C",
         "orientation": "v",
         "type": "box",
         "y": [
          -1.4477574354068719,
          -1.7233603802500193,
          -0.5984209737367858,
          -0.9368878988604648,
          0.9062137919129141,
          0.22218284063825272,
          -2.0417255109737233,
          -0.2192180825379543,
          -0.08977230829964371,
          1.667983087259697,
          -0.6361232272678549,
          -0.5860975409862929,
          0.1899516089475176,
          -0.41979431650782745,
          1.2428414520921423,
          -0.2624917131211503,
          0.3034895475375121,
          1.4413260459453492,
          1.5458349135615945,
          0.29655048031503173,
          0.17181835748016983,
          -0.9122902524233049,
          -1.063669154205758,
          -0.23710133901362845,
          1.3235361574408435,
          -0.7442166856797351,
          -0.49932902949870567,
          0.7516538398106425,
          2.5335247809440373,
          -0.7026777614846776,
          -0.8661315259679787,
          -0.13730753923982933,
          -0.3160815480385251,
          0.7913286350849541,
          2.112259129393216,
          0.31603244474945724,
          -0.03141008988740155,
          -1.227947470679876,
          -1.5922070078566708,
          0.258079605470208,
          0.5734548906839825,
          -0.2777691520070106,
          -2.0354165726202575,
          -2.2345736103617595,
          -0.15622144128515786,
          1.2083026639636036,
          1.2256193565727835,
          0.049295690575631004,
          0.5092101544016114,
          0.9775815228802811,
          1.150036646824441,
          0.2427331726119301,
          0.7018585458297713,
          0.732694391555163,
          1.0644900888894022,
          0.8315305269862964,
          -1.754350659340919,
          -0.2724761793017612,
          0.41936827397426607,
          1.488958602064352,
          -0.779811103736643,
          -1.564613442648919,
          -0.18058918832219908,
          -0.3454475471400498,
          0.2932407621783206,
          -0.8883345583387618,
          1.2803820941214752,
          3.205785592932629,
          1.8009102095110534,
          0.9211060791736984,
          -0.448853493322849,
          -0.30200826157711547,
          0.05697546612366482,
          -0.1842056973960395,
          -0.005830410081542872,
          0.8529016609253436,
          -2.2854142392312577,
          -2.8899863616129533,
          0.10967642834710191,
          -0.31556490283645544,
          -0.14060335448399772,
          0.00715388715644203,
          0.444112110003291,
          -0.21291671360061734,
          -0.4848274315056886,
          0.07510834804429713,
          -0.4938610656153614,
          0.8054222336185921,
          -2.01084235917396,
          0.932196710820158,
          0.858071989954808,
          0.7413215971758675,
          1.279871334620964,
          0.46753806794382813,
          -1.2283945793518722,
          -0.34186980808400164,
          0.3202804776455798,
          1.2853035794578231,
          -0.49864831201596227,
          -0.8287276526398878
         ]
        },
        {
         "boxpoints": false,
         "line": {
          "width": 1.3
         },
         "marker": {
          "color": "rgba(128, 0, 128, 1.0)"
         },
         "name": "D",
         "orientation": "v",
         "type": "box",
         "y": [
          2.108994929011714,
          0.8070872510433912,
          -0.7313397784295909,
          -2.4871211713878845,
          0.6166019837528329,
          -0.7709434173700418,
          0.34022723723610104,
          2.03308030133366,
          0.8624422655356735,
          -1.2520793644506358,
          -1.9346072174076763,
          1.5590334411151778,
          1.6555260446539306,
          0.14039508117071453,
          0.2896344524423826,
          0.5620616204620713,
          1.2053296393984896,
          -1.6175600629176843,
          0.9747523003019611,
          -0.40326199832007914,
          -0.16071152817746634,
          -1.0392069937373853,
          0.3736020221377302,
          0.18868892052250075,
          -0.4068412982404847,
          -1.346360707191344,
          -1.7931604365949598,
          -0.36866050549532625,
          -1.5559014093663743,
          -1.739555082436128,
          -0.07744503840508507,
          -0.5200851366375174,
          0.281154567705927,
          0.8114895426827806,
          0.7589999595497369,
          -1.5120990813712023,
          -1.0335769009586557,
          -0.4748527754663108,
          -0.662163238015597,
          0.6916725317574091,
          0.6273055535953047,
          -0.43960931874352555,
          0.3967362982610203,
          1.0117535992710582,
          0.1853478337348335,
          0.1014659949645751,
          -0.33302216273433144,
          -1.5423758085147905,
          0.4732686199257994,
          -0.07414017702040748,
          -0.12836375120161939,
          0.4153942511385534,
          1.2077618908493983,
          0.8783725934187534,
          -0.27061938365128807,
          -0.015927179289710016,
          1.7582576123063614,
          -0.20578031081416243,
          -0.6217994069496171,
          0.12363253644683327,
          0.12043252736150575,
          0.678630403243001,
          1.2758256172016158,
          0.6837832904610815,
          0.6290402086439506,
          1.3801060320616845,
          1.1617994743312978,
          1.644530337237929,
          2.4429426851046268,
          -0.44837888593539693,
          -0.6558008128147459,
          -0.3962931649023302,
          0.004621824175672183,
          1.513839370916935,
          -0.127346979100021,
          0.22549985157638552,
          -1.5945567981818194,
          2.1362857325729148,
          1.006956771801912,
          -0.5866436528150469,
          -1.644721660746748,
          0.8309674517870819,
          0.11321242291815385,
          -1.13514916705063,
          -1.5660367502233106,
          0.4236452451300459,
          -0.200346806825276,
          0.3834293304643709,
          0.07289243563392446,
          0.05275983812000614,
          -1.3897358640759143,
          -0.5430383166286531,
          0.270047889373564,
          0.2921479890529208,
          0.11862501134259394,
          1.3223808127638017,
          2.1055272738203996,
          0.9595698564777835,
          -0.159135395643192,
          0.6674658068888306
         ]
        }
       ],
       "layout": {
        "legend": {
         "bgcolor": "#F5F6F9",
         "font": {
          "color": "#4D5663"
         }
        },
        "paper_bgcolor": "#F5F6F9",
        "plot_bgcolor": "#F5F6F9",
        "template": {
         "data": {
          "bar": [
           {
            "error_x": {
             "color": "#2a3f5f"
            },
            "error_y": {
             "color": "#2a3f5f"
            },
            "marker": {
             "line": {
              "color": "#E5ECF6",
              "width": 0.5
             }
            },
            "type": "bar"
           }
          ],
          "barpolar": [
           {
            "marker": {
             "line": {
              "color": "#E5ECF6",
              "width": 0.5
             }
            },
            "type": "barpolar"
           }
          ],
          "carpet": [
           {
            "aaxis": {
             "endlinecolor": "#2a3f5f",
             "gridcolor": "white",
             "linecolor": "white",
             "minorgridcolor": "white",
             "startlinecolor": "#2a3f5f"
            },
            "baxis": {
             "endlinecolor": "#2a3f5f",
             "gridcolor": "white",
             "linecolor": "white",
             "minorgridcolor": "white",
             "startlinecolor": "#2a3f5f"
            },
            "type": "carpet"
           }
          ],
          "choropleth": [
           {
            "colorbar": {
             "outlinewidth": 0,
             "ticks": ""
            },
            "type": "choropleth"
           }
          ],
          "contour": [
           {
            "colorbar": {
             "outlinewidth": 0,
             "ticks": ""
            },
            "colorscale": [
             [
              0,
              "#0d0887"
             ],
             [
              0.1111111111111111,
              "#46039f"
             ],
             [
              0.2222222222222222,
              "#7201a8"
             ],
             [
              0.3333333333333333,
              "#9c179e"
             ],
             [
              0.4444444444444444,
              "#bd3786"
             ],
             [
              0.5555555555555556,
              "#d8576b"
             ],
             [
              0.6666666666666666,
              "#ed7953"
             ],
             [
              0.7777777777777778,
              "#fb9f3a"
             ],
             [
              0.8888888888888888,
              "#fdca26"
             ],
             [
              1,
              "#f0f921"
             ]
            ],
            "type": "contour"
           }
          ],
          "contourcarpet": [
           {
            "colorbar": {
             "outlinewidth": 0,
             "ticks": ""
            },
            "type": "contourcarpet"
           }
          ],
          "heatmap": [
           {
            "colorbar": {
             "outlinewidth": 0,
             "ticks": ""
            },
            "colorscale": [
             [
              0,
              "#0d0887"
             ],
             [
              0.1111111111111111,
              "#46039f"
             ],
             [
              0.2222222222222222,
              "#7201a8"
             ],
             [
              0.3333333333333333,
              "#9c179e"
             ],
             [
              0.4444444444444444,
              "#bd3786"
             ],
             [
              0.5555555555555556,
              "#d8576b"
             ],
             [
              0.6666666666666666,
              "#ed7953"
             ],
             [
              0.7777777777777778,
              "#fb9f3a"
             ],
             [
              0.8888888888888888,
              "#fdca26"
             ],
             [
              1,
              "#f0f921"
             ]
            ],
            "type": "heatmap"
           }
          ],
          "heatmapgl": [
           {
            "colorbar": {
             "outlinewidth": 0,
             "ticks": ""
            },
            "colorscale": [
             [
              0,
              "#0d0887"
             ],
             [
              0.1111111111111111,
              "#46039f"
             ],
             [
              0.2222222222222222,
              "#7201a8"
             ],
             [
              0.3333333333333333,
              "#9c179e"
             ],
             [
              0.4444444444444444,
              "#bd3786"
             ],
             [
              0.5555555555555556,
              "#d8576b"
             ],
             [
              0.6666666666666666,
              "#ed7953"
             ],
             [
              0.7777777777777778,
              "#fb9f3a"
             ],
             [
              0.8888888888888888,
              "#fdca26"
             ],
             [
              1,
              "#f0f921"
             ]
            ],
            "type": "heatmapgl"
           }
          ],
          "histogram": [
           {
            "marker": {
             "colorbar": {
              "outlinewidth": 0,
              "ticks": ""
             }
            },
            "type": "histogram"
           }
          ],
          "histogram2d": [
           {
            "colorbar": {
             "outlinewidth": 0,
             "ticks": ""
            },
            "colorscale": [
             [
              0,
              "#0d0887"
             ],
             [
              0.1111111111111111,
              "#46039f"
             ],
             [
              0.2222222222222222,
              "#7201a8"
             ],
             [
              0.3333333333333333,
              "#9c179e"
             ],
             [
              0.4444444444444444,
              "#bd3786"
             ],
             [
              0.5555555555555556,
              "#d8576b"
             ],
             [
              0.6666666666666666,
              "#ed7953"
             ],
             [
              0.7777777777777778,
              "#fb9f3a"
             ],
             [
              0.8888888888888888,
              "#fdca26"
             ],
             [
              1,
              "#f0f921"
             ]
            ],
            "type": "histogram2d"
           }
          ],
          "histogram2dcontour": [
           {
            "colorbar": {
             "outlinewidth": 0,
             "ticks": ""
            },
            "colorscale": [
             [
              0,
              "#0d0887"
             ],
             [
              0.1111111111111111,
              "#46039f"
             ],
             [
              0.2222222222222222,
              "#7201a8"
             ],
             [
              0.3333333333333333,
              "#9c179e"
             ],
             [
              0.4444444444444444,
              "#bd3786"
             ],
             [
              0.5555555555555556,
              "#d8576b"
             ],
             [
              0.6666666666666666,
              "#ed7953"
             ],
             [
              0.7777777777777778,
              "#fb9f3a"
             ],
             [
              0.8888888888888888,
              "#fdca26"
             ],
             [
              1,
              "#f0f921"
             ]
            ],
            "type": "histogram2dcontour"
           }
          ],
          "mesh3d": [
           {
            "colorbar": {
             "outlinewidth": 0,
             "ticks": ""
            },
            "type": "mesh3d"
           }
          ],
          "parcoords": [
           {
            "line": {
             "colorbar": {
              "outlinewidth": 0,
              "ticks": ""
             }
            },
            "type": "parcoords"
           }
          ],
          "pie": [
           {
            "automargin": true,
            "type": "pie"
           }
          ],
          "scatter": [
           {
            "marker": {
             "colorbar": {
              "outlinewidth": 0,
              "ticks": ""
             }
            },
            "type": "scatter"
           }
          ],
          "scatter3d": [
           {
            "line": {
             "colorbar": {
              "outlinewidth": 0,
              "ticks": ""
             }
            },
            "marker": {
             "colorbar": {
              "outlinewidth": 0,
              "ticks": ""
             }
            },
            "type": "scatter3d"
           }
          ],
          "scattercarpet": [
           {
            "marker": {
             "colorbar": {
              "outlinewidth": 0,
              "ticks": ""
             }
            },
            "type": "scattercarpet"
           }
          ],
          "scattergeo": [
           {
            "marker": {
             "colorbar": {
              "outlinewidth": 0,
              "ticks": ""
             }
            },
            "type": "scattergeo"
           }
          ],
          "scattergl": [
           {
            "marker": {
             "colorbar": {
              "outlinewidth": 0,
              "ticks": ""
             }
            },
            "type": "scattergl"
           }
          ],
          "scattermapbox": [
           {
            "marker": {
             "colorbar": {
              "outlinewidth": 0,
              "ticks": ""
             }
            },
            "type": "scattermapbox"
           }
          ],
          "scatterpolar": [
           {
            "marker": {
             "colorbar": {
              "outlinewidth": 0,
              "ticks": ""
             }
            },
            "type": "scatterpolar"
           }
          ],
          "scatterpolargl": [
           {
            "marker": {
             "colorbar": {
              "outlinewidth": 0,
              "ticks": ""
             }
            },
            "type": "scatterpolargl"
           }
          ],
          "scatterternary": [
           {
            "marker": {
             "colorbar": {
              "outlinewidth": 0,
              "ticks": ""
             }
            },
            "type": "scatterternary"
           }
          ],
          "surface": [
           {
            "colorbar": {
             "outlinewidth": 0,
             "ticks": ""
            },
            "colorscale": [
             [
              0,
              "#0d0887"
             ],
             [
              0.1111111111111111,
              "#46039f"
             ],
             [
              0.2222222222222222,
              "#7201a8"
             ],
             [
              0.3333333333333333,
              "#9c179e"
             ],
             [
              0.4444444444444444,
              "#bd3786"
             ],
             [
              0.5555555555555556,
              "#d8576b"
             ],
             [
              0.6666666666666666,
              "#ed7953"
             ],
             [
              0.7777777777777778,
              "#fb9f3a"
             ],
             [
              0.8888888888888888,
              "#fdca26"
             ],
             [
              1,
              "#f0f921"
             ]
            ],
            "type": "surface"
           }
          ],
          "table": [
           {
            "cells": {
             "fill": {
              "color": "#EBF0F8"
             },
             "line": {
              "color": "white"
             }
            },
            "header": {
             "fill": {
              "color": "#C8D4E3"
             },
             "line": {
              "color": "white"
             }
            },
            "type": "table"
           }
          ]
         },
         "layout": {
          "annotationdefaults": {
           "arrowcolor": "#2a3f5f",
           "arrowhead": 0,
           "arrowwidth": 1
          },
          "coloraxis": {
           "colorbar": {
            "outlinewidth": 0,
            "ticks": ""
           }
          },
          "colorscale": {
           "diverging": [
            [
             0,
             "#8e0152"
            ],
            [
             0.1,
             "#c51b7d"
            ],
            [
             0.2,
             "#de77ae"
            ],
            [
             0.3,
             "#f1b6da"
            ],
            [
             0.4,
             "#fde0ef"
            ],
            [
             0.5,
             "#f7f7f7"
            ],
            [
             0.6,
             "#e6f5d0"
            ],
            [
             0.7,
             "#b8e186"
            ],
            [
             0.8,
             "#7fbc41"
            ],
            [
             0.9,
             "#4d9221"
            ],
            [
             1,
             "#276419"
            ]
           ],
           "sequential": [
            [
             0,
             "#0d0887"
            ],
            [
             0.1111111111111111,
             "#46039f"
            ],
            [
             0.2222222222222222,
             "#7201a8"
            ],
            [
             0.3333333333333333,
             "#9c179e"
            ],
            [
             0.4444444444444444,
             "#bd3786"
            ],
            [
             0.5555555555555556,
             "#d8576b"
            ],
            [
             0.6666666666666666,
             "#ed7953"
            ],
            [
             0.7777777777777778,
             "#fb9f3a"
            ],
            [
             0.8888888888888888,
             "#fdca26"
            ],
            [
             1,
             "#f0f921"
            ]
           ],
           "sequentialminus": [
            [
             0,
             "#0d0887"
            ],
            [
             0.1111111111111111,
             "#46039f"
            ],
            [
             0.2222222222222222,
             "#7201a8"
            ],
            [
             0.3333333333333333,
             "#9c179e"
            ],
            [
             0.4444444444444444,
             "#bd3786"
            ],
            [
             0.5555555555555556,
             "#d8576b"
            ],
            [
             0.6666666666666666,
             "#ed7953"
            ],
            [
             0.7777777777777778,
             "#fb9f3a"
            ],
            [
             0.8888888888888888,
             "#fdca26"
            ],
            [
             1,
             "#f0f921"
            ]
           ]
          },
          "colorway": [
           "#636efa",
           "#EF553B",
           "#00cc96",
           "#ab63fa",
           "#FFA15A",
           "#19d3f3",
           "#FF6692",
           "#B6E880",
           "#FF97FF",
           "#FECB52"
          ],
          "font": {
           "color": "#2a3f5f"
          },
          "geo": {
           "bgcolor": "white",
           "lakecolor": "white",
           "landcolor": "#E5ECF6",
           "showlakes": true,
           "showland": true,
           "subunitcolor": "white"
          },
          "hoverlabel": {
           "align": "left"
          },
          "hovermode": "closest",
          "mapbox": {
           "style": "light"
          },
          "paper_bgcolor": "white",
          "plot_bgcolor": "#E5ECF6",
          "polar": {
           "angularaxis": {
            "gridcolor": "white",
            "linecolor": "white",
            "ticks": ""
           },
           "bgcolor": "#E5ECF6",
           "radialaxis": {
            "gridcolor": "white",
            "linecolor": "white",
            "ticks": ""
           }
          },
          "scene": {
           "xaxis": {
            "backgroundcolor": "#E5ECF6",
            "gridcolor": "white",
            "gridwidth": 2,
            "linecolor": "white",
            "showbackground": true,
            "ticks": "",
            "zerolinecolor": "white"
           },
           "yaxis": {
            "backgroundcolor": "#E5ECF6",
            "gridcolor": "white",
            "gridwidth": 2,
            "linecolor": "white",
            "showbackground": true,
            "ticks": "",
            "zerolinecolor": "white"
           },
           "zaxis": {
            "backgroundcolor": "#E5ECF6",
            "gridcolor": "white",
            "gridwidth": 2,
            "linecolor": "white",
            "showbackground": true,
            "ticks": "",
            "zerolinecolor": "white"
           }
          },
          "shapedefaults": {
           "line": {
            "color": "#2a3f5f"
           }
          },
          "ternary": {
           "aaxis": {
            "gridcolor": "white",
            "linecolor": "white",
            "ticks": ""
           },
           "baxis": {
            "gridcolor": "white",
            "linecolor": "white",
            "ticks": ""
           },
           "bgcolor": "#E5ECF6",
           "caxis": {
            "gridcolor": "white",
            "linecolor": "white",
            "ticks": ""
           }
          },
          "title": {
           "x": 0.05
          },
          "xaxis": {
           "automargin": true,
           "gridcolor": "white",
           "linecolor": "white",
           "ticks": "",
           "title": {
            "standoff": 15
           },
           "zerolinecolor": "white",
           "zerolinewidth": 2
          },
          "yaxis": {
           "automargin": true,
           "gridcolor": "white",
           "linecolor": "white",
           "ticks": "",
           "title": {
            "standoff": 15
           },
           "zerolinecolor": "white",
           "zerolinewidth": 2
          }
         }
        },
        "title": {
         "font": {
          "color": "#4D5663"
         }
        },
        "xaxis": {
         "gridcolor": "#E1E5ED",
         "showgrid": true,
         "tickfont": {
          "color": "#4D5663"
         },
         "title": {
          "font": {
           "color": "#4D5663"
          },
          "text": ""
         },
         "zerolinecolor": "#E1E5ED"
        },
        "yaxis": {
         "gridcolor": "#E1E5ED",
         "showgrid": true,
         "tickfont": {
          "color": "#4D5663"
         },
         "title": {
          "font": {
           "color": "#4D5663"
          },
          "text": ""
         },
         "zerolinecolor": "#E1E5ED"
        }
       }
      },
      "text/html": [
       "<div>                            <div id=\"a0603d52-fef3-474e-baf7-da0330b5b4c9\" class=\"plotly-graph-div\" style=\"height:525px; width:100%;\"></div>            <script type=\"text/javascript\">                require([\"plotly\"], function(Plotly) {                    window.PLOTLYENV=window.PLOTLYENV || {};\n",
       "                    window.PLOTLYENV.BASE_URL='https://plot.ly';                                    if (document.getElementById(\"a0603d52-fef3-474e-baf7-da0330b5b4c9\")) {                    Plotly.newPlot(                        \"a0603d52-fef3-474e-baf7-da0330b5b4c9\",                        [{\"boxpoints\": false, \"line\": {\"width\": 1.3}, \"marker\": {\"color\": \"rgba(255, 153, 51, 1.0)\"}, \"name\": \"A\", \"orientation\": \"v\", \"type\": \"box\", \"y\": [0.644944253392509, -1.243348684605454, -0.4992529425467864, 2.4951536973358257, 0.7181532996966965, -1.9317140313919021, 0.11474960965809082, -0.1261498964710348, -0.5103316332599934, -0.8276136470561897, -0.2507444797257825, -1.3418672073315923, 0.21175779852862386, 0.5295284425743242, 0.8363177959309905, 0.415861941348495, 0.871861955304613, 0.6681642022568207, 0.6353210567494172, -0.8890269089553131, -0.5757625912203307, 0.0473418279138021, 0.45893720365546087, 0.20533206162680312, 0.5342187570105031, -0.9577761045178981, 0.6215579004212394, 0.3008634269643, 0.33739228720858727, 1.5605524266487771, 1.1653258116847005, 2.293244270264029, -0.7047214962226932, 0.3962295958236032, -0.6537064556460913, -0.4985449582239225, 2.27944819476583, 0.8499011425816464, -0.4860147282091424, -0.6444140483491969, 2.214686187010531, 0.3838743222004633, -0.5539655478660834, -0.9901617877531294, -2.312706735663867, -0.23252768398780077, -1.540241546640356, 1.1808907417329335, 1.0871707946424356, -0.15996342914122272, 0.022131419531764927, 0.5380254693737466, -0.9069222602195819, 0.9098672320142027, 0.39275474249035136, 0.2515091490652439, 0.033273504199668645, -0.4062481423769172, -0.22266747097199469, -0.021543501070881897, 1.1414511969408576, -0.882928566564055, -0.2269953805998093, -1.1414555129144652, -0.19982816122859687, 0.008667300544806618, 0.98104895613813, 0.7000475963198131, -0.9875553180644235, 0.2802041042103516, -0.27841473507495756, -0.28720943739101973, -0.3417889952846551, 0.5204878045371218, -0.434114511660545, -0.2063332906543763, -0.03675127761476961, 1.1901664803851735, 0.01200015667771501, 0.8272860394456298, 0.05409598408964082, -1.270582395308957, -1.5555290581226502, -0.7117188145510055, -0.5312698504250206, -1.5695714005160748, -0.2290634746353095, -1.2991596300694486, 0.12650435754258949, 0.5109620491249028, -1.526578864329696, 0.4182122881950908, 1.4562508551129445, 1.4324202800329318, -0.14732020963007963, -0.8109983196533064, 0.5811563853217354, 1.2867440891345567, -0.6972600913213484, 1.296152728893862]}, {\"boxpoints\": false, \"line\": {\"width\": 1.3}, \"marker\": {\"color\": \"rgba(55, 128, 191, 1.0)\"}, \"name\": \"B\", \"orientation\": \"v\", \"type\": \"box\", \"y\": [-0.08013390570656855, 0.02269628397142565, 2.0327051595328567, -0.7181989100120357, 1.662173623528374, -1.8065217941063234, 1.2110119232992642, 0.964951897071669, -0.85475257177362, -0.8248953729479542, -1.5826159940641324, -0.31771649747982844, 0.4695556889421146, 1.1126965404646199, 0.47540997865652285, 1.5046965559370773, 0.25150127187187826, 0.7342936672975972, 0.5573821763407487, 1.6335921713759398, 0.28423026188458866, -0.3513447045334481, 0.7216116547879913, -2.0192256386128222, -0.6603785846807382, 0.6075414069350706, -1.3040106662584956, -0.13444623772025147, 1.4643238329452812, 0.8287147546248804, 0.5806777413326851, 0.9303244942852352, 0.7259757585380316, -0.06322536505460559, 1.2453254912014053, 0.6080354966321703, 0.006735045164522672, 1.6427954888944556, -0.5032316059134918, -0.8783406051015079, 0.8369992548650931, -0.15452153692557458, 0.4495271766918472, -0.851990999026497, -1.10351719090533, 0.09538065137446597, -1.4065321722524897, -0.6884313359013833, -1.8692741176830965, 0.7535226372890009, 1.7893533378361597, -0.7663252274224117, 1.8026469873249986, 0.04966144641495865, -2.827664478329827, -0.12053078024314415, -0.8406444888833142, 1.1436342481148736, -0.6438301792589787, -0.15968908610736374, -0.03930255640966198, -0.7994520589749605, -1.1940497177919867, 0.10867677592993708, -1.3726391157855171, -0.1326855930801497, -0.5587655308484875, -0.7436168413473584, -1.6228530763718965, 0.06949574404363028, 0.6809559377259978, -0.31448231912903674, -0.3316012072631598, -0.5847889225916768, -1.6805967750833015, -0.3665019767365411, 2.008727649743859, -0.24327605882879857, -0.359785106683067, -0.8924991334740093, 0.12697324601980906, 0.5531647475745822, -1.0258680943681446, 0.8539067657069088, -0.7889592814582247, -1.2162060159782722, -1.0133611160795266, -0.5733977596069428, 2.0491826184025244, -1.0876329251377972, -0.07220169619981867, -0.5633866328881607, -1.2044256319043143, 0.5572001026112121, -0.5831545677877031, -1.428781267332909, -0.45228906215591375, 0.156452198379921, -0.44290164114833663, -0.4004290542117399]}, {\"boxpoints\": false, \"line\": {\"width\": 1.3}, \"marker\": {\"color\": \"rgba(50, 171, 96, 1.0)\"}, \"name\": \"C\", \"orientation\": \"v\", \"type\": \"box\", \"y\": [-1.4477574354068719, -1.7233603802500193, -0.5984209737367858, -0.9368878988604648, 0.9062137919129141, 0.22218284063825272, -2.0417255109737233, -0.2192180825379543, -0.08977230829964371, 1.667983087259697, -0.6361232272678549, -0.5860975409862929, 0.1899516089475176, -0.41979431650782745, 1.2428414520921423, -0.2624917131211503, 0.3034895475375121, 1.4413260459453492, 1.5458349135615945, 0.29655048031503173, 0.17181835748016983, -0.9122902524233049, -1.063669154205758, -0.23710133901362845, 1.3235361574408435, -0.7442166856797351, -0.49932902949870567, 0.7516538398106425, 2.5335247809440373, -0.7026777614846776, -0.8661315259679787, -0.13730753923982933, -0.3160815480385251, 0.7913286350849541, 2.112259129393216, 0.31603244474945724, -0.03141008988740155, -1.227947470679876, -1.5922070078566708, 0.258079605470208, 0.5734548906839825, -0.2777691520070106, -2.0354165726202575, -2.2345736103617595, -0.15622144128515786, 1.2083026639636036, 1.2256193565727835, 0.049295690575631004, 0.5092101544016114, 0.9775815228802811, 1.150036646824441, 0.2427331726119301, 0.7018585458297713, 0.732694391555163, 1.0644900888894022, 0.8315305269862964, -1.754350659340919, -0.2724761793017612, 0.41936827397426607, 1.488958602064352, -0.779811103736643, -1.564613442648919, -0.18058918832219908, -0.3454475471400498, 0.2932407621783206, -0.8883345583387618, 1.2803820941214752, 3.205785592932629, 1.8009102095110534, 0.9211060791736984, -0.448853493322849, -0.30200826157711547, 0.05697546612366482, -0.1842056973960395, -0.005830410081542872, 0.8529016609253436, -2.2854142392312577, -2.8899863616129533, 0.10967642834710191, -0.31556490283645544, -0.14060335448399772, 0.00715388715644203, 0.444112110003291, -0.21291671360061734, -0.4848274315056886, 0.07510834804429713, -0.4938610656153614, 0.8054222336185921, -2.01084235917396, 0.932196710820158, 0.858071989954808, 0.7413215971758675, 1.279871334620964, 0.46753806794382813, -1.2283945793518722, -0.34186980808400164, 0.3202804776455798, 1.2853035794578231, -0.49864831201596227, -0.8287276526398878]}, {\"boxpoints\": false, \"line\": {\"width\": 1.3}, \"marker\": {\"color\": \"rgba(128, 0, 128, 1.0)\"}, \"name\": \"D\", \"orientation\": \"v\", \"type\": \"box\", \"y\": [2.108994929011714, 0.8070872510433912, -0.7313397784295909, -2.4871211713878845, 0.6166019837528329, -0.7709434173700418, 0.34022723723610104, 2.03308030133366, 0.8624422655356735, -1.2520793644506358, -1.9346072174076763, 1.5590334411151778, 1.6555260446539306, 0.14039508117071453, 0.2896344524423826, 0.5620616204620713, 1.2053296393984896, -1.6175600629176843, 0.9747523003019611, -0.40326199832007914, -0.16071152817746634, -1.0392069937373853, 0.3736020221377302, 0.18868892052250075, -0.4068412982404847, -1.346360707191344, -1.7931604365949598, -0.36866050549532625, -1.5559014093663743, -1.739555082436128, -0.07744503840508507, -0.5200851366375174, 0.281154567705927, 0.8114895426827806, 0.7589999595497369, -1.5120990813712023, -1.0335769009586557, -0.4748527754663108, -0.662163238015597, 0.6916725317574091, 0.6273055535953047, -0.43960931874352555, 0.3967362982610203, 1.0117535992710582, 0.1853478337348335, 0.1014659949645751, -0.33302216273433144, -1.5423758085147905, 0.4732686199257994, -0.07414017702040748, -0.12836375120161939, 0.4153942511385534, 1.2077618908493983, 0.8783725934187534, -0.27061938365128807, -0.015927179289710016, 1.7582576123063614, -0.20578031081416243, -0.6217994069496171, 0.12363253644683327, 0.12043252736150575, 0.678630403243001, 1.2758256172016158, 0.6837832904610815, 0.6290402086439506, 1.3801060320616845, 1.1617994743312978, 1.644530337237929, 2.4429426851046268, -0.44837888593539693, -0.6558008128147459, -0.3962931649023302, 0.004621824175672183, 1.513839370916935, -0.127346979100021, 0.22549985157638552, -1.5945567981818194, 2.1362857325729148, 1.006956771801912, -0.5866436528150469, -1.644721660746748, 0.8309674517870819, 0.11321242291815385, -1.13514916705063, -1.5660367502233106, 0.4236452451300459, -0.200346806825276, 0.3834293304643709, 0.07289243563392446, 0.05275983812000614, -1.3897358640759143, -0.5430383166286531, 0.270047889373564, 0.2921479890529208, 0.11862501134259394, 1.3223808127638017, 2.1055272738203996, 0.9595698564777835, -0.159135395643192, 0.6674658068888306]}],                        {\"legend\": {\"bgcolor\": \"#F5F6F9\", \"font\": {\"color\": \"#4D5663\"}}, \"paper_bgcolor\": \"#F5F6F9\", \"plot_bgcolor\": \"#F5F6F9\", \"template\": {\"data\": {\"bar\": [{\"error_x\": {\"color\": \"#2a3f5f\"}, \"error_y\": {\"color\": \"#2a3f5f\"}, \"marker\": {\"line\": {\"color\": \"#E5ECF6\", \"width\": 0.5}}, \"type\": \"bar\"}], \"barpolar\": [{\"marker\": {\"line\": {\"color\": \"#E5ECF6\", \"width\": 0.5}}, \"type\": \"barpolar\"}], \"carpet\": [{\"aaxis\": {\"endlinecolor\": \"#2a3f5f\", \"gridcolor\": \"white\", \"linecolor\": \"white\", \"minorgridcolor\": \"white\", \"startlinecolor\": \"#2a3f5f\"}, \"baxis\": {\"endlinecolor\": \"#2a3f5f\", \"gridcolor\": \"white\", \"linecolor\": \"white\", \"minorgridcolor\": \"white\", \"startlinecolor\": \"#2a3f5f\"}, \"type\": \"carpet\"}], \"choropleth\": [{\"colorbar\": {\"outlinewidth\": 0, \"ticks\": \"\"}, \"type\": \"choropleth\"}], \"contour\": [{\"colorbar\": {\"outlinewidth\": 0, \"ticks\": \"\"}, \"colorscale\": [[0.0, \"#0d0887\"], [0.1111111111111111, \"#46039f\"], [0.2222222222222222, \"#7201a8\"], [0.3333333333333333, \"#9c179e\"], [0.4444444444444444, \"#bd3786\"], [0.5555555555555556, \"#d8576b\"], [0.6666666666666666, \"#ed7953\"], [0.7777777777777778, \"#fb9f3a\"], [0.8888888888888888, \"#fdca26\"], [1.0, \"#f0f921\"]], \"type\": \"contour\"}], \"contourcarpet\": [{\"colorbar\": {\"outlinewidth\": 0, \"ticks\": \"\"}, \"type\": \"contourcarpet\"}], \"heatmap\": [{\"colorbar\": {\"outlinewidth\": 0, \"ticks\": \"\"}, \"colorscale\": [[0.0, \"#0d0887\"], [0.1111111111111111, \"#46039f\"], [0.2222222222222222, \"#7201a8\"], [0.3333333333333333, \"#9c179e\"], [0.4444444444444444, \"#bd3786\"], [0.5555555555555556, \"#d8576b\"], [0.6666666666666666, \"#ed7953\"], [0.7777777777777778, \"#fb9f3a\"], [0.8888888888888888, \"#fdca26\"], [1.0, \"#f0f921\"]], \"type\": \"heatmap\"}], \"heatmapgl\": [{\"colorbar\": {\"outlinewidth\": 0, \"ticks\": \"\"}, \"colorscale\": [[0.0, \"#0d0887\"], [0.1111111111111111, \"#46039f\"], [0.2222222222222222, \"#7201a8\"], [0.3333333333333333, \"#9c179e\"], [0.4444444444444444, \"#bd3786\"], [0.5555555555555556, \"#d8576b\"], [0.6666666666666666, \"#ed7953\"], [0.7777777777777778, \"#fb9f3a\"], [0.8888888888888888, \"#fdca26\"], [1.0, \"#f0f921\"]], \"type\": \"heatmapgl\"}], \"histogram\": [{\"marker\": {\"colorbar\": {\"outlinewidth\": 0, \"ticks\": \"\"}}, \"type\": \"histogram\"}], \"histogram2d\": [{\"colorbar\": {\"outlinewidth\": 0, \"ticks\": \"\"}, \"colorscale\": [[0.0, \"#0d0887\"], [0.1111111111111111, \"#46039f\"], [0.2222222222222222, \"#7201a8\"], [0.3333333333333333, \"#9c179e\"], [0.4444444444444444, \"#bd3786\"], [0.5555555555555556, \"#d8576b\"], [0.6666666666666666, \"#ed7953\"], [0.7777777777777778, \"#fb9f3a\"], [0.8888888888888888, \"#fdca26\"], [1.0, \"#f0f921\"]], \"type\": \"histogram2d\"}], \"histogram2dcontour\": [{\"colorbar\": {\"outlinewidth\": 0, \"ticks\": \"\"}, \"colorscale\": [[0.0, \"#0d0887\"], [0.1111111111111111, \"#46039f\"], [0.2222222222222222, \"#7201a8\"], [0.3333333333333333, \"#9c179e\"], [0.4444444444444444, \"#bd3786\"], [0.5555555555555556, \"#d8576b\"], [0.6666666666666666, \"#ed7953\"], [0.7777777777777778, \"#fb9f3a\"], [0.8888888888888888, \"#fdca26\"], [1.0, \"#f0f921\"]], \"type\": \"histogram2dcontour\"}], \"mesh3d\": [{\"colorbar\": {\"outlinewidth\": 0, \"ticks\": \"\"}, \"type\": \"mesh3d\"}], \"parcoords\": [{\"line\": {\"colorbar\": {\"outlinewidth\": 0, \"ticks\": \"\"}}, \"type\": \"parcoords\"}], \"pie\": [{\"automargin\": true, \"type\": \"pie\"}], \"scatter\": [{\"marker\": {\"colorbar\": {\"outlinewidth\": 0, \"ticks\": \"\"}}, \"type\": \"scatter\"}], \"scatter3d\": [{\"line\": {\"colorbar\": {\"outlinewidth\": 0, \"ticks\": \"\"}}, \"marker\": {\"colorbar\": {\"outlinewidth\": 0, \"ticks\": \"\"}}, \"type\": \"scatter3d\"}], \"scattercarpet\": [{\"marker\": {\"colorbar\": {\"outlinewidth\": 0, \"ticks\": \"\"}}, \"type\": \"scattercarpet\"}], \"scattergeo\": [{\"marker\": {\"colorbar\": {\"outlinewidth\": 0, \"ticks\": \"\"}}, \"type\": \"scattergeo\"}], \"scattergl\": [{\"marker\": {\"colorbar\": {\"outlinewidth\": 0, \"ticks\": \"\"}}, \"type\": \"scattergl\"}], \"scattermapbox\": [{\"marker\": {\"colorbar\": {\"outlinewidth\": 0, \"ticks\": \"\"}}, \"type\": \"scattermapbox\"}], \"scatterpolar\": [{\"marker\": {\"colorbar\": {\"outlinewidth\": 0, \"ticks\": \"\"}}, \"type\": \"scatterpolar\"}], \"scatterpolargl\": [{\"marker\": {\"colorbar\": {\"outlinewidth\": 0, \"ticks\": \"\"}}, \"type\": \"scatterpolargl\"}], \"scatterternary\": [{\"marker\": {\"colorbar\": {\"outlinewidth\": 0, \"ticks\": \"\"}}, \"type\": \"scatterternary\"}], \"surface\": [{\"colorbar\": {\"outlinewidth\": 0, \"ticks\": \"\"}, \"colorscale\": [[0.0, \"#0d0887\"], [0.1111111111111111, \"#46039f\"], [0.2222222222222222, \"#7201a8\"], [0.3333333333333333, \"#9c179e\"], [0.4444444444444444, \"#bd3786\"], [0.5555555555555556, \"#d8576b\"], [0.6666666666666666, \"#ed7953\"], [0.7777777777777778, \"#fb9f3a\"], [0.8888888888888888, \"#fdca26\"], [1.0, \"#f0f921\"]], \"type\": \"surface\"}], \"table\": [{\"cells\": {\"fill\": {\"color\": \"#EBF0F8\"}, \"line\": {\"color\": \"white\"}}, \"header\": {\"fill\": {\"color\": \"#C8D4E3\"}, \"line\": {\"color\": \"white\"}}, \"type\": \"table\"}]}, \"layout\": {\"annotationdefaults\": {\"arrowcolor\": \"#2a3f5f\", \"arrowhead\": 0, \"arrowwidth\": 1}, \"coloraxis\": {\"colorbar\": {\"outlinewidth\": 0, \"ticks\": \"\"}}, \"colorscale\": {\"diverging\": [[0, \"#8e0152\"], [0.1, \"#c51b7d\"], [0.2, \"#de77ae\"], [0.3, \"#f1b6da\"], [0.4, \"#fde0ef\"], [0.5, \"#f7f7f7\"], [0.6, \"#e6f5d0\"], [0.7, \"#b8e186\"], [0.8, \"#7fbc41\"], [0.9, \"#4d9221\"], [1, \"#276419\"]], \"sequential\": [[0.0, \"#0d0887\"], [0.1111111111111111, \"#46039f\"], [0.2222222222222222, \"#7201a8\"], [0.3333333333333333, \"#9c179e\"], [0.4444444444444444, \"#bd3786\"], [0.5555555555555556, \"#d8576b\"], [0.6666666666666666, \"#ed7953\"], [0.7777777777777778, \"#fb9f3a\"], [0.8888888888888888, \"#fdca26\"], [1.0, \"#f0f921\"]], \"sequentialminus\": [[0.0, \"#0d0887\"], [0.1111111111111111, \"#46039f\"], [0.2222222222222222, \"#7201a8\"], [0.3333333333333333, \"#9c179e\"], [0.4444444444444444, \"#bd3786\"], [0.5555555555555556, \"#d8576b\"], [0.6666666666666666, \"#ed7953\"], [0.7777777777777778, \"#fb9f3a\"], [0.8888888888888888, \"#fdca26\"], [1.0, \"#f0f921\"]]}, \"colorway\": [\"#636efa\", \"#EF553B\", \"#00cc96\", \"#ab63fa\", \"#FFA15A\", \"#19d3f3\", \"#FF6692\", \"#B6E880\", \"#FF97FF\", \"#FECB52\"], \"font\": {\"color\": \"#2a3f5f\"}, \"geo\": {\"bgcolor\": \"white\", \"lakecolor\": \"white\", \"landcolor\": \"#E5ECF6\", \"showlakes\": true, \"showland\": true, \"subunitcolor\": \"white\"}, \"hoverlabel\": {\"align\": \"left\"}, \"hovermode\": \"closest\", \"mapbox\": {\"style\": \"light\"}, \"paper_bgcolor\": \"white\", \"plot_bgcolor\": \"#E5ECF6\", \"polar\": {\"angularaxis\": {\"gridcolor\": \"white\", \"linecolor\": \"white\", \"ticks\": \"\"}, \"bgcolor\": \"#E5ECF6\", \"radialaxis\": {\"gridcolor\": \"white\", \"linecolor\": \"white\", \"ticks\": \"\"}}, \"scene\": {\"xaxis\": {\"backgroundcolor\": \"#E5ECF6\", \"gridcolor\": \"white\", \"gridwidth\": 2, \"linecolor\": \"white\", \"showbackground\": true, \"ticks\": \"\", \"zerolinecolor\": \"white\"}, \"yaxis\": {\"backgroundcolor\": \"#E5ECF6\", \"gridcolor\": \"white\", \"gridwidth\": 2, \"linecolor\": \"white\", \"showbackground\": true, \"ticks\": \"\", \"zerolinecolor\": \"white\"}, \"zaxis\": {\"backgroundcolor\": \"#E5ECF6\", \"gridcolor\": \"white\", \"gridwidth\": 2, \"linecolor\": \"white\", \"showbackground\": true, \"ticks\": \"\", \"zerolinecolor\": \"white\"}}, \"shapedefaults\": {\"line\": {\"color\": \"#2a3f5f\"}}, \"ternary\": {\"aaxis\": {\"gridcolor\": \"white\", \"linecolor\": \"white\", \"ticks\": \"\"}, \"baxis\": {\"gridcolor\": \"white\", \"linecolor\": \"white\", \"ticks\": \"\"}, \"bgcolor\": \"#E5ECF6\", \"caxis\": {\"gridcolor\": \"white\", \"linecolor\": \"white\", \"ticks\": \"\"}}, \"title\": {\"x\": 0.05}, \"xaxis\": {\"automargin\": true, \"gridcolor\": \"white\", \"linecolor\": \"white\", \"ticks\": \"\", \"title\": {\"standoff\": 15}, \"zerolinecolor\": \"white\", \"zerolinewidth\": 2}, \"yaxis\": {\"automargin\": true, \"gridcolor\": \"white\", \"linecolor\": \"white\", \"ticks\": \"\", \"title\": {\"standoff\": 15}, \"zerolinecolor\": \"white\", \"zerolinewidth\": 2}}}, \"title\": {\"font\": {\"color\": \"#4D5663\"}}, \"xaxis\": {\"gridcolor\": \"#E1E5ED\", \"showgrid\": true, \"tickfont\": {\"color\": \"#4D5663\"}, \"title\": {\"font\": {\"color\": \"#4D5663\"}, \"text\": \"\"}, \"zerolinecolor\": \"#E1E5ED\"}, \"yaxis\": {\"gridcolor\": \"#E1E5ED\", \"showgrid\": true, \"tickfont\": {\"color\": \"#4D5663\"}, \"title\": {\"font\": {\"color\": \"#4D5663\"}, \"text\": \"\"}, \"zerolinecolor\": \"#E1E5ED\"}},                        {\"showLink\": true, \"linkText\": \"Export to plot.ly\", \"plotlyServerURL\": \"https://plot.ly\", \"responsive\": true}                    ).then(function(){\n",
       "                            \n",
       "var gd = document.getElementById('a0603d52-fef3-474e-baf7-da0330b5b4c9');\n",
       "var x = new MutationObserver(function (mutations, observer) {{\n",
       "        var display = window.getComputedStyle(gd).display;\n",
       "        if (!display || display === 'none') {{\n",
       "            console.log([gd, 'removed!']);\n",
       "            Plotly.purge(gd);\n",
       "            observer.disconnect();\n",
       "        }}\n",
       "}});\n",
       "\n",
       "// Listen for the removal of the full notebook cells\n",
       "var notebookContainer = gd.closest('#notebook-container');\n",
       "if (notebookContainer) {{\n",
       "    x.observe(notebookContainer, {childList: true});\n",
       "}}\n",
       "\n",
       "// Listen for the clearing of the current output cell\n",
       "var outputEl = gd.closest('.output');\n",
       "if (outputEl) {{\n",
       "    x.observe(outputEl, {childList: true});\n",
       "}}\n",
       "\n",
       "                        })                };                });            </script>        </div>"
      ]
     },
     "metadata": {},
     "output_type": "display_data"
    }
   ],
   "source": [
    "df.iplot(kind='box')"
   ]
  },
  {
   "cell_type": "markdown",
   "metadata": {},
   "source": [
    "### 3D Surface"
   ]
  },
  {
   "cell_type": "code",
   "execution_count": 19,
   "metadata": {},
   "outputs": [
    {
     "data": {
      "application/vnd.plotly.v1+json": {
       "config": {
        "linkText": "Export to plot.ly",
        "plotlyServerURL": "https://plot.ly",
        "showLink": true
       },
       "data": [
        {
         "colorscale": [
          [
           0,
           "rgb(165,0,38)"
          ],
          [
           0.1,
           "rgb(215,48,39)"
          ],
          [
           0.2,
           "rgb(244,109,67)"
          ],
          [
           0.3,
           "rgb(253,174,97)"
          ],
          [
           0.4,
           "rgb(254,224,144)"
          ],
          [
           0.5,
           "rgb(255,255,191)"
          ],
          [
           0.6,
           "rgb(224,243,248)"
          ],
          [
           0.7,
           "rgb(171,217,233)"
          ],
          [
           0.8,
           "rgb(116,173,209)"
          ],
          [
           0.9,
           "rgb(69,117,180)"
          ],
          [
           1,
           "rgb(49,54,149)"
          ]
         ],
         "type": "surface",
         "x": [
          0,
          1,
          2,
          3,
          4,
          5,
          6,
          7,
          8,
          9,
          10,
          11,
          12,
          13,
          14,
          15,
          16,
          17,
          18,
          19,
          20,
          21,
          22,
          23,
          24,
          25,
          26,
          27,
          28,
          29,
          30,
          31,
          32,
          33,
          34,
          35,
          36,
          37,
          38,
          39,
          40,
          41,
          42,
          43,
          44,
          45,
          46,
          47,
          48,
          49,
          50,
          51,
          52,
          53,
          54,
          55,
          56,
          57,
          58,
          59,
          60,
          61,
          62,
          63,
          64,
          65,
          66,
          67,
          68,
          69,
          70,
          71,
          72,
          73,
          74,
          75,
          76,
          77,
          78,
          79,
          80,
          81,
          82,
          83,
          84,
          85,
          86,
          87,
          88,
          89,
          90,
          91,
          92,
          93,
          94,
          95,
          96,
          97,
          98,
          99
         ],
         "y": [
          "A",
          "B",
          "C",
          "D"
         ],
         "z": [
          [
           0.644944253392509,
           -1.243348684605454,
           -0.4992529425467864,
           2.4951536973358257,
           0.7181532996966965,
           -1.9317140313919021,
           0.11474960965809082,
           -0.1261498964710348,
           -0.5103316332599934,
           -0.8276136470561897,
           -0.2507444797257825,
           -1.3418672073315923,
           0.21175779852862386,
           0.5295284425743242,
           0.8363177959309905,
           0.415861941348495,
           0.871861955304613,
           0.6681642022568207,
           0.6353210567494172,
           -0.8890269089553131,
           -0.5757625912203307,
           0.0473418279138021,
           0.45893720365546087,
           0.20533206162680312,
           0.5342187570105031,
           -0.9577761045178981,
           0.6215579004212394,
           0.3008634269643,
           0.33739228720858727,
           1.5605524266487771,
           1.1653258116847005,
           2.293244270264029,
           -0.7047214962226932,
           0.3962295958236032,
           -0.6537064556460913,
           -0.4985449582239225,
           2.27944819476583,
           0.8499011425816464,
           -0.4860147282091424,
           -0.6444140483491969,
           2.214686187010531,
           0.3838743222004633,
           -0.5539655478660834,
           -0.9901617877531294,
           -2.312706735663867,
           -0.23252768398780077,
           -1.540241546640356,
           1.1808907417329335,
           1.0871707946424356,
           -0.15996342914122272,
           0.022131419531764927,
           0.5380254693737466,
           -0.9069222602195819,
           0.9098672320142027,
           0.39275474249035136,
           0.2515091490652439,
           0.033273504199668645,
           -0.4062481423769172,
           -0.22266747097199469,
           -0.021543501070881897,
           1.1414511969408576,
           -0.882928566564055,
           -0.2269953805998093,
           -1.1414555129144652,
           -0.19982816122859687,
           0.008667300544806618,
           0.98104895613813,
           0.7000475963198131,
           -0.9875553180644235,
           0.2802041042103516,
           -0.27841473507495756,
           -0.28720943739101973,
           -0.3417889952846551,
           0.5204878045371218,
           -0.434114511660545,
           -0.2063332906543763,
           -0.03675127761476961,
           1.1901664803851735,
           0.01200015667771501,
           0.8272860394456298,
           0.05409598408964082,
           -1.270582395308957,
           -1.5555290581226502,
           -0.7117188145510055,
           -0.5312698504250206,
           -1.5695714005160748,
           -0.2290634746353095,
           -1.2991596300694486,
           0.12650435754258949,
           0.5109620491249028,
           -1.526578864329696,
           0.4182122881950908,
           1.4562508551129445,
           1.4324202800329318,
           -0.14732020963007963,
           -0.8109983196533064,
           0.5811563853217354,
           1.2867440891345567,
           -0.6972600913213484,
           1.296152728893862
          ],
          [
           -0.08013390570656855,
           0.02269628397142565,
           2.0327051595328567,
           -0.7181989100120357,
           1.662173623528374,
           -1.8065217941063234,
           1.2110119232992642,
           0.964951897071669,
           -0.85475257177362,
           -0.8248953729479542,
           -1.5826159940641324,
           -0.31771649747982844,
           0.4695556889421146,
           1.1126965404646199,
           0.47540997865652285,
           1.5046965559370773,
           0.25150127187187826,
           0.7342936672975972,
           0.5573821763407487,
           1.6335921713759398,
           0.28423026188458866,
           -0.3513447045334481,
           0.7216116547879913,
           -2.0192256386128222,
           -0.6603785846807382,
           0.6075414069350706,
           -1.3040106662584956,
           -0.13444623772025147,
           1.4643238329452812,
           0.8287147546248804,
           0.5806777413326851,
           0.9303244942852352,
           0.7259757585380316,
           -0.06322536505460559,
           1.2453254912014053,
           0.6080354966321703,
           0.006735045164522672,
           1.6427954888944556,
           -0.5032316059134918,
           -0.8783406051015079,
           0.8369992548650931,
           -0.15452153692557458,
           0.4495271766918472,
           -0.851990999026497,
           -1.10351719090533,
           0.09538065137446597,
           -1.4065321722524897,
           -0.6884313359013833,
           -1.8692741176830965,
           0.7535226372890009,
           1.7893533378361597,
           -0.7663252274224117,
           1.8026469873249986,
           0.04966144641495865,
           -2.827664478329827,
           -0.12053078024314415,
           -0.8406444888833142,
           1.1436342481148736,
           -0.6438301792589787,
           -0.15968908610736374,
           -0.03930255640966198,
           -0.7994520589749605,
           -1.1940497177919867,
           0.10867677592993708,
           -1.3726391157855171,
           -0.1326855930801497,
           -0.5587655308484875,
           -0.7436168413473584,
           -1.6228530763718965,
           0.06949574404363028,
           0.6809559377259978,
           -0.31448231912903674,
           -0.3316012072631598,
           -0.5847889225916768,
           -1.6805967750833015,
           -0.3665019767365411,
           2.008727649743859,
           -0.24327605882879857,
           -0.359785106683067,
           -0.8924991334740093,
           0.12697324601980906,
           0.5531647475745822,
           -1.0258680943681446,
           0.8539067657069088,
           -0.7889592814582247,
           -1.2162060159782722,
           -1.0133611160795266,
           -0.5733977596069428,
           2.0491826184025244,
           -1.0876329251377972,
           -0.07220169619981867,
           -0.5633866328881607,
           -1.2044256319043143,
           0.5572001026112121,
           -0.5831545677877031,
           -1.428781267332909,
           -0.45228906215591375,
           0.156452198379921,
           -0.44290164114833663,
           -0.4004290542117399
          ],
          [
           -1.4477574354068719,
           -1.7233603802500193,
           -0.5984209737367858,
           -0.9368878988604648,
           0.9062137919129141,
           0.22218284063825272,
           -2.0417255109737233,
           -0.2192180825379543,
           -0.08977230829964371,
           1.667983087259697,
           -0.6361232272678549,
           -0.5860975409862929,
           0.1899516089475176,
           -0.41979431650782745,
           1.2428414520921423,
           -0.2624917131211503,
           0.3034895475375121,
           1.4413260459453492,
           1.5458349135615945,
           0.29655048031503173,
           0.17181835748016983,
           -0.9122902524233049,
           -1.063669154205758,
           -0.23710133901362845,
           1.3235361574408435,
           -0.7442166856797351,
           -0.49932902949870567,
           0.7516538398106425,
           2.5335247809440373,
           -0.7026777614846776,
           -0.8661315259679787,
           -0.13730753923982933,
           -0.3160815480385251,
           0.7913286350849541,
           2.112259129393216,
           0.31603244474945724,
           -0.03141008988740155,
           -1.227947470679876,
           -1.5922070078566708,
           0.258079605470208,
           0.5734548906839825,
           -0.2777691520070106,
           -2.0354165726202575,
           -2.2345736103617595,
           -0.15622144128515786,
           1.2083026639636036,
           1.2256193565727835,
           0.049295690575631004,
           0.5092101544016114,
           0.9775815228802811,
           1.150036646824441,
           0.2427331726119301,
           0.7018585458297713,
           0.732694391555163,
           1.0644900888894022,
           0.8315305269862964,
           -1.754350659340919,
           -0.2724761793017612,
           0.41936827397426607,
           1.488958602064352,
           -0.779811103736643,
           -1.564613442648919,
           -0.18058918832219908,
           -0.3454475471400498,
           0.2932407621783206,
           -0.8883345583387618,
           1.2803820941214752,
           3.205785592932629,
           1.8009102095110534,
           0.9211060791736984,
           -0.448853493322849,
           -0.30200826157711547,
           0.05697546612366482,
           -0.1842056973960395,
           -0.005830410081542872,
           0.8529016609253436,
           -2.2854142392312577,
           -2.8899863616129533,
           0.10967642834710191,
           -0.31556490283645544,
           -0.14060335448399772,
           0.00715388715644203,
           0.444112110003291,
           -0.21291671360061734,
           -0.4848274315056886,
           0.07510834804429713,
           -0.4938610656153614,
           0.8054222336185921,
           -2.01084235917396,
           0.932196710820158,
           0.858071989954808,
           0.7413215971758675,
           1.279871334620964,
           0.46753806794382813,
           -1.2283945793518722,
           -0.34186980808400164,
           0.3202804776455798,
           1.2853035794578231,
           -0.49864831201596227,
           -0.8287276526398878
          ],
          [
           2.108994929011714,
           0.8070872510433912,
           -0.7313397784295909,
           -2.4871211713878845,
           0.6166019837528329,
           -0.7709434173700418,
           0.34022723723610104,
           2.03308030133366,
           0.8624422655356735,
           -1.2520793644506358,
           -1.9346072174076763,
           1.5590334411151778,
           1.6555260446539306,
           0.14039508117071453,
           0.2896344524423826,
           0.5620616204620713,
           1.2053296393984896,
           -1.6175600629176843,
           0.9747523003019611,
           -0.40326199832007914,
           -0.16071152817746634,
           -1.0392069937373853,
           0.3736020221377302,
           0.18868892052250075,
           -0.4068412982404847,
           -1.346360707191344,
           -1.7931604365949598,
           -0.36866050549532625,
           -1.5559014093663743,
           -1.739555082436128,
           -0.07744503840508507,
           -0.5200851366375174,
           0.281154567705927,
           0.8114895426827806,
           0.7589999595497369,
           -1.5120990813712023,
           -1.0335769009586557,
           -0.4748527754663108,
           -0.662163238015597,
           0.6916725317574091,
           0.6273055535953047,
           -0.43960931874352555,
           0.3967362982610203,
           1.0117535992710582,
           0.1853478337348335,
           0.1014659949645751,
           -0.33302216273433144,
           -1.5423758085147905,
           0.4732686199257994,
           -0.07414017702040748,
           -0.12836375120161939,
           0.4153942511385534,
           1.2077618908493983,
           0.8783725934187534,
           -0.27061938365128807,
           -0.015927179289710016,
           1.7582576123063614,
           -0.20578031081416243,
           -0.6217994069496171,
           0.12363253644683327,
           0.12043252736150575,
           0.678630403243001,
           1.2758256172016158,
           0.6837832904610815,
           0.6290402086439506,
           1.3801060320616845,
           1.1617994743312978,
           1.644530337237929,
           2.4429426851046268,
           -0.44837888593539693,
           -0.6558008128147459,
           -0.3962931649023302,
           0.004621824175672183,
           1.513839370916935,
           -0.127346979100021,
           0.22549985157638552,
           -1.5945567981818194,
           2.1362857325729148,
           1.006956771801912,
           -0.5866436528150469,
           -1.644721660746748,
           0.8309674517870819,
           0.11321242291815385,
           -1.13514916705063,
           -1.5660367502233106,
           0.4236452451300459,
           -0.200346806825276,
           0.3834293304643709,
           0.07289243563392446,
           0.05275983812000614,
           -1.3897358640759143,
           -0.5430383166286531,
           0.270047889373564,
           0.2921479890529208,
           0.11862501134259394,
           1.3223808127638017,
           2.1055272738203996,
           0.9595698564777835,
           -0.159135395643192,
           0.6674658068888306
          ]
         ]
        }
       ],
       "layout": {
        "legend": {
         "bgcolor": "#F5F6F9",
         "font": {
          "color": "#4D5663"
         }
        },
        "paper_bgcolor": "#F5F6F9",
        "plot_bgcolor": "#F5F6F9",
        "template": {
         "data": {
          "bar": [
           {
            "error_x": {
             "color": "#2a3f5f"
            },
            "error_y": {
             "color": "#2a3f5f"
            },
            "marker": {
             "line": {
              "color": "#E5ECF6",
              "width": 0.5
             }
            },
            "type": "bar"
           }
          ],
          "barpolar": [
           {
            "marker": {
             "line": {
              "color": "#E5ECF6",
              "width": 0.5
             }
            },
            "type": "barpolar"
           }
          ],
          "carpet": [
           {
            "aaxis": {
             "endlinecolor": "#2a3f5f",
             "gridcolor": "white",
             "linecolor": "white",
             "minorgridcolor": "white",
             "startlinecolor": "#2a3f5f"
            },
            "baxis": {
             "endlinecolor": "#2a3f5f",
             "gridcolor": "white",
             "linecolor": "white",
             "minorgridcolor": "white",
             "startlinecolor": "#2a3f5f"
            },
            "type": "carpet"
           }
          ],
          "choropleth": [
           {
            "colorbar": {
             "outlinewidth": 0,
             "ticks": ""
            },
            "type": "choropleth"
           }
          ],
          "contour": [
           {
            "colorbar": {
             "outlinewidth": 0,
             "ticks": ""
            },
            "colorscale": [
             [
              0,
              "#0d0887"
             ],
             [
              0.1111111111111111,
              "#46039f"
             ],
             [
              0.2222222222222222,
              "#7201a8"
             ],
             [
              0.3333333333333333,
              "#9c179e"
             ],
             [
              0.4444444444444444,
              "#bd3786"
             ],
             [
              0.5555555555555556,
              "#d8576b"
             ],
             [
              0.6666666666666666,
              "#ed7953"
             ],
             [
              0.7777777777777778,
              "#fb9f3a"
             ],
             [
              0.8888888888888888,
              "#fdca26"
             ],
             [
              1,
              "#f0f921"
             ]
            ],
            "type": "contour"
           }
          ],
          "contourcarpet": [
           {
            "colorbar": {
             "outlinewidth": 0,
             "ticks": ""
            },
            "type": "contourcarpet"
           }
          ],
          "heatmap": [
           {
            "colorbar": {
             "outlinewidth": 0,
             "ticks": ""
            },
            "colorscale": [
             [
              0,
              "#0d0887"
             ],
             [
              0.1111111111111111,
              "#46039f"
             ],
             [
              0.2222222222222222,
              "#7201a8"
             ],
             [
              0.3333333333333333,
              "#9c179e"
             ],
             [
              0.4444444444444444,
              "#bd3786"
             ],
             [
              0.5555555555555556,
              "#d8576b"
             ],
             [
              0.6666666666666666,
              "#ed7953"
             ],
             [
              0.7777777777777778,
              "#fb9f3a"
             ],
             [
              0.8888888888888888,
              "#fdca26"
             ],
             [
              1,
              "#f0f921"
             ]
            ],
            "type": "heatmap"
           }
          ],
          "heatmapgl": [
           {
            "colorbar": {
             "outlinewidth": 0,
             "ticks": ""
            },
            "colorscale": [
             [
              0,
              "#0d0887"
             ],
             [
              0.1111111111111111,
              "#46039f"
             ],
             [
              0.2222222222222222,
              "#7201a8"
             ],
             [
              0.3333333333333333,
              "#9c179e"
             ],
             [
              0.4444444444444444,
              "#bd3786"
             ],
             [
              0.5555555555555556,
              "#d8576b"
             ],
             [
              0.6666666666666666,
              "#ed7953"
             ],
             [
              0.7777777777777778,
              "#fb9f3a"
             ],
             [
              0.8888888888888888,
              "#fdca26"
             ],
             [
              1,
              "#f0f921"
             ]
            ],
            "type": "heatmapgl"
           }
          ],
          "histogram": [
           {
            "marker": {
             "colorbar": {
              "outlinewidth": 0,
              "ticks": ""
             }
            },
            "type": "histogram"
           }
          ],
          "histogram2d": [
           {
            "colorbar": {
             "outlinewidth": 0,
             "ticks": ""
            },
            "colorscale": [
             [
              0,
              "#0d0887"
             ],
             [
              0.1111111111111111,
              "#46039f"
             ],
             [
              0.2222222222222222,
              "#7201a8"
             ],
             [
              0.3333333333333333,
              "#9c179e"
             ],
             [
              0.4444444444444444,
              "#bd3786"
             ],
             [
              0.5555555555555556,
              "#d8576b"
             ],
             [
              0.6666666666666666,
              "#ed7953"
             ],
             [
              0.7777777777777778,
              "#fb9f3a"
             ],
             [
              0.8888888888888888,
              "#fdca26"
             ],
             [
              1,
              "#f0f921"
             ]
            ],
            "type": "histogram2d"
           }
          ],
          "histogram2dcontour": [
           {
            "colorbar": {
             "outlinewidth": 0,
             "ticks": ""
            },
            "colorscale": [
             [
              0,
              "#0d0887"
             ],
             [
              0.1111111111111111,
              "#46039f"
             ],
             [
              0.2222222222222222,
              "#7201a8"
             ],
             [
              0.3333333333333333,
              "#9c179e"
             ],
             [
              0.4444444444444444,
              "#bd3786"
             ],
             [
              0.5555555555555556,
              "#d8576b"
             ],
             [
              0.6666666666666666,
              "#ed7953"
             ],
             [
              0.7777777777777778,
              "#fb9f3a"
             ],
             [
              0.8888888888888888,
              "#fdca26"
             ],
             [
              1,
              "#f0f921"
             ]
            ],
            "type": "histogram2dcontour"
           }
          ],
          "mesh3d": [
           {
            "colorbar": {
             "outlinewidth": 0,
             "ticks": ""
            },
            "type": "mesh3d"
           }
          ],
          "parcoords": [
           {
            "line": {
             "colorbar": {
              "outlinewidth": 0,
              "ticks": ""
             }
            },
            "type": "parcoords"
           }
          ],
          "pie": [
           {
            "automargin": true,
            "type": "pie"
           }
          ],
          "scatter": [
           {
            "marker": {
             "colorbar": {
              "outlinewidth": 0,
              "ticks": ""
             }
            },
            "type": "scatter"
           }
          ],
          "scatter3d": [
           {
            "line": {
             "colorbar": {
              "outlinewidth": 0,
              "ticks": ""
             }
            },
            "marker": {
             "colorbar": {
              "outlinewidth": 0,
              "ticks": ""
             }
            },
            "type": "scatter3d"
           }
          ],
          "scattercarpet": [
           {
            "marker": {
             "colorbar": {
              "outlinewidth": 0,
              "ticks": ""
             }
            },
            "type": "scattercarpet"
           }
          ],
          "scattergeo": [
           {
            "marker": {
             "colorbar": {
              "outlinewidth": 0,
              "ticks": ""
             }
            },
            "type": "scattergeo"
           }
          ],
          "scattergl": [
           {
            "marker": {
             "colorbar": {
              "outlinewidth": 0,
              "ticks": ""
             }
            },
            "type": "scattergl"
           }
          ],
          "scattermapbox": [
           {
            "marker": {
             "colorbar": {
              "outlinewidth": 0,
              "ticks": ""
             }
            },
            "type": "scattermapbox"
           }
          ],
          "scatterpolar": [
           {
            "marker": {
             "colorbar": {
              "outlinewidth": 0,
              "ticks": ""
             }
            },
            "type": "scatterpolar"
           }
          ],
          "scatterpolargl": [
           {
            "marker": {
             "colorbar": {
              "outlinewidth": 0,
              "ticks": ""
             }
            },
            "type": "scatterpolargl"
           }
          ],
          "scatterternary": [
           {
            "marker": {
             "colorbar": {
              "outlinewidth": 0,
              "ticks": ""
             }
            },
            "type": "scatterternary"
           }
          ],
          "surface": [
           {
            "colorbar": {
             "outlinewidth": 0,
             "ticks": ""
            },
            "colorscale": [
             [
              0,
              "#0d0887"
             ],
             [
              0.1111111111111111,
              "#46039f"
             ],
             [
              0.2222222222222222,
              "#7201a8"
             ],
             [
              0.3333333333333333,
              "#9c179e"
             ],
             [
              0.4444444444444444,
              "#bd3786"
             ],
             [
              0.5555555555555556,
              "#d8576b"
             ],
             [
              0.6666666666666666,
              "#ed7953"
             ],
             [
              0.7777777777777778,
              "#fb9f3a"
             ],
             [
              0.8888888888888888,
              "#fdca26"
             ],
             [
              1,
              "#f0f921"
             ]
            ],
            "type": "surface"
           }
          ],
          "table": [
           {
            "cells": {
             "fill": {
              "color": "#EBF0F8"
             },
             "line": {
              "color": "white"
             }
            },
            "header": {
             "fill": {
              "color": "#C8D4E3"
             },
             "line": {
              "color": "white"
             }
            },
            "type": "table"
           }
          ]
         },
         "layout": {
          "annotationdefaults": {
           "arrowcolor": "#2a3f5f",
           "arrowhead": 0,
           "arrowwidth": 1
          },
          "coloraxis": {
           "colorbar": {
            "outlinewidth": 0,
            "ticks": ""
           }
          },
          "colorscale": {
           "diverging": [
            [
             0,
             "#8e0152"
            ],
            [
             0.1,
             "#c51b7d"
            ],
            [
             0.2,
             "#de77ae"
            ],
            [
             0.3,
             "#f1b6da"
            ],
            [
             0.4,
             "#fde0ef"
            ],
            [
             0.5,
             "#f7f7f7"
            ],
            [
             0.6,
             "#e6f5d0"
            ],
            [
             0.7,
             "#b8e186"
            ],
            [
             0.8,
             "#7fbc41"
            ],
            [
             0.9,
             "#4d9221"
            ],
            [
             1,
             "#276419"
            ]
           ],
           "sequential": [
            [
             0,
             "#0d0887"
            ],
            [
             0.1111111111111111,
             "#46039f"
            ],
            [
             0.2222222222222222,
             "#7201a8"
            ],
            [
             0.3333333333333333,
             "#9c179e"
            ],
            [
             0.4444444444444444,
             "#bd3786"
            ],
            [
             0.5555555555555556,
             "#d8576b"
            ],
            [
             0.6666666666666666,
             "#ed7953"
            ],
            [
             0.7777777777777778,
             "#fb9f3a"
            ],
            [
             0.8888888888888888,
             "#fdca26"
            ],
            [
             1,
             "#f0f921"
            ]
           ],
           "sequentialminus": [
            [
             0,
             "#0d0887"
            ],
            [
             0.1111111111111111,
             "#46039f"
            ],
            [
             0.2222222222222222,
             "#7201a8"
            ],
            [
             0.3333333333333333,
             "#9c179e"
            ],
            [
             0.4444444444444444,
             "#bd3786"
            ],
            [
             0.5555555555555556,
             "#d8576b"
            ],
            [
             0.6666666666666666,
             "#ed7953"
            ],
            [
             0.7777777777777778,
             "#fb9f3a"
            ],
            [
             0.8888888888888888,
             "#fdca26"
            ],
            [
             1,
             "#f0f921"
            ]
           ]
          },
          "colorway": [
           "#636efa",
           "#EF553B",
           "#00cc96",
           "#ab63fa",
           "#FFA15A",
           "#19d3f3",
           "#FF6692",
           "#B6E880",
           "#FF97FF",
           "#FECB52"
          ],
          "font": {
           "color": "#2a3f5f"
          },
          "geo": {
           "bgcolor": "white",
           "lakecolor": "white",
           "landcolor": "#E5ECF6",
           "showlakes": true,
           "showland": true,
           "subunitcolor": "white"
          },
          "hoverlabel": {
           "align": "left"
          },
          "hovermode": "closest",
          "mapbox": {
           "style": "light"
          },
          "paper_bgcolor": "white",
          "plot_bgcolor": "#E5ECF6",
          "polar": {
           "angularaxis": {
            "gridcolor": "white",
            "linecolor": "white",
            "ticks": ""
           },
           "bgcolor": "#E5ECF6",
           "radialaxis": {
            "gridcolor": "white",
            "linecolor": "white",
            "ticks": ""
           }
          },
          "scene": {
           "xaxis": {
            "backgroundcolor": "#E5ECF6",
            "gridcolor": "white",
            "gridwidth": 2,
            "linecolor": "white",
            "showbackground": true,
            "ticks": "",
            "zerolinecolor": "white"
           },
           "yaxis": {
            "backgroundcolor": "#E5ECF6",
            "gridcolor": "white",
            "gridwidth": 2,
            "linecolor": "white",
            "showbackground": true,
            "ticks": "",
            "zerolinecolor": "white"
           },
           "zaxis": {
            "backgroundcolor": "#E5ECF6",
            "gridcolor": "white",
            "gridwidth": 2,
            "linecolor": "white",
            "showbackground": true,
            "ticks": "",
            "zerolinecolor": "white"
           }
          },
          "shapedefaults": {
           "line": {
            "color": "#2a3f5f"
           }
          },
          "ternary": {
           "aaxis": {
            "gridcolor": "white",
            "linecolor": "white",
            "ticks": ""
           },
           "baxis": {
            "gridcolor": "white",
            "linecolor": "white",
            "ticks": ""
           },
           "bgcolor": "#E5ECF6",
           "caxis": {
            "gridcolor": "white",
            "linecolor": "white",
            "ticks": ""
           }
          },
          "title": {
           "x": 0.05
          },
          "xaxis": {
           "automargin": true,
           "gridcolor": "white",
           "linecolor": "white",
           "ticks": "",
           "title": {
            "standoff": 15
           },
           "zerolinecolor": "white",
           "zerolinewidth": 2
          },
          "yaxis": {
           "automargin": true,
           "gridcolor": "white",
           "linecolor": "white",
           "ticks": "",
           "title": {
            "standoff": 15
           },
           "zerolinecolor": "white",
           "zerolinewidth": 2
          }
         }
        },
        "title": {
         "font": {
          "color": "#4D5663"
         }
        },
        "xaxis": {
         "gridcolor": "#E1E5ED",
         "showgrid": true,
         "tickfont": {
          "color": "#4D5663"
         },
         "title": {
          "font": {
           "color": "#4D5663"
          },
          "text": ""
         },
         "zerolinecolor": "#E1E5ED"
        },
        "yaxis": {
         "gridcolor": "#E1E5ED",
         "showgrid": true,
         "tickfont": {
          "color": "#4D5663"
         },
         "title": {
          "font": {
           "color": "#4D5663"
          },
          "text": ""
         },
         "zerolinecolor": "#E1E5ED"
        }
       }
      },
      "text/html": [
       "<div>                            <div id=\"a806995c-13e1-41d6-a7ec-475e65e35786\" class=\"plotly-graph-div\" style=\"height:525px; width:100%;\"></div>            <script type=\"text/javascript\">                require([\"plotly\"], function(Plotly) {                    window.PLOTLYENV=window.PLOTLYENV || {};\n",
       "                    window.PLOTLYENV.BASE_URL='https://plot.ly';                                    if (document.getElementById(\"a806995c-13e1-41d6-a7ec-475e65e35786\")) {                    Plotly.newPlot(                        \"a806995c-13e1-41d6-a7ec-475e65e35786\",                        [{\"colorscale\": [[0.0, \"rgb(165,0,38)\"], [0.1, \"rgb(215,48,39)\"], [0.2, \"rgb(244,109,67)\"], [0.3, \"rgb(253,174,97)\"], [0.4, \"rgb(254,224,144)\"], [0.5, \"rgb(255,255,191)\"], [0.6, \"rgb(224,243,248)\"], [0.7, \"rgb(171,217,233)\"], [0.8, \"rgb(116,173,209)\"], [0.9, \"rgb(69,117,180)\"], [1.0, \"rgb(49,54,149)\"]], \"type\": \"surface\", \"x\": [0, 1, 2, 3, 4, 5, 6, 7, 8, 9, 10, 11, 12, 13, 14, 15, 16, 17, 18, 19, 20, 21, 22, 23, 24, 25, 26, 27, 28, 29, 30, 31, 32, 33, 34, 35, 36, 37, 38, 39, 40, 41, 42, 43, 44, 45, 46, 47, 48, 49, 50, 51, 52, 53, 54, 55, 56, 57, 58, 59, 60, 61, 62, 63, 64, 65, 66, 67, 68, 69, 70, 71, 72, 73, 74, 75, 76, 77, 78, 79, 80, 81, 82, 83, 84, 85, 86, 87, 88, 89, 90, 91, 92, 93, 94, 95, 96, 97, 98, 99], \"y\": [\"A\", \"B\", \"C\", \"D\"], \"z\": [[0.644944253392509, -1.243348684605454, -0.4992529425467864, 2.4951536973358257, 0.7181532996966965, -1.9317140313919021, 0.11474960965809082, -0.1261498964710348, -0.5103316332599934, -0.8276136470561897, -0.2507444797257825, -1.3418672073315923, 0.21175779852862386, 0.5295284425743242, 0.8363177959309905, 0.415861941348495, 0.871861955304613, 0.6681642022568207, 0.6353210567494172, -0.8890269089553131, -0.5757625912203307, 0.0473418279138021, 0.45893720365546087, 0.20533206162680312, 0.5342187570105031, -0.9577761045178981, 0.6215579004212394, 0.3008634269643, 0.33739228720858727, 1.5605524266487771, 1.1653258116847005, 2.293244270264029, -0.7047214962226932, 0.3962295958236032, -0.6537064556460913, -0.4985449582239225, 2.27944819476583, 0.8499011425816464, -0.4860147282091424, -0.6444140483491969, 2.214686187010531, 0.3838743222004633, -0.5539655478660834, -0.9901617877531294, -2.312706735663867, -0.23252768398780077, -1.540241546640356, 1.1808907417329335, 1.0871707946424356, -0.15996342914122272, 0.022131419531764927, 0.5380254693737466, -0.9069222602195819, 0.9098672320142027, 0.39275474249035136, 0.2515091490652439, 0.033273504199668645, -0.4062481423769172, -0.22266747097199469, -0.021543501070881897, 1.1414511969408576, -0.882928566564055, -0.2269953805998093, -1.1414555129144652, -0.19982816122859687, 0.008667300544806618, 0.98104895613813, 0.7000475963198131, -0.9875553180644235, 0.2802041042103516, -0.27841473507495756, -0.28720943739101973, -0.3417889952846551, 0.5204878045371218, -0.434114511660545, -0.2063332906543763, -0.03675127761476961, 1.1901664803851735, 0.01200015667771501, 0.8272860394456298, 0.05409598408964082, -1.270582395308957, -1.5555290581226502, -0.7117188145510055, -0.5312698504250206, -1.5695714005160748, -0.2290634746353095, -1.2991596300694486, 0.12650435754258949, 0.5109620491249028, -1.526578864329696, 0.4182122881950908, 1.4562508551129445, 1.4324202800329318, -0.14732020963007963, -0.8109983196533064, 0.5811563853217354, 1.2867440891345567, -0.6972600913213484, 1.296152728893862], [-0.08013390570656855, 0.02269628397142565, 2.0327051595328567, -0.7181989100120357, 1.662173623528374, -1.8065217941063234, 1.2110119232992642, 0.964951897071669, -0.85475257177362, -0.8248953729479542, -1.5826159940641324, -0.31771649747982844, 0.4695556889421146, 1.1126965404646199, 0.47540997865652285, 1.5046965559370773, 0.25150127187187826, 0.7342936672975972, 0.5573821763407487, 1.6335921713759398, 0.28423026188458866, -0.3513447045334481, 0.7216116547879913, -2.0192256386128222, -0.6603785846807382, 0.6075414069350706, -1.3040106662584956, -0.13444623772025147, 1.4643238329452812, 0.8287147546248804, 0.5806777413326851, 0.9303244942852352, 0.7259757585380316, -0.06322536505460559, 1.2453254912014053, 0.6080354966321703, 0.006735045164522672, 1.6427954888944556, -0.5032316059134918, -0.8783406051015079, 0.8369992548650931, -0.15452153692557458, 0.4495271766918472, -0.851990999026497, -1.10351719090533, 0.09538065137446597, -1.4065321722524897, -0.6884313359013833, -1.8692741176830965, 0.7535226372890009, 1.7893533378361597, -0.7663252274224117, 1.8026469873249986, 0.04966144641495865, -2.827664478329827, -0.12053078024314415, -0.8406444888833142, 1.1436342481148736, -0.6438301792589787, -0.15968908610736374, -0.03930255640966198, -0.7994520589749605, -1.1940497177919867, 0.10867677592993708, -1.3726391157855171, -0.1326855930801497, -0.5587655308484875, -0.7436168413473584, -1.6228530763718965, 0.06949574404363028, 0.6809559377259978, -0.31448231912903674, -0.3316012072631598, -0.5847889225916768, -1.6805967750833015, -0.3665019767365411, 2.008727649743859, -0.24327605882879857, -0.359785106683067, -0.8924991334740093, 0.12697324601980906, 0.5531647475745822, -1.0258680943681446, 0.8539067657069088, -0.7889592814582247, -1.2162060159782722, -1.0133611160795266, -0.5733977596069428, 2.0491826184025244, -1.0876329251377972, -0.07220169619981867, -0.5633866328881607, -1.2044256319043143, 0.5572001026112121, -0.5831545677877031, -1.428781267332909, -0.45228906215591375, 0.156452198379921, -0.44290164114833663, -0.4004290542117399], [-1.4477574354068719, -1.7233603802500193, -0.5984209737367858, -0.9368878988604648, 0.9062137919129141, 0.22218284063825272, -2.0417255109737233, -0.2192180825379543, -0.08977230829964371, 1.667983087259697, -0.6361232272678549, -0.5860975409862929, 0.1899516089475176, -0.41979431650782745, 1.2428414520921423, -0.2624917131211503, 0.3034895475375121, 1.4413260459453492, 1.5458349135615945, 0.29655048031503173, 0.17181835748016983, -0.9122902524233049, -1.063669154205758, -0.23710133901362845, 1.3235361574408435, -0.7442166856797351, -0.49932902949870567, 0.7516538398106425, 2.5335247809440373, -0.7026777614846776, -0.8661315259679787, -0.13730753923982933, -0.3160815480385251, 0.7913286350849541, 2.112259129393216, 0.31603244474945724, -0.03141008988740155, -1.227947470679876, -1.5922070078566708, 0.258079605470208, 0.5734548906839825, -0.2777691520070106, -2.0354165726202575, -2.2345736103617595, -0.15622144128515786, 1.2083026639636036, 1.2256193565727835, 0.049295690575631004, 0.5092101544016114, 0.9775815228802811, 1.150036646824441, 0.2427331726119301, 0.7018585458297713, 0.732694391555163, 1.0644900888894022, 0.8315305269862964, -1.754350659340919, -0.2724761793017612, 0.41936827397426607, 1.488958602064352, -0.779811103736643, -1.564613442648919, -0.18058918832219908, -0.3454475471400498, 0.2932407621783206, -0.8883345583387618, 1.2803820941214752, 3.205785592932629, 1.8009102095110534, 0.9211060791736984, -0.448853493322849, -0.30200826157711547, 0.05697546612366482, -0.1842056973960395, -0.005830410081542872, 0.8529016609253436, -2.2854142392312577, -2.8899863616129533, 0.10967642834710191, -0.31556490283645544, -0.14060335448399772, 0.00715388715644203, 0.444112110003291, -0.21291671360061734, -0.4848274315056886, 0.07510834804429713, -0.4938610656153614, 0.8054222336185921, -2.01084235917396, 0.932196710820158, 0.858071989954808, 0.7413215971758675, 1.279871334620964, 0.46753806794382813, -1.2283945793518722, -0.34186980808400164, 0.3202804776455798, 1.2853035794578231, -0.49864831201596227, -0.8287276526398878], [2.108994929011714, 0.8070872510433912, -0.7313397784295909, -2.4871211713878845, 0.6166019837528329, -0.7709434173700418, 0.34022723723610104, 2.03308030133366, 0.8624422655356735, -1.2520793644506358, -1.9346072174076763, 1.5590334411151778, 1.6555260446539306, 0.14039508117071453, 0.2896344524423826, 0.5620616204620713, 1.2053296393984896, -1.6175600629176843, 0.9747523003019611, -0.40326199832007914, -0.16071152817746634, -1.0392069937373853, 0.3736020221377302, 0.18868892052250075, -0.4068412982404847, -1.346360707191344, -1.7931604365949598, -0.36866050549532625, -1.5559014093663743, -1.739555082436128, -0.07744503840508507, -0.5200851366375174, 0.281154567705927, 0.8114895426827806, 0.7589999595497369, -1.5120990813712023, -1.0335769009586557, -0.4748527754663108, -0.662163238015597, 0.6916725317574091, 0.6273055535953047, -0.43960931874352555, 0.3967362982610203, 1.0117535992710582, 0.1853478337348335, 0.1014659949645751, -0.33302216273433144, -1.5423758085147905, 0.4732686199257994, -0.07414017702040748, -0.12836375120161939, 0.4153942511385534, 1.2077618908493983, 0.8783725934187534, -0.27061938365128807, -0.015927179289710016, 1.7582576123063614, -0.20578031081416243, -0.6217994069496171, 0.12363253644683327, 0.12043252736150575, 0.678630403243001, 1.2758256172016158, 0.6837832904610815, 0.6290402086439506, 1.3801060320616845, 1.1617994743312978, 1.644530337237929, 2.4429426851046268, -0.44837888593539693, -0.6558008128147459, -0.3962931649023302, 0.004621824175672183, 1.513839370916935, -0.127346979100021, 0.22549985157638552, -1.5945567981818194, 2.1362857325729148, 1.006956771801912, -0.5866436528150469, -1.644721660746748, 0.8309674517870819, 0.11321242291815385, -1.13514916705063, -1.5660367502233106, 0.4236452451300459, -0.200346806825276, 0.3834293304643709, 0.07289243563392446, 0.05275983812000614, -1.3897358640759143, -0.5430383166286531, 0.270047889373564, 0.2921479890529208, 0.11862501134259394, 1.3223808127638017, 2.1055272738203996, 0.9595698564777835, -0.159135395643192, 0.6674658068888306]]}],                        {\"legend\": {\"bgcolor\": \"#F5F6F9\", \"font\": {\"color\": \"#4D5663\"}}, \"paper_bgcolor\": \"#F5F6F9\", \"plot_bgcolor\": \"#F5F6F9\", \"template\": {\"data\": {\"bar\": [{\"error_x\": {\"color\": \"#2a3f5f\"}, \"error_y\": {\"color\": \"#2a3f5f\"}, \"marker\": {\"line\": {\"color\": \"#E5ECF6\", \"width\": 0.5}}, \"type\": \"bar\"}], \"barpolar\": [{\"marker\": {\"line\": {\"color\": \"#E5ECF6\", \"width\": 0.5}}, \"type\": \"barpolar\"}], \"carpet\": [{\"aaxis\": {\"endlinecolor\": \"#2a3f5f\", \"gridcolor\": \"white\", \"linecolor\": \"white\", \"minorgridcolor\": \"white\", \"startlinecolor\": \"#2a3f5f\"}, \"baxis\": {\"endlinecolor\": \"#2a3f5f\", \"gridcolor\": \"white\", \"linecolor\": \"white\", \"minorgridcolor\": \"white\", \"startlinecolor\": \"#2a3f5f\"}, \"type\": \"carpet\"}], \"choropleth\": [{\"colorbar\": {\"outlinewidth\": 0, \"ticks\": \"\"}, \"type\": \"choropleth\"}], \"contour\": [{\"colorbar\": {\"outlinewidth\": 0, \"ticks\": \"\"}, \"colorscale\": [[0.0, \"#0d0887\"], [0.1111111111111111, \"#46039f\"], [0.2222222222222222, \"#7201a8\"], [0.3333333333333333, \"#9c179e\"], [0.4444444444444444, \"#bd3786\"], [0.5555555555555556, \"#d8576b\"], [0.6666666666666666, \"#ed7953\"], [0.7777777777777778, \"#fb9f3a\"], [0.8888888888888888, \"#fdca26\"], [1.0, \"#f0f921\"]], \"type\": \"contour\"}], \"contourcarpet\": [{\"colorbar\": {\"outlinewidth\": 0, \"ticks\": \"\"}, \"type\": \"contourcarpet\"}], \"heatmap\": [{\"colorbar\": {\"outlinewidth\": 0, \"ticks\": \"\"}, \"colorscale\": [[0.0, \"#0d0887\"], [0.1111111111111111, \"#46039f\"], [0.2222222222222222, \"#7201a8\"], [0.3333333333333333, \"#9c179e\"], [0.4444444444444444, \"#bd3786\"], [0.5555555555555556, \"#d8576b\"], [0.6666666666666666, \"#ed7953\"], [0.7777777777777778, \"#fb9f3a\"], [0.8888888888888888, \"#fdca26\"], [1.0, \"#f0f921\"]], \"type\": \"heatmap\"}], \"heatmapgl\": [{\"colorbar\": {\"outlinewidth\": 0, \"ticks\": \"\"}, \"colorscale\": [[0.0, \"#0d0887\"], [0.1111111111111111, \"#46039f\"], [0.2222222222222222, \"#7201a8\"], [0.3333333333333333, \"#9c179e\"], [0.4444444444444444, \"#bd3786\"], [0.5555555555555556, \"#d8576b\"], [0.6666666666666666, \"#ed7953\"], [0.7777777777777778, \"#fb9f3a\"], [0.8888888888888888, \"#fdca26\"], [1.0, \"#f0f921\"]], \"type\": \"heatmapgl\"}], \"histogram\": [{\"marker\": {\"colorbar\": {\"outlinewidth\": 0, \"ticks\": \"\"}}, \"type\": \"histogram\"}], \"histogram2d\": [{\"colorbar\": {\"outlinewidth\": 0, \"ticks\": \"\"}, \"colorscale\": [[0.0, \"#0d0887\"], [0.1111111111111111, \"#46039f\"], [0.2222222222222222, \"#7201a8\"], [0.3333333333333333, \"#9c179e\"], [0.4444444444444444, \"#bd3786\"], [0.5555555555555556, \"#d8576b\"], [0.6666666666666666, \"#ed7953\"], [0.7777777777777778, \"#fb9f3a\"], [0.8888888888888888, \"#fdca26\"], [1.0, \"#f0f921\"]], \"type\": \"histogram2d\"}], \"histogram2dcontour\": [{\"colorbar\": {\"outlinewidth\": 0, \"ticks\": \"\"}, \"colorscale\": [[0.0, \"#0d0887\"], [0.1111111111111111, \"#46039f\"], [0.2222222222222222, \"#7201a8\"], [0.3333333333333333, \"#9c179e\"], [0.4444444444444444, \"#bd3786\"], [0.5555555555555556, \"#d8576b\"], [0.6666666666666666, \"#ed7953\"], [0.7777777777777778, \"#fb9f3a\"], [0.8888888888888888, \"#fdca26\"], [1.0, \"#f0f921\"]], \"type\": \"histogram2dcontour\"}], \"mesh3d\": [{\"colorbar\": {\"outlinewidth\": 0, \"ticks\": \"\"}, \"type\": \"mesh3d\"}], \"parcoords\": [{\"line\": {\"colorbar\": {\"outlinewidth\": 0, \"ticks\": \"\"}}, \"type\": \"parcoords\"}], \"pie\": [{\"automargin\": true, \"type\": \"pie\"}], \"scatter\": [{\"marker\": {\"colorbar\": {\"outlinewidth\": 0, \"ticks\": \"\"}}, \"type\": \"scatter\"}], \"scatter3d\": [{\"line\": {\"colorbar\": {\"outlinewidth\": 0, \"ticks\": \"\"}}, \"marker\": {\"colorbar\": {\"outlinewidth\": 0, \"ticks\": \"\"}}, \"type\": \"scatter3d\"}], \"scattercarpet\": [{\"marker\": {\"colorbar\": {\"outlinewidth\": 0, \"ticks\": \"\"}}, \"type\": \"scattercarpet\"}], \"scattergeo\": [{\"marker\": {\"colorbar\": {\"outlinewidth\": 0, \"ticks\": \"\"}}, \"type\": \"scattergeo\"}], \"scattergl\": [{\"marker\": {\"colorbar\": {\"outlinewidth\": 0, \"ticks\": \"\"}}, \"type\": \"scattergl\"}], \"scattermapbox\": [{\"marker\": {\"colorbar\": {\"outlinewidth\": 0, \"ticks\": \"\"}}, \"type\": \"scattermapbox\"}], \"scatterpolar\": [{\"marker\": {\"colorbar\": {\"outlinewidth\": 0, \"ticks\": \"\"}}, \"type\": \"scatterpolar\"}], \"scatterpolargl\": [{\"marker\": {\"colorbar\": {\"outlinewidth\": 0, \"ticks\": \"\"}}, \"type\": \"scatterpolargl\"}], \"scatterternary\": [{\"marker\": {\"colorbar\": {\"outlinewidth\": 0, \"ticks\": \"\"}}, \"type\": \"scatterternary\"}], \"surface\": [{\"colorbar\": {\"outlinewidth\": 0, \"ticks\": \"\"}, \"colorscale\": [[0.0, \"#0d0887\"], [0.1111111111111111, \"#46039f\"], [0.2222222222222222, \"#7201a8\"], [0.3333333333333333, \"#9c179e\"], [0.4444444444444444, \"#bd3786\"], [0.5555555555555556, \"#d8576b\"], [0.6666666666666666, \"#ed7953\"], [0.7777777777777778, \"#fb9f3a\"], [0.8888888888888888, \"#fdca26\"], [1.0, \"#f0f921\"]], \"type\": \"surface\"}], \"table\": [{\"cells\": {\"fill\": {\"color\": \"#EBF0F8\"}, \"line\": {\"color\": \"white\"}}, \"header\": {\"fill\": {\"color\": \"#C8D4E3\"}, \"line\": {\"color\": \"white\"}}, \"type\": \"table\"}]}, \"layout\": {\"annotationdefaults\": {\"arrowcolor\": \"#2a3f5f\", \"arrowhead\": 0, \"arrowwidth\": 1}, \"coloraxis\": {\"colorbar\": {\"outlinewidth\": 0, \"ticks\": \"\"}}, \"colorscale\": {\"diverging\": [[0, \"#8e0152\"], [0.1, \"#c51b7d\"], [0.2, \"#de77ae\"], [0.3, \"#f1b6da\"], [0.4, \"#fde0ef\"], [0.5, \"#f7f7f7\"], [0.6, \"#e6f5d0\"], [0.7, \"#b8e186\"], [0.8, \"#7fbc41\"], [0.9, \"#4d9221\"], [1, \"#276419\"]], \"sequential\": [[0.0, \"#0d0887\"], [0.1111111111111111, \"#46039f\"], [0.2222222222222222, \"#7201a8\"], [0.3333333333333333, \"#9c179e\"], [0.4444444444444444, \"#bd3786\"], [0.5555555555555556, \"#d8576b\"], [0.6666666666666666, \"#ed7953\"], [0.7777777777777778, \"#fb9f3a\"], [0.8888888888888888, \"#fdca26\"], [1.0, \"#f0f921\"]], \"sequentialminus\": [[0.0, \"#0d0887\"], [0.1111111111111111, \"#46039f\"], [0.2222222222222222, \"#7201a8\"], [0.3333333333333333, \"#9c179e\"], [0.4444444444444444, \"#bd3786\"], [0.5555555555555556, \"#d8576b\"], [0.6666666666666666, \"#ed7953\"], [0.7777777777777778, \"#fb9f3a\"], [0.8888888888888888, \"#fdca26\"], [1.0, \"#f0f921\"]]}, \"colorway\": [\"#636efa\", \"#EF553B\", \"#00cc96\", \"#ab63fa\", \"#FFA15A\", \"#19d3f3\", \"#FF6692\", \"#B6E880\", \"#FF97FF\", \"#FECB52\"], \"font\": {\"color\": \"#2a3f5f\"}, \"geo\": {\"bgcolor\": \"white\", \"lakecolor\": \"white\", \"landcolor\": \"#E5ECF6\", \"showlakes\": true, \"showland\": true, \"subunitcolor\": \"white\"}, \"hoverlabel\": {\"align\": \"left\"}, \"hovermode\": \"closest\", \"mapbox\": {\"style\": \"light\"}, \"paper_bgcolor\": \"white\", \"plot_bgcolor\": \"#E5ECF6\", \"polar\": {\"angularaxis\": {\"gridcolor\": \"white\", \"linecolor\": \"white\", \"ticks\": \"\"}, \"bgcolor\": \"#E5ECF6\", \"radialaxis\": {\"gridcolor\": \"white\", \"linecolor\": \"white\", \"ticks\": \"\"}}, \"scene\": {\"xaxis\": {\"backgroundcolor\": \"#E5ECF6\", \"gridcolor\": \"white\", \"gridwidth\": 2, \"linecolor\": \"white\", \"showbackground\": true, \"ticks\": \"\", \"zerolinecolor\": \"white\"}, \"yaxis\": {\"backgroundcolor\": \"#E5ECF6\", \"gridcolor\": \"white\", \"gridwidth\": 2, \"linecolor\": \"white\", \"showbackground\": true, \"ticks\": \"\", \"zerolinecolor\": \"white\"}, \"zaxis\": {\"backgroundcolor\": \"#E5ECF6\", \"gridcolor\": \"white\", \"gridwidth\": 2, \"linecolor\": \"white\", \"showbackground\": true, \"ticks\": \"\", \"zerolinecolor\": \"white\"}}, \"shapedefaults\": {\"line\": {\"color\": \"#2a3f5f\"}}, \"ternary\": {\"aaxis\": {\"gridcolor\": \"white\", \"linecolor\": \"white\", \"ticks\": \"\"}, \"baxis\": {\"gridcolor\": \"white\", \"linecolor\": \"white\", \"ticks\": \"\"}, \"bgcolor\": \"#E5ECF6\", \"caxis\": {\"gridcolor\": \"white\", \"linecolor\": \"white\", \"ticks\": \"\"}}, \"title\": {\"x\": 0.05}, \"xaxis\": {\"automargin\": true, \"gridcolor\": \"white\", \"linecolor\": \"white\", \"ticks\": \"\", \"title\": {\"standoff\": 15}, \"zerolinecolor\": \"white\", \"zerolinewidth\": 2}, \"yaxis\": {\"automargin\": true, \"gridcolor\": \"white\", \"linecolor\": \"white\", \"ticks\": \"\", \"title\": {\"standoff\": 15}, \"zerolinecolor\": \"white\", \"zerolinewidth\": 2}}}, \"title\": {\"font\": {\"color\": \"#4D5663\"}}, \"xaxis\": {\"gridcolor\": \"#E1E5ED\", \"showgrid\": true, \"tickfont\": {\"color\": \"#4D5663\"}, \"title\": {\"font\": {\"color\": \"#4D5663\"}, \"text\": \"\"}, \"zerolinecolor\": \"#E1E5ED\"}, \"yaxis\": {\"gridcolor\": \"#E1E5ED\", \"showgrid\": true, \"tickfont\": {\"color\": \"#4D5663\"}, \"title\": {\"font\": {\"color\": \"#4D5663\"}, \"text\": \"\"}, \"zerolinecolor\": \"#E1E5ED\"}},                        {\"showLink\": true, \"linkText\": \"Export to plot.ly\", \"plotlyServerURL\": \"https://plot.ly\", \"responsive\": true}                    ).then(function(){\n",
       "                            \n",
       "var gd = document.getElementById('a806995c-13e1-41d6-a7ec-475e65e35786');\n",
       "var x = new MutationObserver(function (mutations, observer) {{\n",
       "        var display = window.getComputedStyle(gd).display;\n",
       "        if (!display || display === 'none') {{\n",
       "            console.log([gd, 'removed!']);\n",
       "            Plotly.purge(gd);\n",
       "            observer.disconnect();\n",
       "        }}\n",
       "}});\n",
       "\n",
       "// Listen for the removal of the full notebook cells\n",
       "var notebookContainer = gd.closest('#notebook-container');\n",
       "if (notebookContainer) {{\n",
       "    x.observe(notebookContainer, {childList: true});\n",
       "}}\n",
       "\n",
       "// Listen for the clearing of the current output cell\n",
       "var outputEl = gd.closest('.output');\n",
       "if (outputEl) {{\n",
       "    x.observe(outputEl, {childList: true});\n",
       "}}\n",
       "\n",
       "                        })                };                });            </script>        </div>"
      ]
     },
     "metadata": {},
     "output_type": "display_data"
    }
   ],
   "source": [
    "df3 = pd.DataFrame({'x':[1,2,3,4,5],'y':[10,20,30,20,10],'z':[5,4,3,2,1]})\n",
    "df.iplot(kind = 'surface', colorscale='rdylbu')"
   ]
  },
  {
   "cell_type": "markdown",
   "metadata": {},
   "source": [
    "### Spread"
   ]
  },
  {
   "cell_type": "code",
   "execution_count": 21,
   "metadata": {},
   "outputs": [
    {
     "name": "stderr",
     "output_type": "stream",
     "text": [
      "C:\\Users\\14088\\Documents\\Anaconda\\lib\\site-packages\\cufflinks\\plotlytools.py:849: FutureWarning:\n",
      "\n",
      "The pandas.np module is deprecated and will be removed from pandas in a future version. Import numpy directly instead\n",
      "\n",
      "C:\\Users\\14088\\Documents\\Anaconda\\lib\\site-packages\\cufflinks\\plotlytools.py:850: FutureWarning:\n",
      "\n",
      "The pandas.np module is deprecated and will be removed from pandas in a future version. Import numpy directly instead\n",
      "\n"
     ]
    },
    {
     "data": {
      "application/vnd.plotly.v1+json": {
       "config": {
        "linkText": "Export to plot.ly",
        "plotlyServerURL": "https://plot.ly",
        "showLink": true
       },
       "data": [
        {
         "line": {
          "color": "rgba(255, 153, 51, 1.0)",
          "dash": "solid",
          "shape": "linear",
          "width": 1.3
         },
         "mode": "lines",
         "name": "A",
         "text": "",
         "type": "scatter",
         "x": [
          0,
          1,
          2,
          3,
          4,
          5,
          6,
          7,
          8,
          9,
          10,
          11,
          12,
          13,
          14,
          15,
          16,
          17,
          18,
          19,
          20,
          21,
          22,
          23,
          24,
          25,
          26,
          27,
          28,
          29,
          30,
          31,
          32,
          33,
          34,
          35,
          36,
          37,
          38,
          39,
          40,
          41,
          42,
          43,
          44,
          45,
          46,
          47,
          48,
          49,
          50,
          51,
          52,
          53,
          54,
          55,
          56,
          57,
          58,
          59,
          60,
          61,
          62,
          63,
          64,
          65,
          66,
          67,
          68,
          69,
          70,
          71,
          72,
          73,
          74,
          75,
          76,
          77,
          78,
          79,
          80,
          81,
          82,
          83,
          84,
          85,
          86,
          87,
          88,
          89,
          90,
          91,
          92,
          93,
          94,
          95,
          96,
          97,
          98,
          99
         ],
         "y": [
          0.644944253392509,
          -1.243348684605454,
          -0.4992529425467864,
          2.4951536973358257,
          0.7181532996966965,
          -1.9317140313919021,
          0.11474960965809082,
          -0.1261498964710348,
          -0.5103316332599934,
          -0.8276136470561897,
          -0.2507444797257825,
          -1.3418672073315923,
          0.21175779852862386,
          0.5295284425743242,
          0.8363177959309905,
          0.415861941348495,
          0.871861955304613,
          0.6681642022568207,
          0.6353210567494172,
          -0.8890269089553131,
          -0.5757625912203307,
          0.0473418279138021,
          0.45893720365546087,
          0.20533206162680312,
          0.5342187570105031,
          -0.9577761045178981,
          0.6215579004212394,
          0.3008634269643,
          0.33739228720858727,
          1.5605524266487771,
          1.1653258116847005,
          2.293244270264029,
          -0.7047214962226932,
          0.3962295958236032,
          -0.6537064556460913,
          -0.4985449582239225,
          2.27944819476583,
          0.8499011425816464,
          -0.4860147282091424,
          -0.6444140483491969,
          2.214686187010531,
          0.3838743222004633,
          -0.5539655478660834,
          -0.9901617877531294,
          -2.312706735663867,
          -0.23252768398780077,
          -1.540241546640356,
          1.1808907417329335,
          1.0871707946424356,
          -0.15996342914122272,
          0.022131419531764927,
          0.5380254693737466,
          -0.9069222602195819,
          0.9098672320142027,
          0.39275474249035136,
          0.2515091490652439,
          0.033273504199668645,
          -0.4062481423769172,
          -0.22266747097199469,
          -0.021543501070881897,
          1.1414511969408576,
          -0.882928566564055,
          -0.2269953805998093,
          -1.1414555129144652,
          -0.19982816122859687,
          0.008667300544806618,
          0.98104895613813,
          0.7000475963198131,
          -0.9875553180644235,
          0.2802041042103516,
          -0.27841473507495756,
          -0.28720943739101973,
          -0.3417889952846551,
          0.5204878045371218,
          -0.434114511660545,
          -0.2063332906543763,
          -0.03675127761476961,
          1.1901664803851735,
          0.01200015667771501,
          0.8272860394456298,
          0.05409598408964082,
          -1.270582395308957,
          -1.5555290581226502,
          -0.7117188145510055,
          -0.5312698504250206,
          -1.5695714005160748,
          -0.2290634746353095,
          -1.2991596300694486,
          0.12650435754258949,
          0.5109620491249028,
          -1.526578864329696,
          0.4182122881950908,
          1.4562508551129445,
          1.4324202800329318,
          -0.14732020963007963,
          -0.8109983196533064,
          0.5811563853217354,
          1.2867440891345567,
          -0.6972600913213484,
          1.296152728893862
         ]
        },
        {
         "line": {
          "color": "rgba(55, 128, 191, 1.0)",
          "dash": "solid",
          "shape": "linear",
          "width": 1.3
         },
         "mode": "lines",
         "name": "B",
         "text": "",
         "type": "scatter",
         "x": [
          0,
          1,
          2,
          3,
          4,
          5,
          6,
          7,
          8,
          9,
          10,
          11,
          12,
          13,
          14,
          15,
          16,
          17,
          18,
          19,
          20,
          21,
          22,
          23,
          24,
          25,
          26,
          27,
          28,
          29,
          30,
          31,
          32,
          33,
          34,
          35,
          36,
          37,
          38,
          39,
          40,
          41,
          42,
          43,
          44,
          45,
          46,
          47,
          48,
          49,
          50,
          51,
          52,
          53,
          54,
          55,
          56,
          57,
          58,
          59,
          60,
          61,
          62,
          63,
          64,
          65,
          66,
          67,
          68,
          69,
          70,
          71,
          72,
          73,
          74,
          75,
          76,
          77,
          78,
          79,
          80,
          81,
          82,
          83,
          84,
          85,
          86,
          87,
          88,
          89,
          90,
          91,
          92,
          93,
          94,
          95,
          96,
          97,
          98,
          99
         ],
         "y": [
          -0.08013390570656855,
          0.02269628397142565,
          2.0327051595328567,
          -0.7181989100120357,
          1.662173623528374,
          -1.8065217941063234,
          1.2110119232992642,
          0.964951897071669,
          -0.85475257177362,
          -0.8248953729479542,
          -1.5826159940641324,
          -0.31771649747982844,
          0.4695556889421146,
          1.1126965404646199,
          0.47540997865652285,
          1.5046965559370773,
          0.25150127187187826,
          0.7342936672975972,
          0.5573821763407487,
          1.6335921713759398,
          0.28423026188458866,
          -0.3513447045334481,
          0.7216116547879913,
          -2.0192256386128222,
          -0.6603785846807382,
          0.6075414069350706,
          -1.3040106662584956,
          -0.13444623772025147,
          1.4643238329452812,
          0.8287147546248804,
          0.5806777413326851,
          0.9303244942852352,
          0.7259757585380316,
          -0.06322536505460559,
          1.2453254912014053,
          0.6080354966321703,
          0.006735045164522672,
          1.6427954888944556,
          -0.5032316059134918,
          -0.8783406051015079,
          0.8369992548650931,
          -0.15452153692557458,
          0.4495271766918472,
          -0.851990999026497,
          -1.10351719090533,
          0.09538065137446597,
          -1.4065321722524897,
          -0.6884313359013833,
          -1.8692741176830965,
          0.7535226372890009,
          1.7893533378361597,
          -0.7663252274224117,
          1.8026469873249986,
          0.04966144641495865,
          -2.827664478329827,
          -0.12053078024314415,
          -0.8406444888833142,
          1.1436342481148736,
          -0.6438301792589787,
          -0.15968908610736374,
          -0.03930255640966198,
          -0.7994520589749605,
          -1.1940497177919867,
          0.10867677592993708,
          -1.3726391157855171,
          -0.1326855930801497,
          -0.5587655308484875,
          -0.7436168413473584,
          -1.6228530763718965,
          0.06949574404363028,
          0.6809559377259978,
          -0.31448231912903674,
          -0.3316012072631598,
          -0.5847889225916768,
          -1.6805967750833015,
          -0.3665019767365411,
          2.008727649743859,
          -0.24327605882879857,
          -0.359785106683067,
          -0.8924991334740093,
          0.12697324601980906,
          0.5531647475745822,
          -1.0258680943681446,
          0.8539067657069088,
          -0.7889592814582247,
          -1.2162060159782722,
          -1.0133611160795266,
          -0.5733977596069428,
          2.0491826184025244,
          -1.0876329251377972,
          -0.07220169619981867,
          -0.5633866328881607,
          -1.2044256319043143,
          0.5572001026112121,
          -0.5831545677877031,
          -1.428781267332909,
          -0.45228906215591375,
          0.156452198379921,
          -0.44290164114833663,
          -0.4004290542117399
         ]
        },
        {
         "connectgaps": false,
         "fill": "tozeroy",
         "line": {
          "color": "green",
          "dash": "solid",
          "shape": "linear",
          "width": 0.5
         },
         "mode": "lines",
         "name": "Spread",
         "showlegend": false,
         "type": "scatter",
         "x": [
          0,
          1,
          2,
          3,
          4,
          5,
          6,
          7,
          8,
          9,
          10,
          11,
          12,
          13,
          14,
          15,
          16,
          17,
          18,
          19,
          20,
          21,
          22,
          23,
          24,
          25,
          26,
          27,
          28,
          29,
          30,
          31,
          32,
          33,
          34,
          35,
          36,
          37,
          38,
          39,
          40,
          41,
          42,
          43,
          44,
          45,
          46,
          47,
          48,
          49,
          50,
          51,
          52,
          53,
          54,
          55,
          56,
          57,
          58,
          59,
          60,
          61,
          62,
          63,
          64,
          65,
          66,
          67,
          68,
          69,
          70,
          71,
          72,
          73,
          74,
          75,
          76,
          77,
          78,
          79,
          80,
          81,
          82,
          83,
          84,
          85,
          86,
          87,
          88,
          89,
          90,
          91,
          92,
          93,
          94,
          95,
          96,
          97,
          98,
          99
         ],
         "xaxis": "x2",
         "y": [
          0.7250781590990776,
          "",
          "",
          3.2133526073478613,
          "",
          "",
          "",
          "",
          0.34442093851362654,
          "",
          1.33187151433835,
          "",
          "",
          "",
          0.3609078172744677,
          "",
          0.6203606834327346,
          "",
          0.07793888040866848,
          "",
          "",
          0.3986865324472502,
          "",
          2.2245577002396253,
          1.1945973416912414,
          "",
          1.9255685666797349,
          0.43530966468455146,
          "",
          0.7318376720238967,
          0.5846480703520154,
          1.3629197759787939,
          "",
          0.45945496087820875,
          "",
          "",
          2.2727131496013073,
          "",
          0.01721687770434943,
          0.233926556752311,
          1.377686932145438,
          0.5383958591260378,
          "",
          "",
          "",
          "",
          "",
          1.8693220776343167,
          2.956444912325532,
          "",
          "",
          1.3043506967961584,
          "",
          0.8602057855992441,
          3.2204192208201783,
          0.37203992930838803,
          0.8739179930829829,
          "",
          0.421162708286984,
          0.13814558503648183,
          1.1807537533505197,
          "",
          0.9670543371921774,
          "",
          1.1728109545569203,
          0.14135289362495632,
          1.5398144869866175,
          1.4436644376671715,
          0.6352977583074729,
          0.2107083601667213,
          "",
          0.027272881738017007,
          "",
          1.1052767271287987,
          1.2464822634227566,
          0.1601686860821648,
          "",
          1.433442539213972,
          0.37178526336078205,
          1.7197851729196392,
          "",
          "",
          "",
          "",
          0.2576894310332041,
          "",
          0.7842976414442171,
          "",
          "",
          1.5985949742627001,
          "",
          0.9815989210832515,
          2.660676487017259,
          0.8752201774217196,
          0.4358343581576235,
          0.6177829476796026,
          1.033445447477649,
          1.1302918907546358,
          "",
          1.6965817831056018
         ],
         "yaxis": "y2"
        },
        {
         "connectgaps": false,
         "fill": "tozeroy",
         "line": {
          "color": "red",
          "dash": "solid",
          "shape": "linear",
          "width": 0.5
         },
         "mode": "lines",
         "name": "Spread",
         "showlegend": false,
         "type": "scatter",
         "x": [
          0,
          1,
          2,
          3,
          4,
          5,
          6,
          7,
          8,
          9,
          10,
          11,
          12,
          13,
          14,
          15,
          16,
          17,
          18,
          19,
          20,
          21,
          22,
          23,
          24,
          25,
          26,
          27,
          28,
          29,
          30,
          31,
          32,
          33,
          34,
          35,
          36,
          37,
          38,
          39,
          40,
          41,
          42,
          43,
          44,
          45,
          46,
          47,
          48,
          49,
          50,
          51,
          52,
          53,
          54,
          55,
          56,
          57,
          58,
          59,
          60,
          61,
          62,
          63,
          64,
          65,
          66,
          67,
          68,
          69,
          70,
          71,
          72,
          73,
          74,
          75,
          76,
          77,
          78,
          79,
          80,
          81,
          82,
          83,
          84,
          85,
          86,
          87,
          88,
          89,
          90,
          91,
          92,
          93,
          94,
          95,
          96,
          97,
          98,
          99
         ],
         "xaxis": "x2",
         "y": [
          "",
          -1.2660449685768798,
          -2.531958102079643,
          "",
          -0.9440203238316774,
          -0.1251922372855787,
          -1.0962623136411733,
          -1.0911017935427036,
          "",
          -0.002718274108235441,
          "",
          -1.0241507098517637,
          -0.2577978904134907,
          -0.5831680978902957,
          "",
          -1.0888346145885823,
          "",
          -0.06612946504077644,
          "",
          -2.522619080331253,
          -0.8599928531049194,
          "",
          -0.2626744511325304,
          "",
          "",
          -1.5653175114529687,
          "",
          "",
          -1.126931545736694,
          "",
          "",
          "",
          -1.4306972547607248,
          "",
          -1.8990319468474968,
          -1.1065804548560927,
          "",
          -0.7928943463128092,
          "",
          "",
          "",
          "",
          -1.0034927245579306,
          -0.13817078872663235,
          -1.209189544758537,
          -0.3279083353622667,
          -0.13370937438786634,
          "",
          "",
          -0.9134860664302237,
          -1.7672219183043947,
          "",
          -2.7095692475445805,
          "",
          "",
          "",
          "",
          -1.5498823904917907,
          "",
          "",
          "",
          -0.08347650758909453,
          "",
          -1.2501322888444024,
          "",
          "",
          "",
          "",
          "",
          "",
          -0.9593706728009554,
          "",
          -0.010187788021495336,
          "",
          "",
          "",
          -2.0454789273586287,
          "",
          "",
          "",
          -0.07287726193016823,
          -1.8237471428835392,
          -0.5296609637545056,
          -1.5656255802579144,
          "",
          -0.35336538453780264,
          "",
          -0.7257618704625057,
          -1.9226782608599349,
          "",
          -1.4543771681298774,
          "",
          "",
          "",
          "",
          "",
          "",
          "",
          -0.25435845017301173,
          ""
         ],
         "yaxis": "y2"
        }
       ],
       "layout": {
        "hovermode": "x",
        "legend": {
         "bgcolor": "#F5F6F9",
         "font": {
          "color": "#4D5663"
         }
        },
        "paper_bgcolor": "#F5F6F9",
        "plot_bgcolor": "#F5F6F9",
        "template": {
         "data": {
          "bar": [
           {
            "error_x": {
             "color": "#2a3f5f"
            },
            "error_y": {
             "color": "#2a3f5f"
            },
            "marker": {
             "line": {
              "color": "#E5ECF6",
              "width": 0.5
             }
            },
            "type": "bar"
           }
          ],
          "barpolar": [
           {
            "marker": {
             "line": {
              "color": "#E5ECF6",
              "width": 0.5
             }
            },
            "type": "barpolar"
           }
          ],
          "carpet": [
           {
            "aaxis": {
             "endlinecolor": "#2a3f5f",
             "gridcolor": "white",
             "linecolor": "white",
             "minorgridcolor": "white",
             "startlinecolor": "#2a3f5f"
            },
            "baxis": {
             "endlinecolor": "#2a3f5f",
             "gridcolor": "white",
             "linecolor": "white",
             "minorgridcolor": "white",
             "startlinecolor": "#2a3f5f"
            },
            "type": "carpet"
           }
          ],
          "choropleth": [
           {
            "colorbar": {
             "outlinewidth": 0,
             "ticks": ""
            },
            "type": "choropleth"
           }
          ],
          "contour": [
           {
            "colorbar": {
             "outlinewidth": 0,
             "ticks": ""
            },
            "colorscale": [
             [
              0,
              "#0d0887"
             ],
             [
              0.1111111111111111,
              "#46039f"
             ],
             [
              0.2222222222222222,
              "#7201a8"
             ],
             [
              0.3333333333333333,
              "#9c179e"
             ],
             [
              0.4444444444444444,
              "#bd3786"
             ],
             [
              0.5555555555555556,
              "#d8576b"
             ],
             [
              0.6666666666666666,
              "#ed7953"
             ],
             [
              0.7777777777777778,
              "#fb9f3a"
             ],
             [
              0.8888888888888888,
              "#fdca26"
             ],
             [
              1,
              "#f0f921"
             ]
            ],
            "type": "contour"
           }
          ],
          "contourcarpet": [
           {
            "colorbar": {
             "outlinewidth": 0,
             "ticks": ""
            },
            "type": "contourcarpet"
           }
          ],
          "heatmap": [
           {
            "colorbar": {
             "outlinewidth": 0,
             "ticks": ""
            },
            "colorscale": [
             [
              0,
              "#0d0887"
             ],
             [
              0.1111111111111111,
              "#46039f"
             ],
             [
              0.2222222222222222,
              "#7201a8"
             ],
             [
              0.3333333333333333,
              "#9c179e"
             ],
             [
              0.4444444444444444,
              "#bd3786"
             ],
             [
              0.5555555555555556,
              "#d8576b"
             ],
             [
              0.6666666666666666,
              "#ed7953"
             ],
             [
              0.7777777777777778,
              "#fb9f3a"
             ],
             [
              0.8888888888888888,
              "#fdca26"
             ],
             [
              1,
              "#f0f921"
             ]
            ],
            "type": "heatmap"
           }
          ],
          "heatmapgl": [
           {
            "colorbar": {
             "outlinewidth": 0,
             "ticks": ""
            },
            "colorscale": [
             [
              0,
              "#0d0887"
             ],
             [
              0.1111111111111111,
              "#46039f"
             ],
             [
              0.2222222222222222,
              "#7201a8"
             ],
             [
              0.3333333333333333,
              "#9c179e"
             ],
             [
              0.4444444444444444,
              "#bd3786"
             ],
             [
              0.5555555555555556,
              "#d8576b"
             ],
             [
              0.6666666666666666,
              "#ed7953"
             ],
             [
              0.7777777777777778,
              "#fb9f3a"
             ],
             [
              0.8888888888888888,
              "#fdca26"
             ],
             [
              1,
              "#f0f921"
             ]
            ],
            "type": "heatmapgl"
           }
          ],
          "histogram": [
           {
            "marker": {
             "colorbar": {
              "outlinewidth": 0,
              "ticks": ""
             }
            },
            "type": "histogram"
           }
          ],
          "histogram2d": [
           {
            "colorbar": {
             "outlinewidth": 0,
             "ticks": ""
            },
            "colorscale": [
             [
              0,
              "#0d0887"
             ],
             [
              0.1111111111111111,
              "#46039f"
             ],
             [
              0.2222222222222222,
              "#7201a8"
             ],
             [
              0.3333333333333333,
              "#9c179e"
             ],
             [
              0.4444444444444444,
              "#bd3786"
             ],
             [
              0.5555555555555556,
              "#d8576b"
             ],
             [
              0.6666666666666666,
              "#ed7953"
             ],
             [
              0.7777777777777778,
              "#fb9f3a"
             ],
             [
              0.8888888888888888,
              "#fdca26"
             ],
             [
              1,
              "#f0f921"
             ]
            ],
            "type": "histogram2d"
           }
          ],
          "histogram2dcontour": [
           {
            "colorbar": {
             "outlinewidth": 0,
             "ticks": ""
            },
            "colorscale": [
             [
              0,
              "#0d0887"
             ],
             [
              0.1111111111111111,
              "#46039f"
             ],
             [
              0.2222222222222222,
              "#7201a8"
             ],
             [
              0.3333333333333333,
              "#9c179e"
             ],
             [
              0.4444444444444444,
              "#bd3786"
             ],
             [
              0.5555555555555556,
              "#d8576b"
             ],
             [
              0.6666666666666666,
              "#ed7953"
             ],
             [
              0.7777777777777778,
              "#fb9f3a"
             ],
             [
              0.8888888888888888,
              "#fdca26"
             ],
             [
              1,
              "#f0f921"
             ]
            ],
            "type": "histogram2dcontour"
           }
          ],
          "mesh3d": [
           {
            "colorbar": {
             "outlinewidth": 0,
             "ticks": ""
            },
            "type": "mesh3d"
           }
          ],
          "parcoords": [
           {
            "line": {
             "colorbar": {
              "outlinewidth": 0,
              "ticks": ""
             }
            },
            "type": "parcoords"
           }
          ],
          "pie": [
           {
            "automargin": true,
            "type": "pie"
           }
          ],
          "scatter": [
           {
            "marker": {
             "colorbar": {
              "outlinewidth": 0,
              "ticks": ""
             }
            },
            "type": "scatter"
           }
          ],
          "scatter3d": [
           {
            "line": {
             "colorbar": {
              "outlinewidth": 0,
              "ticks": ""
             }
            },
            "marker": {
             "colorbar": {
              "outlinewidth": 0,
              "ticks": ""
             }
            },
            "type": "scatter3d"
           }
          ],
          "scattercarpet": [
           {
            "marker": {
             "colorbar": {
              "outlinewidth": 0,
              "ticks": ""
             }
            },
            "type": "scattercarpet"
           }
          ],
          "scattergeo": [
           {
            "marker": {
             "colorbar": {
              "outlinewidth": 0,
              "ticks": ""
             }
            },
            "type": "scattergeo"
           }
          ],
          "scattergl": [
           {
            "marker": {
             "colorbar": {
              "outlinewidth": 0,
              "ticks": ""
             }
            },
            "type": "scattergl"
           }
          ],
          "scattermapbox": [
           {
            "marker": {
             "colorbar": {
              "outlinewidth": 0,
              "ticks": ""
             }
            },
            "type": "scattermapbox"
           }
          ],
          "scatterpolar": [
           {
            "marker": {
             "colorbar": {
              "outlinewidth": 0,
              "ticks": ""
             }
            },
            "type": "scatterpolar"
           }
          ],
          "scatterpolargl": [
           {
            "marker": {
             "colorbar": {
              "outlinewidth": 0,
              "ticks": ""
             }
            },
            "type": "scatterpolargl"
           }
          ],
          "scatterternary": [
           {
            "marker": {
             "colorbar": {
              "outlinewidth": 0,
              "ticks": ""
             }
            },
            "type": "scatterternary"
           }
          ],
          "surface": [
           {
            "colorbar": {
             "outlinewidth": 0,
             "ticks": ""
            },
            "colorscale": [
             [
              0,
              "#0d0887"
             ],
             [
              0.1111111111111111,
              "#46039f"
             ],
             [
              0.2222222222222222,
              "#7201a8"
             ],
             [
              0.3333333333333333,
              "#9c179e"
             ],
             [
              0.4444444444444444,
              "#bd3786"
             ],
             [
              0.5555555555555556,
              "#d8576b"
             ],
             [
              0.6666666666666666,
              "#ed7953"
             ],
             [
              0.7777777777777778,
              "#fb9f3a"
             ],
             [
              0.8888888888888888,
              "#fdca26"
             ],
             [
              1,
              "#f0f921"
             ]
            ],
            "type": "surface"
           }
          ],
          "table": [
           {
            "cells": {
             "fill": {
              "color": "#EBF0F8"
             },
             "line": {
              "color": "white"
             }
            },
            "header": {
             "fill": {
              "color": "#C8D4E3"
             },
             "line": {
              "color": "white"
             }
            },
            "type": "table"
           }
          ]
         },
         "layout": {
          "annotationdefaults": {
           "arrowcolor": "#2a3f5f",
           "arrowhead": 0,
           "arrowwidth": 1
          },
          "coloraxis": {
           "colorbar": {
            "outlinewidth": 0,
            "ticks": ""
           }
          },
          "colorscale": {
           "diverging": [
            [
             0,
             "#8e0152"
            ],
            [
             0.1,
             "#c51b7d"
            ],
            [
             0.2,
             "#de77ae"
            ],
            [
             0.3,
             "#f1b6da"
            ],
            [
             0.4,
             "#fde0ef"
            ],
            [
             0.5,
             "#f7f7f7"
            ],
            [
             0.6,
             "#e6f5d0"
            ],
            [
             0.7,
             "#b8e186"
            ],
            [
             0.8,
             "#7fbc41"
            ],
            [
             0.9,
             "#4d9221"
            ],
            [
             1,
             "#276419"
            ]
           ],
           "sequential": [
            [
             0,
             "#0d0887"
            ],
            [
             0.1111111111111111,
             "#46039f"
            ],
            [
             0.2222222222222222,
             "#7201a8"
            ],
            [
             0.3333333333333333,
             "#9c179e"
            ],
            [
             0.4444444444444444,
             "#bd3786"
            ],
            [
             0.5555555555555556,
             "#d8576b"
            ],
            [
             0.6666666666666666,
             "#ed7953"
            ],
            [
             0.7777777777777778,
             "#fb9f3a"
            ],
            [
             0.8888888888888888,
             "#fdca26"
            ],
            [
             1,
             "#f0f921"
            ]
           ],
           "sequentialminus": [
            [
             0,
             "#0d0887"
            ],
            [
             0.1111111111111111,
             "#46039f"
            ],
            [
             0.2222222222222222,
             "#7201a8"
            ],
            [
             0.3333333333333333,
             "#9c179e"
            ],
            [
             0.4444444444444444,
             "#bd3786"
            ],
            [
             0.5555555555555556,
             "#d8576b"
            ],
            [
             0.6666666666666666,
             "#ed7953"
            ],
            [
             0.7777777777777778,
             "#fb9f3a"
            ],
            [
             0.8888888888888888,
             "#fdca26"
            ],
            [
             1,
             "#f0f921"
            ]
           ]
          },
          "colorway": [
           "#636efa",
           "#EF553B",
           "#00cc96",
           "#ab63fa",
           "#FFA15A",
           "#19d3f3",
           "#FF6692",
           "#B6E880",
           "#FF97FF",
           "#FECB52"
          ],
          "font": {
           "color": "#2a3f5f"
          },
          "geo": {
           "bgcolor": "white",
           "lakecolor": "white",
           "landcolor": "#E5ECF6",
           "showlakes": true,
           "showland": true,
           "subunitcolor": "white"
          },
          "hoverlabel": {
           "align": "left"
          },
          "hovermode": "closest",
          "mapbox": {
           "style": "light"
          },
          "paper_bgcolor": "white",
          "plot_bgcolor": "#E5ECF6",
          "polar": {
           "angularaxis": {
            "gridcolor": "white",
            "linecolor": "white",
            "ticks": ""
           },
           "bgcolor": "#E5ECF6",
           "radialaxis": {
            "gridcolor": "white",
            "linecolor": "white",
            "ticks": ""
           }
          },
          "scene": {
           "xaxis": {
            "backgroundcolor": "#E5ECF6",
            "gridcolor": "white",
            "gridwidth": 2,
            "linecolor": "white",
            "showbackground": true,
            "ticks": "",
            "zerolinecolor": "white"
           },
           "yaxis": {
            "backgroundcolor": "#E5ECF6",
            "gridcolor": "white",
            "gridwidth": 2,
            "linecolor": "white",
            "showbackground": true,
            "ticks": "",
            "zerolinecolor": "white"
           },
           "zaxis": {
            "backgroundcolor": "#E5ECF6",
            "gridcolor": "white",
            "gridwidth": 2,
            "linecolor": "white",
            "showbackground": true,
            "ticks": "",
            "zerolinecolor": "white"
           }
          },
          "shapedefaults": {
           "line": {
            "color": "#2a3f5f"
           }
          },
          "ternary": {
           "aaxis": {
            "gridcolor": "white",
            "linecolor": "white",
            "ticks": ""
           },
           "baxis": {
            "gridcolor": "white",
            "linecolor": "white",
            "ticks": ""
           },
           "bgcolor": "#E5ECF6",
           "caxis": {
            "gridcolor": "white",
            "linecolor": "white",
            "ticks": ""
           }
          },
          "title": {
           "x": 0.05
          },
          "xaxis": {
           "automargin": true,
           "gridcolor": "white",
           "linecolor": "white",
           "ticks": "",
           "title": {
            "standoff": 15
           },
           "zerolinecolor": "white",
           "zerolinewidth": 2
          },
          "yaxis": {
           "automargin": true,
           "gridcolor": "white",
           "linecolor": "white",
           "ticks": "",
           "title": {
            "standoff": 15
           },
           "zerolinecolor": "white",
           "zerolinewidth": 2
          }
         }
        },
        "title": {
         "font": {
          "color": "#4D5663"
         }
        },
        "xaxis": {
         "gridcolor": "#E1E5ED",
         "showgrid": true,
         "tickfont": {
          "color": "#4D5663"
         },
         "title": {
          "font": {
           "color": "#4D5663"
          },
          "text": ""
         },
         "zerolinecolor": "#E1E5ED"
        },
        "xaxis2": {
         "anchor": "y2",
         "gridcolor": "#E1E5ED",
         "showgrid": true,
         "showticklabels": false,
         "tickfont": {
          "color": "#4D5663"
         },
         "title": {
          "font": {
           "color": "#4D5663"
          },
          "text": ""
         },
         "zerolinecolor": "#E1E5ED"
        },
        "yaxis": {
         "domain": [
          0.3,
          1
         ],
         "gridcolor": "#E1E5ED",
         "showgrid": true,
         "tickfont": {
          "color": "#4D5663"
         },
         "title": {
          "font": {
           "color": "#4D5663"
          },
          "text": ""
         },
         "zerolinecolor": "#E1E5ED"
        },
        "yaxis2": {
         "domain": [
          0,
          0.25
         ],
         "gridcolor": "#E1E5ED",
         "showgrid": true,
         "tickfont": {
          "color": "#4D5663"
         },
         "title": {
          "font": {
           "color": "#4D5663"
          },
          "text": "Spread"
         },
         "zerolinecolor": "#E1E5ED"
        }
       }
      },
      "text/html": [
       "<div>                            <div id=\"f50929c2-b471-4a9b-82a7-3fc6840b40ac\" class=\"plotly-graph-div\" style=\"height:525px; width:100%;\"></div>            <script type=\"text/javascript\">                require([\"plotly\"], function(Plotly) {                    window.PLOTLYENV=window.PLOTLYENV || {};\n",
       "                    window.PLOTLYENV.BASE_URL='https://plot.ly';                                    if (document.getElementById(\"f50929c2-b471-4a9b-82a7-3fc6840b40ac\")) {                    Plotly.newPlot(                        \"f50929c2-b471-4a9b-82a7-3fc6840b40ac\",                        [{\"line\": {\"color\": \"rgba(255, 153, 51, 1.0)\", \"dash\": \"solid\", \"shape\": \"linear\", \"width\": 1.3}, \"mode\": \"lines\", \"name\": \"A\", \"text\": \"\", \"type\": \"scatter\", \"x\": [0, 1, 2, 3, 4, 5, 6, 7, 8, 9, 10, 11, 12, 13, 14, 15, 16, 17, 18, 19, 20, 21, 22, 23, 24, 25, 26, 27, 28, 29, 30, 31, 32, 33, 34, 35, 36, 37, 38, 39, 40, 41, 42, 43, 44, 45, 46, 47, 48, 49, 50, 51, 52, 53, 54, 55, 56, 57, 58, 59, 60, 61, 62, 63, 64, 65, 66, 67, 68, 69, 70, 71, 72, 73, 74, 75, 76, 77, 78, 79, 80, 81, 82, 83, 84, 85, 86, 87, 88, 89, 90, 91, 92, 93, 94, 95, 96, 97, 98, 99], \"y\": [0.644944253392509, -1.243348684605454, -0.4992529425467864, 2.4951536973358257, 0.7181532996966965, -1.9317140313919021, 0.11474960965809082, -0.1261498964710348, -0.5103316332599934, -0.8276136470561897, -0.2507444797257825, -1.3418672073315923, 0.21175779852862386, 0.5295284425743242, 0.8363177959309905, 0.415861941348495, 0.871861955304613, 0.6681642022568207, 0.6353210567494172, -0.8890269089553131, -0.5757625912203307, 0.0473418279138021, 0.45893720365546087, 0.20533206162680312, 0.5342187570105031, -0.9577761045178981, 0.6215579004212394, 0.3008634269643, 0.33739228720858727, 1.5605524266487771, 1.1653258116847005, 2.293244270264029, -0.7047214962226932, 0.3962295958236032, -0.6537064556460913, -0.4985449582239225, 2.27944819476583, 0.8499011425816464, -0.4860147282091424, -0.6444140483491969, 2.214686187010531, 0.3838743222004633, -0.5539655478660834, -0.9901617877531294, -2.312706735663867, -0.23252768398780077, -1.540241546640356, 1.1808907417329335, 1.0871707946424356, -0.15996342914122272, 0.022131419531764927, 0.5380254693737466, -0.9069222602195819, 0.9098672320142027, 0.39275474249035136, 0.2515091490652439, 0.033273504199668645, -0.4062481423769172, -0.22266747097199469, -0.021543501070881897, 1.1414511969408576, -0.882928566564055, -0.2269953805998093, -1.1414555129144652, -0.19982816122859687, 0.008667300544806618, 0.98104895613813, 0.7000475963198131, -0.9875553180644235, 0.2802041042103516, -0.27841473507495756, -0.28720943739101973, -0.3417889952846551, 0.5204878045371218, -0.434114511660545, -0.2063332906543763, -0.03675127761476961, 1.1901664803851735, 0.01200015667771501, 0.8272860394456298, 0.05409598408964082, -1.270582395308957, -1.5555290581226502, -0.7117188145510055, -0.5312698504250206, -1.5695714005160748, -0.2290634746353095, -1.2991596300694486, 0.12650435754258949, 0.5109620491249028, -1.526578864329696, 0.4182122881950908, 1.4562508551129445, 1.4324202800329318, -0.14732020963007963, -0.8109983196533064, 0.5811563853217354, 1.2867440891345567, -0.6972600913213484, 1.296152728893862]}, {\"line\": {\"color\": \"rgba(55, 128, 191, 1.0)\", \"dash\": \"solid\", \"shape\": \"linear\", \"width\": 1.3}, \"mode\": \"lines\", \"name\": \"B\", \"text\": \"\", \"type\": \"scatter\", \"x\": [0, 1, 2, 3, 4, 5, 6, 7, 8, 9, 10, 11, 12, 13, 14, 15, 16, 17, 18, 19, 20, 21, 22, 23, 24, 25, 26, 27, 28, 29, 30, 31, 32, 33, 34, 35, 36, 37, 38, 39, 40, 41, 42, 43, 44, 45, 46, 47, 48, 49, 50, 51, 52, 53, 54, 55, 56, 57, 58, 59, 60, 61, 62, 63, 64, 65, 66, 67, 68, 69, 70, 71, 72, 73, 74, 75, 76, 77, 78, 79, 80, 81, 82, 83, 84, 85, 86, 87, 88, 89, 90, 91, 92, 93, 94, 95, 96, 97, 98, 99], \"y\": [-0.08013390570656855, 0.02269628397142565, 2.0327051595328567, -0.7181989100120357, 1.662173623528374, -1.8065217941063234, 1.2110119232992642, 0.964951897071669, -0.85475257177362, -0.8248953729479542, -1.5826159940641324, -0.31771649747982844, 0.4695556889421146, 1.1126965404646199, 0.47540997865652285, 1.5046965559370773, 0.25150127187187826, 0.7342936672975972, 0.5573821763407487, 1.6335921713759398, 0.28423026188458866, -0.3513447045334481, 0.7216116547879913, -2.0192256386128222, -0.6603785846807382, 0.6075414069350706, -1.3040106662584956, -0.13444623772025147, 1.4643238329452812, 0.8287147546248804, 0.5806777413326851, 0.9303244942852352, 0.7259757585380316, -0.06322536505460559, 1.2453254912014053, 0.6080354966321703, 0.006735045164522672, 1.6427954888944556, -0.5032316059134918, -0.8783406051015079, 0.8369992548650931, -0.15452153692557458, 0.4495271766918472, -0.851990999026497, -1.10351719090533, 0.09538065137446597, -1.4065321722524897, -0.6884313359013833, -1.8692741176830965, 0.7535226372890009, 1.7893533378361597, -0.7663252274224117, 1.8026469873249986, 0.04966144641495865, -2.827664478329827, -0.12053078024314415, -0.8406444888833142, 1.1436342481148736, -0.6438301792589787, -0.15968908610736374, -0.03930255640966198, -0.7994520589749605, -1.1940497177919867, 0.10867677592993708, -1.3726391157855171, -0.1326855930801497, -0.5587655308484875, -0.7436168413473584, -1.6228530763718965, 0.06949574404363028, 0.6809559377259978, -0.31448231912903674, -0.3316012072631598, -0.5847889225916768, -1.6805967750833015, -0.3665019767365411, 2.008727649743859, -0.24327605882879857, -0.359785106683067, -0.8924991334740093, 0.12697324601980906, 0.5531647475745822, -1.0258680943681446, 0.8539067657069088, -0.7889592814582247, -1.2162060159782722, -1.0133611160795266, -0.5733977596069428, 2.0491826184025244, -1.0876329251377972, -0.07220169619981867, -0.5633866328881607, -1.2044256319043143, 0.5572001026112121, -0.5831545677877031, -1.428781267332909, -0.45228906215591375, 0.156452198379921, -0.44290164114833663, -0.4004290542117399]}, {\"connectgaps\": false, \"fill\": \"tozeroy\", \"line\": {\"color\": \"green\", \"dash\": \"solid\", \"shape\": \"linear\", \"width\": 0.5}, \"mode\": \"lines\", \"name\": \"Spread\", \"showlegend\": false, \"type\": \"scatter\", \"x\": [0, 1, 2, 3, 4, 5, 6, 7, 8, 9, 10, 11, 12, 13, 14, 15, 16, 17, 18, 19, 20, 21, 22, 23, 24, 25, 26, 27, 28, 29, 30, 31, 32, 33, 34, 35, 36, 37, 38, 39, 40, 41, 42, 43, 44, 45, 46, 47, 48, 49, 50, 51, 52, 53, 54, 55, 56, 57, 58, 59, 60, 61, 62, 63, 64, 65, 66, 67, 68, 69, 70, 71, 72, 73, 74, 75, 76, 77, 78, 79, 80, 81, 82, 83, 84, 85, 86, 87, 88, 89, 90, 91, 92, 93, 94, 95, 96, 97, 98, 99], \"xaxis\": \"x2\", \"y\": [0.7250781590990776, \"\", \"\", 3.2133526073478613, \"\", \"\", \"\", \"\", 0.34442093851362654, \"\", 1.33187151433835, \"\", \"\", \"\", 0.3609078172744677, \"\", 0.6203606834327346, \"\", 0.07793888040866848, \"\", \"\", 0.3986865324472502, \"\", 2.2245577002396253, 1.1945973416912414, \"\", 1.9255685666797349, 0.43530966468455146, \"\", 0.7318376720238967, 0.5846480703520154, 1.3629197759787939, \"\", 0.45945496087820875, \"\", \"\", 2.2727131496013073, \"\", 0.01721687770434943, 0.233926556752311, 1.377686932145438, 0.5383958591260378, \"\", \"\", \"\", \"\", \"\", 1.8693220776343167, 2.956444912325532, \"\", \"\", 1.3043506967961584, \"\", 0.8602057855992441, 3.2204192208201783, 0.37203992930838803, 0.8739179930829829, \"\", 0.421162708286984, 0.13814558503648183, 1.1807537533505197, \"\", 0.9670543371921774, \"\", 1.1728109545569203, 0.14135289362495632, 1.5398144869866175, 1.4436644376671715, 0.6352977583074729, 0.2107083601667213, \"\", 0.027272881738017007, \"\", 1.1052767271287987, 1.2464822634227566, 0.1601686860821648, \"\", 1.433442539213972, 0.37178526336078205, 1.7197851729196392, \"\", \"\", \"\", \"\", 0.2576894310332041, \"\", 0.7842976414442171, \"\", \"\", 1.5985949742627001, \"\", 0.9815989210832515, 2.660676487017259, 0.8752201774217196, 0.4358343581576235, 0.6177829476796026, 1.033445447477649, 1.1302918907546358, \"\", 1.6965817831056018], \"yaxis\": \"y2\"}, {\"connectgaps\": false, \"fill\": \"tozeroy\", \"line\": {\"color\": \"red\", \"dash\": \"solid\", \"shape\": \"linear\", \"width\": 0.5}, \"mode\": \"lines\", \"name\": \"Spread\", \"showlegend\": false, \"type\": \"scatter\", \"x\": [0, 1, 2, 3, 4, 5, 6, 7, 8, 9, 10, 11, 12, 13, 14, 15, 16, 17, 18, 19, 20, 21, 22, 23, 24, 25, 26, 27, 28, 29, 30, 31, 32, 33, 34, 35, 36, 37, 38, 39, 40, 41, 42, 43, 44, 45, 46, 47, 48, 49, 50, 51, 52, 53, 54, 55, 56, 57, 58, 59, 60, 61, 62, 63, 64, 65, 66, 67, 68, 69, 70, 71, 72, 73, 74, 75, 76, 77, 78, 79, 80, 81, 82, 83, 84, 85, 86, 87, 88, 89, 90, 91, 92, 93, 94, 95, 96, 97, 98, 99], \"xaxis\": \"x2\", \"y\": [\"\", -1.2660449685768798, -2.531958102079643, \"\", -0.9440203238316774, -0.1251922372855787, -1.0962623136411733, -1.0911017935427036, \"\", -0.002718274108235441, \"\", -1.0241507098517637, -0.2577978904134907, -0.5831680978902957, \"\", -1.0888346145885823, \"\", -0.06612946504077644, \"\", -2.522619080331253, -0.8599928531049194, \"\", -0.2626744511325304, \"\", \"\", -1.5653175114529687, \"\", \"\", -1.126931545736694, \"\", \"\", \"\", -1.4306972547607248, \"\", -1.8990319468474968, -1.1065804548560927, \"\", -0.7928943463128092, \"\", \"\", \"\", \"\", -1.0034927245579306, -0.13817078872663235, -1.209189544758537, -0.3279083353622667, -0.13370937438786634, \"\", \"\", -0.9134860664302237, -1.7672219183043947, \"\", -2.7095692475445805, \"\", \"\", \"\", \"\", -1.5498823904917907, \"\", \"\", \"\", -0.08347650758909453, \"\", -1.2501322888444024, \"\", \"\", \"\", \"\", \"\", \"\", -0.9593706728009554, \"\", -0.010187788021495336, \"\", \"\", \"\", -2.0454789273586287, \"\", \"\", \"\", -0.07287726193016823, -1.8237471428835392, -0.5296609637545056, -1.5656255802579144, \"\", -0.35336538453780264, \"\", -0.7257618704625057, -1.9226782608599349, \"\", -1.4543771681298774, \"\", \"\", \"\", \"\", \"\", \"\", \"\", -0.25435845017301173, \"\"], \"yaxis\": \"y2\"}],                        {\"hovermode\": \"x\", \"legend\": {\"bgcolor\": \"#F5F6F9\", \"font\": {\"color\": \"#4D5663\"}}, \"paper_bgcolor\": \"#F5F6F9\", \"plot_bgcolor\": \"#F5F6F9\", \"template\": {\"data\": {\"bar\": [{\"error_x\": {\"color\": \"#2a3f5f\"}, \"error_y\": {\"color\": \"#2a3f5f\"}, \"marker\": {\"line\": {\"color\": \"#E5ECF6\", \"width\": 0.5}}, \"type\": \"bar\"}], \"barpolar\": [{\"marker\": {\"line\": {\"color\": \"#E5ECF6\", \"width\": 0.5}}, \"type\": \"barpolar\"}], \"carpet\": [{\"aaxis\": {\"endlinecolor\": \"#2a3f5f\", \"gridcolor\": \"white\", \"linecolor\": \"white\", \"minorgridcolor\": \"white\", \"startlinecolor\": \"#2a3f5f\"}, \"baxis\": {\"endlinecolor\": \"#2a3f5f\", \"gridcolor\": \"white\", \"linecolor\": \"white\", \"minorgridcolor\": \"white\", \"startlinecolor\": \"#2a3f5f\"}, \"type\": \"carpet\"}], \"choropleth\": [{\"colorbar\": {\"outlinewidth\": 0, \"ticks\": \"\"}, \"type\": \"choropleth\"}], \"contour\": [{\"colorbar\": {\"outlinewidth\": 0, \"ticks\": \"\"}, \"colorscale\": [[0.0, \"#0d0887\"], [0.1111111111111111, \"#46039f\"], [0.2222222222222222, \"#7201a8\"], [0.3333333333333333, \"#9c179e\"], [0.4444444444444444, \"#bd3786\"], [0.5555555555555556, \"#d8576b\"], [0.6666666666666666, \"#ed7953\"], [0.7777777777777778, \"#fb9f3a\"], [0.8888888888888888, \"#fdca26\"], [1.0, \"#f0f921\"]], \"type\": \"contour\"}], \"contourcarpet\": [{\"colorbar\": {\"outlinewidth\": 0, \"ticks\": \"\"}, \"type\": \"contourcarpet\"}], \"heatmap\": [{\"colorbar\": {\"outlinewidth\": 0, \"ticks\": \"\"}, \"colorscale\": [[0.0, \"#0d0887\"], [0.1111111111111111, \"#46039f\"], [0.2222222222222222, \"#7201a8\"], [0.3333333333333333, \"#9c179e\"], [0.4444444444444444, \"#bd3786\"], [0.5555555555555556, \"#d8576b\"], [0.6666666666666666, \"#ed7953\"], [0.7777777777777778, \"#fb9f3a\"], [0.8888888888888888, \"#fdca26\"], [1.0, \"#f0f921\"]], \"type\": \"heatmap\"}], \"heatmapgl\": [{\"colorbar\": {\"outlinewidth\": 0, \"ticks\": \"\"}, \"colorscale\": [[0.0, \"#0d0887\"], [0.1111111111111111, \"#46039f\"], [0.2222222222222222, \"#7201a8\"], [0.3333333333333333, \"#9c179e\"], [0.4444444444444444, \"#bd3786\"], [0.5555555555555556, \"#d8576b\"], [0.6666666666666666, \"#ed7953\"], [0.7777777777777778, \"#fb9f3a\"], [0.8888888888888888, \"#fdca26\"], [1.0, \"#f0f921\"]], \"type\": \"heatmapgl\"}], \"histogram\": [{\"marker\": {\"colorbar\": {\"outlinewidth\": 0, \"ticks\": \"\"}}, \"type\": \"histogram\"}], \"histogram2d\": [{\"colorbar\": {\"outlinewidth\": 0, \"ticks\": \"\"}, \"colorscale\": [[0.0, \"#0d0887\"], [0.1111111111111111, \"#46039f\"], [0.2222222222222222, \"#7201a8\"], [0.3333333333333333, \"#9c179e\"], [0.4444444444444444, \"#bd3786\"], [0.5555555555555556, \"#d8576b\"], [0.6666666666666666, \"#ed7953\"], [0.7777777777777778, \"#fb9f3a\"], [0.8888888888888888, \"#fdca26\"], [1.0, \"#f0f921\"]], \"type\": \"histogram2d\"}], \"histogram2dcontour\": [{\"colorbar\": {\"outlinewidth\": 0, \"ticks\": \"\"}, \"colorscale\": [[0.0, \"#0d0887\"], [0.1111111111111111, \"#46039f\"], [0.2222222222222222, \"#7201a8\"], [0.3333333333333333, \"#9c179e\"], [0.4444444444444444, \"#bd3786\"], [0.5555555555555556, \"#d8576b\"], [0.6666666666666666, \"#ed7953\"], [0.7777777777777778, \"#fb9f3a\"], [0.8888888888888888, \"#fdca26\"], [1.0, \"#f0f921\"]], \"type\": \"histogram2dcontour\"}], \"mesh3d\": [{\"colorbar\": {\"outlinewidth\": 0, \"ticks\": \"\"}, \"type\": \"mesh3d\"}], \"parcoords\": [{\"line\": {\"colorbar\": {\"outlinewidth\": 0, \"ticks\": \"\"}}, \"type\": \"parcoords\"}], \"pie\": [{\"automargin\": true, \"type\": \"pie\"}], \"scatter\": [{\"marker\": {\"colorbar\": {\"outlinewidth\": 0, \"ticks\": \"\"}}, \"type\": \"scatter\"}], \"scatter3d\": [{\"line\": {\"colorbar\": {\"outlinewidth\": 0, \"ticks\": \"\"}}, \"marker\": {\"colorbar\": {\"outlinewidth\": 0, \"ticks\": \"\"}}, \"type\": \"scatter3d\"}], \"scattercarpet\": [{\"marker\": {\"colorbar\": {\"outlinewidth\": 0, \"ticks\": \"\"}}, \"type\": \"scattercarpet\"}], \"scattergeo\": [{\"marker\": {\"colorbar\": {\"outlinewidth\": 0, \"ticks\": \"\"}}, \"type\": \"scattergeo\"}], \"scattergl\": [{\"marker\": {\"colorbar\": {\"outlinewidth\": 0, \"ticks\": \"\"}}, \"type\": \"scattergl\"}], \"scattermapbox\": [{\"marker\": {\"colorbar\": {\"outlinewidth\": 0, \"ticks\": \"\"}}, \"type\": \"scattermapbox\"}], \"scatterpolar\": [{\"marker\": {\"colorbar\": {\"outlinewidth\": 0, \"ticks\": \"\"}}, \"type\": \"scatterpolar\"}], \"scatterpolargl\": [{\"marker\": {\"colorbar\": {\"outlinewidth\": 0, \"ticks\": \"\"}}, \"type\": \"scatterpolargl\"}], \"scatterternary\": [{\"marker\": {\"colorbar\": {\"outlinewidth\": 0, \"ticks\": \"\"}}, \"type\": \"scatterternary\"}], \"surface\": [{\"colorbar\": {\"outlinewidth\": 0, \"ticks\": \"\"}, \"colorscale\": [[0.0, \"#0d0887\"], [0.1111111111111111, \"#46039f\"], [0.2222222222222222, \"#7201a8\"], [0.3333333333333333, \"#9c179e\"], [0.4444444444444444, \"#bd3786\"], [0.5555555555555556, \"#d8576b\"], [0.6666666666666666, \"#ed7953\"], [0.7777777777777778, \"#fb9f3a\"], [0.8888888888888888, \"#fdca26\"], [1.0, \"#f0f921\"]], \"type\": \"surface\"}], \"table\": [{\"cells\": {\"fill\": {\"color\": \"#EBF0F8\"}, \"line\": {\"color\": \"white\"}}, \"header\": {\"fill\": {\"color\": \"#C8D4E3\"}, \"line\": {\"color\": \"white\"}}, \"type\": \"table\"}]}, \"layout\": {\"annotationdefaults\": {\"arrowcolor\": \"#2a3f5f\", \"arrowhead\": 0, \"arrowwidth\": 1}, \"coloraxis\": {\"colorbar\": {\"outlinewidth\": 0, \"ticks\": \"\"}}, \"colorscale\": {\"diverging\": [[0, \"#8e0152\"], [0.1, \"#c51b7d\"], [0.2, \"#de77ae\"], [0.3, \"#f1b6da\"], [0.4, \"#fde0ef\"], [0.5, \"#f7f7f7\"], [0.6, \"#e6f5d0\"], [0.7, \"#b8e186\"], [0.8, \"#7fbc41\"], [0.9, \"#4d9221\"], [1, \"#276419\"]], \"sequential\": [[0.0, \"#0d0887\"], [0.1111111111111111, \"#46039f\"], [0.2222222222222222, \"#7201a8\"], [0.3333333333333333, \"#9c179e\"], [0.4444444444444444, \"#bd3786\"], [0.5555555555555556, \"#d8576b\"], [0.6666666666666666, \"#ed7953\"], [0.7777777777777778, \"#fb9f3a\"], [0.8888888888888888, \"#fdca26\"], [1.0, \"#f0f921\"]], \"sequentialminus\": [[0.0, \"#0d0887\"], [0.1111111111111111, \"#46039f\"], [0.2222222222222222, \"#7201a8\"], [0.3333333333333333, \"#9c179e\"], [0.4444444444444444, \"#bd3786\"], [0.5555555555555556, \"#d8576b\"], [0.6666666666666666, \"#ed7953\"], [0.7777777777777778, \"#fb9f3a\"], [0.8888888888888888, \"#fdca26\"], [1.0, \"#f0f921\"]]}, \"colorway\": [\"#636efa\", \"#EF553B\", \"#00cc96\", \"#ab63fa\", \"#FFA15A\", \"#19d3f3\", \"#FF6692\", \"#B6E880\", \"#FF97FF\", \"#FECB52\"], \"font\": {\"color\": \"#2a3f5f\"}, \"geo\": {\"bgcolor\": \"white\", \"lakecolor\": \"white\", \"landcolor\": \"#E5ECF6\", \"showlakes\": true, \"showland\": true, \"subunitcolor\": \"white\"}, \"hoverlabel\": {\"align\": \"left\"}, \"hovermode\": \"closest\", \"mapbox\": {\"style\": \"light\"}, \"paper_bgcolor\": \"white\", \"plot_bgcolor\": \"#E5ECF6\", \"polar\": {\"angularaxis\": {\"gridcolor\": \"white\", \"linecolor\": \"white\", \"ticks\": \"\"}, \"bgcolor\": \"#E5ECF6\", \"radialaxis\": {\"gridcolor\": \"white\", \"linecolor\": \"white\", \"ticks\": \"\"}}, \"scene\": {\"xaxis\": {\"backgroundcolor\": \"#E5ECF6\", \"gridcolor\": \"white\", \"gridwidth\": 2, \"linecolor\": \"white\", \"showbackground\": true, \"ticks\": \"\", \"zerolinecolor\": \"white\"}, \"yaxis\": {\"backgroundcolor\": \"#E5ECF6\", \"gridcolor\": \"white\", \"gridwidth\": 2, \"linecolor\": \"white\", \"showbackground\": true, \"ticks\": \"\", \"zerolinecolor\": \"white\"}, \"zaxis\": {\"backgroundcolor\": \"#E5ECF6\", \"gridcolor\": \"white\", \"gridwidth\": 2, \"linecolor\": \"white\", \"showbackground\": true, \"ticks\": \"\", \"zerolinecolor\": \"white\"}}, \"shapedefaults\": {\"line\": {\"color\": \"#2a3f5f\"}}, \"ternary\": {\"aaxis\": {\"gridcolor\": \"white\", \"linecolor\": \"white\", \"ticks\": \"\"}, \"baxis\": {\"gridcolor\": \"white\", \"linecolor\": \"white\", \"ticks\": \"\"}, \"bgcolor\": \"#E5ECF6\", \"caxis\": {\"gridcolor\": \"white\", \"linecolor\": \"white\", \"ticks\": \"\"}}, \"title\": {\"x\": 0.05}, \"xaxis\": {\"automargin\": true, \"gridcolor\": \"white\", \"linecolor\": \"white\", \"ticks\": \"\", \"title\": {\"standoff\": 15}, \"zerolinecolor\": \"white\", \"zerolinewidth\": 2}, \"yaxis\": {\"automargin\": true, \"gridcolor\": \"white\", \"linecolor\": \"white\", \"ticks\": \"\", \"title\": {\"standoff\": 15}, \"zerolinecolor\": \"white\", \"zerolinewidth\": 2}}}, \"title\": {\"font\": {\"color\": \"#4D5663\"}}, \"xaxis\": {\"gridcolor\": \"#E1E5ED\", \"showgrid\": true, \"tickfont\": {\"color\": \"#4D5663\"}, \"title\": {\"font\": {\"color\": \"#4D5663\"}, \"text\": \"\"}, \"zerolinecolor\": \"#E1E5ED\"}, \"xaxis2\": {\"anchor\": \"y2\", \"gridcolor\": \"#E1E5ED\", \"showgrid\": true, \"showticklabels\": false, \"tickfont\": {\"color\": \"#4D5663\"}, \"title\": {\"font\": {\"color\": \"#4D5663\"}, \"text\": \"\"}, \"zerolinecolor\": \"#E1E5ED\"}, \"yaxis\": {\"domain\": [0.3, 1], \"gridcolor\": \"#E1E5ED\", \"showgrid\": true, \"tickfont\": {\"color\": \"#4D5663\"}, \"title\": {\"font\": {\"color\": \"#4D5663\"}, \"text\": \"\"}, \"zerolinecolor\": \"#E1E5ED\"}, \"yaxis2\": {\"domain\": [0, 0.25], \"gridcolor\": \"#E1E5ED\", \"showgrid\": true, \"tickfont\": {\"color\": \"#4D5663\"}, \"title\": {\"font\": {\"color\": \"#4D5663\"}, \"text\": \"Spread\"}, \"zerolinecolor\": \"#E1E5ED\"}},                        {\"showLink\": true, \"linkText\": \"Export to plot.ly\", \"plotlyServerURL\": \"https://plot.ly\", \"responsive\": true}                    ).then(function(){\n",
       "                            \n",
       "var gd = document.getElementById('f50929c2-b471-4a9b-82a7-3fc6840b40ac');\n",
       "var x = new MutationObserver(function (mutations, observer) {{\n",
       "        var display = window.getComputedStyle(gd).display;\n",
       "        if (!display || display === 'none') {{\n",
       "            console.log([gd, 'removed!']);\n",
       "            Plotly.purge(gd);\n",
       "            observer.disconnect();\n",
       "        }}\n",
       "}});\n",
       "\n",
       "// Listen for the removal of the full notebook cells\n",
       "var notebookContainer = gd.closest('#notebook-container');\n",
       "if (notebookContainer) {{\n",
       "    x.observe(notebookContainer, {childList: true});\n",
       "}}\n",
       "\n",
       "// Listen for the clearing of the current output cell\n",
       "var outputEl = gd.closest('.output');\n",
       "if (outputEl) {{\n",
       "    x.observe(outputEl, {childList: true});\n",
       "}}\n",
       "\n",
       "                        })                };                });            </script>        </div>"
      ]
     },
     "metadata": {},
     "output_type": "display_data"
    }
   ],
   "source": [
    "df[['A','B']].iplot(kind='spread')"
   ]
  },
  {
   "cell_type": "markdown",
   "metadata": {},
   "source": [
    "### histogram"
   ]
  },
  {
   "cell_type": "code",
   "execution_count": 24,
   "metadata": {},
   "outputs": [
    {
     "data": {
      "application/vnd.plotly.v1+json": {
       "config": {
        "linkText": "Export to plot.ly",
        "plotlyServerURL": "https://plot.ly",
        "showLink": true
       },
       "data": [
        {
         "histfunc": "count",
         "histnorm": "",
         "marker": {
          "color": "rgba(255, 153, 51, 1.0)",
          "line": {
           "color": "#4D5663",
           "width": 1.3
          }
         },
         "name": "A",
         "nbinsx": 25,
         "opacity": 0.8,
         "orientation": "v",
         "type": "histogram",
         "x": [
          0.644944253392509,
          -1.243348684605454,
          -0.4992529425467864,
          2.4951536973358257,
          0.7181532996966965,
          -1.9317140313919021,
          0.11474960965809082,
          -0.1261498964710348,
          -0.5103316332599934,
          -0.8276136470561897,
          -0.2507444797257825,
          -1.3418672073315923,
          0.21175779852862386,
          0.5295284425743242,
          0.8363177959309905,
          0.415861941348495,
          0.871861955304613,
          0.6681642022568207,
          0.6353210567494172,
          -0.8890269089553131,
          -0.5757625912203307,
          0.0473418279138021,
          0.45893720365546087,
          0.20533206162680312,
          0.5342187570105031,
          -0.9577761045178981,
          0.6215579004212394,
          0.3008634269643,
          0.33739228720858727,
          1.5605524266487771,
          1.1653258116847005,
          2.293244270264029,
          -0.7047214962226932,
          0.3962295958236032,
          -0.6537064556460913,
          -0.4985449582239225,
          2.27944819476583,
          0.8499011425816464,
          -0.4860147282091424,
          -0.6444140483491969,
          2.214686187010531,
          0.3838743222004633,
          -0.5539655478660834,
          -0.9901617877531294,
          -2.312706735663867,
          -0.23252768398780077,
          -1.540241546640356,
          1.1808907417329335,
          1.0871707946424356,
          -0.15996342914122272,
          0.022131419531764927,
          0.5380254693737466,
          -0.9069222602195819,
          0.9098672320142027,
          0.39275474249035136,
          0.2515091490652439,
          0.033273504199668645,
          -0.4062481423769172,
          -0.22266747097199469,
          -0.021543501070881897,
          1.1414511969408576,
          -0.882928566564055,
          -0.2269953805998093,
          -1.1414555129144652,
          -0.19982816122859687,
          0.008667300544806618,
          0.98104895613813,
          0.7000475963198131,
          -0.9875553180644235,
          0.2802041042103516,
          -0.27841473507495756,
          -0.28720943739101973,
          -0.3417889952846551,
          0.5204878045371218,
          -0.434114511660545,
          -0.2063332906543763,
          -0.03675127761476961,
          1.1901664803851735,
          0.01200015667771501,
          0.8272860394456298,
          0.05409598408964082,
          -1.270582395308957,
          -1.5555290581226502,
          -0.7117188145510055,
          -0.5312698504250206,
          -1.5695714005160748,
          -0.2290634746353095,
          -1.2991596300694486,
          0.12650435754258949,
          0.5109620491249028,
          -1.526578864329696,
          0.4182122881950908,
          1.4562508551129445,
          1.4324202800329318,
          -0.14732020963007963,
          -0.8109983196533064,
          0.5811563853217354,
          1.2867440891345567,
          -0.6972600913213484,
          1.296152728893862
         ]
        }
       ],
       "layout": {
        "barmode": "overlay",
        "legend": {
         "bgcolor": "#F5F6F9",
         "font": {
          "color": "#4D5663"
         }
        },
        "paper_bgcolor": "#F5F6F9",
        "plot_bgcolor": "#F5F6F9",
        "template": {
         "data": {
          "bar": [
           {
            "error_x": {
             "color": "#2a3f5f"
            },
            "error_y": {
             "color": "#2a3f5f"
            },
            "marker": {
             "line": {
              "color": "#E5ECF6",
              "width": 0.5
             }
            },
            "type": "bar"
           }
          ],
          "barpolar": [
           {
            "marker": {
             "line": {
              "color": "#E5ECF6",
              "width": 0.5
             }
            },
            "type": "barpolar"
           }
          ],
          "carpet": [
           {
            "aaxis": {
             "endlinecolor": "#2a3f5f",
             "gridcolor": "white",
             "linecolor": "white",
             "minorgridcolor": "white",
             "startlinecolor": "#2a3f5f"
            },
            "baxis": {
             "endlinecolor": "#2a3f5f",
             "gridcolor": "white",
             "linecolor": "white",
             "minorgridcolor": "white",
             "startlinecolor": "#2a3f5f"
            },
            "type": "carpet"
           }
          ],
          "choropleth": [
           {
            "colorbar": {
             "outlinewidth": 0,
             "ticks": ""
            },
            "type": "choropleth"
           }
          ],
          "contour": [
           {
            "colorbar": {
             "outlinewidth": 0,
             "ticks": ""
            },
            "colorscale": [
             [
              0,
              "#0d0887"
             ],
             [
              0.1111111111111111,
              "#46039f"
             ],
             [
              0.2222222222222222,
              "#7201a8"
             ],
             [
              0.3333333333333333,
              "#9c179e"
             ],
             [
              0.4444444444444444,
              "#bd3786"
             ],
             [
              0.5555555555555556,
              "#d8576b"
             ],
             [
              0.6666666666666666,
              "#ed7953"
             ],
             [
              0.7777777777777778,
              "#fb9f3a"
             ],
             [
              0.8888888888888888,
              "#fdca26"
             ],
             [
              1,
              "#f0f921"
             ]
            ],
            "type": "contour"
           }
          ],
          "contourcarpet": [
           {
            "colorbar": {
             "outlinewidth": 0,
             "ticks": ""
            },
            "type": "contourcarpet"
           }
          ],
          "heatmap": [
           {
            "colorbar": {
             "outlinewidth": 0,
             "ticks": ""
            },
            "colorscale": [
             [
              0,
              "#0d0887"
             ],
             [
              0.1111111111111111,
              "#46039f"
             ],
             [
              0.2222222222222222,
              "#7201a8"
             ],
             [
              0.3333333333333333,
              "#9c179e"
             ],
             [
              0.4444444444444444,
              "#bd3786"
             ],
             [
              0.5555555555555556,
              "#d8576b"
             ],
             [
              0.6666666666666666,
              "#ed7953"
             ],
             [
              0.7777777777777778,
              "#fb9f3a"
             ],
             [
              0.8888888888888888,
              "#fdca26"
             ],
             [
              1,
              "#f0f921"
             ]
            ],
            "type": "heatmap"
           }
          ],
          "heatmapgl": [
           {
            "colorbar": {
             "outlinewidth": 0,
             "ticks": ""
            },
            "colorscale": [
             [
              0,
              "#0d0887"
             ],
             [
              0.1111111111111111,
              "#46039f"
             ],
             [
              0.2222222222222222,
              "#7201a8"
             ],
             [
              0.3333333333333333,
              "#9c179e"
             ],
             [
              0.4444444444444444,
              "#bd3786"
             ],
             [
              0.5555555555555556,
              "#d8576b"
             ],
             [
              0.6666666666666666,
              "#ed7953"
             ],
             [
              0.7777777777777778,
              "#fb9f3a"
             ],
             [
              0.8888888888888888,
              "#fdca26"
             ],
             [
              1,
              "#f0f921"
             ]
            ],
            "type": "heatmapgl"
           }
          ],
          "histogram": [
           {
            "marker": {
             "colorbar": {
              "outlinewidth": 0,
              "ticks": ""
             }
            },
            "type": "histogram"
           }
          ],
          "histogram2d": [
           {
            "colorbar": {
             "outlinewidth": 0,
             "ticks": ""
            },
            "colorscale": [
             [
              0,
              "#0d0887"
             ],
             [
              0.1111111111111111,
              "#46039f"
             ],
             [
              0.2222222222222222,
              "#7201a8"
             ],
             [
              0.3333333333333333,
              "#9c179e"
             ],
             [
              0.4444444444444444,
              "#bd3786"
             ],
             [
              0.5555555555555556,
              "#d8576b"
             ],
             [
              0.6666666666666666,
              "#ed7953"
             ],
             [
              0.7777777777777778,
              "#fb9f3a"
             ],
             [
              0.8888888888888888,
              "#fdca26"
             ],
             [
              1,
              "#f0f921"
             ]
            ],
            "type": "histogram2d"
           }
          ],
          "histogram2dcontour": [
           {
            "colorbar": {
             "outlinewidth": 0,
             "ticks": ""
            },
            "colorscale": [
             [
              0,
              "#0d0887"
             ],
             [
              0.1111111111111111,
              "#46039f"
             ],
             [
              0.2222222222222222,
              "#7201a8"
             ],
             [
              0.3333333333333333,
              "#9c179e"
             ],
             [
              0.4444444444444444,
              "#bd3786"
             ],
             [
              0.5555555555555556,
              "#d8576b"
             ],
             [
              0.6666666666666666,
              "#ed7953"
             ],
             [
              0.7777777777777778,
              "#fb9f3a"
             ],
             [
              0.8888888888888888,
              "#fdca26"
             ],
             [
              1,
              "#f0f921"
             ]
            ],
            "type": "histogram2dcontour"
           }
          ],
          "mesh3d": [
           {
            "colorbar": {
             "outlinewidth": 0,
             "ticks": ""
            },
            "type": "mesh3d"
           }
          ],
          "parcoords": [
           {
            "line": {
             "colorbar": {
              "outlinewidth": 0,
              "ticks": ""
             }
            },
            "type": "parcoords"
           }
          ],
          "pie": [
           {
            "automargin": true,
            "type": "pie"
           }
          ],
          "scatter": [
           {
            "marker": {
             "colorbar": {
              "outlinewidth": 0,
              "ticks": ""
             }
            },
            "type": "scatter"
           }
          ],
          "scatter3d": [
           {
            "line": {
             "colorbar": {
              "outlinewidth": 0,
              "ticks": ""
             }
            },
            "marker": {
             "colorbar": {
              "outlinewidth": 0,
              "ticks": ""
             }
            },
            "type": "scatter3d"
           }
          ],
          "scattercarpet": [
           {
            "marker": {
             "colorbar": {
              "outlinewidth": 0,
              "ticks": ""
             }
            },
            "type": "scattercarpet"
           }
          ],
          "scattergeo": [
           {
            "marker": {
             "colorbar": {
              "outlinewidth": 0,
              "ticks": ""
             }
            },
            "type": "scattergeo"
           }
          ],
          "scattergl": [
           {
            "marker": {
             "colorbar": {
              "outlinewidth": 0,
              "ticks": ""
             }
            },
            "type": "scattergl"
           }
          ],
          "scattermapbox": [
           {
            "marker": {
             "colorbar": {
              "outlinewidth": 0,
              "ticks": ""
             }
            },
            "type": "scattermapbox"
           }
          ],
          "scatterpolar": [
           {
            "marker": {
             "colorbar": {
              "outlinewidth": 0,
              "ticks": ""
             }
            },
            "type": "scatterpolar"
           }
          ],
          "scatterpolargl": [
           {
            "marker": {
             "colorbar": {
              "outlinewidth": 0,
              "ticks": ""
             }
            },
            "type": "scatterpolargl"
           }
          ],
          "scatterternary": [
           {
            "marker": {
             "colorbar": {
              "outlinewidth": 0,
              "ticks": ""
             }
            },
            "type": "scatterternary"
           }
          ],
          "surface": [
           {
            "colorbar": {
             "outlinewidth": 0,
             "ticks": ""
            },
            "colorscale": [
             [
              0,
              "#0d0887"
             ],
             [
              0.1111111111111111,
              "#46039f"
             ],
             [
              0.2222222222222222,
              "#7201a8"
             ],
             [
              0.3333333333333333,
              "#9c179e"
             ],
             [
              0.4444444444444444,
              "#bd3786"
             ],
             [
              0.5555555555555556,
              "#d8576b"
             ],
             [
              0.6666666666666666,
              "#ed7953"
             ],
             [
              0.7777777777777778,
              "#fb9f3a"
             ],
             [
              0.8888888888888888,
              "#fdca26"
             ],
             [
              1,
              "#f0f921"
             ]
            ],
            "type": "surface"
           }
          ],
          "table": [
           {
            "cells": {
             "fill": {
              "color": "#EBF0F8"
             },
             "line": {
              "color": "white"
             }
            },
            "header": {
             "fill": {
              "color": "#C8D4E3"
             },
             "line": {
              "color": "white"
             }
            },
            "type": "table"
           }
          ]
         },
         "layout": {
          "annotationdefaults": {
           "arrowcolor": "#2a3f5f",
           "arrowhead": 0,
           "arrowwidth": 1
          },
          "coloraxis": {
           "colorbar": {
            "outlinewidth": 0,
            "ticks": ""
           }
          },
          "colorscale": {
           "diverging": [
            [
             0,
             "#8e0152"
            ],
            [
             0.1,
             "#c51b7d"
            ],
            [
             0.2,
             "#de77ae"
            ],
            [
             0.3,
             "#f1b6da"
            ],
            [
             0.4,
             "#fde0ef"
            ],
            [
             0.5,
             "#f7f7f7"
            ],
            [
             0.6,
             "#e6f5d0"
            ],
            [
             0.7,
             "#b8e186"
            ],
            [
             0.8,
             "#7fbc41"
            ],
            [
             0.9,
             "#4d9221"
            ],
            [
             1,
             "#276419"
            ]
           ],
           "sequential": [
            [
             0,
             "#0d0887"
            ],
            [
             0.1111111111111111,
             "#46039f"
            ],
            [
             0.2222222222222222,
             "#7201a8"
            ],
            [
             0.3333333333333333,
             "#9c179e"
            ],
            [
             0.4444444444444444,
             "#bd3786"
            ],
            [
             0.5555555555555556,
             "#d8576b"
            ],
            [
             0.6666666666666666,
             "#ed7953"
            ],
            [
             0.7777777777777778,
             "#fb9f3a"
            ],
            [
             0.8888888888888888,
             "#fdca26"
            ],
            [
             1,
             "#f0f921"
            ]
           ],
           "sequentialminus": [
            [
             0,
             "#0d0887"
            ],
            [
             0.1111111111111111,
             "#46039f"
            ],
            [
             0.2222222222222222,
             "#7201a8"
            ],
            [
             0.3333333333333333,
             "#9c179e"
            ],
            [
             0.4444444444444444,
             "#bd3786"
            ],
            [
             0.5555555555555556,
             "#d8576b"
            ],
            [
             0.6666666666666666,
             "#ed7953"
            ],
            [
             0.7777777777777778,
             "#fb9f3a"
            ],
            [
             0.8888888888888888,
             "#fdca26"
            ],
            [
             1,
             "#f0f921"
            ]
           ]
          },
          "colorway": [
           "#636efa",
           "#EF553B",
           "#00cc96",
           "#ab63fa",
           "#FFA15A",
           "#19d3f3",
           "#FF6692",
           "#B6E880",
           "#FF97FF",
           "#FECB52"
          ],
          "font": {
           "color": "#2a3f5f"
          },
          "geo": {
           "bgcolor": "white",
           "lakecolor": "white",
           "landcolor": "#E5ECF6",
           "showlakes": true,
           "showland": true,
           "subunitcolor": "white"
          },
          "hoverlabel": {
           "align": "left"
          },
          "hovermode": "closest",
          "mapbox": {
           "style": "light"
          },
          "paper_bgcolor": "white",
          "plot_bgcolor": "#E5ECF6",
          "polar": {
           "angularaxis": {
            "gridcolor": "white",
            "linecolor": "white",
            "ticks": ""
           },
           "bgcolor": "#E5ECF6",
           "radialaxis": {
            "gridcolor": "white",
            "linecolor": "white",
            "ticks": ""
           }
          },
          "scene": {
           "xaxis": {
            "backgroundcolor": "#E5ECF6",
            "gridcolor": "white",
            "gridwidth": 2,
            "linecolor": "white",
            "showbackground": true,
            "ticks": "",
            "zerolinecolor": "white"
           },
           "yaxis": {
            "backgroundcolor": "#E5ECF6",
            "gridcolor": "white",
            "gridwidth": 2,
            "linecolor": "white",
            "showbackground": true,
            "ticks": "",
            "zerolinecolor": "white"
           },
           "zaxis": {
            "backgroundcolor": "#E5ECF6",
            "gridcolor": "white",
            "gridwidth": 2,
            "linecolor": "white",
            "showbackground": true,
            "ticks": "",
            "zerolinecolor": "white"
           }
          },
          "shapedefaults": {
           "line": {
            "color": "#2a3f5f"
           }
          },
          "ternary": {
           "aaxis": {
            "gridcolor": "white",
            "linecolor": "white",
            "ticks": ""
           },
           "baxis": {
            "gridcolor": "white",
            "linecolor": "white",
            "ticks": ""
           },
           "bgcolor": "#E5ECF6",
           "caxis": {
            "gridcolor": "white",
            "linecolor": "white",
            "ticks": ""
           }
          },
          "title": {
           "x": 0.05
          },
          "xaxis": {
           "automargin": true,
           "gridcolor": "white",
           "linecolor": "white",
           "ticks": "",
           "title": {
            "standoff": 15
           },
           "zerolinecolor": "white",
           "zerolinewidth": 2
          },
          "yaxis": {
           "automargin": true,
           "gridcolor": "white",
           "linecolor": "white",
           "ticks": "",
           "title": {
            "standoff": 15
           },
           "zerolinecolor": "white",
           "zerolinewidth": 2
          }
         }
        },
        "title": {
         "font": {
          "color": "#4D5663"
         }
        },
        "xaxis": {
         "gridcolor": "#E1E5ED",
         "showgrid": true,
         "tickfont": {
          "color": "#4D5663"
         },
         "title": {
          "font": {
           "color": "#4D5663"
          },
          "text": ""
         },
         "zerolinecolor": "#E1E5ED"
        },
        "yaxis": {
         "gridcolor": "#E1E5ED",
         "showgrid": true,
         "tickfont": {
          "color": "#4D5663"
         },
         "title": {
          "font": {
           "color": "#4D5663"
          },
          "text": ""
         },
         "zerolinecolor": "#E1E5ED"
        }
       }
      },
      "text/html": [
       "<div>                            <div id=\"fb1f9085-4422-4b9e-89b1-5df1aafed5c3\" class=\"plotly-graph-div\" style=\"height:525px; width:100%;\"></div>            <script type=\"text/javascript\">                require([\"plotly\"], function(Plotly) {                    window.PLOTLYENV=window.PLOTLYENV || {};\n",
       "                    window.PLOTLYENV.BASE_URL='https://plot.ly';                                    if (document.getElementById(\"fb1f9085-4422-4b9e-89b1-5df1aafed5c3\")) {                    Plotly.newPlot(                        \"fb1f9085-4422-4b9e-89b1-5df1aafed5c3\",                        [{\"histfunc\": \"count\", \"histnorm\": \"\", \"marker\": {\"color\": \"rgba(255, 153, 51, 1.0)\", \"line\": {\"color\": \"#4D5663\", \"width\": 1.3}}, \"name\": \"A\", \"nbinsx\": 25, \"opacity\": 0.8, \"orientation\": \"v\", \"type\": \"histogram\", \"x\": [0.644944253392509, -1.243348684605454, -0.4992529425467864, 2.4951536973358257, 0.7181532996966965, -1.9317140313919021, 0.11474960965809082, -0.1261498964710348, -0.5103316332599934, -0.8276136470561897, -0.2507444797257825, -1.3418672073315923, 0.21175779852862386, 0.5295284425743242, 0.8363177959309905, 0.415861941348495, 0.871861955304613, 0.6681642022568207, 0.6353210567494172, -0.8890269089553131, -0.5757625912203307, 0.0473418279138021, 0.45893720365546087, 0.20533206162680312, 0.5342187570105031, -0.9577761045178981, 0.6215579004212394, 0.3008634269643, 0.33739228720858727, 1.5605524266487771, 1.1653258116847005, 2.293244270264029, -0.7047214962226932, 0.3962295958236032, -0.6537064556460913, -0.4985449582239225, 2.27944819476583, 0.8499011425816464, -0.4860147282091424, -0.6444140483491969, 2.214686187010531, 0.3838743222004633, -0.5539655478660834, -0.9901617877531294, -2.312706735663867, -0.23252768398780077, -1.540241546640356, 1.1808907417329335, 1.0871707946424356, -0.15996342914122272, 0.022131419531764927, 0.5380254693737466, -0.9069222602195819, 0.9098672320142027, 0.39275474249035136, 0.2515091490652439, 0.033273504199668645, -0.4062481423769172, -0.22266747097199469, -0.021543501070881897, 1.1414511969408576, -0.882928566564055, -0.2269953805998093, -1.1414555129144652, -0.19982816122859687, 0.008667300544806618, 0.98104895613813, 0.7000475963198131, -0.9875553180644235, 0.2802041042103516, -0.27841473507495756, -0.28720943739101973, -0.3417889952846551, 0.5204878045371218, -0.434114511660545, -0.2063332906543763, -0.03675127761476961, 1.1901664803851735, 0.01200015667771501, 0.8272860394456298, 0.05409598408964082, -1.270582395308957, -1.5555290581226502, -0.7117188145510055, -0.5312698504250206, -1.5695714005160748, -0.2290634746353095, -1.2991596300694486, 0.12650435754258949, 0.5109620491249028, -1.526578864329696, 0.4182122881950908, 1.4562508551129445, 1.4324202800329318, -0.14732020963007963, -0.8109983196533064, 0.5811563853217354, 1.2867440891345567, -0.6972600913213484, 1.296152728893862]}],                        {\"barmode\": \"overlay\", \"legend\": {\"bgcolor\": \"#F5F6F9\", \"font\": {\"color\": \"#4D5663\"}}, \"paper_bgcolor\": \"#F5F6F9\", \"plot_bgcolor\": \"#F5F6F9\", \"template\": {\"data\": {\"bar\": [{\"error_x\": {\"color\": \"#2a3f5f\"}, \"error_y\": {\"color\": \"#2a3f5f\"}, \"marker\": {\"line\": {\"color\": \"#E5ECF6\", \"width\": 0.5}}, \"type\": \"bar\"}], \"barpolar\": [{\"marker\": {\"line\": {\"color\": \"#E5ECF6\", \"width\": 0.5}}, \"type\": \"barpolar\"}], \"carpet\": [{\"aaxis\": {\"endlinecolor\": \"#2a3f5f\", \"gridcolor\": \"white\", \"linecolor\": \"white\", \"minorgridcolor\": \"white\", \"startlinecolor\": \"#2a3f5f\"}, \"baxis\": {\"endlinecolor\": \"#2a3f5f\", \"gridcolor\": \"white\", \"linecolor\": \"white\", \"minorgridcolor\": \"white\", \"startlinecolor\": \"#2a3f5f\"}, \"type\": \"carpet\"}], \"choropleth\": [{\"colorbar\": {\"outlinewidth\": 0, \"ticks\": \"\"}, \"type\": \"choropleth\"}], \"contour\": [{\"colorbar\": {\"outlinewidth\": 0, \"ticks\": \"\"}, \"colorscale\": [[0.0, \"#0d0887\"], [0.1111111111111111, \"#46039f\"], [0.2222222222222222, \"#7201a8\"], [0.3333333333333333, \"#9c179e\"], [0.4444444444444444, \"#bd3786\"], [0.5555555555555556, \"#d8576b\"], [0.6666666666666666, \"#ed7953\"], [0.7777777777777778, \"#fb9f3a\"], [0.8888888888888888, \"#fdca26\"], [1.0, \"#f0f921\"]], \"type\": \"contour\"}], \"contourcarpet\": [{\"colorbar\": {\"outlinewidth\": 0, \"ticks\": \"\"}, \"type\": \"contourcarpet\"}], \"heatmap\": [{\"colorbar\": {\"outlinewidth\": 0, \"ticks\": \"\"}, \"colorscale\": [[0.0, \"#0d0887\"], [0.1111111111111111, \"#46039f\"], [0.2222222222222222, \"#7201a8\"], [0.3333333333333333, \"#9c179e\"], [0.4444444444444444, \"#bd3786\"], [0.5555555555555556, \"#d8576b\"], [0.6666666666666666, \"#ed7953\"], [0.7777777777777778, \"#fb9f3a\"], [0.8888888888888888, \"#fdca26\"], [1.0, \"#f0f921\"]], \"type\": \"heatmap\"}], \"heatmapgl\": [{\"colorbar\": {\"outlinewidth\": 0, \"ticks\": \"\"}, \"colorscale\": [[0.0, \"#0d0887\"], [0.1111111111111111, \"#46039f\"], [0.2222222222222222, \"#7201a8\"], [0.3333333333333333, \"#9c179e\"], [0.4444444444444444, \"#bd3786\"], [0.5555555555555556, \"#d8576b\"], [0.6666666666666666, \"#ed7953\"], [0.7777777777777778, \"#fb9f3a\"], [0.8888888888888888, \"#fdca26\"], [1.0, \"#f0f921\"]], \"type\": \"heatmapgl\"}], \"histogram\": [{\"marker\": {\"colorbar\": {\"outlinewidth\": 0, \"ticks\": \"\"}}, \"type\": \"histogram\"}], \"histogram2d\": [{\"colorbar\": {\"outlinewidth\": 0, \"ticks\": \"\"}, \"colorscale\": [[0.0, \"#0d0887\"], [0.1111111111111111, \"#46039f\"], [0.2222222222222222, \"#7201a8\"], [0.3333333333333333, \"#9c179e\"], [0.4444444444444444, \"#bd3786\"], [0.5555555555555556, \"#d8576b\"], [0.6666666666666666, \"#ed7953\"], [0.7777777777777778, \"#fb9f3a\"], [0.8888888888888888, \"#fdca26\"], [1.0, \"#f0f921\"]], \"type\": \"histogram2d\"}], \"histogram2dcontour\": [{\"colorbar\": {\"outlinewidth\": 0, \"ticks\": \"\"}, \"colorscale\": [[0.0, \"#0d0887\"], [0.1111111111111111, \"#46039f\"], [0.2222222222222222, \"#7201a8\"], [0.3333333333333333, \"#9c179e\"], [0.4444444444444444, \"#bd3786\"], [0.5555555555555556, \"#d8576b\"], [0.6666666666666666, \"#ed7953\"], [0.7777777777777778, \"#fb9f3a\"], [0.8888888888888888, \"#fdca26\"], [1.0, \"#f0f921\"]], \"type\": \"histogram2dcontour\"}], \"mesh3d\": [{\"colorbar\": {\"outlinewidth\": 0, \"ticks\": \"\"}, \"type\": \"mesh3d\"}], \"parcoords\": [{\"line\": {\"colorbar\": {\"outlinewidth\": 0, \"ticks\": \"\"}}, \"type\": \"parcoords\"}], \"pie\": [{\"automargin\": true, \"type\": \"pie\"}], \"scatter\": [{\"marker\": {\"colorbar\": {\"outlinewidth\": 0, \"ticks\": \"\"}}, \"type\": \"scatter\"}], \"scatter3d\": [{\"line\": {\"colorbar\": {\"outlinewidth\": 0, \"ticks\": \"\"}}, \"marker\": {\"colorbar\": {\"outlinewidth\": 0, \"ticks\": \"\"}}, \"type\": \"scatter3d\"}], \"scattercarpet\": [{\"marker\": {\"colorbar\": {\"outlinewidth\": 0, \"ticks\": \"\"}}, \"type\": \"scattercarpet\"}], \"scattergeo\": [{\"marker\": {\"colorbar\": {\"outlinewidth\": 0, \"ticks\": \"\"}}, \"type\": \"scattergeo\"}], \"scattergl\": [{\"marker\": {\"colorbar\": {\"outlinewidth\": 0, \"ticks\": \"\"}}, \"type\": \"scattergl\"}], \"scattermapbox\": [{\"marker\": {\"colorbar\": {\"outlinewidth\": 0, \"ticks\": \"\"}}, \"type\": \"scattermapbox\"}], \"scatterpolar\": [{\"marker\": {\"colorbar\": {\"outlinewidth\": 0, \"ticks\": \"\"}}, \"type\": \"scatterpolar\"}], \"scatterpolargl\": [{\"marker\": {\"colorbar\": {\"outlinewidth\": 0, \"ticks\": \"\"}}, \"type\": \"scatterpolargl\"}], \"scatterternary\": [{\"marker\": {\"colorbar\": {\"outlinewidth\": 0, \"ticks\": \"\"}}, \"type\": \"scatterternary\"}], \"surface\": [{\"colorbar\": {\"outlinewidth\": 0, \"ticks\": \"\"}, \"colorscale\": [[0.0, \"#0d0887\"], [0.1111111111111111, \"#46039f\"], [0.2222222222222222, \"#7201a8\"], [0.3333333333333333, \"#9c179e\"], [0.4444444444444444, \"#bd3786\"], [0.5555555555555556, \"#d8576b\"], [0.6666666666666666, \"#ed7953\"], [0.7777777777777778, \"#fb9f3a\"], [0.8888888888888888, \"#fdca26\"], [1.0, \"#f0f921\"]], \"type\": \"surface\"}], \"table\": [{\"cells\": {\"fill\": {\"color\": \"#EBF0F8\"}, \"line\": {\"color\": \"white\"}}, \"header\": {\"fill\": {\"color\": \"#C8D4E3\"}, \"line\": {\"color\": \"white\"}}, \"type\": \"table\"}]}, \"layout\": {\"annotationdefaults\": {\"arrowcolor\": \"#2a3f5f\", \"arrowhead\": 0, \"arrowwidth\": 1}, \"coloraxis\": {\"colorbar\": {\"outlinewidth\": 0, \"ticks\": \"\"}}, \"colorscale\": {\"diverging\": [[0, \"#8e0152\"], [0.1, \"#c51b7d\"], [0.2, \"#de77ae\"], [0.3, \"#f1b6da\"], [0.4, \"#fde0ef\"], [0.5, \"#f7f7f7\"], [0.6, \"#e6f5d0\"], [0.7, \"#b8e186\"], [0.8, \"#7fbc41\"], [0.9, \"#4d9221\"], [1, \"#276419\"]], \"sequential\": [[0.0, \"#0d0887\"], [0.1111111111111111, \"#46039f\"], [0.2222222222222222, \"#7201a8\"], [0.3333333333333333, \"#9c179e\"], [0.4444444444444444, \"#bd3786\"], [0.5555555555555556, \"#d8576b\"], [0.6666666666666666, \"#ed7953\"], [0.7777777777777778, \"#fb9f3a\"], [0.8888888888888888, \"#fdca26\"], [1.0, \"#f0f921\"]], \"sequentialminus\": [[0.0, \"#0d0887\"], [0.1111111111111111, \"#46039f\"], [0.2222222222222222, \"#7201a8\"], [0.3333333333333333, \"#9c179e\"], [0.4444444444444444, \"#bd3786\"], [0.5555555555555556, \"#d8576b\"], [0.6666666666666666, \"#ed7953\"], [0.7777777777777778, \"#fb9f3a\"], [0.8888888888888888, \"#fdca26\"], [1.0, \"#f0f921\"]]}, \"colorway\": [\"#636efa\", \"#EF553B\", \"#00cc96\", \"#ab63fa\", \"#FFA15A\", \"#19d3f3\", \"#FF6692\", \"#B6E880\", \"#FF97FF\", \"#FECB52\"], \"font\": {\"color\": \"#2a3f5f\"}, \"geo\": {\"bgcolor\": \"white\", \"lakecolor\": \"white\", \"landcolor\": \"#E5ECF6\", \"showlakes\": true, \"showland\": true, \"subunitcolor\": \"white\"}, \"hoverlabel\": {\"align\": \"left\"}, \"hovermode\": \"closest\", \"mapbox\": {\"style\": \"light\"}, \"paper_bgcolor\": \"white\", \"plot_bgcolor\": \"#E5ECF6\", \"polar\": {\"angularaxis\": {\"gridcolor\": \"white\", \"linecolor\": \"white\", \"ticks\": \"\"}, \"bgcolor\": \"#E5ECF6\", \"radialaxis\": {\"gridcolor\": \"white\", \"linecolor\": \"white\", \"ticks\": \"\"}}, \"scene\": {\"xaxis\": {\"backgroundcolor\": \"#E5ECF6\", \"gridcolor\": \"white\", \"gridwidth\": 2, \"linecolor\": \"white\", \"showbackground\": true, \"ticks\": \"\", \"zerolinecolor\": \"white\"}, \"yaxis\": {\"backgroundcolor\": \"#E5ECF6\", \"gridcolor\": \"white\", \"gridwidth\": 2, \"linecolor\": \"white\", \"showbackground\": true, \"ticks\": \"\", \"zerolinecolor\": \"white\"}, \"zaxis\": {\"backgroundcolor\": \"#E5ECF6\", \"gridcolor\": \"white\", \"gridwidth\": 2, \"linecolor\": \"white\", \"showbackground\": true, \"ticks\": \"\", \"zerolinecolor\": \"white\"}}, \"shapedefaults\": {\"line\": {\"color\": \"#2a3f5f\"}}, \"ternary\": {\"aaxis\": {\"gridcolor\": \"white\", \"linecolor\": \"white\", \"ticks\": \"\"}, \"baxis\": {\"gridcolor\": \"white\", \"linecolor\": \"white\", \"ticks\": \"\"}, \"bgcolor\": \"#E5ECF6\", \"caxis\": {\"gridcolor\": \"white\", \"linecolor\": \"white\", \"ticks\": \"\"}}, \"title\": {\"x\": 0.05}, \"xaxis\": {\"automargin\": true, \"gridcolor\": \"white\", \"linecolor\": \"white\", \"ticks\": \"\", \"title\": {\"standoff\": 15}, \"zerolinecolor\": \"white\", \"zerolinewidth\": 2}, \"yaxis\": {\"automargin\": true, \"gridcolor\": \"white\", \"linecolor\": \"white\", \"ticks\": \"\", \"title\": {\"standoff\": 15}, \"zerolinecolor\": \"white\", \"zerolinewidth\": 2}}}, \"title\": {\"font\": {\"color\": \"#4D5663\"}}, \"xaxis\": {\"gridcolor\": \"#E1E5ED\", \"showgrid\": true, \"tickfont\": {\"color\": \"#4D5663\"}, \"title\": {\"font\": {\"color\": \"#4D5663\"}, \"text\": \"\"}, \"zerolinecolor\": \"#E1E5ED\"}, \"yaxis\": {\"gridcolor\": \"#E1E5ED\", \"showgrid\": true, \"tickfont\": {\"color\": \"#4D5663\"}, \"title\": {\"font\": {\"color\": \"#4D5663\"}, \"text\": \"\"}, \"zerolinecolor\": \"#E1E5ED\"}},                        {\"showLink\": true, \"linkText\": \"Export to plot.ly\", \"plotlyServerURL\": \"https://plot.ly\", \"responsive\": true}                    ).then(function(){\n",
       "                            \n",
       "var gd = document.getElementById('fb1f9085-4422-4b9e-89b1-5df1aafed5c3');\n",
       "var x = new MutationObserver(function (mutations, observer) {{\n",
       "        var display = window.getComputedStyle(gd).display;\n",
       "        if (!display || display === 'none') {{\n",
       "            console.log([gd, 'removed!']);\n",
       "            Plotly.purge(gd);\n",
       "            observer.disconnect();\n",
       "        }}\n",
       "}});\n",
       "\n",
       "// Listen for the removal of the full notebook cells\n",
       "var notebookContainer = gd.closest('#notebook-container');\n",
       "if (notebookContainer) {{\n",
       "    x.observe(notebookContainer, {childList: true});\n",
       "}}\n",
       "\n",
       "// Listen for the clearing of the current output cell\n",
       "var outputEl = gd.closest('.output');\n",
       "if (outputEl) {{\n",
       "    x.observe(outputEl, {childList: true});\n",
       "}}\n",
       "\n",
       "                        })                };                });            </script>        </div>"
      ]
     },
     "metadata": {},
     "output_type": "display_data"
    }
   ],
   "source": [
    "df['A'].iplot(kind='hist', bins=25)"
   ]
  },
  {
   "cell_type": "markdown",
   "metadata": {},
   "source": [
    "### Scatter_matrix()\n",
    "Similar to sns.pairplot()"
   ]
  },
  {
   "cell_type": "code",
   "execution_count": 25,
   "metadata": {},
   "outputs": [
    {
     "data": {
      "application/vnd.plotly.v1+json": {
       "config": {
        "linkText": "Export to plot.ly",
        "plotlyServerURL": "https://plot.ly",
        "showLink": true
       },
       "data": [
        {
         "histfunc": "count",
         "histnorm": "",
         "marker": {
          "color": "rgba(255, 153, 51, 1.0)",
          "line": {
           "color": "#4D5663",
           "width": 1.3
          }
         },
         "name": "A",
         "nbinsx": 10,
         "opacity": 0.8,
         "orientation": "v",
         "type": "histogram",
         "x": [
          0.644944253392509,
          -1.243348684605454,
          -0.4992529425467864,
          2.4951536973358257,
          0.7181532996966965,
          -1.9317140313919021,
          0.11474960965809082,
          -0.1261498964710348,
          -0.5103316332599934,
          -0.8276136470561897,
          -0.2507444797257825,
          -1.3418672073315923,
          0.21175779852862386,
          0.5295284425743242,
          0.8363177959309905,
          0.415861941348495,
          0.871861955304613,
          0.6681642022568207,
          0.6353210567494172,
          -0.8890269089553131,
          -0.5757625912203307,
          0.0473418279138021,
          0.45893720365546087,
          0.20533206162680312,
          0.5342187570105031,
          -0.9577761045178981,
          0.6215579004212394,
          0.3008634269643,
          0.33739228720858727,
          1.5605524266487771,
          1.1653258116847005,
          2.293244270264029,
          -0.7047214962226932,
          0.3962295958236032,
          -0.6537064556460913,
          -0.4985449582239225,
          2.27944819476583,
          0.8499011425816464,
          -0.4860147282091424,
          -0.6444140483491969,
          2.214686187010531,
          0.3838743222004633,
          -0.5539655478660834,
          -0.9901617877531294,
          -2.312706735663867,
          -0.23252768398780077,
          -1.540241546640356,
          1.1808907417329335,
          1.0871707946424356,
          -0.15996342914122272,
          0.022131419531764927,
          0.5380254693737466,
          -0.9069222602195819,
          0.9098672320142027,
          0.39275474249035136,
          0.2515091490652439,
          0.033273504199668645,
          -0.4062481423769172,
          -0.22266747097199469,
          -0.021543501070881897,
          1.1414511969408576,
          -0.882928566564055,
          -0.2269953805998093,
          -1.1414555129144652,
          -0.19982816122859687,
          0.008667300544806618,
          0.98104895613813,
          0.7000475963198131,
          -0.9875553180644235,
          0.2802041042103516,
          -0.27841473507495756,
          -0.28720943739101973,
          -0.3417889952846551,
          0.5204878045371218,
          -0.434114511660545,
          -0.2063332906543763,
          -0.03675127761476961,
          1.1901664803851735,
          0.01200015667771501,
          0.8272860394456298,
          0.05409598408964082,
          -1.270582395308957,
          -1.5555290581226502,
          -0.7117188145510055,
          -0.5312698504250206,
          -1.5695714005160748,
          -0.2290634746353095,
          -1.2991596300694486,
          0.12650435754258949,
          0.5109620491249028,
          -1.526578864329696,
          0.4182122881950908,
          1.4562508551129445,
          1.4324202800329318,
          -0.14732020963007963,
          -0.8109983196533064,
          0.5811563853217354,
          1.2867440891345567,
          -0.6972600913213484,
          1.296152728893862
         ],
         "xaxis": "x",
         "yaxis": "y"
        },
        {
         "line": {
          "color": "rgba(128, 128, 128, 1.0)",
          "dash": "solid",
          "shape": "linear",
          "width": 1.3
         },
         "marker": {
          "size": 2,
          "symbol": "circle"
         },
         "mode": "markers",
         "name": "A",
         "text": "",
         "type": "scatter",
         "x": [
          -0.08013390570656855,
          0.02269628397142565,
          2.0327051595328567,
          -0.7181989100120357,
          1.662173623528374,
          -1.8065217941063234,
          1.2110119232992642,
          0.964951897071669,
          -0.85475257177362,
          -0.8248953729479542,
          -1.5826159940641324,
          -0.31771649747982844,
          0.4695556889421146,
          1.1126965404646199,
          0.47540997865652285,
          1.5046965559370773,
          0.25150127187187826,
          0.7342936672975972,
          0.5573821763407487,
          1.6335921713759398,
          0.28423026188458866,
          -0.3513447045334481,
          0.7216116547879913,
          -2.0192256386128222,
          -0.6603785846807382,
          0.6075414069350706,
          -1.3040106662584956,
          -0.13444623772025147,
          1.4643238329452812,
          0.8287147546248804,
          0.5806777413326851,
          0.9303244942852352,
          0.7259757585380316,
          -0.06322536505460559,
          1.2453254912014053,
          0.6080354966321703,
          0.006735045164522672,
          1.6427954888944556,
          -0.5032316059134918,
          -0.8783406051015079,
          0.8369992548650931,
          -0.15452153692557458,
          0.4495271766918472,
          -0.851990999026497,
          -1.10351719090533,
          0.09538065137446597,
          -1.4065321722524897,
          -0.6884313359013833,
          -1.8692741176830965,
          0.7535226372890009,
          1.7893533378361597,
          -0.7663252274224117,
          1.8026469873249986,
          0.04966144641495865,
          -2.827664478329827,
          -0.12053078024314415,
          -0.8406444888833142,
          1.1436342481148736,
          -0.6438301792589787,
          -0.15968908610736374,
          -0.03930255640966198,
          -0.7994520589749605,
          -1.1940497177919867,
          0.10867677592993708,
          -1.3726391157855171,
          -0.1326855930801497,
          -0.5587655308484875,
          -0.7436168413473584,
          -1.6228530763718965,
          0.06949574404363028,
          0.6809559377259978,
          -0.31448231912903674,
          -0.3316012072631598,
          -0.5847889225916768,
          -1.6805967750833015,
          -0.3665019767365411,
          2.008727649743859,
          -0.24327605882879857,
          -0.359785106683067,
          -0.8924991334740093,
          0.12697324601980906,
          0.5531647475745822,
          -1.0258680943681446,
          0.8539067657069088,
          -0.7889592814582247,
          -1.2162060159782722,
          -1.0133611160795266,
          -0.5733977596069428,
          2.0491826184025244,
          -1.0876329251377972,
          -0.07220169619981867,
          -0.5633866328881607,
          -1.2044256319043143,
          0.5572001026112121,
          -0.5831545677877031,
          -1.428781267332909,
          -0.45228906215591375,
          0.156452198379921,
          -0.44290164114833663,
          -0.4004290542117399
         ],
         "xaxis": "x2",
         "y": [
          0.644944253392509,
          -1.243348684605454,
          -0.4992529425467864,
          2.4951536973358257,
          0.7181532996966965,
          -1.9317140313919021,
          0.11474960965809082,
          -0.1261498964710348,
          -0.5103316332599934,
          -0.8276136470561897,
          -0.2507444797257825,
          -1.3418672073315923,
          0.21175779852862386,
          0.5295284425743242,
          0.8363177959309905,
          0.415861941348495,
          0.871861955304613,
          0.6681642022568207,
          0.6353210567494172,
          -0.8890269089553131,
          -0.5757625912203307,
          0.0473418279138021,
          0.45893720365546087,
          0.20533206162680312,
          0.5342187570105031,
          -0.9577761045178981,
          0.6215579004212394,
          0.3008634269643,
          0.33739228720858727,
          1.5605524266487771,
          1.1653258116847005,
          2.293244270264029,
          -0.7047214962226932,
          0.3962295958236032,
          -0.6537064556460913,
          -0.4985449582239225,
          2.27944819476583,
          0.8499011425816464,
          -0.4860147282091424,
          -0.6444140483491969,
          2.214686187010531,
          0.3838743222004633,
          -0.5539655478660834,
          -0.9901617877531294,
          -2.312706735663867,
          -0.23252768398780077,
          -1.540241546640356,
          1.1808907417329335,
          1.0871707946424356,
          -0.15996342914122272,
          0.022131419531764927,
          0.5380254693737466,
          -0.9069222602195819,
          0.9098672320142027,
          0.39275474249035136,
          0.2515091490652439,
          0.033273504199668645,
          -0.4062481423769172,
          -0.22266747097199469,
          -0.021543501070881897,
          1.1414511969408576,
          -0.882928566564055,
          -0.2269953805998093,
          -1.1414555129144652,
          -0.19982816122859687,
          0.008667300544806618,
          0.98104895613813,
          0.7000475963198131,
          -0.9875553180644235,
          0.2802041042103516,
          -0.27841473507495756,
          -0.28720943739101973,
          -0.3417889952846551,
          0.5204878045371218,
          -0.434114511660545,
          -0.2063332906543763,
          -0.03675127761476961,
          1.1901664803851735,
          0.01200015667771501,
          0.8272860394456298,
          0.05409598408964082,
          -1.270582395308957,
          -1.5555290581226502,
          -0.7117188145510055,
          -0.5312698504250206,
          -1.5695714005160748,
          -0.2290634746353095,
          -1.2991596300694486,
          0.12650435754258949,
          0.5109620491249028,
          -1.526578864329696,
          0.4182122881950908,
          1.4562508551129445,
          1.4324202800329318,
          -0.14732020963007963,
          -0.8109983196533064,
          0.5811563853217354,
          1.2867440891345567,
          -0.6972600913213484,
          1.296152728893862
         ],
         "yaxis": "y2"
        },
        {
         "line": {
          "color": "rgba(128, 128, 128, 1.0)",
          "dash": "solid",
          "shape": "linear",
          "width": 1.3
         },
         "marker": {
          "size": 2,
          "symbol": "circle"
         },
         "mode": "markers",
         "name": "A",
         "text": "",
         "type": "scatter",
         "x": [
          -1.4477574354068719,
          -1.7233603802500193,
          -0.5984209737367858,
          -0.9368878988604648,
          0.9062137919129141,
          0.22218284063825272,
          -2.0417255109737233,
          -0.2192180825379543,
          -0.08977230829964371,
          1.667983087259697,
          -0.6361232272678549,
          -0.5860975409862929,
          0.1899516089475176,
          -0.41979431650782745,
          1.2428414520921423,
          -0.2624917131211503,
          0.3034895475375121,
          1.4413260459453492,
          1.5458349135615945,
          0.29655048031503173,
          0.17181835748016983,
          -0.9122902524233049,
          -1.063669154205758,
          -0.23710133901362845,
          1.3235361574408435,
          -0.7442166856797351,
          -0.49932902949870567,
          0.7516538398106425,
          2.5335247809440373,
          -0.7026777614846776,
          -0.8661315259679787,
          -0.13730753923982933,
          -0.3160815480385251,
          0.7913286350849541,
          2.112259129393216,
          0.31603244474945724,
          -0.03141008988740155,
          -1.227947470679876,
          -1.5922070078566708,
          0.258079605470208,
          0.5734548906839825,
          -0.2777691520070106,
          -2.0354165726202575,
          -2.2345736103617595,
          -0.15622144128515786,
          1.2083026639636036,
          1.2256193565727835,
          0.049295690575631004,
          0.5092101544016114,
          0.9775815228802811,
          1.150036646824441,
          0.2427331726119301,
          0.7018585458297713,
          0.732694391555163,
          1.0644900888894022,
          0.8315305269862964,
          -1.754350659340919,
          -0.2724761793017612,
          0.41936827397426607,
          1.488958602064352,
          -0.779811103736643,
          -1.564613442648919,
          -0.18058918832219908,
          -0.3454475471400498,
          0.2932407621783206,
          -0.8883345583387618,
          1.2803820941214752,
          3.205785592932629,
          1.8009102095110534,
          0.9211060791736984,
          -0.448853493322849,
          -0.30200826157711547,
          0.05697546612366482,
          -0.1842056973960395,
          -0.005830410081542872,
          0.8529016609253436,
          -2.2854142392312577,
          -2.8899863616129533,
          0.10967642834710191,
          -0.31556490283645544,
          -0.14060335448399772,
          0.00715388715644203,
          0.444112110003291,
          -0.21291671360061734,
          -0.4848274315056886,
          0.07510834804429713,
          -0.4938610656153614,
          0.8054222336185921,
          -2.01084235917396,
          0.932196710820158,
          0.858071989954808,
          0.7413215971758675,
          1.279871334620964,
          0.46753806794382813,
          -1.2283945793518722,
          -0.34186980808400164,
          0.3202804776455798,
          1.2853035794578231,
          -0.49864831201596227,
          -0.8287276526398878
         ],
         "xaxis": "x3",
         "y": [
          0.644944253392509,
          -1.243348684605454,
          -0.4992529425467864,
          2.4951536973358257,
          0.7181532996966965,
          -1.9317140313919021,
          0.11474960965809082,
          -0.1261498964710348,
          -0.5103316332599934,
          -0.8276136470561897,
          -0.2507444797257825,
          -1.3418672073315923,
          0.21175779852862386,
          0.5295284425743242,
          0.8363177959309905,
          0.415861941348495,
          0.871861955304613,
          0.6681642022568207,
          0.6353210567494172,
          -0.8890269089553131,
          -0.5757625912203307,
          0.0473418279138021,
          0.45893720365546087,
          0.20533206162680312,
          0.5342187570105031,
          -0.9577761045178981,
          0.6215579004212394,
          0.3008634269643,
          0.33739228720858727,
          1.5605524266487771,
          1.1653258116847005,
          2.293244270264029,
          -0.7047214962226932,
          0.3962295958236032,
          -0.6537064556460913,
          -0.4985449582239225,
          2.27944819476583,
          0.8499011425816464,
          -0.4860147282091424,
          -0.6444140483491969,
          2.214686187010531,
          0.3838743222004633,
          -0.5539655478660834,
          -0.9901617877531294,
          -2.312706735663867,
          -0.23252768398780077,
          -1.540241546640356,
          1.1808907417329335,
          1.0871707946424356,
          -0.15996342914122272,
          0.022131419531764927,
          0.5380254693737466,
          -0.9069222602195819,
          0.9098672320142027,
          0.39275474249035136,
          0.2515091490652439,
          0.033273504199668645,
          -0.4062481423769172,
          -0.22266747097199469,
          -0.021543501070881897,
          1.1414511969408576,
          -0.882928566564055,
          -0.2269953805998093,
          -1.1414555129144652,
          -0.19982816122859687,
          0.008667300544806618,
          0.98104895613813,
          0.7000475963198131,
          -0.9875553180644235,
          0.2802041042103516,
          -0.27841473507495756,
          -0.28720943739101973,
          -0.3417889952846551,
          0.5204878045371218,
          -0.434114511660545,
          -0.2063332906543763,
          -0.03675127761476961,
          1.1901664803851735,
          0.01200015667771501,
          0.8272860394456298,
          0.05409598408964082,
          -1.270582395308957,
          -1.5555290581226502,
          -0.7117188145510055,
          -0.5312698504250206,
          -1.5695714005160748,
          -0.2290634746353095,
          -1.2991596300694486,
          0.12650435754258949,
          0.5109620491249028,
          -1.526578864329696,
          0.4182122881950908,
          1.4562508551129445,
          1.4324202800329318,
          -0.14732020963007963,
          -0.8109983196533064,
          0.5811563853217354,
          1.2867440891345567,
          -0.6972600913213484,
          1.296152728893862
         ],
         "yaxis": "y3"
        },
        {
         "line": {
          "color": "rgba(128, 128, 128, 1.0)",
          "dash": "solid",
          "shape": "linear",
          "width": 1.3
         },
         "marker": {
          "size": 2,
          "symbol": "circle"
         },
         "mode": "markers",
         "name": "A",
         "text": "",
         "type": "scatter",
         "x": [
          2.108994929011714,
          0.8070872510433912,
          -0.7313397784295909,
          -2.4871211713878845,
          0.6166019837528329,
          -0.7709434173700418,
          0.34022723723610104,
          2.03308030133366,
          0.8624422655356735,
          -1.2520793644506358,
          -1.9346072174076763,
          1.5590334411151778,
          1.6555260446539306,
          0.14039508117071453,
          0.2896344524423826,
          0.5620616204620713,
          1.2053296393984896,
          -1.6175600629176843,
          0.9747523003019611,
          -0.40326199832007914,
          -0.16071152817746634,
          -1.0392069937373853,
          0.3736020221377302,
          0.18868892052250075,
          -0.4068412982404847,
          -1.346360707191344,
          -1.7931604365949598,
          -0.36866050549532625,
          -1.5559014093663743,
          -1.739555082436128,
          -0.07744503840508507,
          -0.5200851366375174,
          0.281154567705927,
          0.8114895426827806,
          0.7589999595497369,
          -1.5120990813712023,
          -1.0335769009586557,
          -0.4748527754663108,
          -0.662163238015597,
          0.6916725317574091,
          0.6273055535953047,
          -0.43960931874352555,
          0.3967362982610203,
          1.0117535992710582,
          0.1853478337348335,
          0.1014659949645751,
          -0.33302216273433144,
          -1.5423758085147905,
          0.4732686199257994,
          -0.07414017702040748,
          -0.12836375120161939,
          0.4153942511385534,
          1.2077618908493983,
          0.8783725934187534,
          -0.27061938365128807,
          -0.015927179289710016,
          1.7582576123063614,
          -0.20578031081416243,
          -0.6217994069496171,
          0.12363253644683327,
          0.12043252736150575,
          0.678630403243001,
          1.2758256172016158,
          0.6837832904610815,
          0.6290402086439506,
          1.3801060320616845,
          1.1617994743312978,
          1.644530337237929,
          2.4429426851046268,
          -0.44837888593539693,
          -0.6558008128147459,
          -0.3962931649023302,
          0.004621824175672183,
          1.513839370916935,
          -0.127346979100021,
          0.22549985157638552,
          -1.5945567981818194,
          2.1362857325729148,
          1.006956771801912,
          -0.5866436528150469,
          -1.644721660746748,
          0.8309674517870819,
          0.11321242291815385,
          -1.13514916705063,
          -1.5660367502233106,
          0.4236452451300459,
          -0.200346806825276,
          0.3834293304643709,
          0.07289243563392446,
          0.05275983812000614,
          -1.3897358640759143,
          -0.5430383166286531,
          0.270047889373564,
          0.2921479890529208,
          0.11862501134259394,
          1.3223808127638017,
          2.1055272738203996,
          0.9595698564777835,
          -0.159135395643192,
          0.6674658068888306
         ],
         "xaxis": "x4",
         "y": [
          0.644944253392509,
          -1.243348684605454,
          -0.4992529425467864,
          2.4951536973358257,
          0.7181532996966965,
          -1.9317140313919021,
          0.11474960965809082,
          -0.1261498964710348,
          -0.5103316332599934,
          -0.8276136470561897,
          -0.2507444797257825,
          -1.3418672073315923,
          0.21175779852862386,
          0.5295284425743242,
          0.8363177959309905,
          0.415861941348495,
          0.871861955304613,
          0.6681642022568207,
          0.6353210567494172,
          -0.8890269089553131,
          -0.5757625912203307,
          0.0473418279138021,
          0.45893720365546087,
          0.20533206162680312,
          0.5342187570105031,
          -0.9577761045178981,
          0.6215579004212394,
          0.3008634269643,
          0.33739228720858727,
          1.5605524266487771,
          1.1653258116847005,
          2.293244270264029,
          -0.7047214962226932,
          0.3962295958236032,
          -0.6537064556460913,
          -0.4985449582239225,
          2.27944819476583,
          0.8499011425816464,
          -0.4860147282091424,
          -0.6444140483491969,
          2.214686187010531,
          0.3838743222004633,
          -0.5539655478660834,
          -0.9901617877531294,
          -2.312706735663867,
          -0.23252768398780077,
          -1.540241546640356,
          1.1808907417329335,
          1.0871707946424356,
          -0.15996342914122272,
          0.022131419531764927,
          0.5380254693737466,
          -0.9069222602195819,
          0.9098672320142027,
          0.39275474249035136,
          0.2515091490652439,
          0.033273504199668645,
          -0.4062481423769172,
          -0.22266747097199469,
          -0.021543501070881897,
          1.1414511969408576,
          -0.882928566564055,
          -0.2269953805998093,
          -1.1414555129144652,
          -0.19982816122859687,
          0.008667300544806618,
          0.98104895613813,
          0.7000475963198131,
          -0.9875553180644235,
          0.2802041042103516,
          -0.27841473507495756,
          -0.28720943739101973,
          -0.3417889952846551,
          0.5204878045371218,
          -0.434114511660545,
          -0.2063332906543763,
          -0.03675127761476961,
          1.1901664803851735,
          0.01200015667771501,
          0.8272860394456298,
          0.05409598408964082,
          -1.270582395308957,
          -1.5555290581226502,
          -0.7117188145510055,
          -0.5312698504250206,
          -1.5695714005160748,
          -0.2290634746353095,
          -1.2991596300694486,
          0.12650435754258949,
          0.5109620491249028,
          -1.526578864329696,
          0.4182122881950908,
          1.4562508551129445,
          1.4324202800329318,
          -0.14732020963007963,
          -0.8109983196533064,
          0.5811563853217354,
          1.2867440891345567,
          -0.6972600913213484,
          1.296152728893862
         ],
         "yaxis": "y4"
        },
        {
         "line": {
          "color": "rgba(128, 128, 128, 1.0)",
          "dash": "solid",
          "shape": "linear",
          "width": 1.3
         },
         "marker": {
          "size": 2,
          "symbol": "circle"
         },
         "mode": "markers",
         "name": "B",
         "text": "",
         "type": "scatter",
         "x": [
          0.644944253392509,
          -1.243348684605454,
          -0.4992529425467864,
          2.4951536973358257,
          0.7181532996966965,
          -1.9317140313919021,
          0.11474960965809082,
          -0.1261498964710348,
          -0.5103316332599934,
          -0.8276136470561897,
          -0.2507444797257825,
          -1.3418672073315923,
          0.21175779852862386,
          0.5295284425743242,
          0.8363177959309905,
          0.415861941348495,
          0.871861955304613,
          0.6681642022568207,
          0.6353210567494172,
          -0.8890269089553131,
          -0.5757625912203307,
          0.0473418279138021,
          0.45893720365546087,
          0.20533206162680312,
          0.5342187570105031,
          -0.9577761045178981,
          0.6215579004212394,
          0.3008634269643,
          0.33739228720858727,
          1.5605524266487771,
          1.1653258116847005,
          2.293244270264029,
          -0.7047214962226932,
          0.3962295958236032,
          -0.6537064556460913,
          -0.4985449582239225,
          2.27944819476583,
          0.8499011425816464,
          -0.4860147282091424,
          -0.6444140483491969,
          2.214686187010531,
          0.3838743222004633,
          -0.5539655478660834,
          -0.9901617877531294,
          -2.312706735663867,
          -0.23252768398780077,
          -1.540241546640356,
          1.1808907417329335,
          1.0871707946424356,
          -0.15996342914122272,
          0.022131419531764927,
          0.5380254693737466,
          -0.9069222602195819,
          0.9098672320142027,
          0.39275474249035136,
          0.2515091490652439,
          0.033273504199668645,
          -0.4062481423769172,
          -0.22266747097199469,
          -0.021543501070881897,
          1.1414511969408576,
          -0.882928566564055,
          -0.2269953805998093,
          -1.1414555129144652,
          -0.19982816122859687,
          0.008667300544806618,
          0.98104895613813,
          0.7000475963198131,
          -0.9875553180644235,
          0.2802041042103516,
          -0.27841473507495756,
          -0.28720943739101973,
          -0.3417889952846551,
          0.5204878045371218,
          -0.434114511660545,
          -0.2063332906543763,
          -0.03675127761476961,
          1.1901664803851735,
          0.01200015667771501,
          0.8272860394456298,
          0.05409598408964082,
          -1.270582395308957,
          -1.5555290581226502,
          -0.7117188145510055,
          -0.5312698504250206,
          -1.5695714005160748,
          -0.2290634746353095,
          -1.2991596300694486,
          0.12650435754258949,
          0.5109620491249028,
          -1.526578864329696,
          0.4182122881950908,
          1.4562508551129445,
          1.4324202800329318,
          -0.14732020963007963,
          -0.8109983196533064,
          0.5811563853217354,
          1.2867440891345567,
          -0.6972600913213484,
          1.296152728893862
         ],
         "xaxis": "x5",
         "y": [
          -0.08013390570656855,
          0.02269628397142565,
          2.0327051595328567,
          -0.7181989100120357,
          1.662173623528374,
          -1.8065217941063234,
          1.2110119232992642,
          0.964951897071669,
          -0.85475257177362,
          -0.8248953729479542,
          -1.5826159940641324,
          -0.31771649747982844,
          0.4695556889421146,
          1.1126965404646199,
          0.47540997865652285,
          1.5046965559370773,
          0.25150127187187826,
          0.7342936672975972,
          0.5573821763407487,
          1.6335921713759398,
          0.28423026188458866,
          -0.3513447045334481,
          0.7216116547879913,
          -2.0192256386128222,
          -0.6603785846807382,
          0.6075414069350706,
          -1.3040106662584956,
          -0.13444623772025147,
          1.4643238329452812,
          0.8287147546248804,
          0.5806777413326851,
          0.9303244942852352,
          0.7259757585380316,
          -0.06322536505460559,
          1.2453254912014053,
          0.6080354966321703,
          0.006735045164522672,
          1.6427954888944556,
          -0.5032316059134918,
          -0.8783406051015079,
          0.8369992548650931,
          -0.15452153692557458,
          0.4495271766918472,
          -0.851990999026497,
          -1.10351719090533,
          0.09538065137446597,
          -1.4065321722524897,
          -0.6884313359013833,
          -1.8692741176830965,
          0.7535226372890009,
          1.7893533378361597,
          -0.7663252274224117,
          1.8026469873249986,
          0.04966144641495865,
          -2.827664478329827,
          -0.12053078024314415,
          -0.8406444888833142,
          1.1436342481148736,
          -0.6438301792589787,
          -0.15968908610736374,
          -0.03930255640966198,
          -0.7994520589749605,
          -1.1940497177919867,
          0.10867677592993708,
          -1.3726391157855171,
          -0.1326855930801497,
          -0.5587655308484875,
          -0.7436168413473584,
          -1.6228530763718965,
          0.06949574404363028,
          0.6809559377259978,
          -0.31448231912903674,
          -0.3316012072631598,
          -0.5847889225916768,
          -1.6805967750833015,
          -0.3665019767365411,
          2.008727649743859,
          -0.24327605882879857,
          -0.359785106683067,
          -0.8924991334740093,
          0.12697324601980906,
          0.5531647475745822,
          -1.0258680943681446,
          0.8539067657069088,
          -0.7889592814582247,
          -1.2162060159782722,
          -1.0133611160795266,
          -0.5733977596069428,
          2.0491826184025244,
          -1.0876329251377972,
          -0.07220169619981867,
          -0.5633866328881607,
          -1.2044256319043143,
          0.5572001026112121,
          -0.5831545677877031,
          -1.428781267332909,
          -0.45228906215591375,
          0.156452198379921,
          -0.44290164114833663,
          -0.4004290542117399
         ],
         "yaxis": "y5"
        },
        {
         "histfunc": "count",
         "histnorm": "",
         "marker": {
          "color": "rgba(55, 128, 191, 1.0)",
          "line": {
           "color": "#4D5663",
           "width": 1.3
          }
         },
         "name": "B",
         "nbinsx": 10,
         "opacity": 0.8,
         "orientation": "v",
         "type": "histogram",
         "x": [
          -0.08013390570656855,
          0.02269628397142565,
          2.0327051595328567,
          -0.7181989100120357,
          1.662173623528374,
          -1.8065217941063234,
          1.2110119232992642,
          0.964951897071669,
          -0.85475257177362,
          -0.8248953729479542,
          -1.5826159940641324,
          -0.31771649747982844,
          0.4695556889421146,
          1.1126965404646199,
          0.47540997865652285,
          1.5046965559370773,
          0.25150127187187826,
          0.7342936672975972,
          0.5573821763407487,
          1.6335921713759398,
          0.28423026188458866,
          -0.3513447045334481,
          0.7216116547879913,
          -2.0192256386128222,
          -0.6603785846807382,
          0.6075414069350706,
          -1.3040106662584956,
          -0.13444623772025147,
          1.4643238329452812,
          0.8287147546248804,
          0.5806777413326851,
          0.9303244942852352,
          0.7259757585380316,
          -0.06322536505460559,
          1.2453254912014053,
          0.6080354966321703,
          0.006735045164522672,
          1.6427954888944556,
          -0.5032316059134918,
          -0.8783406051015079,
          0.8369992548650931,
          -0.15452153692557458,
          0.4495271766918472,
          -0.851990999026497,
          -1.10351719090533,
          0.09538065137446597,
          -1.4065321722524897,
          -0.6884313359013833,
          -1.8692741176830965,
          0.7535226372890009,
          1.7893533378361597,
          -0.7663252274224117,
          1.8026469873249986,
          0.04966144641495865,
          -2.827664478329827,
          -0.12053078024314415,
          -0.8406444888833142,
          1.1436342481148736,
          -0.6438301792589787,
          -0.15968908610736374,
          -0.03930255640966198,
          -0.7994520589749605,
          -1.1940497177919867,
          0.10867677592993708,
          -1.3726391157855171,
          -0.1326855930801497,
          -0.5587655308484875,
          -0.7436168413473584,
          -1.6228530763718965,
          0.06949574404363028,
          0.6809559377259978,
          -0.31448231912903674,
          -0.3316012072631598,
          -0.5847889225916768,
          -1.6805967750833015,
          -0.3665019767365411,
          2.008727649743859,
          -0.24327605882879857,
          -0.359785106683067,
          -0.8924991334740093,
          0.12697324601980906,
          0.5531647475745822,
          -1.0258680943681446,
          0.8539067657069088,
          -0.7889592814582247,
          -1.2162060159782722,
          -1.0133611160795266,
          -0.5733977596069428,
          2.0491826184025244,
          -1.0876329251377972,
          -0.07220169619981867,
          -0.5633866328881607,
          -1.2044256319043143,
          0.5572001026112121,
          -0.5831545677877031,
          -1.428781267332909,
          -0.45228906215591375,
          0.156452198379921,
          -0.44290164114833663,
          -0.4004290542117399
         ],
         "xaxis": "x6",
         "yaxis": "y6"
        },
        {
         "line": {
          "color": "rgba(128, 128, 128, 1.0)",
          "dash": "solid",
          "shape": "linear",
          "width": 1.3
         },
         "marker": {
          "size": 2,
          "symbol": "circle"
         },
         "mode": "markers",
         "name": "B",
         "text": "",
         "type": "scatter",
         "x": [
          -1.4477574354068719,
          -1.7233603802500193,
          -0.5984209737367858,
          -0.9368878988604648,
          0.9062137919129141,
          0.22218284063825272,
          -2.0417255109737233,
          -0.2192180825379543,
          -0.08977230829964371,
          1.667983087259697,
          -0.6361232272678549,
          -0.5860975409862929,
          0.1899516089475176,
          -0.41979431650782745,
          1.2428414520921423,
          -0.2624917131211503,
          0.3034895475375121,
          1.4413260459453492,
          1.5458349135615945,
          0.29655048031503173,
          0.17181835748016983,
          -0.9122902524233049,
          -1.063669154205758,
          -0.23710133901362845,
          1.3235361574408435,
          -0.7442166856797351,
          -0.49932902949870567,
          0.7516538398106425,
          2.5335247809440373,
          -0.7026777614846776,
          -0.8661315259679787,
          -0.13730753923982933,
          -0.3160815480385251,
          0.7913286350849541,
          2.112259129393216,
          0.31603244474945724,
          -0.03141008988740155,
          -1.227947470679876,
          -1.5922070078566708,
          0.258079605470208,
          0.5734548906839825,
          -0.2777691520070106,
          -2.0354165726202575,
          -2.2345736103617595,
          -0.15622144128515786,
          1.2083026639636036,
          1.2256193565727835,
          0.049295690575631004,
          0.5092101544016114,
          0.9775815228802811,
          1.150036646824441,
          0.2427331726119301,
          0.7018585458297713,
          0.732694391555163,
          1.0644900888894022,
          0.8315305269862964,
          -1.754350659340919,
          -0.2724761793017612,
          0.41936827397426607,
          1.488958602064352,
          -0.779811103736643,
          -1.564613442648919,
          -0.18058918832219908,
          -0.3454475471400498,
          0.2932407621783206,
          -0.8883345583387618,
          1.2803820941214752,
          3.205785592932629,
          1.8009102095110534,
          0.9211060791736984,
          -0.448853493322849,
          -0.30200826157711547,
          0.05697546612366482,
          -0.1842056973960395,
          -0.005830410081542872,
          0.8529016609253436,
          -2.2854142392312577,
          -2.8899863616129533,
          0.10967642834710191,
          -0.31556490283645544,
          -0.14060335448399772,
          0.00715388715644203,
          0.444112110003291,
          -0.21291671360061734,
          -0.4848274315056886,
          0.07510834804429713,
          -0.4938610656153614,
          0.8054222336185921,
          -2.01084235917396,
          0.932196710820158,
          0.858071989954808,
          0.7413215971758675,
          1.279871334620964,
          0.46753806794382813,
          -1.2283945793518722,
          -0.34186980808400164,
          0.3202804776455798,
          1.2853035794578231,
          -0.49864831201596227,
          -0.8287276526398878
         ],
         "xaxis": "x7",
         "y": [
          -0.08013390570656855,
          0.02269628397142565,
          2.0327051595328567,
          -0.7181989100120357,
          1.662173623528374,
          -1.8065217941063234,
          1.2110119232992642,
          0.964951897071669,
          -0.85475257177362,
          -0.8248953729479542,
          -1.5826159940641324,
          -0.31771649747982844,
          0.4695556889421146,
          1.1126965404646199,
          0.47540997865652285,
          1.5046965559370773,
          0.25150127187187826,
          0.7342936672975972,
          0.5573821763407487,
          1.6335921713759398,
          0.28423026188458866,
          -0.3513447045334481,
          0.7216116547879913,
          -2.0192256386128222,
          -0.6603785846807382,
          0.6075414069350706,
          -1.3040106662584956,
          -0.13444623772025147,
          1.4643238329452812,
          0.8287147546248804,
          0.5806777413326851,
          0.9303244942852352,
          0.7259757585380316,
          -0.06322536505460559,
          1.2453254912014053,
          0.6080354966321703,
          0.006735045164522672,
          1.6427954888944556,
          -0.5032316059134918,
          -0.8783406051015079,
          0.8369992548650931,
          -0.15452153692557458,
          0.4495271766918472,
          -0.851990999026497,
          -1.10351719090533,
          0.09538065137446597,
          -1.4065321722524897,
          -0.6884313359013833,
          -1.8692741176830965,
          0.7535226372890009,
          1.7893533378361597,
          -0.7663252274224117,
          1.8026469873249986,
          0.04966144641495865,
          -2.827664478329827,
          -0.12053078024314415,
          -0.8406444888833142,
          1.1436342481148736,
          -0.6438301792589787,
          -0.15968908610736374,
          -0.03930255640966198,
          -0.7994520589749605,
          -1.1940497177919867,
          0.10867677592993708,
          -1.3726391157855171,
          -0.1326855930801497,
          -0.5587655308484875,
          -0.7436168413473584,
          -1.6228530763718965,
          0.06949574404363028,
          0.6809559377259978,
          -0.31448231912903674,
          -0.3316012072631598,
          -0.5847889225916768,
          -1.6805967750833015,
          -0.3665019767365411,
          2.008727649743859,
          -0.24327605882879857,
          -0.359785106683067,
          -0.8924991334740093,
          0.12697324601980906,
          0.5531647475745822,
          -1.0258680943681446,
          0.8539067657069088,
          -0.7889592814582247,
          -1.2162060159782722,
          -1.0133611160795266,
          -0.5733977596069428,
          2.0491826184025244,
          -1.0876329251377972,
          -0.07220169619981867,
          -0.5633866328881607,
          -1.2044256319043143,
          0.5572001026112121,
          -0.5831545677877031,
          -1.428781267332909,
          -0.45228906215591375,
          0.156452198379921,
          -0.44290164114833663,
          -0.4004290542117399
         ],
         "yaxis": "y7"
        },
        {
         "line": {
          "color": "rgba(128, 128, 128, 1.0)",
          "dash": "solid",
          "shape": "linear",
          "width": 1.3
         },
         "marker": {
          "size": 2,
          "symbol": "circle"
         },
         "mode": "markers",
         "name": "B",
         "text": "",
         "type": "scatter",
         "x": [
          2.108994929011714,
          0.8070872510433912,
          -0.7313397784295909,
          -2.4871211713878845,
          0.6166019837528329,
          -0.7709434173700418,
          0.34022723723610104,
          2.03308030133366,
          0.8624422655356735,
          -1.2520793644506358,
          -1.9346072174076763,
          1.5590334411151778,
          1.6555260446539306,
          0.14039508117071453,
          0.2896344524423826,
          0.5620616204620713,
          1.2053296393984896,
          -1.6175600629176843,
          0.9747523003019611,
          -0.40326199832007914,
          -0.16071152817746634,
          -1.0392069937373853,
          0.3736020221377302,
          0.18868892052250075,
          -0.4068412982404847,
          -1.346360707191344,
          -1.7931604365949598,
          -0.36866050549532625,
          -1.5559014093663743,
          -1.739555082436128,
          -0.07744503840508507,
          -0.5200851366375174,
          0.281154567705927,
          0.8114895426827806,
          0.7589999595497369,
          -1.5120990813712023,
          -1.0335769009586557,
          -0.4748527754663108,
          -0.662163238015597,
          0.6916725317574091,
          0.6273055535953047,
          -0.43960931874352555,
          0.3967362982610203,
          1.0117535992710582,
          0.1853478337348335,
          0.1014659949645751,
          -0.33302216273433144,
          -1.5423758085147905,
          0.4732686199257994,
          -0.07414017702040748,
          -0.12836375120161939,
          0.4153942511385534,
          1.2077618908493983,
          0.8783725934187534,
          -0.27061938365128807,
          -0.015927179289710016,
          1.7582576123063614,
          -0.20578031081416243,
          -0.6217994069496171,
          0.12363253644683327,
          0.12043252736150575,
          0.678630403243001,
          1.2758256172016158,
          0.6837832904610815,
          0.6290402086439506,
          1.3801060320616845,
          1.1617994743312978,
          1.644530337237929,
          2.4429426851046268,
          -0.44837888593539693,
          -0.6558008128147459,
          -0.3962931649023302,
          0.004621824175672183,
          1.513839370916935,
          -0.127346979100021,
          0.22549985157638552,
          -1.5945567981818194,
          2.1362857325729148,
          1.006956771801912,
          -0.5866436528150469,
          -1.644721660746748,
          0.8309674517870819,
          0.11321242291815385,
          -1.13514916705063,
          -1.5660367502233106,
          0.4236452451300459,
          -0.200346806825276,
          0.3834293304643709,
          0.07289243563392446,
          0.05275983812000614,
          -1.3897358640759143,
          -0.5430383166286531,
          0.270047889373564,
          0.2921479890529208,
          0.11862501134259394,
          1.3223808127638017,
          2.1055272738203996,
          0.9595698564777835,
          -0.159135395643192,
          0.6674658068888306
         ],
         "xaxis": "x8",
         "y": [
          -0.08013390570656855,
          0.02269628397142565,
          2.0327051595328567,
          -0.7181989100120357,
          1.662173623528374,
          -1.8065217941063234,
          1.2110119232992642,
          0.964951897071669,
          -0.85475257177362,
          -0.8248953729479542,
          -1.5826159940641324,
          -0.31771649747982844,
          0.4695556889421146,
          1.1126965404646199,
          0.47540997865652285,
          1.5046965559370773,
          0.25150127187187826,
          0.7342936672975972,
          0.5573821763407487,
          1.6335921713759398,
          0.28423026188458866,
          -0.3513447045334481,
          0.7216116547879913,
          -2.0192256386128222,
          -0.6603785846807382,
          0.6075414069350706,
          -1.3040106662584956,
          -0.13444623772025147,
          1.4643238329452812,
          0.8287147546248804,
          0.5806777413326851,
          0.9303244942852352,
          0.7259757585380316,
          -0.06322536505460559,
          1.2453254912014053,
          0.6080354966321703,
          0.006735045164522672,
          1.6427954888944556,
          -0.5032316059134918,
          -0.8783406051015079,
          0.8369992548650931,
          -0.15452153692557458,
          0.4495271766918472,
          -0.851990999026497,
          -1.10351719090533,
          0.09538065137446597,
          -1.4065321722524897,
          -0.6884313359013833,
          -1.8692741176830965,
          0.7535226372890009,
          1.7893533378361597,
          -0.7663252274224117,
          1.8026469873249986,
          0.04966144641495865,
          -2.827664478329827,
          -0.12053078024314415,
          -0.8406444888833142,
          1.1436342481148736,
          -0.6438301792589787,
          -0.15968908610736374,
          -0.03930255640966198,
          -0.7994520589749605,
          -1.1940497177919867,
          0.10867677592993708,
          -1.3726391157855171,
          -0.1326855930801497,
          -0.5587655308484875,
          -0.7436168413473584,
          -1.6228530763718965,
          0.06949574404363028,
          0.6809559377259978,
          -0.31448231912903674,
          -0.3316012072631598,
          -0.5847889225916768,
          -1.6805967750833015,
          -0.3665019767365411,
          2.008727649743859,
          -0.24327605882879857,
          -0.359785106683067,
          -0.8924991334740093,
          0.12697324601980906,
          0.5531647475745822,
          -1.0258680943681446,
          0.8539067657069088,
          -0.7889592814582247,
          -1.2162060159782722,
          -1.0133611160795266,
          -0.5733977596069428,
          2.0491826184025244,
          -1.0876329251377972,
          -0.07220169619981867,
          -0.5633866328881607,
          -1.2044256319043143,
          0.5572001026112121,
          -0.5831545677877031,
          -1.428781267332909,
          -0.45228906215591375,
          0.156452198379921,
          -0.44290164114833663,
          -0.4004290542117399
         ],
         "yaxis": "y8"
        },
        {
         "line": {
          "color": "rgba(128, 128, 128, 1.0)",
          "dash": "solid",
          "shape": "linear",
          "width": 1.3
         },
         "marker": {
          "size": 2,
          "symbol": "circle"
         },
         "mode": "markers",
         "name": "C",
         "text": "",
         "type": "scatter",
         "x": [
          0.644944253392509,
          -1.243348684605454,
          -0.4992529425467864,
          2.4951536973358257,
          0.7181532996966965,
          -1.9317140313919021,
          0.11474960965809082,
          -0.1261498964710348,
          -0.5103316332599934,
          -0.8276136470561897,
          -0.2507444797257825,
          -1.3418672073315923,
          0.21175779852862386,
          0.5295284425743242,
          0.8363177959309905,
          0.415861941348495,
          0.871861955304613,
          0.6681642022568207,
          0.6353210567494172,
          -0.8890269089553131,
          -0.5757625912203307,
          0.0473418279138021,
          0.45893720365546087,
          0.20533206162680312,
          0.5342187570105031,
          -0.9577761045178981,
          0.6215579004212394,
          0.3008634269643,
          0.33739228720858727,
          1.5605524266487771,
          1.1653258116847005,
          2.293244270264029,
          -0.7047214962226932,
          0.3962295958236032,
          -0.6537064556460913,
          -0.4985449582239225,
          2.27944819476583,
          0.8499011425816464,
          -0.4860147282091424,
          -0.6444140483491969,
          2.214686187010531,
          0.3838743222004633,
          -0.5539655478660834,
          -0.9901617877531294,
          -2.312706735663867,
          -0.23252768398780077,
          -1.540241546640356,
          1.1808907417329335,
          1.0871707946424356,
          -0.15996342914122272,
          0.022131419531764927,
          0.5380254693737466,
          -0.9069222602195819,
          0.9098672320142027,
          0.39275474249035136,
          0.2515091490652439,
          0.033273504199668645,
          -0.4062481423769172,
          -0.22266747097199469,
          -0.021543501070881897,
          1.1414511969408576,
          -0.882928566564055,
          -0.2269953805998093,
          -1.1414555129144652,
          -0.19982816122859687,
          0.008667300544806618,
          0.98104895613813,
          0.7000475963198131,
          -0.9875553180644235,
          0.2802041042103516,
          -0.27841473507495756,
          -0.28720943739101973,
          -0.3417889952846551,
          0.5204878045371218,
          -0.434114511660545,
          -0.2063332906543763,
          -0.03675127761476961,
          1.1901664803851735,
          0.01200015667771501,
          0.8272860394456298,
          0.05409598408964082,
          -1.270582395308957,
          -1.5555290581226502,
          -0.7117188145510055,
          -0.5312698504250206,
          -1.5695714005160748,
          -0.2290634746353095,
          -1.2991596300694486,
          0.12650435754258949,
          0.5109620491249028,
          -1.526578864329696,
          0.4182122881950908,
          1.4562508551129445,
          1.4324202800329318,
          -0.14732020963007963,
          -0.8109983196533064,
          0.5811563853217354,
          1.2867440891345567,
          -0.6972600913213484,
          1.296152728893862
         ],
         "xaxis": "x9",
         "y": [
          -1.4477574354068719,
          -1.7233603802500193,
          -0.5984209737367858,
          -0.9368878988604648,
          0.9062137919129141,
          0.22218284063825272,
          -2.0417255109737233,
          -0.2192180825379543,
          -0.08977230829964371,
          1.667983087259697,
          -0.6361232272678549,
          -0.5860975409862929,
          0.1899516089475176,
          -0.41979431650782745,
          1.2428414520921423,
          -0.2624917131211503,
          0.3034895475375121,
          1.4413260459453492,
          1.5458349135615945,
          0.29655048031503173,
          0.17181835748016983,
          -0.9122902524233049,
          -1.063669154205758,
          -0.23710133901362845,
          1.3235361574408435,
          -0.7442166856797351,
          -0.49932902949870567,
          0.7516538398106425,
          2.5335247809440373,
          -0.7026777614846776,
          -0.8661315259679787,
          -0.13730753923982933,
          -0.3160815480385251,
          0.7913286350849541,
          2.112259129393216,
          0.31603244474945724,
          -0.03141008988740155,
          -1.227947470679876,
          -1.5922070078566708,
          0.258079605470208,
          0.5734548906839825,
          -0.2777691520070106,
          -2.0354165726202575,
          -2.2345736103617595,
          -0.15622144128515786,
          1.2083026639636036,
          1.2256193565727835,
          0.049295690575631004,
          0.5092101544016114,
          0.9775815228802811,
          1.150036646824441,
          0.2427331726119301,
          0.7018585458297713,
          0.732694391555163,
          1.0644900888894022,
          0.8315305269862964,
          -1.754350659340919,
          -0.2724761793017612,
          0.41936827397426607,
          1.488958602064352,
          -0.779811103736643,
          -1.564613442648919,
          -0.18058918832219908,
          -0.3454475471400498,
          0.2932407621783206,
          -0.8883345583387618,
          1.2803820941214752,
          3.205785592932629,
          1.8009102095110534,
          0.9211060791736984,
          -0.448853493322849,
          -0.30200826157711547,
          0.05697546612366482,
          -0.1842056973960395,
          -0.005830410081542872,
          0.8529016609253436,
          -2.2854142392312577,
          -2.8899863616129533,
          0.10967642834710191,
          -0.31556490283645544,
          -0.14060335448399772,
          0.00715388715644203,
          0.444112110003291,
          -0.21291671360061734,
          -0.4848274315056886,
          0.07510834804429713,
          -0.4938610656153614,
          0.8054222336185921,
          -2.01084235917396,
          0.932196710820158,
          0.858071989954808,
          0.7413215971758675,
          1.279871334620964,
          0.46753806794382813,
          -1.2283945793518722,
          -0.34186980808400164,
          0.3202804776455798,
          1.2853035794578231,
          -0.49864831201596227,
          -0.8287276526398878
         ],
         "yaxis": "y9"
        },
        {
         "line": {
          "color": "rgba(128, 128, 128, 1.0)",
          "dash": "solid",
          "shape": "linear",
          "width": 1.3
         },
         "marker": {
          "size": 2,
          "symbol": "circle"
         },
         "mode": "markers",
         "name": "C",
         "text": "",
         "type": "scatter",
         "x": [
          -0.08013390570656855,
          0.02269628397142565,
          2.0327051595328567,
          -0.7181989100120357,
          1.662173623528374,
          -1.8065217941063234,
          1.2110119232992642,
          0.964951897071669,
          -0.85475257177362,
          -0.8248953729479542,
          -1.5826159940641324,
          -0.31771649747982844,
          0.4695556889421146,
          1.1126965404646199,
          0.47540997865652285,
          1.5046965559370773,
          0.25150127187187826,
          0.7342936672975972,
          0.5573821763407487,
          1.6335921713759398,
          0.28423026188458866,
          -0.3513447045334481,
          0.7216116547879913,
          -2.0192256386128222,
          -0.6603785846807382,
          0.6075414069350706,
          -1.3040106662584956,
          -0.13444623772025147,
          1.4643238329452812,
          0.8287147546248804,
          0.5806777413326851,
          0.9303244942852352,
          0.7259757585380316,
          -0.06322536505460559,
          1.2453254912014053,
          0.6080354966321703,
          0.006735045164522672,
          1.6427954888944556,
          -0.5032316059134918,
          -0.8783406051015079,
          0.8369992548650931,
          -0.15452153692557458,
          0.4495271766918472,
          -0.851990999026497,
          -1.10351719090533,
          0.09538065137446597,
          -1.4065321722524897,
          -0.6884313359013833,
          -1.8692741176830965,
          0.7535226372890009,
          1.7893533378361597,
          -0.7663252274224117,
          1.8026469873249986,
          0.04966144641495865,
          -2.827664478329827,
          -0.12053078024314415,
          -0.8406444888833142,
          1.1436342481148736,
          -0.6438301792589787,
          -0.15968908610736374,
          -0.03930255640966198,
          -0.7994520589749605,
          -1.1940497177919867,
          0.10867677592993708,
          -1.3726391157855171,
          -0.1326855930801497,
          -0.5587655308484875,
          -0.7436168413473584,
          -1.6228530763718965,
          0.06949574404363028,
          0.6809559377259978,
          -0.31448231912903674,
          -0.3316012072631598,
          -0.5847889225916768,
          -1.6805967750833015,
          -0.3665019767365411,
          2.008727649743859,
          -0.24327605882879857,
          -0.359785106683067,
          -0.8924991334740093,
          0.12697324601980906,
          0.5531647475745822,
          -1.0258680943681446,
          0.8539067657069088,
          -0.7889592814582247,
          -1.2162060159782722,
          -1.0133611160795266,
          -0.5733977596069428,
          2.0491826184025244,
          -1.0876329251377972,
          -0.07220169619981867,
          -0.5633866328881607,
          -1.2044256319043143,
          0.5572001026112121,
          -0.5831545677877031,
          -1.428781267332909,
          -0.45228906215591375,
          0.156452198379921,
          -0.44290164114833663,
          -0.4004290542117399
         ],
         "xaxis": "x10",
         "y": [
          -1.4477574354068719,
          -1.7233603802500193,
          -0.5984209737367858,
          -0.9368878988604648,
          0.9062137919129141,
          0.22218284063825272,
          -2.0417255109737233,
          -0.2192180825379543,
          -0.08977230829964371,
          1.667983087259697,
          -0.6361232272678549,
          -0.5860975409862929,
          0.1899516089475176,
          -0.41979431650782745,
          1.2428414520921423,
          -0.2624917131211503,
          0.3034895475375121,
          1.4413260459453492,
          1.5458349135615945,
          0.29655048031503173,
          0.17181835748016983,
          -0.9122902524233049,
          -1.063669154205758,
          -0.23710133901362845,
          1.3235361574408435,
          -0.7442166856797351,
          -0.49932902949870567,
          0.7516538398106425,
          2.5335247809440373,
          -0.7026777614846776,
          -0.8661315259679787,
          -0.13730753923982933,
          -0.3160815480385251,
          0.7913286350849541,
          2.112259129393216,
          0.31603244474945724,
          -0.03141008988740155,
          -1.227947470679876,
          -1.5922070078566708,
          0.258079605470208,
          0.5734548906839825,
          -0.2777691520070106,
          -2.0354165726202575,
          -2.2345736103617595,
          -0.15622144128515786,
          1.2083026639636036,
          1.2256193565727835,
          0.049295690575631004,
          0.5092101544016114,
          0.9775815228802811,
          1.150036646824441,
          0.2427331726119301,
          0.7018585458297713,
          0.732694391555163,
          1.0644900888894022,
          0.8315305269862964,
          -1.754350659340919,
          -0.2724761793017612,
          0.41936827397426607,
          1.488958602064352,
          -0.779811103736643,
          -1.564613442648919,
          -0.18058918832219908,
          -0.3454475471400498,
          0.2932407621783206,
          -0.8883345583387618,
          1.2803820941214752,
          3.205785592932629,
          1.8009102095110534,
          0.9211060791736984,
          -0.448853493322849,
          -0.30200826157711547,
          0.05697546612366482,
          -0.1842056973960395,
          -0.005830410081542872,
          0.8529016609253436,
          -2.2854142392312577,
          -2.8899863616129533,
          0.10967642834710191,
          -0.31556490283645544,
          -0.14060335448399772,
          0.00715388715644203,
          0.444112110003291,
          -0.21291671360061734,
          -0.4848274315056886,
          0.07510834804429713,
          -0.4938610656153614,
          0.8054222336185921,
          -2.01084235917396,
          0.932196710820158,
          0.858071989954808,
          0.7413215971758675,
          1.279871334620964,
          0.46753806794382813,
          -1.2283945793518722,
          -0.34186980808400164,
          0.3202804776455798,
          1.2853035794578231,
          -0.49864831201596227,
          -0.8287276526398878
         ],
         "yaxis": "y10"
        },
        {
         "histfunc": "count",
         "histnorm": "",
         "marker": {
          "color": "rgba(50, 171, 96, 1.0)",
          "line": {
           "color": "#4D5663",
           "width": 1.3
          }
         },
         "name": "C",
         "nbinsx": 10,
         "opacity": 0.8,
         "orientation": "v",
         "type": "histogram",
         "x": [
          -1.4477574354068719,
          -1.7233603802500193,
          -0.5984209737367858,
          -0.9368878988604648,
          0.9062137919129141,
          0.22218284063825272,
          -2.0417255109737233,
          -0.2192180825379543,
          -0.08977230829964371,
          1.667983087259697,
          -0.6361232272678549,
          -0.5860975409862929,
          0.1899516089475176,
          -0.41979431650782745,
          1.2428414520921423,
          -0.2624917131211503,
          0.3034895475375121,
          1.4413260459453492,
          1.5458349135615945,
          0.29655048031503173,
          0.17181835748016983,
          -0.9122902524233049,
          -1.063669154205758,
          -0.23710133901362845,
          1.3235361574408435,
          -0.7442166856797351,
          -0.49932902949870567,
          0.7516538398106425,
          2.5335247809440373,
          -0.7026777614846776,
          -0.8661315259679787,
          -0.13730753923982933,
          -0.3160815480385251,
          0.7913286350849541,
          2.112259129393216,
          0.31603244474945724,
          -0.03141008988740155,
          -1.227947470679876,
          -1.5922070078566708,
          0.258079605470208,
          0.5734548906839825,
          -0.2777691520070106,
          -2.0354165726202575,
          -2.2345736103617595,
          -0.15622144128515786,
          1.2083026639636036,
          1.2256193565727835,
          0.049295690575631004,
          0.5092101544016114,
          0.9775815228802811,
          1.150036646824441,
          0.2427331726119301,
          0.7018585458297713,
          0.732694391555163,
          1.0644900888894022,
          0.8315305269862964,
          -1.754350659340919,
          -0.2724761793017612,
          0.41936827397426607,
          1.488958602064352,
          -0.779811103736643,
          -1.564613442648919,
          -0.18058918832219908,
          -0.3454475471400498,
          0.2932407621783206,
          -0.8883345583387618,
          1.2803820941214752,
          3.205785592932629,
          1.8009102095110534,
          0.9211060791736984,
          -0.448853493322849,
          -0.30200826157711547,
          0.05697546612366482,
          -0.1842056973960395,
          -0.005830410081542872,
          0.8529016609253436,
          -2.2854142392312577,
          -2.8899863616129533,
          0.10967642834710191,
          -0.31556490283645544,
          -0.14060335448399772,
          0.00715388715644203,
          0.444112110003291,
          -0.21291671360061734,
          -0.4848274315056886,
          0.07510834804429713,
          -0.4938610656153614,
          0.8054222336185921,
          -2.01084235917396,
          0.932196710820158,
          0.858071989954808,
          0.7413215971758675,
          1.279871334620964,
          0.46753806794382813,
          -1.2283945793518722,
          -0.34186980808400164,
          0.3202804776455798,
          1.2853035794578231,
          -0.49864831201596227,
          -0.8287276526398878
         ],
         "xaxis": "x11",
         "yaxis": "y11"
        },
        {
         "line": {
          "color": "rgba(128, 128, 128, 1.0)",
          "dash": "solid",
          "shape": "linear",
          "width": 1.3
         },
         "marker": {
          "size": 2,
          "symbol": "circle"
         },
         "mode": "markers",
         "name": "C",
         "text": "",
         "type": "scatter",
         "x": [
          2.108994929011714,
          0.8070872510433912,
          -0.7313397784295909,
          -2.4871211713878845,
          0.6166019837528329,
          -0.7709434173700418,
          0.34022723723610104,
          2.03308030133366,
          0.8624422655356735,
          -1.2520793644506358,
          -1.9346072174076763,
          1.5590334411151778,
          1.6555260446539306,
          0.14039508117071453,
          0.2896344524423826,
          0.5620616204620713,
          1.2053296393984896,
          -1.6175600629176843,
          0.9747523003019611,
          -0.40326199832007914,
          -0.16071152817746634,
          -1.0392069937373853,
          0.3736020221377302,
          0.18868892052250075,
          -0.4068412982404847,
          -1.346360707191344,
          -1.7931604365949598,
          -0.36866050549532625,
          -1.5559014093663743,
          -1.739555082436128,
          -0.07744503840508507,
          -0.5200851366375174,
          0.281154567705927,
          0.8114895426827806,
          0.7589999595497369,
          -1.5120990813712023,
          -1.0335769009586557,
          -0.4748527754663108,
          -0.662163238015597,
          0.6916725317574091,
          0.6273055535953047,
          -0.43960931874352555,
          0.3967362982610203,
          1.0117535992710582,
          0.1853478337348335,
          0.1014659949645751,
          -0.33302216273433144,
          -1.5423758085147905,
          0.4732686199257994,
          -0.07414017702040748,
          -0.12836375120161939,
          0.4153942511385534,
          1.2077618908493983,
          0.8783725934187534,
          -0.27061938365128807,
          -0.015927179289710016,
          1.7582576123063614,
          -0.20578031081416243,
          -0.6217994069496171,
          0.12363253644683327,
          0.12043252736150575,
          0.678630403243001,
          1.2758256172016158,
          0.6837832904610815,
          0.6290402086439506,
          1.3801060320616845,
          1.1617994743312978,
          1.644530337237929,
          2.4429426851046268,
          -0.44837888593539693,
          -0.6558008128147459,
          -0.3962931649023302,
          0.004621824175672183,
          1.513839370916935,
          -0.127346979100021,
          0.22549985157638552,
          -1.5945567981818194,
          2.1362857325729148,
          1.006956771801912,
          -0.5866436528150469,
          -1.644721660746748,
          0.8309674517870819,
          0.11321242291815385,
          -1.13514916705063,
          -1.5660367502233106,
          0.4236452451300459,
          -0.200346806825276,
          0.3834293304643709,
          0.07289243563392446,
          0.05275983812000614,
          -1.3897358640759143,
          -0.5430383166286531,
          0.270047889373564,
          0.2921479890529208,
          0.11862501134259394,
          1.3223808127638017,
          2.1055272738203996,
          0.9595698564777835,
          -0.159135395643192,
          0.6674658068888306
         ],
         "xaxis": "x12",
         "y": [
          -1.4477574354068719,
          -1.7233603802500193,
          -0.5984209737367858,
          -0.9368878988604648,
          0.9062137919129141,
          0.22218284063825272,
          -2.0417255109737233,
          -0.2192180825379543,
          -0.08977230829964371,
          1.667983087259697,
          -0.6361232272678549,
          -0.5860975409862929,
          0.1899516089475176,
          -0.41979431650782745,
          1.2428414520921423,
          -0.2624917131211503,
          0.3034895475375121,
          1.4413260459453492,
          1.5458349135615945,
          0.29655048031503173,
          0.17181835748016983,
          -0.9122902524233049,
          -1.063669154205758,
          -0.23710133901362845,
          1.3235361574408435,
          -0.7442166856797351,
          -0.49932902949870567,
          0.7516538398106425,
          2.5335247809440373,
          -0.7026777614846776,
          -0.8661315259679787,
          -0.13730753923982933,
          -0.3160815480385251,
          0.7913286350849541,
          2.112259129393216,
          0.31603244474945724,
          -0.03141008988740155,
          -1.227947470679876,
          -1.5922070078566708,
          0.258079605470208,
          0.5734548906839825,
          -0.2777691520070106,
          -2.0354165726202575,
          -2.2345736103617595,
          -0.15622144128515786,
          1.2083026639636036,
          1.2256193565727835,
          0.049295690575631004,
          0.5092101544016114,
          0.9775815228802811,
          1.150036646824441,
          0.2427331726119301,
          0.7018585458297713,
          0.732694391555163,
          1.0644900888894022,
          0.8315305269862964,
          -1.754350659340919,
          -0.2724761793017612,
          0.41936827397426607,
          1.488958602064352,
          -0.779811103736643,
          -1.564613442648919,
          -0.18058918832219908,
          -0.3454475471400498,
          0.2932407621783206,
          -0.8883345583387618,
          1.2803820941214752,
          3.205785592932629,
          1.8009102095110534,
          0.9211060791736984,
          -0.448853493322849,
          -0.30200826157711547,
          0.05697546612366482,
          -0.1842056973960395,
          -0.005830410081542872,
          0.8529016609253436,
          -2.2854142392312577,
          -2.8899863616129533,
          0.10967642834710191,
          -0.31556490283645544,
          -0.14060335448399772,
          0.00715388715644203,
          0.444112110003291,
          -0.21291671360061734,
          -0.4848274315056886,
          0.07510834804429713,
          -0.4938610656153614,
          0.8054222336185921,
          -2.01084235917396,
          0.932196710820158,
          0.858071989954808,
          0.7413215971758675,
          1.279871334620964,
          0.46753806794382813,
          -1.2283945793518722,
          -0.34186980808400164,
          0.3202804776455798,
          1.2853035794578231,
          -0.49864831201596227,
          -0.8287276526398878
         ],
         "yaxis": "y12"
        },
        {
         "line": {
          "color": "rgba(128, 128, 128, 1.0)",
          "dash": "solid",
          "shape": "linear",
          "width": 1.3
         },
         "marker": {
          "size": 2,
          "symbol": "circle"
         },
         "mode": "markers",
         "name": "D",
         "text": "",
         "type": "scatter",
         "x": [
          0.644944253392509,
          -1.243348684605454,
          -0.4992529425467864,
          2.4951536973358257,
          0.7181532996966965,
          -1.9317140313919021,
          0.11474960965809082,
          -0.1261498964710348,
          -0.5103316332599934,
          -0.8276136470561897,
          -0.2507444797257825,
          -1.3418672073315923,
          0.21175779852862386,
          0.5295284425743242,
          0.8363177959309905,
          0.415861941348495,
          0.871861955304613,
          0.6681642022568207,
          0.6353210567494172,
          -0.8890269089553131,
          -0.5757625912203307,
          0.0473418279138021,
          0.45893720365546087,
          0.20533206162680312,
          0.5342187570105031,
          -0.9577761045178981,
          0.6215579004212394,
          0.3008634269643,
          0.33739228720858727,
          1.5605524266487771,
          1.1653258116847005,
          2.293244270264029,
          -0.7047214962226932,
          0.3962295958236032,
          -0.6537064556460913,
          -0.4985449582239225,
          2.27944819476583,
          0.8499011425816464,
          -0.4860147282091424,
          -0.6444140483491969,
          2.214686187010531,
          0.3838743222004633,
          -0.5539655478660834,
          -0.9901617877531294,
          -2.312706735663867,
          -0.23252768398780077,
          -1.540241546640356,
          1.1808907417329335,
          1.0871707946424356,
          -0.15996342914122272,
          0.022131419531764927,
          0.5380254693737466,
          -0.9069222602195819,
          0.9098672320142027,
          0.39275474249035136,
          0.2515091490652439,
          0.033273504199668645,
          -0.4062481423769172,
          -0.22266747097199469,
          -0.021543501070881897,
          1.1414511969408576,
          -0.882928566564055,
          -0.2269953805998093,
          -1.1414555129144652,
          -0.19982816122859687,
          0.008667300544806618,
          0.98104895613813,
          0.7000475963198131,
          -0.9875553180644235,
          0.2802041042103516,
          -0.27841473507495756,
          -0.28720943739101973,
          -0.3417889952846551,
          0.5204878045371218,
          -0.434114511660545,
          -0.2063332906543763,
          -0.03675127761476961,
          1.1901664803851735,
          0.01200015667771501,
          0.8272860394456298,
          0.05409598408964082,
          -1.270582395308957,
          -1.5555290581226502,
          -0.7117188145510055,
          -0.5312698504250206,
          -1.5695714005160748,
          -0.2290634746353095,
          -1.2991596300694486,
          0.12650435754258949,
          0.5109620491249028,
          -1.526578864329696,
          0.4182122881950908,
          1.4562508551129445,
          1.4324202800329318,
          -0.14732020963007963,
          -0.8109983196533064,
          0.5811563853217354,
          1.2867440891345567,
          -0.6972600913213484,
          1.296152728893862
         ],
         "xaxis": "x13",
         "y": [
          2.108994929011714,
          0.8070872510433912,
          -0.7313397784295909,
          -2.4871211713878845,
          0.6166019837528329,
          -0.7709434173700418,
          0.34022723723610104,
          2.03308030133366,
          0.8624422655356735,
          -1.2520793644506358,
          -1.9346072174076763,
          1.5590334411151778,
          1.6555260446539306,
          0.14039508117071453,
          0.2896344524423826,
          0.5620616204620713,
          1.2053296393984896,
          -1.6175600629176843,
          0.9747523003019611,
          -0.40326199832007914,
          -0.16071152817746634,
          -1.0392069937373853,
          0.3736020221377302,
          0.18868892052250075,
          -0.4068412982404847,
          -1.346360707191344,
          -1.7931604365949598,
          -0.36866050549532625,
          -1.5559014093663743,
          -1.739555082436128,
          -0.07744503840508507,
          -0.5200851366375174,
          0.281154567705927,
          0.8114895426827806,
          0.7589999595497369,
          -1.5120990813712023,
          -1.0335769009586557,
          -0.4748527754663108,
          -0.662163238015597,
          0.6916725317574091,
          0.6273055535953047,
          -0.43960931874352555,
          0.3967362982610203,
          1.0117535992710582,
          0.1853478337348335,
          0.1014659949645751,
          -0.33302216273433144,
          -1.5423758085147905,
          0.4732686199257994,
          -0.07414017702040748,
          -0.12836375120161939,
          0.4153942511385534,
          1.2077618908493983,
          0.8783725934187534,
          -0.27061938365128807,
          -0.015927179289710016,
          1.7582576123063614,
          -0.20578031081416243,
          -0.6217994069496171,
          0.12363253644683327,
          0.12043252736150575,
          0.678630403243001,
          1.2758256172016158,
          0.6837832904610815,
          0.6290402086439506,
          1.3801060320616845,
          1.1617994743312978,
          1.644530337237929,
          2.4429426851046268,
          -0.44837888593539693,
          -0.6558008128147459,
          -0.3962931649023302,
          0.004621824175672183,
          1.513839370916935,
          -0.127346979100021,
          0.22549985157638552,
          -1.5945567981818194,
          2.1362857325729148,
          1.006956771801912,
          -0.5866436528150469,
          -1.644721660746748,
          0.8309674517870819,
          0.11321242291815385,
          -1.13514916705063,
          -1.5660367502233106,
          0.4236452451300459,
          -0.200346806825276,
          0.3834293304643709,
          0.07289243563392446,
          0.05275983812000614,
          -1.3897358640759143,
          -0.5430383166286531,
          0.270047889373564,
          0.2921479890529208,
          0.11862501134259394,
          1.3223808127638017,
          2.1055272738203996,
          0.9595698564777835,
          -0.159135395643192,
          0.6674658068888306
         ],
         "yaxis": "y13"
        },
        {
         "line": {
          "color": "rgba(128, 128, 128, 1.0)",
          "dash": "solid",
          "shape": "linear",
          "width": 1.3
         },
         "marker": {
          "size": 2,
          "symbol": "circle"
         },
         "mode": "markers",
         "name": "D",
         "text": "",
         "type": "scatter",
         "x": [
          -0.08013390570656855,
          0.02269628397142565,
          2.0327051595328567,
          -0.7181989100120357,
          1.662173623528374,
          -1.8065217941063234,
          1.2110119232992642,
          0.964951897071669,
          -0.85475257177362,
          -0.8248953729479542,
          -1.5826159940641324,
          -0.31771649747982844,
          0.4695556889421146,
          1.1126965404646199,
          0.47540997865652285,
          1.5046965559370773,
          0.25150127187187826,
          0.7342936672975972,
          0.5573821763407487,
          1.6335921713759398,
          0.28423026188458866,
          -0.3513447045334481,
          0.7216116547879913,
          -2.0192256386128222,
          -0.6603785846807382,
          0.6075414069350706,
          -1.3040106662584956,
          -0.13444623772025147,
          1.4643238329452812,
          0.8287147546248804,
          0.5806777413326851,
          0.9303244942852352,
          0.7259757585380316,
          -0.06322536505460559,
          1.2453254912014053,
          0.6080354966321703,
          0.006735045164522672,
          1.6427954888944556,
          -0.5032316059134918,
          -0.8783406051015079,
          0.8369992548650931,
          -0.15452153692557458,
          0.4495271766918472,
          -0.851990999026497,
          -1.10351719090533,
          0.09538065137446597,
          -1.4065321722524897,
          -0.6884313359013833,
          -1.8692741176830965,
          0.7535226372890009,
          1.7893533378361597,
          -0.7663252274224117,
          1.8026469873249986,
          0.04966144641495865,
          -2.827664478329827,
          -0.12053078024314415,
          -0.8406444888833142,
          1.1436342481148736,
          -0.6438301792589787,
          -0.15968908610736374,
          -0.03930255640966198,
          -0.7994520589749605,
          -1.1940497177919867,
          0.10867677592993708,
          -1.3726391157855171,
          -0.1326855930801497,
          -0.5587655308484875,
          -0.7436168413473584,
          -1.6228530763718965,
          0.06949574404363028,
          0.6809559377259978,
          -0.31448231912903674,
          -0.3316012072631598,
          -0.5847889225916768,
          -1.6805967750833015,
          -0.3665019767365411,
          2.008727649743859,
          -0.24327605882879857,
          -0.359785106683067,
          -0.8924991334740093,
          0.12697324601980906,
          0.5531647475745822,
          -1.0258680943681446,
          0.8539067657069088,
          -0.7889592814582247,
          -1.2162060159782722,
          -1.0133611160795266,
          -0.5733977596069428,
          2.0491826184025244,
          -1.0876329251377972,
          -0.07220169619981867,
          -0.5633866328881607,
          -1.2044256319043143,
          0.5572001026112121,
          -0.5831545677877031,
          -1.428781267332909,
          -0.45228906215591375,
          0.156452198379921,
          -0.44290164114833663,
          -0.4004290542117399
         ],
         "xaxis": "x14",
         "y": [
          2.108994929011714,
          0.8070872510433912,
          -0.7313397784295909,
          -2.4871211713878845,
          0.6166019837528329,
          -0.7709434173700418,
          0.34022723723610104,
          2.03308030133366,
          0.8624422655356735,
          -1.2520793644506358,
          -1.9346072174076763,
          1.5590334411151778,
          1.6555260446539306,
          0.14039508117071453,
          0.2896344524423826,
          0.5620616204620713,
          1.2053296393984896,
          -1.6175600629176843,
          0.9747523003019611,
          -0.40326199832007914,
          -0.16071152817746634,
          -1.0392069937373853,
          0.3736020221377302,
          0.18868892052250075,
          -0.4068412982404847,
          -1.346360707191344,
          -1.7931604365949598,
          -0.36866050549532625,
          -1.5559014093663743,
          -1.739555082436128,
          -0.07744503840508507,
          -0.5200851366375174,
          0.281154567705927,
          0.8114895426827806,
          0.7589999595497369,
          -1.5120990813712023,
          -1.0335769009586557,
          -0.4748527754663108,
          -0.662163238015597,
          0.6916725317574091,
          0.6273055535953047,
          -0.43960931874352555,
          0.3967362982610203,
          1.0117535992710582,
          0.1853478337348335,
          0.1014659949645751,
          -0.33302216273433144,
          -1.5423758085147905,
          0.4732686199257994,
          -0.07414017702040748,
          -0.12836375120161939,
          0.4153942511385534,
          1.2077618908493983,
          0.8783725934187534,
          -0.27061938365128807,
          -0.015927179289710016,
          1.7582576123063614,
          -0.20578031081416243,
          -0.6217994069496171,
          0.12363253644683327,
          0.12043252736150575,
          0.678630403243001,
          1.2758256172016158,
          0.6837832904610815,
          0.6290402086439506,
          1.3801060320616845,
          1.1617994743312978,
          1.644530337237929,
          2.4429426851046268,
          -0.44837888593539693,
          -0.6558008128147459,
          -0.3962931649023302,
          0.004621824175672183,
          1.513839370916935,
          -0.127346979100021,
          0.22549985157638552,
          -1.5945567981818194,
          2.1362857325729148,
          1.006956771801912,
          -0.5866436528150469,
          -1.644721660746748,
          0.8309674517870819,
          0.11321242291815385,
          -1.13514916705063,
          -1.5660367502233106,
          0.4236452451300459,
          -0.200346806825276,
          0.3834293304643709,
          0.07289243563392446,
          0.05275983812000614,
          -1.3897358640759143,
          -0.5430383166286531,
          0.270047889373564,
          0.2921479890529208,
          0.11862501134259394,
          1.3223808127638017,
          2.1055272738203996,
          0.9595698564777835,
          -0.159135395643192,
          0.6674658068888306
         ],
         "yaxis": "y14"
        },
        {
         "line": {
          "color": "rgba(128, 128, 128, 1.0)",
          "dash": "solid",
          "shape": "linear",
          "width": 1.3
         },
         "marker": {
          "size": 2,
          "symbol": "circle"
         },
         "mode": "markers",
         "name": "D",
         "text": "",
         "type": "scatter",
         "x": [
          -1.4477574354068719,
          -1.7233603802500193,
          -0.5984209737367858,
          -0.9368878988604648,
          0.9062137919129141,
          0.22218284063825272,
          -2.0417255109737233,
          -0.2192180825379543,
          -0.08977230829964371,
          1.667983087259697,
          -0.6361232272678549,
          -0.5860975409862929,
          0.1899516089475176,
          -0.41979431650782745,
          1.2428414520921423,
          -0.2624917131211503,
          0.3034895475375121,
          1.4413260459453492,
          1.5458349135615945,
          0.29655048031503173,
          0.17181835748016983,
          -0.9122902524233049,
          -1.063669154205758,
          -0.23710133901362845,
          1.3235361574408435,
          -0.7442166856797351,
          -0.49932902949870567,
          0.7516538398106425,
          2.5335247809440373,
          -0.7026777614846776,
          -0.8661315259679787,
          -0.13730753923982933,
          -0.3160815480385251,
          0.7913286350849541,
          2.112259129393216,
          0.31603244474945724,
          -0.03141008988740155,
          -1.227947470679876,
          -1.5922070078566708,
          0.258079605470208,
          0.5734548906839825,
          -0.2777691520070106,
          -2.0354165726202575,
          -2.2345736103617595,
          -0.15622144128515786,
          1.2083026639636036,
          1.2256193565727835,
          0.049295690575631004,
          0.5092101544016114,
          0.9775815228802811,
          1.150036646824441,
          0.2427331726119301,
          0.7018585458297713,
          0.732694391555163,
          1.0644900888894022,
          0.8315305269862964,
          -1.754350659340919,
          -0.2724761793017612,
          0.41936827397426607,
          1.488958602064352,
          -0.779811103736643,
          -1.564613442648919,
          -0.18058918832219908,
          -0.3454475471400498,
          0.2932407621783206,
          -0.8883345583387618,
          1.2803820941214752,
          3.205785592932629,
          1.8009102095110534,
          0.9211060791736984,
          -0.448853493322849,
          -0.30200826157711547,
          0.05697546612366482,
          -0.1842056973960395,
          -0.005830410081542872,
          0.8529016609253436,
          -2.2854142392312577,
          -2.8899863616129533,
          0.10967642834710191,
          -0.31556490283645544,
          -0.14060335448399772,
          0.00715388715644203,
          0.444112110003291,
          -0.21291671360061734,
          -0.4848274315056886,
          0.07510834804429713,
          -0.4938610656153614,
          0.8054222336185921,
          -2.01084235917396,
          0.932196710820158,
          0.858071989954808,
          0.7413215971758675,
          1.279871334620964,
          0.46753806794382813,
          -1.2283945793518722,
          -0.34186980808400164,
          0.3202804776455798,
          1.2853035794578231,
          -0.49864831201596227,
          -0.8287276526398878
         ],
         "xaxis": "x15",
         "y": [
          2.108994929011714,
          0.8070872510433912,
          -0.7313397784295909,
          -2.4871211713878845,
          0.6166019837528329,
          -0.7709434173700418,
          0.34022723723610104,
          2.03308030133366,
          0.8624422655356735,
          -1.2520793644506358,
          -1.9346072174076763,
          1.5590334411151778,
          1.6555260446539306,
          0.14039508117071453,
          0.2896344524423826,
          0.5620616204620713,
          1.2053296393984896,
          -1.6175600629176843,
          0.9747523003019611,
          -0.40326199832007914,
          -0.16071152817746634,
          -1.0392069937373853,
          0.3736020221377302,
          0.18868892052250075,
          -0.4068412982404847,
          -1.346360707191344,
          -1.7931604365949598,
          -0.36866050549532625,
          -1.5559014093663743,
          -1.739555082436128,
          -0.07744503840508507,
          -0.5200851366375174,
          0.281154567705927,
          0.8114895426827806,
          0.7589999595497369,
          -1.5120990813712023,
          -1.0335769009586557,
          -0.4748527754663108,
          -0.662163238015597,
          0.6916725317574091,
          0.6273055535953047,
          -0.43960931874352555,
          0.3967362982610203,
          1.0117535992710582,
          0.1853478337348335,
          0.1014659949645751,
          -0.33302216273433144,
          -1.5423758085147905,
          0.4732686199257994,
          -0.07414017702040748,
          -0.12836375120161939,
          0.4153942511385534,
          1.2077618908493983,
          0.8783725934187534,
          -0.27061938365128807,
          -0.015927179289710016,
          1.7582576123063614,
          -0.20578031081416243,
          -0.6217994069496171,
          0.12363253644683327,
          0.12043252736150575,
          0.678630403243001,
          1.2758256172016158,
          0.6837832904610815,
          0.6290402086439506,
          1.3801060320616845,
          1.1617994743312978,
          1.644530337237929,
          2.4429426851046268,
          -0.44837888593539693,
          -0.6558008128147459,
          -0.3962931649023302,
          0.004621824175672183,
          1.513839370916935,
          -0.127346979100021,
          0.22549985157638552,
          -1.5945567981818194,
          2.1362857325729148,
          1.006956771801912,
          -0.5866436528150469,
          -1.644721660746748,
          0.8309674517870819,
          0.11321242291815385,
          -1.13514916705063,
          -1.5660367502233106,
          0.4236452451300459,
          -0.200346806825276,
          0.3834293304643709,
          0.07289243563392446,
          0.05275983812000614,
          -1.3897358640759143,
          -0.5430383166286531,
          0.270047889373564,
          0.2921479890529208,
          0.11862501134259394,
          1.3223808127638017,
          2.1055272738203996,
          0.9595698564777835,
          -0.159135395643192,
          0.6674658068888306
         ],
         "yaxis": "y15"
        },
        {
         "histfunc": "count",
         "histnorm": "",
         "marker": {
          "color": "rgba(128, 0, 128, 1.0)",
          "line": {
           "color": "#4D5663",
           "width": 1.3
          }
         },
         "name": "D",
         "nbinsx": 10,
         "opacity": 0.8,
         "orientation": "v",
         "type": "histogram",
         "x": [
          2.108994929011714,
          0.8070872510433912,
          -0.7313397784295909,
          -2.4871211713878845,
          0.6166019837528329,
          -0.7709434173700418,
          0.34022723723610104,
          2.03308030133366,
          0.8624422655356735,
          -1.2520793644506358,
          -1.9346072174076763,
          1.5590334411151778,
          1.6555260446539306,
          0.14039508117071453,
          0.2896344524423826,
          0.5620616204620713,
          1.2053296393984896,
          -1.6175600629176843,
          0.9747523003019611,
          -0.40326199832007914,
          -0.16071152817746634,
          -1.0392069937373853,
          0.3736020221377302,
          0.18868892052250075,
          -0.4068412982404847,
          -1.346360707191344,
          -1.7931604365949598,
          -0.36866050549532625,
          -1.5559014093663743,
          -1.739555082436128,
          -0.07744503840508507,
          -0.5200851366375174,
          0.281154567705927,
          0.8114895426827806,
          0.7589999595497369,
          -1.5120990813712023,
          -1.0335769009586557,
          -0.4748527754663108,
          -0.662163238015597,
          0.6916725317574091,
          0.6273055535953047,
          -0.43960931874352555,
          0.3967362982610203,
          1.0117535992710582,
          0.1853478337348335,
          0.1014659949645751,
          -0.33302216273433144,
          -1.5423758085147905,
          0.4732686199257994,
          -0.07414017702040748,
          -0.12836375120161939,
          0.4153942511385534,
          1.2077618908493983,
          0.8783725934187534,
          -0.27061938365128807,
          -0.015927179289710016,
          1.7582576123063614,
          -0.20578031081416243,
          -0.6217994069496171,
          0.12363253644683327,
          0.12043252736150575,
          0.678630403243001,
          1.2758256172016158,
          0.6837832904610815,
          0.6290402086439506,
          1.3801060320616845,
          1.1617994743312978,
          1.644530337237929,
          2.4429426851046268,
          -0.44837888593539693,
          -0.6558008128147459,
          -0.3962931649023302,
          0.004621824175672183,
          1.513839370916935,
          -0.127346979100021,
          0.22549985157638552,
          -1.5945567981818194,
          2.1362857325729148,
          1.006956771801912,
          -0.5866436528150469,
          -1.644721660746748,
          0.8309674517870819,
          0.11321242291815385,
          -1.13514916705063,
          -1.5660367502233106,
          0.4236452451300459,
          -0.200346806825276,
          0.3834293304643709,
          0.07289243563392446,
          0.05275983812000614,
          -1.3897358640759143,
          -0.5430383166286531,
          0.270047889373564,
          0.2921479890529208,
          0.11862501134259394,
          1.3223808127638017,
          2.1055272738203996,
          0.9595698564777835,
          -0.159135395643192,
          0.6674658068888306
         ],
         "xaxis": "x16",
         "yaxis": "y16"
        }
       ],
       "layout": {
        "bargap": 0.02,
        "legend": {
         "bgcolor": "#F5F6F9",
         "font": {
          "color": "#4D5663"
         }
        },
        "paper_bgcolor": "#F5F6F9",
        "plot_bgcolor": "#F5F6F9",
        "showlegend": false,
        "template": {
         "data": {
          "bar": [
           {
            "error_x": {
             "color": "#2a3f5f"
            },
            "error_y": {
             "color": "#2a3f5f"
            },
            "marker": {
             "line": {
              "color": "#E5ECF6",
              "width": 0.5
             }
            },
            "type": "bar"
           }
          ],
          "barpolar": [
           {
            "marker": {
             "line": {
              "color": "#E5ECF6",
              "width": 0.5
             }
            },
            "type": "barpolar"
           }
          ],
          "carpet": [
           {
            "aaxis": {
             "endlinecolor": "#2a3f5f",
             "gridcolor": "white",
             "linecolor": "white",
             "minorgridcolor": "white",
             "startlinecolor": "#2a3f5f"
            },
            "baxis": {
             "endlinecolor": "#2a3f5f",
             "gridcolor": "white",
             "linecolor": "white",
             "minorgridcolor": "white",
             "startlinecolor": "#2a3f5f"
            },
            "type": "carpet"
           }
          ],
          "choropleth": [
           {
            "colorbar": {
             "outlinewidth": 0,
             "ticks": ""
            },
            "type": "choropleth"
           }
          ],
          "contour": [
           {
            "colorbar": {
             "outlinewidth": 0,
             "ticks": ""
            },
            "colorscale": [
             [
              0,
              "#0d0887"
             ],
             [
              0.1111111111111111,
              "#46039f"
             ],
             [
              0.2222222222222222,
              "#7201a8"
             ],
             [
              0.3333333333333333,
              "#9c179e"
             ],
             [
              0.4444444444444444,
              "#bd3786"
             ],
             [
              0.5555555555555556,
              "#d8576b"
             ],
             [
              0.6666666666666666,
              "#ed7953"
             ],
             [
              0.7777777777777778,
              "#fb9f3a"
             ],
             [
              0.8888888888888888,
              "#fdca26"
             ],
             [
              1,
              "#f0f921"
             ]
            ],
            "type": "contour"
           }
          ],
          "contourcarpet": [
           {
            "colorbar": {
             "outlinewidth": 0,
             "ticks": ""
            },
            "type": "contourcarpet"
           }
          ],
          "heatmap": [
           {
            "colorbar": {
             "outlinewidth": 0,
             "ticks": ""
            },
            "colorscale": [
             [
              0,
              "#0d0887"
             ],
             [
              0.1111111111111111,
              "#46039f"
             ],
             [
              0.2222222222222222,
              "#7201a8"
             ],
             [
              0.3333333333333333,
              "#9c179e"
             ],
             [
              0.4444444444444444,
              "#bd3786"
             ],
             [
              0.5555555555555556,
              "#d8576b"
             ],
             [
              0.6666666666666666,
              "#ed7953"
             ],
             [
              0.7777777777777778,
              "#fb9f3a"
             ],
             [
              0.8888888888888888,
              "#fdca26"
             ],
             [
              1,
              "#f0f921"
             ]
            ],
            "type": "heatmap"
           }
          ],
          "heatmapgl": [
           {
            "colorbar": {
             "outlinewidth": 0,
             "ticks": ""
            },
            "colorscale": [
             [
              0,
              "#0d0887"
             ],
             [
              0.1111111111111111,
              "#46039f"
             ],
             [
              0.2222222222222222,
              "#7201a8"
             ],
             [
              0.3333333333333333,
              "#9c179e"
             ],
             [
              0.4444444444444444,
              "#bd3786"
             ],
             [
              0.5555555555555556,
              "#d8576b"
             ],
             [
              0.6666666666666666,
              "#ed7953"
             ],
             [
              0.7777777777777778,
              "#fb9f3a"
             ],
             [
              0.8888888888888888,
              "#fdca26"
             ],
             [
              1,
              "#f0f921"
             ]
            ],
            "type": "heatmapgl"
           }
          ],
          "histogram": [
           {
            "marker": {
             "colorbar": {
              "outlinewidth": 0,
              "ticks": ""
             }
            },
            "type": "histogram"
           }
          ],
          "histogram2d": [
           {
            "colorbar": {
             "outlinewidth": 0,
             "ticks": ""
            },
            "colorscale": [
             [
              0,
              "#0d0887"
             ],
             [
              0.1111111111111111,
              "#46039f"
             ],
             [
              0.2222222222222222,
              "#7201a8"
             ],
             [
              0.3333333333333333,
              "#9c179e"
             ],
             [
              0.4444444444444444,
              "#bd3786"
             ],
             [
              0.5555555555555556,
              "#d8576b"
             ],
             [
              0.6666666666666666,
              "#ed7953"
             ],
             [
              0.7777777777777778,
              "#fb9f3a"
             ],
             [
              0.8888888888888888,
              "#fdca26"
             ],
             [
              1,
              "#f0f921"
             ]
            ],
            "type": "histogram2d"
           }
          ],
          "histogram2dcontour": [
           {
            "colorbar": {
             "outlinewidth": 0,
             "ticks": ""
            },
            "colorscale": [
             [
              0,
              "#0d0887"
             ],
             [
              0.1111111111111111,
              "#46039f"
             ],
             [
              0.2222222222222222,
              "#7201a8"
             ],
             [
              0.3333333333333333,
              "#9c179e"
             ],
             [
              0.4444444444444444,
              "#bd3786"
             ],
             [
              0.5555555555555556,
              "#d8576b"
             ],
             [
              0.6666666666666666,
              "#ed7953"
             ],
             [
              0.7777777777777778,
              "#fb9f3a"
             ],
             [
              0.8888888888888888,
              "#fdca26"
             ],
             [
              1,
              "#f0f921"
             ]
            ],
            "type": "histogram2dcontour"
           }
          ],
          "mesh3d": [
           {
            "colorbar": {
             "outlinewidth": 0,
             "ticks": ""
            },
            "type": "mesh3d"
           }
          ],
          "parcoords": [
           {
            "line": {
             "colorbar": {
              "outlinewidth": 0,
              "ticks": ""
             }
            },
            "type": "parcoords"
           }
          ],
          "pie": [
           {
            "automargin": true,
            "type": "pie"
           }
          ],
          "scatter": [
           {
            "marker": {
             "colorbar": {
              "outlinewidth": 0,
              "ticks": ""
             }
            },
            "type": "scatter"
           }
          ],
          "scatter3d": [
           {
            "line": {
             "colorbar": {
              "outlinewidth": 0,
              "ticks": ""
             }
            },
            "marker": {
             "colorbar": {
              "outlinewidth": 0,
              "ticks": ""
             }
            },
            "type": "scatter3d"
           }
          ],
          "scattercarpet": [
           {
            "marker": {
             "colorbar": {
              "outlinewidth": 0,
              "ticks": ""
             }
            },
            "type": "scattercarpet"
           }
          ],
          "scattergeo": [
           {
            "marker": {
             "colorbar": {
              "outlinewidth": 0,
              "ticks": ""
             }
            },
            "type": "scattergeo"
           }
          ],
          "scattergl": [
           {
            "marker": {
             "colorbar": {
              "outlinewidth": 0,
              "ticks": ""
             }
            },
            "type": "scattergl"
           }
          ],
          "scattermapbox": [
           {
            "marker": {
             "colorbar": {
              "outlinewidth": 0,
              "ticks": ""
             }
            },
            "type": "scattermapbox"
           }
          ],
          "scatterpolar": [
           {
            "marker": {
             "colorbar": {
              "outlinewidth": 0,
              "ticks": ""
             }
            },
            "type": "scatterpolar"
           }
          ],
          "scatterpolargl": [
           {
            "marker": {
             "colorbar": {
              "outlinewidth": 0,
              "ticks": ""
             }
            },
            "type": "scatterpolargl"
           }
          ],
          "scatterternary": [
           {
            "marker": {
             "colorbar": {
              "outlinewidth": 0,
              "ticks": ""
             }
            },
            "type": "scatterternary"
           }
          ],
          "surface": [
           {
            "colorbar": {
             "outlinewidth": 0,
             "ticks": ""
            },
            "colorscale": [
             [
              0,
              "#0d0887"
             ],
             [
              0.1111111111111111,
              "#46039f"
             ],
             [
              0.2222222222222222,
              "#7201a8"
             ],
             [
              0.3333333333333333,
              "#9c179e"
             ],
             [
              0.4444444444444444,
              "#bd3786"
             ],
             [
              0.5555555555555556,
              "#d8576b"
             ],
             [
              0.6666666666666666,
              "#ed7953"
             ],
             [
              0.7777777777777778,
              "#fb9f3a"
             ],
             [
              0.8888888888888888,
              "#fdca26"
             ],
             [
              1,
              "#f0f921"
             ]
            ],
            "type": "surface"
           }
          ],
          "table": [
           {
            "cells": {
             "fill": {
              "color": "#EBF0F8"
             },
             "line": {
              "color": "white"
             }
            },
            "header": {
             "fill": {
              "color": "#C8D4E3"
             },
             "line": {
              "color": "white"
             }
            },
            "type": "table"
           }
          ]
         },
         "layout": {
          "annotationdefaults": {
           "arrowcolor": "#2a3f5f",
           "arrowhead": 0,
           "arrowwidth": 1
          },
          "coloraxis": {
           "colorbar": {
            "outlinewidth": 0,
            "ticks": ""
           }
          },
          "colorscale": {
           "diverging": [
            [
             0,
             "#8e0152"
            ],
            [
             0.1,
             "#c51b7d"
            ],
            [
             0.2,
             "#de77ae"
            ],
            [
             0.3,
             "#f1b6da"
            ],
            [
             0.4,
             "#fde0ef"
            ],
            [
             0.5,
             "#f7f7f7"
            ],
            [
             0.6,
             "#e6f5d0"
            ],
            [
             0.7,
             "#b8e186"
            ],
            [
             0.8,
             "#7fbc41"
            ],
            [
             0.9,
             "#4d9221"
            ],
            [
             1,
             "#276419"
            ]
           ],
           "sequential": [
            [
             0,
             "#0d0887"
            ],
            [
             0.1111111111111111,
             "#46039f"
            ],
            [
             0.2222222222222222,
             "#7201a8"
            ],
            [
             0.3333333333333333,
             "#9c179e"
            ],
            [
             0.4444444444444444,
             "#bd3786"
            ],
            [
             0.5555555555555556,
             "#d8576b"
            ],
            [
             0.6666666666666666,
             "#ed7953"
            ],
            [
             0.7777777777777778,
             "#fb9f3a"
            ],
            [
             0.8888888888888888,
             "#fdca26"
            ],
            [
             1,
             "#f0f921"
            ]
           ],
           "sequentialminus": [
            [
             0,
             "#0d0887"
            ],
            [
             0.1111111111111111,
             "#46039f"
            ],
            [
             0.2222222222222222,
             "#7201a8"
            ],
            [
             0.3333333333333333,
             "#9c179e"
            ],
            [
             0.4444444444444444,
             "#bd3786"
            ],
            [
             0.5555555555555556,
             "#d8576b"
            ],
            [
             0.6666666666666666,
             "#ed7953"
            ],
            [
             0.7777777777777778,
             "#fb9f3a"
            ],
            [
             0.8888888888888888,
             "#fdca26"
            ],
            [
             1,
             "#f0f921"
            ]
           ]
          },
          "colorway": [
           "#636efa",
           "#EF553B",
           "#00cc96",
           "#ab63fa",
           "#FFA15A",
           "#19d3f3",
           "#FF6692",
           "#B6E880",
           "#FF97FF",
           "#FECB52"
          ],
          "font": {
           "color": "#2a3f5f"
          },
          "geo": {
           "bgcolor": "white",
           "lakecolor": "white",
           "landcolor": "#E5ECF6",
           "showlakes": true,
           "showland": true,
           "subunitcolor": "white"
          },
          "hoverlabel": {
           "align": "left"
          },
          "hovermode": "closest",
          "mapbox": {
           "style": "light"
          },
          "paper_bgcolor": "white",
          "plot_bgcolor": "#E5ECF6",
          "polar": {
           "angularaxis": {
            "gridcolor": "white",
            "linecolor": "white",
            "ticks": ""
           },
           "bgcolor": "#E5ECF6",
           "radialaxis": {
            "gridcolor": "white",
            "linecolor": "white",
            "ticks": ""
           }
          },
          "scene": {
           "xaxis": {
            "backgroundcolor": "#E5ECF6",
            "gridcolor": "white",
            "gridwidth": 2,
            "linecolor": "white",
            "showbackground": true,
            "ticks": "",
            "zerolinecolor": "white"
           },
           "yaxis": {
            "backgroundcolor": "#E5ECF6",
            "gridcolor": "white",
            "gridwidth": 2,
            "linecolor": "white",
            "showbackground": true,
            "ticks": "",
            "zerolinecolor": "white"
           },
           "zaxis": {
            "backgroundcolor": "#E5ECF6",
            "gridcolor": "white",
            "gridwidth": 2,
            "linecolor": "white",
            "showbackground": true,
            "ticks": "",
            "zerolinecolor": "white"
           }
          },
          "shapedefaults": {
           "line": {
            "color": "#2a3f5f"
           }
          },
          "ternary": {
           "aaxis": {
            "gridcolor": "white",
            "linecolor": "white",
            "ticks": ""
           },
           "baxis": {
            "gridcolor": "white",
            "linecolor": "white",
            "ticks": ""
           },
           "bgcolor": "#E5ECF6",
           "caxis": {
            "gridcolor": "white",
            "linecolor": "white",
            "ticks": ""
           }
          },
          "title": {
           "x": 0.05
          },
          "xaxis": {
           "automargin": true,
           "gridcolor": "white",
           "linecolor": "white",
           "ticks": "",
           "title": {
            "standoff": 15
           },
           "zerolinecolor": "white",
           "zerolinewidth": 2
          },
          "yaxis": {
           "automargin": true,
           "gridcolor": "white",
           "linecolor": "white",
           "ticks": "",
           "title": {
            "standoff": 15
           },
           "zerolinecolor": "white",
           "zerolinewidth": 2
          }
         }
        },
        "title": {
         "font": {
          "color": "#4D5663"
         }
        },
        "xaxis": {
         "anchor": "y",
         "domain": [
          0,
          0.2125
         ],
         "gridcolor": "#E1E5ED",
         "showgrid": false,
         "tickfont": {
          "color": "#4D5663"
         },
         "title": {
          "font": {
           "color": "#4D5663"
          },
          "text": ""
         },
         "zerolinecolor": "#E1E5ED"
        },
        "xaxis10": {
         "anchor": "y10",
         "domain": [
          0.2625,
          0.475
         ],
         "gridcolor": "#E1E5ED",
         "showgrid": false,
         "tickfont": {
          "color": "#4D5663"
         },
         "title": {
          "font": {
           "color": "#4D5663"
          },
          "text": ""
         },
         "zerolinecolor": "#E1E5ED"
        },
        "xaxis11": {
         "anchor": "y11",
         "domain": [
          0.525,
          0.7375
         ],
         "gridcolor": "#E1E5ED",
         "showgrid": false,
         "tickfont": {
          "color": "#4D5663"
         },
         "title": {
          "font": {
           "color": "#4D5663"
          },
          "text": ""
         },
         "zerolinecolor": "#E1E5ED"
        },
        "xaxis12": {
         "anchor": "y12",
         "domain": [
          0.7875,
          1
         ],
         "gridcolor": "#E1E5ED",
         "showgrid": false,
         "tickfont": {
          "color": "#4D5663"
         },
         "title": {
          "font": {
           "color": "#4D5663"
          },
          "text": ""
         },
         "zerolinecolor": "#E1E5ED"
        },
        "xaxis13": {
         "anchor": "y13",
         "domain": [
          0,
          0.2125
         ],
         "gridcolor": "#E1E5ED",
         "showgrid": false,
         "tickfont": {
          "color": "#4D5663"
         },
         "title": {
          "font": {
           "color": "#4D5663"
          },
          "text": ""
         },
         "zerolinecolor": "#E1E5ED"
        },
        "xaxis14": {
         "anchor": "y14",
         "domain": [
          0.2625,
          0.475
         ],
         "gridcolor": "#E1E5ED",
         "showgrid": false,
         "tickfont": {
          "color": "#4D5663"
         },
         "title": {
          "font": {
           "color": "#4D5663"
          },
          "text": ""
         },
         "zerolinecolor": "#E1E5ED"
        },
        "xaxis15": {
         "anchor": "y15",
         "domain": [
          0.525,
          0.7375
         ],
         "gridcolor": "#E1E5ED",
         "showgrid": false,
         "tickfont": {
          "color": "#4D5663"
         },
         "title": {
          "font": {
           "color": "#4D5663"
          },
          "text": ""
         },
         "zerolinecolor": "#E1E5ED"
        },
        "xaxis16": {
         "anchor": "y16",
         "domain": [
          0.7875,
          1
         ],
         "gridcolor": "#E1E5ED",
         "showgrid": false,
         "tickfont": {
          "color": "#4D5663"
         },
         "title": {
          "font": {
           "color": "#4D5663"
          },
          "text": ""
         },
         "zerolinecolor": "#E1E5ED"
        },
        "xaxis2": {
         "anchor": "y2",
         "domain": [
          0.2625,
          0.475
         ],
         "gridcolor": "#E1E5ED",
         "showgrid": false,
         "tickfont": {
          "color": "#4D5663"
         },
         "title": {
          "font": {
           "color": "#4D5663"
          },
          "text": ""
         },
         "zerolinecolor": "#E1E5ED"
        },
        "xaxis3": {
         "anchor": "y3",
         "domain": [
          0.525,
          0.7375
         ],
         "gridcolor": "#E1E5ED",
         "showgrid": false,
         "tickfont": {
          "color": "#4D5663"
         },
         "title": {
          "font": {
           "color": "#4D5663"
          },
          "text": ""
         },
         "zerolinecolor": "#E1E5ED"
        },
        "xaxis4": {
         "anchor": "y4",
         "domain": [
          0.7875,
          1
         ],
         "gridcolor": "#E1E5ED",
         "showgrid": false,
         "tickfont": {
          "color": "#4D5663"
         },
         "title": {
          "font": {
           "color": "#4D5663"
          },
          "text": ""
         },
         "zerolinecolor": "#E1E5ED"
        },
        "xaxis5": {
         "anchor": "y5",
         "domain": [
          0,
          0.2125
         ],
         "gridcolor": "#E1E5ED",
         "showgrid": false,
         "tickfont": {
          "color": "#4D5663"
         },
         "title": {
          "font": {
           "color": "#4D5663"
          },
          "text": ""
         },
         "zerolinecolor": "#E1E5ED"
        },
        "xaxis6": {
         "anchor": "y6",
         "domain": [
          0.2625,
          0.475
         ],
         "gridcolor": "#E1E5ED",
         "showgrid": false,
         "tickfont": {
          "color": "#4D5663"
         },
         "title": {
          "font": {
           "color": "#4D5663"
          },
          "text": ""
         },
         "zerolinecolor": "#E1E5ED"
        },
        "xaxis7": {
         "anchor": "y7",
         "domain": [
          0.525,
          0.7375
         ],
         "gridcolor": "#E1E5ED",
         "showgrid": false,
         "tickfont": {
          "color": "#4D5663"
         },
         "title": {
          "font": {
           "color": "#4D5663"
          },
          "text": ""
         },
         "zerolinecolor": "#E1E5ED"
        },
        "xaxis8": {
         "anchor": "y8",
         "domain": [
          0.7875,
          1
         ],
         "gridcolor": "#E1E5ED",
         "showgrid": false,
         "tickfont": {
          "color": "#4D5663"
         },
         "title": {
          "font": {
           "color": "#4D5663"
          },
          "text": ""
         },
         "zerolinecolor": "#E1E5ED"
        },
        "xaxis9": {
         "anchor": "y9",
         "domain": [
          0,
          0.2125
         ],
         "gridcolor": "#E1E5ED",
         "showgrid": false,
         "tickfont": {
          "color": "#4D5663"
         },
         "title": {
          "font": {
           "color": "#4D5663"
          },
          "text": ""
         },
         "zerolinecolor": "#E1E5ED"
        },
        "yaxis": {
         "anchor": "x",
         "domain": [
          0.8025,
          1
         ],
         "gridcolor": "#E1E5ED",
         "showgrid": false,
         "tickfont": {
          "color": "#4D5663"
         },
         "title": {
          "font": {
           "color": "#4D5663"
          },
          "text": ""
         },
         "zerolinecolor": "#E1E5ED"
        },
        "yaxis10": {
         "anchor": "x10",
         "domain": [
          0.2675,
          0.465
         ],
         "gridcolor": "#E1E5ED",
         "showgrid": false,
         "tickfont": {
          "color": "#4D5663"
         },
         "title": {
          "font": {
           "color": "#4D5663"
          },
          "text": ""
         },
         "zerolinecolor": "#E1E5ED"
        },
        "yaxis11": {
         "anchor": "x11",
         "domain": [
          0.2675,
          0.465
         ],
         "gridcolor": "#E1E5ED",
         "showgrid": false,
         "tickfont": {
          "color": "#4D5663"
         },
         "title": {
          "font": {
           "color": "#4D5663"
          },
          "text": ""
         },
         "zerolinecolor": "#E1E5ED"
        },
        "yaxis12": {
         "anchor": "x12",
         "domain": [
          0.2675,
          0.465
         ],
         "gridcolor": "#E1E5ED",
         "showgrid": false,
         "tickfont": {
          "color": "#4D5663"
         },
         "title": {
          "font": {
           "color": "#4D5663"
          },
          "text": ""
         },
         "zerolinecolor": "#E1E5ED"
        },
        "yaxis13": {
         "anchor": "x13",
         "domain": [
          0,
          0.1975
         ],
         "gridcolor": "#E1E5ED",
         "showgrid": false,
         "tickfont": {
          "color": "#4D5663"
         },
         "title": {
          "font": {
           "color": "#4D5663"
          },
          "text": ""
         },
         "zerolinecolor": "#E1E5ED"
        },
        "yaxis14": {
         "anchor": "x14",
         "domain": [
          0,
          0.1975
         ],
         "gridcolor": "#E1E5ED",
         "showgrid": false,
         "tickfont": {
          "color": "#4D5663"
         },
         "title": {
          "font": {
           "color": "#4D5663"
          },
          "text": ""
         },
         "zerolinecolor": "#E1E5ED"
        },
        "yaxis15": {
         "anchor": "x15",
         "domain": [
          0,
          0.1975
         ],
         "gridcolor": "#E1E5ED",
         "showgrid": false,
         "tickfont": {
          "color": "#4D5663"
         },
         "title": {
          "font": {
           "color": "#4D5663"
          },
          "text": ""
         },
         "zerolinecolor": "#E1E5ED"
        },
        "yaxis16": {
         "anchor": "x16",
         "domain": [
          0,
          0.1975
         ],
         "gridcolor": "#E1E5ED",
         "showgrid": false,
         "tickfont": {
          "color": "#4D5663"
         },
         "title": {
          "font": {
           "color": "#4D5663"
          },
          "text": ""
         },
         "zerolinecolor": "#E1E5ED"
        },
        "yaxis2": {
         "anchor": "x2",
         "domain": [
          0.8025,
          1
         ],
         "gridcolor": "#E1E5ED",
         "showgrid": false,
         "tickfont": {
          "color": "#4D5663"
         },
         "title": {
          "font": {
           "color": "#4D5663"
          },
          "text": ""
         },
         "zerolinecolor": "#E1E5ED"
        },
        "yaxis3": {
         "anchor": "x3",
         "domain": [
          0.8025,
          1
         ],
         "gridcolor": "#E1E5ED",
         "showgrid": false,
         "tickfont": {
          "color": "#4D5663"
         },
         "title": {
          "font": {
           "color": "#4D5663"
          },
          "text": ""
         },
         "zerolinecolor": "#E1E5ED"
        },
        "yaxis4": {
         "anchor": "x4",
         "domain": [
          0.8025,
          1
         ],
         "gridcolor": "#E1E5ED",
         "showgrid": false,
         "tickfont": {
          "color": "#4D5663"
         },
         "title": {
          "font": {
           "color": "#4D5663"
          },
          "text": ""
         },
         "zerolinecolor": "#E1E5ED"
        },
        "yaxis5": {
         "anchor": "x5",
         "domain": [
          0.535,
          0.7325
         ],
         "gridcolor": "#E1E5ED",
         "showgrid": false,
         "tickfont": {
          "color": "#4D5663"
         },
         "title": {
          "font": {
           "color": "#4D5663"
          },
          "text": ""
         },
         "zerolinecolor": "#E1E5ED"
        },
        "yaxis6": {
         "anchor": "x6",
         "domain": [
          0.535,
          0.7325
         ],
         "gridcolor": "#E1E5ED",
         "showgrid": false,
         "tickfont": {
          "color": "#4D5663"
         },
         "title": {
          "font": {
           "color": "#4D5663"
          },
          "text": ""
         },
         "zerolinecolor": "#E1E5ED"
        },
        "yaxis7": {
         "anchor": "x7",
         "domain": [
          0.535,
          0.7325
         ],
         "gridcolor": "#E1E5ED",
         "showgrid": false,
         "tickfont": {
          "color": "#4D5663"
         },
         "title": {
          "font": {
           "color": "#4D5663"
          },
          "text": ""
         },
         "zerolinecolor": "#E1E5ED"
        },
        "yaxis8": {
         "anchor": "x8",
         "domain": [
          0.535,
          0.7325
         ],
         "gridcolor": "#E1E5ED",
         "showgrid": false,
         "tickfont": {
          "color": "#4D5663"
         },
         "title": {
          "font": {
           "color": "#4D5663"
          },
          "text": ""
         },
         "zerolinecolor": "#E1E5ED"
        },
        "yaxis9": {
         "anchor": "x9",
         "domain": [
          0.2675,
          0.465
         ],
         "gridcolor": "#E1E5ED",
         "showgrid": false,
         "tickfont": {
          "color": "#4D5663"
         },
         "title": {
          "font": {
           "color": "#4D5663"
          },
          "text": ""
         },
         "zerolinecolor": "#E1E5ED"
        }
       }
      },
      "text/html": [
       "<div>                            <div id=\"b9a5ddbd-fb3e-42b4-8814-6b95d78266c2\" class=\"plotly-graph-div\" style=\"height:525px; width:100%;\"></div>            <script type=\"text/javascript\">                require([\"plotly\"], function(Plotly) {                    window.PLOTLYENV=window.PLOTLYENV || {};\n",
       "                    window.PLOTLYENV.BASE_URL='https://plot.ly';                                    if (document.getElementById(\"b9a5ddbd-fb3e-42b4-8814-6b95d78266c2\")) {                    Plotly.newPlot(                        \"b9a5ddbd-fb3e-42b4-8814-6b95d78266c2\",                        [{\"histfunc\": \"count\", \"histnorm\": \"\", \"marker\": {\"color\": \"rgba(255, 153, 51, 1.0)\", \"line\": {\"color\": \"#4D5663\", \"width\": 1.3}}, \"name\": \"A\", \"nbinsx\": 10, \"opacity\": 0.8, \"orientation\": \"v\", \"type\": \"histogram\", \"x\": [0.644944253392509, -1.243348684605454, -0.4992529425467864, 2.4951536973358257, 0.7181532996966965, -1.9317140313919021, 0.11474960965809082, -0.1261498964710348, -0.5103316332599934, -0.8276136470561897, -0.2507444797257825, -1.3418672073315923, 0.21175779852862386, 0.5295284425743242, 0.8363177959309905, 0.415861941348495, 0.871861955304613, 0.6681642022568207, 0.6353210567494172, -0.8890269089553131, -0.5757625912203307, 0.0473418279138021, 0.45893720365546087, 0.20533206162680312, 0.5342187570105031, -0.9577761045178981, 0.6215579004212394, 0.3008634269643, 0.33739228720858727, 1.5605524266487771, 1.1653258116847005, 2.293244270264029, -0.7047214962226932, 0.3962295958236032, -0.6537064556460913, -0.4985449582239225, 2.27944819476583, 0.8499011425816464, -0.4860147282091424, -0.6444140483491969, 2.214686187010531, 0.3838743222004633, -0.5539655478660834, -0.9901617877531294, -2.312706735663867, -0.23252768398780077, -1.540241546640356, 1.1808907417329335, 1.0871707946424356, -0.15996342914122272, 0.022131419531764927, 0.5380254693737466, -0.9069222602195819, 0.9098672320142027, 0.39275474249035136, 0.2515091490652439, 0.033273504199668645, -0.4062481423769172, -0.22266747097199469, -0.021543501070881897, 1.1414511969408576, -0.882928566564055, -0.2269953805998093, -1.1414555129144652, -0.19982816122859687, 0.008667300544806618, 0.98104895613813, 0.7000475963198131, -0.9875553180644235, 0.2802041042103516, -0.27841473507495756, -0.28720943739101973, -0.3417889952846551, 0.5204878045371218, -0.434114511660545, -0.2063332906543763, -0.03675127761476961, 1.1901664803851735, 0.01200015667771501, 0.8272860394456298, 0.05409598408964082, -1.270582395308957, -1.5555290581226502, -0.7117188145510055, -0.5312698504250206, -1.5695714005160748, -0.2290634746353095, -1.2991596300694486, 0.12650435754258949, 0.5109620491249028, -1.526578864329696, 0.4182122881950908, 1.4562508551129445, 1.4324202800329318, -0.14732020963007963, -0.8109983196533064, 0.5811563853217354, 1.2867440891345567, -0.6972600913213484, 1.296152728893862], \"xaxis\": \"x\", \"yaxis\": \"y\"}, {\"line\": {\"color\": \"rgba(128, 128, 128, 1.0)\", \"dash\": \"solid\", \"shape\": \"linear\", \"width\": 1.3}, \"marker\": {\"size\": 2, \"symbol\": \"circle\"}, \"mode\": \"markers\", \"name\": \"A\", \"text\": \"\", \"type\": \"scatter\", \"x\": [-0.08013390570656855, 0.02269628397142565, 2.0327051595328567, -0.7181989100120357, 1.662173623528374, -1.8065217941063234, 1.2110119232992642, 0.964951897071669, -0.85475257177362, -0.8248953729479542, -1.5826159940641324, -0.31771649747982844, 0.4695556889421146, 1.1126965404646199, 0.47540997865652285, 1.5046965559370773, 0.25150127187187826, 0.7342936672975972, 0.5573821763407487, 1.6335921713759398, 0.28423026188458866, -0.3513447045334481, 0.7216116547879913, -2.0192256386128222, -0.6603785846807382, 0.6075414069350706, -1.3040106662584956, -0.13444623772025147, 1.4643238329452812, 0.8287147546248804, 0.5806777413326851, 0.9303244942852352, 0.7259757585380316, -0.06322536505460559, 1.2453254912014053, 0.6080354966321703, 0.006735045164522672, 1.6427954888944556, -0.5032316059134918, -0.8783406051015079, 0.8369992548650931, -0.15452153692557458, 0.4495271766918472, -0.851990999026497, -1.10351719090533, 0.09538065137446597, -1.4065321722524897, -0.6884313359013833, -1.8692741176830965, 0.7535226372890009, 1.7893533378361597, -0.7663252274224117, 1.8026469873249986, 0.04966144641495865, -2.827664478329827, -0.12053078024314415, -0.8406444888833142, 1.1436342481148736, -0.6438301792589787, -0.15968908610736374, -0.03930255640966198, -0.7994520589749605, -1.1940497177919867, 0.10867677592993708, -1.3726391157855171, -0.1326855930801497, -0.5587655308484875, -0.7436168413473584, -1.6228530763718965, 0.06949574404363028, 0.6809559377259978, -0.31448231912903674, -0.3316012072631598, -0.5847889225916768, -1.6805967750833015, -0.3665019767365411, 2.008727649743859, -0.24327605882879857, -0.359785106683067, -0.8924991334740093, 0.12697324601980906, 0.5531647475745822, -1.0258680943681446, 0.8539067657069088, -0.7889592814582247, -1.2162060159782722, -1.0133611160795266, -0.5733977596069428, 2.0491826184025244, -1.0876329251377972, -0.07220169619981867, -0.5633866328881607, -1.2044256319043143, 0.5572001026112121, -0.5831545677877031, -1.428781267332909, -0.45228906215591375, 0.156452198379921, -0.44290164114833663, -0.4004290542117399], \"xaxis\": \"x2\", \"y\": [0.644944253392509, -1.243348684605454, -0.4992529425467864, 2.4951536973358257, 0.7181532996966965, -1.9317140313919021, 0.11474960965809082, -0.1261498964710348, -0.5103316332599934, -0.8276136470561897, -0.2507444797257825, -1.3418672073315923, 0.21175779852862386, 0.5295284425743242, 0.8363177959309905, 0.415861941348495, 0.871861955304613, 0.6681642022568207, 0.6353210567494172, -0.8890269089553131, -0.5757625912203307, 0.0473418279138021, 0.45893720365546087, 0.20533206162680312, 0.5342187570105031, -0.9577761045178981, 0.6215579004212394, 0.3008634269643, 0.33739228720858727, 1.5605524266487771, 1.1653258116847005, 2.293244270264029, -0.7047214962226932, 0.3962295958236032, -0.6537064556460913, -0.4985449582239225, 2.27944819476583, 0.8499011425816464, -0.4860147282091424, -0.6444140483491969, 2.214686187010531, 0.3838743222004633, -0.5539655478660834, -0.9901617877531294, -2.312706735663867, -0.23252768398780077, -1.540241546640356, 1.1808907417329335, 1.0871707946424356, -0.15996342914122272, 0.022131419531764927, 0.5380254693737466, -0.9069222602195819, 0.9098672320142027, 0.39275474249035136, 0.2515091490652439, 0.033273504199668645, -0.4062481423769172, -0.22266747097199469, -0.021543501070881897, 1.1414511969408576, -0.882928566564055, -0.2269953805998093, -1.1414555129144652, -0.19982816122859687, 0.008667300544806618, 0.98104895613813, 0.7000475963198131, -0.9875553180644235, 0.2802041042103516, -0.27841473507495756, -0.28720943739101973, -0.3417889952846551, 0.5204878045371218, -0.434114511660545, -0.2063332906543763, -0.03675127761476961, 1.1901664803851735, 0.01200015667771501, 0.8272860394456298, 0.05409598408964082, -1.270582395308957, -1.5555290581226502, -0.7117188145510055, -0.5312698504250206, -1.5695714005160748, -0.2290634746353095, -1.2991596300694486, 0.12650435754258949, 0.5109620491249028, -1.526578864329696, 0.4182122881950908, 1.4562508551129445, 1.4324202800329318, -0.14732020963007963, -0.8109983196533064, 0.5811563853217354, 1.2867440891345567, -0.6972600913213484, 1.296152728893862], \"yaxis\": \"y2\"}, {\"line\": {\"color\": \"rgba(128, 128, 128, 1.0)\", \"dash\": \"solid\", \"shape\": \"linear\", \"width\": 1.3}, \"marker\": {\"size\": 2, \"symbol\": \"circle\"}, \"mode\": \"markers\", \"name\": \"A\", \"text\": \"\", \"type\": \"scatter\", \"x\": [-1.4477574354068719, -1.7233603802500193, -0.5984209737367858, -0.9368878988604648, 0.9062137919129141, 0.22218284063825272, -2.0417255109737233, -0.2192180825379543, -0.08977230829964371, 1.667983087259697, -0.6361232272678549, -0.5860975409862929, 0.1899516089475176, -0.41979431650782745, 1.2428414520921423, -0.2624917131211503, 0.3034895475375121, 1.4413260459453492, 1.5458349135615945, 0.29655048031503173, 0.17181835748016983, -0.9122902524233049, -1.063669154205758, -0.23710133901362845, 1.3235361574408435, -0.7442166856797351, -0.49932902949870567, 0.7516538398106425, 2.5335247809440373, -0.7026777614846776, -0.8661315259679787, -0.13730753923982933, -0.3160815480385251, 0.7913286350849541, 2.112259129393216, 0.31603244474945724, -0.03141008988740155, -1.227947470679876, -1.5922070078566708, 0.258079605470208, 0.5734548906839825, -0.2777691520070106, -2.0354165726202575, -2.2345736103617595, -0.15622144128515786, 1.2083026639636036, 1.2256193565727835, 0.049295690575631004, 0.5092101544016114, 0.9775815228802811, 1.150036646824441, 0.2427331726119301, 0.7018585458297713, 0.732694391555163, 1.0644900888894022, 0.8315305269862964, -1.754350659340919, -0.2724761793017612, 0.41936827397426607, 1.488958602064352, -0.779811103736643, -1.564613442648919, -0.18058918832219908, -0.3454475471400498, 0.2932407621783206, -0.8883345583387618, 1.2803820941214752, 3.205785592932629, 1.8009102095110534, 0.9211060791736984, -0.448853493322849, -0.30200826157711547, 0.05697546612366482, -0.1842056973960395, -0.005830410081542872, 0.8529016609253436, -2.2854142392312577, -2.8899863616129533, 0.10967642834710191, -0.31556490283645544, -0.14060335448399772, 0.00715388715644203, 0.444112110003291, -0.21291671360061734, -0.4848274315056886, 0.07510834804429713, -0.4938610656153614, 0.8054222336185921, -2.01084235917396, 0.932196710820158, 0.858071989954808, 0.7413215971758675, 1.279871334620964, 0.46753806794382813, -1.2283945793518722, -0.34186980808400164, 0.3202804776455798, 1.2853035794578231, -0.49864831201596227, -0.8287276526398878], \"xaxis\": \"x3\", \"y\": [0.644944253392509, -1.243348684605454, -0.4992529425467864, 2.4951536973358257, 0.7181532996966965, -1.9317140313919021, 0.11474960965809082, -0.1261498964710348, -0.5103316332599934, -0.8276136470561897, -0.2507444797257825, -1.3418672073315923, 0.21175779852862386, 0.5295284425743242, 0.8363177959309905, 0.415861941348495, 0.871861955304613, 0.6681642022568207, 0.6353210567494172, -0.8890269089553131, -0.5757625912203307, 0.0473418279138021, 0.45893720365546087, 0.20533206162680312, 0.5342187570105031, -0.9577761045178981, 0.6215579004212394, 0.3008634269643, 0.33739228720858727, 1.5605524266487771, 1.1653258116847005, 2.293244270264029, -0.7047214962226932, 0.3962295958236032, -0.6537064556460913, -0.4985449582239225, 2.27944819476583, 0.8499011425816464, -0.4860147282091424, -0.6444140483491969, 2.214686187010531, 0.3838743222004633, -0.5539655478660834, -0.9901617877531294, -2.312706735663867, -0.23252768398780077, -1.540241546640356, 1.1808907417329335, 1.0871707946424356, -0.15996342914122272, 0.022131419531764927, 0.5380254693737466, -0.9069222602195819, 0.9098672320142027, 0.39275474249035136, 0.2515091490652439, 0.033273504199668645, -0.4062481423769172, -0.22266747097199469, -0.021543501070881897, 1.1414511969408576, -0.882928566564055, -0.2269953805998093, -1.1414555129144652, -0.19982816122859687, 0.008667300544806618, 0.98104895613813, 0.7000475963198131, -0.9875553180644235, 0.2802041042103516, -0.27841473507495756, -0.28720943739101973, -0.3417889952846551, 0.5204878045371218, -0.434114511660545, -0.2063332906543763, -0.03675127761476961, 1.1901664803851735, 0.01200015667771501, 0.8272860394456298, 0.05409598408964082, -1.270582395308957, -1.5555290581226502, -0.7117188145510055, -0.5312698504250206, -1.5695714005160748, -0.2290634746353095, -1.2991596300694486, 0.12650435754258949, 0.5109620491249028, -1.526578864329696, 0.4182122881950908, 1.4562508551129445, 1.4324202800329318, -0.14732020963007963, -0.8109983196533064, 0.5811563853217354, 1.2867440891345567, -0.6972600913213484, 1.296152728893862], \"yaxis\": \"y3\"}, {\"line\": {\"color\": \"rgba(128, 128, 128, 1.0)\", \"dash\": \"solid\", \"shape\": \"linear\", \"width\": 1.3}, \"marker\": {\"size\": 2, \"symbol\": \"circle\"}, \"mode\": \"markers\", \"name\": \"A\", \"text\": \"\", \"type\": \"scatter\", \"x\": [2.108994929011714, 0.8070872510433912, -0.7313397784295909, -2.4871211713878845, 0.6166019837528329, -0.7709434173700418, 0.34022723723610104, 2.03308030133366, 0.8624422655356735, -1.2520793644506358, -1.9346072174076763, 1.5590334411151778, 1.6555260446539306, 0.14039508117071453, 0.2896344524423826, 0.5620616204620713, 1.2053296393984896, -1.6175600629176843, 0.9747523003019611, -0.40326199832007914, -0.16071152817746634, -1.0392069937373853, 0.3736020221377302, 0.18868892052250075, -0.4068412982404847, -1.346360707191344, -1.7931604365949598, -0.36866050549532625, -1.5559014093663743, -1.739555082436128, -0.07744503840508507, -0.5200851366375174, 0.281154567705927, 0.8114895426827806, 0.7589999595497369, -1.5120990813712023, -1.0335769009586557, -0.4748527754663108, -0.662163238015597, 0.6916725317574091, 0.6273055535953047, -0.43960931874352555, 0.3967362982610203, 1.0117535992710582, 0.1853478337348335, 0.1014659949645751, -0.33302216273433144, -1.5423758085147905, 0.4732686199257994, -0.07414017702040748, -0.12836375120161939, 0.4153942511385534, 1.2077618908493983, 0.8783725934187534, -0.27061938365128807, -0.015927179289710016, 1.7582576123063614, -0.20578031081416243, -0.6217994069496171, 0.12363253644683327, 0.12043252736150575, 0.678630403243001, 1.2758256172016158, 0.6837832904610815, 0.6290402086439506, 1.3801060320616845, 1.1617994743312978, 1.644530337237929, 2.4429426851046268, -0.44837888593539693, -0.6558008128147459, -0.3962931649023302, 0.004621824175672183, 1.513839370916935, -0.127346979100021, 0.22549985157638552, -1.5945567981818194, 2.1362857325729148, 1.006956771801912, -0.5866436528150469, -1.644721660746748, 0.8309674517870819, 0.11321242291815385, -1.13514916705063, -1.5660367502233106, 0.4236452451300459, -0.200346806825276, 0.3834293304643709, 0.07289243563392446, 0.05275983812000614, -1.3897358640759143, -0.5430383166286531, 0.270047889373564, 0.2921479890529208, 0.11862501134259394, 1.3223808127638017, 2.1055272738203996, 0.9595698564777835, -0.159135395643192, 0.6674658068888306], \"xaxis\": \"x4\", \"y\": [0.644944253392509, -1.243348684605454, -0.4992529425467864, 2.4951536973358257, 0.7181532996966965, -1.9317140313919021, 0.11474960965809082, -0.1261498964710348, -0.5103316332599934, -0.8276136470561897, -0.2507444797257825, -1.3418672073315923, 0.21175779852862386, 0.5295284425743242, 0.8363177959309905, 0.415861941348495, 0.871861955304613, 0.6681642022568207, 0.6353210567494172, -0.8890269089553131, -0.5757625912203307, 0.0473418279138021, 0.45893720365546087, 0.20533206162680312, 0.5342187570105031, -0.9577761045178981, 0.6215579004212394, 0.3008634269643, 0.33739228720858727, 1.5605524266487771, 1.1653258116847005, 2.293244270264029, -0.7047214962226932, 0.3962295958236032, -0.6537064556460913, -0.4985449582239225, 2.27944819476583, 0.8499011425816464, -0.4860147282091424, -0.6444140483491969, 2.214686187010531, 0.3838743222004633, -0.5539655478660834, -0.9901617877531294, -2.312706735663867, -0.23252768398780077, -1.540241546640356, 1.1808907417329335, 1.0871707946424356, -0.15996342914122272, 0.022131419531764927, 0.5380254693737466, -0.9069222602195819, 0.9098672320142027, 0.39275474249035136, 0.2515091490652439, 0.033273504199668645, -0.4062481423769172, -0.22266747097199469, -0.021543501070881897, 1.1414511969408576, -0.882928566564055, -0.2269953805998093, -1.1414555129144652, -0.19982816122859687, 0.008667300544806618, 0.98104895613813, 0.7000475963198131, -0.9875553180644235, 0.2802041042103516, -0.27841473507495756, -0.28720943739101973, -0.3417889952846551, 0.5204878045371218, -0.434114511660545, -0.2063332906543763, -0.03675127761476961, 1.1901664803851735, 0.01200015667771501, 0.8272860394456298, 0.05409598408964082, -1.270582395308957, -1.5555290581226502, -0.7117188145510055, -0.5312698504250206, -1.5695714005160748, -0.2290634746353095, -1.2991596300694486, 0.12650435754258949, 0.5109620491249028, -1.526578864329696, 0.4182122881950908, 1.4562508551129445, 1.4324202800329318, -0.14732020963007963, -0.8109983196533064, 0.5811563853217354, 1.2867440891345567, -0.6972600913213484, 1.296152728893862], \"yaxis\": \"y4\"}, {\"line\": {\"color\": \"rgba(128, 128, 128, 1.0)\", \"dash\": \"solid\", \"shape\": \"linear\", \"width\": 1.3}, \"marker\": {\"size\": 2, \"symbol\": \"circle\"}, \"mode\": \"markers\", \"name\": \"B\", \"text\": \"\", \"type\": \"scatter\", \"x\": [0.644944253392509, -1.243348684605454, -0.4992529425467864, 2.4951536973358257, 0.7181532996966965, -1.9317140313919021, 0.11474960965809082, -0.1261498964710348, -0.5103316332599934, -0.8276136470561897, -0.2507444797257825, -1.3418672073315923, 0.21175779852862386, 0.5295284425743242, 0.8363177959309905, 0.415861941348495, 0.871861955304613, 0.6681642022568207, 0.6353210567494172, -0.8890269089553131, -0.5757625912203307, 0.0473418279138021, 0.45893720365546087, 0.20533206162680312, 0.5342187570105031, -0.9577761045178981, 0.6215579004212394, 0.3008634269643, 0.33739228720858727, 1.5605524266487771, 1.1653258116847005, 2.293244270264029, -0.7047214962226932, 0.3962295958236032, -0.6537064556460913, -0.4985449582239225, 2.27944819476583, 0.8499011425816464, -0.4860147282091424, -0.6444140483491969, 2.214686187010531, 0.3838743222004633, -0.5539655478660834, -0.9901617877531294, -2.312706735663867, -0.23252768398780077, -1.540241546640356, 1.1808907417329335, 1.0871707946424356, -0.15996342914122272, 0.022131419531764927, 0.5380254693737466, -0.9069222602195819, 0.9098672320142027, 0.39275474249035136, 0.2515091490652439, 0.033273504199668645, -0.4062481423769172, -0.22266747097199469, -0.021543501070881897, 1.1414511969408576, -0.882928566564055, -0.2269953805998093, -1.1414555129144652, -0.19982816122859687, 0.008667300544806618, 0.98104895613813, 0.7000475963198131, -0.9875553180644235, 0.2802041042103516, -0.27841473507495756, -0.28720943739101973, -0.3417889952846551, 0.5204878045371218, -0.434114511660545, -0.2063332906543763, -0.03675127761476961, 1.1901664803851735, 0.01200015667771501, 0.8272860394456298, 0.05409598408964082, -1.270582395308957, -1.5555290581226502, -0.7117188145510055, -0.5312698504250206, -1.5695714005160748, -0.2290634746353095, -1.2991596300694486, 0.12650435754258949, 0.5109620491249028, -1.526578864329696, 0.4182122881950908, 1.4562508551129445, 1.4324202800329318, -0.14732020963007963, -0.8109983196533064, 0.5811563853217354, 1.2867440891345567, -0.6972600913213484, 1.296152728893862], \"xaxis\": \"x5\", \"y\": [-0.08013390570656855, 0.02269628397142565, 2.0327051595328567, -0.7181989100120357, 1.662173623528374, -1.8065217941063234, 1.2110119232992642, 0.964951897071669, -0.85475257177362, -0.8248953729479542, -1.5826159940641324, -0.31771649747982844, 0.4695556889421146, 1.1126965404646199, 0.47540997865652285, 1.5046965559370773, 0.25150127187187826, 0.7342936672975972, 0.5573821763407487, 1.6335921713759398, 0.28423026188458866, -0.3513447045334481, 0.7216116547879913, -2.0192256386128222, -0.6603785846807382, 0.6075414069350706, -1.3040106662584956, -0.13444623772025147, 1.4643238329452812, 0.8287147546248804, 0.5806777413326851, 0.9303244942852352, 0.7259757585380316, -0.06322536505460559, 1.2453254912014053, 0.6080354966321703, 0.006735045164522672, 1.6427954888944556, -0.5032316059134918, -0.8783406051015079, 0.8369992548650931, -0.15452153692557458, 0.4495271766918472, -0.851990999026497, -1.10351719090533, 0.09538065137446597, -1.4065321722524897, -0.6884313359013833, -1.8692741176830965, 0.7535226372890009, 1.7893533378361597, -0.7663252274224117, 1.8026469873249986, 0.04966144641495865, -2.827664478329827, -0.12053078024314415, -0.8406444888833142, 1.1436342481148736, -0.6438301792589787, -0.15968908610736374, -0.03930255640966198, -0.7994520589749605, -1.1940497177919867, 0.10867677592993708, -1.3726391157855171, -0.1326855930801497, -0.5587655308484875, -0.7436168413473584, -1.6228530763718965, 0.06949574404363028, 0.6809559377259978, -0.31448231912903674, -0.3316012072631598, -0.5847889225916768, -1.6805967750833015, -0.3665019767365411, 2.008727649743859, -0.24327605882879857, -0.359785106683067, -0.8924991334740093, 0.12697324601980906, 0.5531647475745822, -1.0258680943681446, 0.8539067657069088, -0.7889592814582247, -1.2162060159782722, -1.0133611160795266, -0.5733977596069428, 2.0491826184025244, -1.0876329251377972, -0.07220169619981867, -0.5633866328881607, -1.2044256319043143, 0.5572001026112121, -0.5831545677877031, -1.428781267332909, -0.45228906215591375, 0.156452198379921, -0.44290164114833663, -0.4004290542117399], \"yaxis\": \"y5\"}, {\"histfunc\": \"count\", \"histnorm\": \"\", \"marker\": {\"color\": \"rgba(55, 128, 191, 1.0)\", \"line\": {\"color\": \"#4D5663\", \"width\": 1.3}}, \"name\": \"B\", \"nbinsx\": 10, \"opacity\": 0.8, \"orientation\": \"v\", \"type\": \"histogram\", \"x\": [-0.08013390570656855, 0.02269628397142565, 2.0327051595328567, -0.7181989100120357, 1.662173623528374, -1.8065217941063234, 1.2110119232992642, 0.964951897071669, -0.85475257177362, -0.8248953729479542, -1.5826159940641324, -0.31771649747982844, 0.4695556889421146, 1.1126965404646199, 0.47540997865652285, 1.5046965559370773, 0.25150127187187826, 0.7342936672975972, 0.5573821763407487, 1.6335921713759398, 0.28423026188458866, -0.3513447045334481, 0.7216116547879913, -2.0192256386128222, -0.6603785846807382, 0.6075414069350706, -1.3040106662584956, -0.13444623772025147, 1.4643238329452812, 0.8287147546248804, 0.5806777413326851, 0.9303244942852352, 0.7259757585380316, -0.06322536505460559, 1.2453254912014053, 0.6080354966321703, 0.006735045164522672, 1.6427954888944556, -0.5032316059134918, -0.8783406051015079, 0.8369992548650931, -0.15452153692557458, 0.4495271766918472, -0.851990999026497, -1.10351719090533, 0.09538065137446597, -1.4065321722524897, -0.6884313359013833, -1.8692741176830965, 0.7535226372890009, 1.7893533378361597, -0.7663252274224117, 1.8026469873249986, 0.04966144641495865, -2.827664478329827, -0.12053078024314415, -0.8406444888833142, 1.1436342481148736, -0.6438301792589787, -0.15968908610736374, -0.03930255640966198, -0.7994520589749605, -1.1940497177919867, 0.10867677592993708, -1.3726391157855171, -0.1326855930801497, -0.5587655308484875, -0.7436168413473584, -1.6228530763718965, 0.06949574404363028, 0.6809559377259978, -0.31448231912903674, -0.3316012072631598, -0.5847889225916768, -1.6805967750833015, -0.3665019767365411, 2.008727649743859, -0.24327605882879857, -0.359785106683067, -0.8924991334740093, 0.12697324601980906, 0.5531647475745822, -1.0258680943681446, 0.8539067657069088, -0.7889592814582247, -1.2162060159782722, -1.0133611160795266, -0.5733977596069428, 2.0491826184025244, -1.0876329251377972, -0.07220169619981867, -0.5633866328881607, -1.2044256319043143, 0.5572001026112121, -0.5831545677877031, -1.428781267332909, -0.45228906215591375, 0.156452198379921, -0.44290164114833663, -0.4004290542117399], \"xaxis\": \"x6\", \"yaxis\": \"y6\"}, {\"line\": {\"color\": \"rgba(128, 128, 128, 1.0)\", \"dash\": \"solid\", \"shape\": \"linear\", \"width\": 1.3}, \"marker\": {\"size\": 2, \"symbol\": \"circle\"}, \"mode\": \"markers\", \"name\": \"B\", \"text\": \"\", \"type\": \"scatter\", \"x\": [-1.4477574354068719, -1.7233603802500193, -0.5984209737367858, -0.9368878988604648, 0.9062137919129141, 0.22218284063825272, -2.0417255109737233, -0.2192180825379543, -0.08977230829964371, 1.667983087259697, -0.6361232272678549, -0.5860975409862929, 0.1899516089475176, -0.41979431650782745, 1.2428414520921423, -0.2624917131211503, 0.3034895475375121, 1.4413260459453492, 1.5458349135615945, 0.29655048031503173, 0.17181835748016983, -0.9122902524233049, -1.063669154205758, -0.23710133901362845, 1.3235361574408435, -0.7442166856797351, -0.49932902949870567, 0.7516538398106425, 2.5335247809440373, -0.7026777614846776, -0.8661315259679787, -0.13730753923982933, -0.3160815480385251, 0.7913286350849541, 2.112259129393216, 0.31603244474945724, -0.03141008988740155, -1.227947470679876, -1.5922070078566708, 0.258079605470208, 0.5734548906839825, -0.2777691520070106, -2.0354165726202575, -2.2345736103617595, -0.15622144128515786, 1.2083026639636036, 1.2256193565727835, 0.049295690575631004, 0.5092101544016114, 0.9775815228802811, 1.150036646824441, 0.2427331726119301, 0.7018585458297713, 0.732694391555163, 1.0644900888894022, 0.8315305269862964, -1.754350659340919, -0.2724761793017612, 0.41936827397426607, 1.488958602064352, -0.779811103736643, -1.564613442648919, -0.18058918832219908, -0.3454475471400498, 0.2932407621783206, -0.8883345583387618, 1.2803820941214752, 3.205785592932629, 1.8009102095110534, 0.9211060791736984, -0.448853493322849, -0.30200826157711547, 0.05697546612366482, -0.1842056973960395, -0.005830410081542872, 0.8529016609253436, -2.2854142392312577, -2.8899863616129533, 0.10967642834710191, -0.31556490283645544, -0.14060335448399772, 0.00715388715644203, 0.444112110003291, -0.21291671360061734, -0.4848274315056886, 0.07510834804429713, -0.4938610656153614, 0.8054222336185921, -2.01084235917396, 0.932196710820158, 0.858071989954808, 0.7413215971758675, 1.279871334620964, 0.46753806794382813, -1.2283945793518722, -0.34186980808400164, 0.3202804776455798, 1.2853035794578231, -0.49864831201596227, -0.8287276526398878], \"xaxis\": \"x7\", \"y\": [-0.08013390570656855, 0.02269628397142565, 2.0327051595328567, -0.7181989100120357, 1.662173623528374, -1.8065217941063234, 1.2110119232992642, 0.964951897071669, -0.85475257177362, -0.8248953729479542, -1.5826159940641324, -0.31771649747982844, 0.4695556889421146, 1.1126965404646199, 0.47540997865652285, 1.5046965559370773, 0.25150127187187826, 0.7342936672975972, 0.5573821763407487, 1.6335921713759398, 0.28423026188458866, -0.3513447045334481, 0.7216116547879913, -2.0192256386128222, -0.6603785846807382, 0.6075414069350706, -1.3040106662584956, -0.13444623772025147, 1.4643238329452812, 0.8287147546248804, 0.5806777413326851, 0.9303244942852352, 0.7259757585380316, -0.06322536505460559, 1.2453254912014053, 0.6080354966321703, 0.006735045164522672, 1.6427954888944556, -0.5032316059134918, -0.8783406051015079, 0.8369992548650931, -0.15452153692557458, 0.4495271766918472, -0.851990999026497, -1.10351719090533, 0.09538065137446597, -1.4065321722524897, -0.6884313359013833, -1.8692741176830965, 0.7535226372890009, 1.7893533378361597, -0.7663252274224117, 1.8026469873249986, 0.04966144641495865, -2.827664478329827, -0.12053078024314415, -0.8406444888833142, 1.1436342481148736, -0.6438301792589787, -0.15968908610736374, -0.03930255640966198, -0.7994520589749605, -1.1940497177919867, 0.10867677592993708, -1.3726391157855171, -0.1326855930801497, -0.5587655308484875, -0.7436168413473584, -1.6228530763718965, 0.06949574404363028, 0.6809559377259978, -0.31448231912903674, -0.3316012072631598, -0.5847889225916768, -1.6805967750833015, -0.3665019767365411, 2.008727649743859, -0.24327605882879857, -0.359785106683067, -0.8924991334740093, 0.12697324601980906, 0.5531647475745822, -1.0258680943681446, 0.8539067657069088, -0.7889592814582247, -1.2162060159782722, -1.0133611160795266, -0.5733977596069428, 2.0491826184025244, -1.0876329251377972, -0.07220169619981867, -0.5633866328881607, -1.2044256319043143, 0.5572001026112121, -0.5831545677877031, -1.428781267332909, -0.45228906215591375, 0.156452198379921, -0.44290164114833663, -0.4004290542117399], \"yaxis\": \"y7\"}, {\"line\": {\"color\": \"rgba(128, 128, 128, 1.0)\", \"dash\": \"solid\", \"shape\": \"linear\", \"width\": 1.3}, \"marker\": {\"size\": 2, \"symbol\": \"circle\"}, \"mode\": \"markers\", \"name\": \"B\", \"text\": \"\", \"type\": \"scatter\", \"x\": [2.108994929011714, 0.8070872510433912, -0.7313397784295909, -2.4871211713878845, 0.6166019837528329, -0.7709434173700418, 0.34022723723610104, 2.03308030133366, 0.8624422655356735, -1.2520793644506358, -1.9346072174076763, 1.5590334411151778, 1.6555260446539306, 0.14039508117071453, 0.2896344524423826, 0.5620616204620713, 1.2053296393984896, -1.6175600629176843, 0.9747523003019611, -0.40326199832007914, -0.16071152817746634, -1.0392069937373853, 0.3736020221377302, 0.18868892052250075, -0.4068412982404847, -1.346360707191344, -1.7931604365949598, -0.36866050549532625, -1.5559014093663743, -1.739555082436128, -0.07744503840508507, -0.5200851366375174, 0.281154567705927, 0.8114895426827806, 0.7589999595497369, -1.5120990813712023, -1.0335769009586557, -0.4748527754663108, -0.662163238015597, 0.6916725317574091, 0.6273055535953047, -0.43960931874352555, 0.3967362982610203, 1.0117535992710582, 0.1853478337348335, 0.1014659949645751, -0.33302216273433144, -1.5423758085147905, 0.4732686199257994, -0.07414017702040748, -0.12836375120161939, 0.4153942511385534, 1.2077618908493983, 0.8783725934187534, -0.27061938365128807, -0.015927179289710016, 1.7582576123063614, -0.20578031081416243, -0.6217994069496171, 0.12363253644683327, 0.12043252736150575, 0.678630403243001, 1.2758256172016158, 0.6837832904610815, 0.6290402086439506, 1.3801060320616845, 1.1617994743312978, 1.644530337237929, 2.4429426851046268, -0.44837888593539693, -0.6558008128147459, -0.3962931649023302, 0.004621824175672183, 1.513839370916935, -0.127346979100021, 0.22549985157638552, -1.5945567981818194, 2.1362857325729148, 1.006956771801912, -0.5866436528150469, -1.644721660746748, 0.8309674517870819, 0.11321242291815385, -1.13514916705063, -1.5660367502233106, 0.4236452451300459, -0.200346806825276, 0.3834293304643709, 0.07289243563392446, 0.05275983812000614, -1.3897358640759143, -0.5430383166286531, 0.270047889373564, 0.2921479890529208, 0.11862501134259394, 1.3223808127638017, 2.1055272738203996, 0.9595698564777835, -0.159135395643192, 0.6674658068888306], \"xaxis\": \"x8\", \"y\": [-0.08013390570656855, 0.02269628397142565, 2.0327051595328567, -0.7181989100120357, 1.662173623528374, -1.8065217941063234, 1.2110119232992642, 0.964951897071669, -0.85475257177362, -0.8248953729479542, -1.5826159940641324, -0.31771649747982844, 0.4695556889421146, 1.1126965404646199, 0.47540997865652285, 1.5046965559370773, 0.25150127187187826, 0.7342936672975972, 0.5573821763407487, 1.6335921713759398, 0.28423026188458866, -0.3513447045334481, 0.7216116547879913, -2.0192256386128222, -0.6603785846807382, 0.6075414069350706, -1.3040106662584956, -0.13444623772025147, 1.4643238329452812, 0.8287147546248804, 0.5806777413326851, 0.9303244942852352, 0.7259757585380316, -0.06322536505460559, 1.2453254912014053, 0.6080354966321703, 0.006735045164522672, 1.6427954888944556, -0.5032316059134918, -0.8783406051015079, 0.8369992548650931, -0.15452153692557458, 0.4495271766918472, -0.851990999026497, -1.10351719090533, 0.09538065137446597, -1.4065321722524897, -0.6884313359013833, -1.8692741176830965, 0.7535226372890009, 1.7893533378361597, -0.7663252274224117, 1.8026469873249986, 0.04966144641495865, -2.827664478329827, -0.12053078024314415, -0.8406444888833142, 1.1436342481148736, -0.6438301792589787, -0.15968908610736374, -0.03930255640966198, -0.7994520589749605, -1.1940497177919867, 0.10867677592993708, -1.3726391157855171, -0.1326855930801497, -0.5587655308484875, -0.7436168413473584, -1.6228530763718965, 0.06949574404363028, 0.6809559377259978, -0.31448231912903674, -0.3316012072631598, -0.5847889225916768, -1.6805967750833015, -0.3665019767365411, 2.008727649743859, -0.24327605882879857, -0.359785106683067, -0.8924991334740093, 0.12697324601980906, 0.5531647475745822, -1.0258680943681446, 0.8539067657069088, -0.7889592814582247, -1.2162060159782722, -1.0133611160795266, -0.5733977596069428, 2.0491826184025244, -1.0876329251377972, -0.07220169619981867, -0.5633866328881607, -1.2044256319043143, 0.5572001026112121, -0.5831545677877031, -1.428781267332909, -0.45228906215591375, 0.156452198379921, -0.44290164114833663, -0.4004290542117399], \"yaxis\": \"y8\"}, {\"line\": {\"color\": \"rgba(128, 128, 128, 1.0)\", \"dash\": \"solid\", \"shape\": \"linear\", \"width\": 1.3}, \"marker\": {\"size\": 2, \"symbol\": \"circle\"}, \"mode\": \"markers\", \"name\": \"C\", \"text\": \"\", \"type\": \"scatter\", \"x\": [0.644944253392509, -1.243348684605454, -0.4992529425467864, 2.4951536973358257, 0.7181532996966965, -1.9317140313919021, 0.11474960965809082, -0.1261498964710348, -0.5103316332599934, -0.8276136470561897, -0.2507444797257825, -1.3418672073315923, 0.21175779852862386, 0.5295284425743242, 0.8363177959309905, 0.415861941348495, 0.871861955304613, 0.6681642022568207, 0.6353210567494172, -0.8890269089553131, -0.5757625912203307, 0.0473418279138021, 0.45893720365546087, 0.20533206162680312, 0.5342187570105031, -0.9577761045178981, 0.6215579004212394, 0.3008634269643, 0.33739228720858727, 1.5605524266487771, 1.1653258116847005, 2.293244270264029, -0.7047214962226932, 0.3962295958236032, -0.6537064556460913, -0.4985449582239225, 2.27944819476583, 0.8499011425816464, -0.4860147282091424, -0.6444140483491969, 2.214686187010531, 0.3838743222004633, -0.5539655478660834, -0.9901617877531294, -2.312706735663867, -0.23252768398780077, -1.540241546640356, 1.1808907417329335, 1.0871707946424356, -0.15996342914122272, 0.022131419531764927, 0.5380254693737466, -0.9069222602195819, 0.9098672320142027, 0.39275474249035136, 0.2515091490652439, 0.033273504199668645, -0.4062481423769172, -0.22266747097199469, -0.021543501070881897, 1.1414511969408576, -0.882928566564055, -0.2269953805998093, -1.1414555129144652, -0.19982816122859687, 0.008667300544806618, 0.98104895613813, 0.7000475963198131, -0.9875553180644235, 0.2802041042103516, -0.27841473507495756, -0.28720943739101973, -0.3417889952846551, 0.5204878045371218, -0.434114511660545, -0.2063332906543763, -0.03675127761476961, 1.1901664803851735, 0.01200015667771501, 0.8272860394456298, 0.05409598408964082, -1.270582395308957, -1.5555290581226502, -0.7117188145510055, -0.5312698504250206, -1.5695714005160748, -0.2290634746353095, -1.2991596300694486, 0.12650435754258949, 0.5109620491249028, -1.526578864329696, 0.4182122881950908, 1.4562508551129445, 1.4324202800329318, -0.14732020963007963, -0.8109983196533064, 0.5811563853217354, 1.2867440891345567, -0.6972600913213484, 1.296152728893862], \"xaxis\": \"x9\", \"y\": [-1.4477574354068719, -1.7233603802500193, -0.5984209737367858, -0.9368878988604648, 0.9062137919129141, 0.22218284063825272, -2.0417255109737233, -0.2192180825379543, -0.08977230829964371, 1.667983087259697, -0.6361232272678549, -0.5860975409862929, 0.1899516089475176, -0.41979431650782745, 1.2428414520921423, -0.2624917131211503, 0.3034895475375121, 1.4413260459453492, 1.5458349135615945, 0.29655048031503173, 0.17181835748016983, -0.9122902524233049, -1.063669154205758, -0.23710133901362845, 1.3235361574408435, -0.7442166856797351, -0.49932902949870567, 0.7516538398106425, 2.5335247809440373, -0.7026777614846776, -0.8661315259679787, -0.13730753923982933, -0.3160815480385251, 0.7913286350849541, 2.112259129393216, 0.31603244474945724, -0.03141008988740155, -1.227947470679876, -1.5922070078566708, 0.258079605470208, 0.5734548906839825, -0.2777691520070106, -2.0354165726202575, -2.2345736103617595, -0.15622144128515786, 1.2083026639636036, 1.2256193565727835, 0.049295690575631004, 0.5092101544016114, 0.9775815228802811, 1.150036646824441, 0.2427331726119301, 0.7018585458297713, 0.732694391555163, 1.0644900888894022, 0.8315305269862964, -1.754350659340919, -0.2724761793017612, 0.41936827397426607, 1.488958602064352, -0.779811103736643, -1.564613442648919, -0.18058918832219908, -0.3454475471400498, 0.2932407621783206, -0.8883345583387618, 1.2803820941214752, 3.205785592932629, 1.8009102095110534, 0.9211060791736984, -0.448853493322849, -0.30200826157711547, 0.05697546612366482, -0.1842056973960395, -0.005830410081542872, 0.8529016609253436, -2.2854142392312577, -2.8899863616129533, 0.10967642834710191, -0.31556490283645544, -0.14060335448399772, 0.00715388715644203, 0.444112110003291, -0.21291671360061734, -0.4848274315056886, 0.07510834804429713, -0.4938610656153614, 0.8054222336185921, -2.01084235917396, 0.932196710820158, 0.858071989954808, 0.7413215971758675, 1.279871334620964, 0.46753806794382813, -1.2283945793518722, -0.34186980808400164, 0.3202804776455798, 1.2853035794578231, -0.49864831201596227, -0.8287276526398878], \"yaxis\": \"y9\"}, {\"line\": {\"color\": \"rgba(128, 128, 128, 1.0)\", \"dash\": \"solid\", \"shape\": \"linear\", \"width\": 1.3}, \"marker\": {\"size\": 2, \"symbol\": \"circle\"}, \"mode\": \"markers\", \"name\": \"C\", \"text\": \"\", \"type\": \"scatter\", \"x\": [-0.08013390570656855, 0.02269628397142565, 2.0327051595328567, -0.7181989100120357, 1.662173623528374, -1.8065217941063234, 1.2110119232992642, 0.964951897071669, -0.85475257177362, -0.8248953729479542, -1.5826159940641324, -0.31771649747982844, 0.4695556889421146, 1.1126965404646199, 0.47540997865652285, 1.5046965559370773, 0.25150127187187826, 0.7342936672975972, 0.5573821763407487, 1.6335921713759398, 0.28423026188458866, -0.3513447045334481, 0.7216116547879913, -2.0192256386128222, -0.6603785846807382, 0.6075414069350706, -1.3040106662584956, -0.13444623772025147, 1.4643238329452812, 0.8287147546248804, 0.5806777413326851, 0.9303244942852352, 0.7259757585380316, -0.06322536505460559, 1.2453254912014053, 0.6080354966321703, 0.006735045164522672, 1.6427954888944556, -0.5032316059134918, -0.8783406051015079, 0.8369992548650931, -0.15452153692557458, 0.4495271766918472, -0.851990999026497, -1.10351719090533, 0.09538065137446597, -1.4065321722524897, -0.6884313359013833, -1.8692741176830965, 0.7535226372890009, 1.7893533378361597, -0.7663252274224117, 1.8026469873249986, 0.04966144641495865, -2.827664478329827, -0.12053078024314415, -0.8406444888833142, 1.1436342481148736, -0.6438301792589787, -0.15968908610736374, -0.03930255640966198, -0.7994520589749605, -1.1940497177919867, 0.10867677592993708, -1.3726391157855171, -0.1326855930801497, -0.5587655308484875, -0.7436168413473584, -1.6228530763718965, 0.06949574404363028, 0.6809559377259978, -0.31448231912903674, -0.3316012072631598, -0.5847889225916768, -1.6805967750833015, -0.3665019767365411, 2.008727649743859, -0.24327605882879857, -0.359785106683067, -0.8924991334740093, 0.12697324601980906, 0.5531647475745822, -1.0258680943681446, 0.8539067657069088, -0.7889592814582247, -1.2162060159782722, -1.0133611160795266, -0.5733977596069428, 2.0491826184025244, -1.0876329251377972, -0.07220169619981867, -0.5633866328881607, -1.2044256319043143, 0.5572001026112121, -0.5831545677877031, -1.428781267332909, -0.45228906215591375, 0.156452198379921, -0.44290164114833663, -0.4004290542117399], \"xaxis\": \"x10\", \"y\": [-1.4477574354068719, -1.7233603802500193, -0.5984209737367858, -0.9368878988604648, 0.9062137919129141, 0.22218284063825272, -2.0417255109737233, -0.2192180825379543, -0.08977230829964371, 1.667983087259697, -0.6361232272678549, -0.5860975409862929, 0.1899516089475176, -0.41979431650782745, 1.2428414520921423, -0.2624917131211503, 0.3034895475375121, 1.4413260459453492, 1.5458349135615945, 0.29655048031503173, 0.17181835748016983, -0.9122902524233049, -1.063669154205758, -0.23710133901362845, 1.3235361574408435, -0.7442166856797351, -0.49932902949870567, 0.7516538398106425, 2.5335247809440373, -0.7026777614846776, -0.8661315259679787, -0.13730753923982933, -0.3160815480385251, 0.7913286350849541, 2.112259129393216, 0.31603244474945724, -0.03141008988740155, -1.227947470679876, -1.5922070078566708, 0.258079605470208, 0.5734548906839825, -0.2777691520070106, -2.0354165726202575, -2.2345736103617595, -0.15622144128515786, 1.2083026639636036, 1.2256193565727835, 0.049295690575631004, 0.5092101544016114, 0.9775815228802811, 1.150036646824441, 0.2427331726119301, 0.7018585458297713, 0.732694391555163, 1.0644900888894022, 0.8315305269862964, -1.754350659340919, -0.2724761793017612, 0.41936827397426607, 1.488958602064352, -0.779811103736643, -1.564613442648919, -0.18058918832219908, -0.3454475471400498, 0.2932407621783206, -0.8883345583387618, 1.2803820941214752, 3.205785592932629, 1.8009102095110534, 0.9211060791736984, -0.448853493322849, -0.30200826157711547, 0.05697546612366482, -0.1842056973960395, -0.005830410081542872, 0.8529016609253436, -2.2854142392312577, -2.8899863616129533, 0.10967642834710191, -0.31556490283645544, -0.14060335448399772, 0.00715388715644203, 0.444112110003291, -0.21291671360061734, -0.4848274315056886, 0.07510834804429713, -0.4938610656153614, 0.8054222336185921, -2.01084235917396, 0.932196710820158, 0.858071989954808, 0.7413215971758675, 1.279871334620964, 0.46753806794382813, -1.2283945793518722, -0.34186980808400164, 0.3202804776455798, 1.2853035794578231, -0.49864831201596227, -0.8287276526398878], \"yaxis\": \"y10\"}, {\"histfunc\": \"count\", \"histnorm\": \"\", \"marker\": {\"color\": \"rgba(50, 171, 96, 1.0)\", \"line\": {\"color\": \"#4D5663\", \"width\": 1.3}}, \"name\": \"C\", \"nbinsx\": 10, \"opacity\": 0.8, \"orientation\": \"v\", \"type\": \"histogram\", \"x\": [-1.4477574354068719, -1.7233603802500193, -0.5984209737367858, -0.9368878988604648, 0.9062137919129141, 0.22218284063825272, -2.0417255109737233, -0.2192180825379543, -0.08977230829964371, 1.667983087259697, -0.6361232272678549, -0.5860975409862929, 0.1899516089475176, -0.41979431650782745, 1.2428414520921423, -0.2624917131211503, 0.3034895475375121, 1.4413260459453492, 1.5458349135615945, 0.29655048031503173, 0.17181835748016983, -0.9122902524233049, -1.063669154205758, -0.23710133901362845, 1.3235361574408435, -0.7442166856797351, -0.49932902949870567, 0.7516538398106425, 2.5335247809440373, -0.7026777614846776, -0.8661315259679787, -0.13730753923982933, -0.3160815480385251, 0.7913286350849541, 2.112259129393216, 0.31603244474945724, -0.03141008988740155, -1.227947470679876, -1.5922070078566708, 0.258079605470208, 0.5734548906839825, -0.2777691520070106, -2.0354165726202575, -2.2345736103617595, -0.15622144128515786, 1.2083026639636036, 1.2256193565727835, 0.049295690575631004, 0.5092101544016114, 0.9775815228802811, 1.150036646824441, 0.2427331726119301, 0.7018585458297713, 0.732694391555163, 1.0644900888894022, 0.8315305269862964, -1.754350659340919, -0.2724761793017612, 0.41936827397426607, 1.488958602064352, -0.779811103736643, -1.564613442648919, -0.18058918832219908, -0.3454475471400498, 0.2932407621783206, -0.8883345583387618, 1.2803820941214752, 3.205785592932629, 1.8009102095110534, 0.9211060791736984, -0.448853493322849, -0.30200826157711547, 0.05697546612366482, -0.1842056973960395, -0.005830410081542872, 0.8529016609253436, -2.2854142392312577, -2.8899863616129533, 0.10967642834710191, -0.31556490283645544, -0.14060335448399772, 0.00715388715644203, 0.444112110003291, -0.21291671360061734, -0.4848274315056886, 0.07510834804429713, -0.4938610656153614, 0.8054222336185921, -2.01084235917396, 0.932196710820158, 0.858071989954808, 0.7413215971758675, 1.279871334620964, 0.46753806794382813, -1.2283945793518722, -0.34186980808400164, 0.3202804776455798, 1.2853035794578231, -0.49864831201596227, -0.8287276526398878], \"xaxis\": \"x11\", \"yaxis\": \"y11\"}, {\"line\": {\"color\": \"rgba(128, 128, 128, 1.0)\", \"dash\": \"solid\", \"shape\": \"linear\", \"width\": 1.3}, \"marker\": {\"size\": 2, \"symbol\": \"circle\"}, \"mode\": \"markers\", \"name\": \"C\", \"text\": \"\", \"type\": \"scatter\", \"x\": [2.108994929011714, 0.8070872510433912, -0.7313397784295909, -2.4871211713878845, 0.6166019837528329, -0.7709434173700418, 0.34022723723610104, 2.03308030133366, 0.8624422655356735, -1.2520793644506358, -1.9346072174076763, 1.5590334411151778, 1.6555260446539306, 0.14039508117071453, 0.2896344524423826, 0.5620616204620713, 1.2053296393984896, -1.6175600629176843, 0.9747523003019611, -0.40326199832007914, -0.16071152817746634, -1.0392069937373853, 0.3736020221377302, 0.18868892052250075, -0.4068412982404847, -1.346360707191344, -1.7931604365949598, -0.36866050549532625, -1.5559014093663743, -1.739555082436128, -0.07744503840508507, -0.5200851366375174, 0.281154567705927, 0.8114895426827806, 0.7589999595497369, -1.5120990813712023, -1.0335769009586557, -0.4748527754663108, -0.662163238015597, 0.6916725317574091, 0.6273055535953047, -0.43960931874352555, 0.3967362982610203, 1.0117535992710582, 0.1853478337348335, 0.1014659949645751, -0.33302216273433144, -1.5423758085147905, 0.4732686199257994, -0.07414017702040748, -0.12836375120161939, 0.4153942511385534, 1.2077618908493983, 0.8783725934187534, -0.27061938365128807, -0.015927179289710016, 1.7582576123063614, -0.20578031081416243, -0.6217994069496171, 0.12363253644683327, 0.12043252736150575, 0.678630403243001, 1.2758256172016158, 0.6837832904610815, 0.6290402086439506, 1.3801060320616845, 1.1617994743312978, 1.644530337237929, 2.4429426851046268, -0.44837888593539693, -0.6558008128147459, -0.3962931649023302, 0.004621824175672183, 1.513839370916935, -0.127346979100021, 0.22549985157638552, -1.5945567981818194, 2.1362857325729148, 1.006956771801912, -0.5866436528150469, -1.644721660746748, 0.8309674517870819, 0.11321242291815385, -1.13514916705063, -1.5660367502233106, 0.4236452451300459, -0.200346806825276, 0.3834293304643709, 0.07289243563392446, 0.05275983812000614, -1.3897358640759143, -0.5430383166286531, 0.270047889373564, 0.2921479890529208, 0.11862501134259394, 1.3223808127638017, 2.1055272738203996, 0.9595698564777835, -0.159135395643192, 0.6674658068888306], \"xaxis\": \"x12\", \"y\": [-1.4477574354068719, -1.7233603802500193, -0.5984209737367858, -0.9368878988604648, 0.9062137919129141, 0.22218284063825272, -2.0417255109737233, -0.2192180825379543, -0.08977230829964371, 1.667983087259697, -0.6361232272678549, -0.5860975409862929, 0.1899516089475176, -0.41979431650782745, 1.2428414520921423, -0.2624917131211503, 0.3034895475375121, 1.4413260459453492, 1.5458349135615945, 0.29655048031503173, 0.17181835748016983, -0.9122902524233049, -1.063669154205758, -0.23710133901362845, 1.3235361574408435, -0.7442166856797351, -0.49932902949870567, 0.7516538398106425, 2.5335247809440373, -0.7026777614846776, -0.8661315259679787, -0.13730753923982933, -0.3160815480385251, 0.7913286350849541, 2.112259129393216, 0.31603244474945724, -0.03141008988740155, -1.227947470679876, -1.5922070078566708, 0.258079605470208, 0.5734548906839825, -0.2777691520070106, -2.0354165726202575, -2.2345736103617595, -0.15622144128515786, 1.2083026639636036, 1.2256193565727835, 0.049295690575631004, 0.5092101544016114, 0.9775815228802811, 1.150036646824441, 0.2427331726119301, 0.7018585458297713, 0.732694391555163, 1.0644900888894022, 0.8315305269862964, -1.754350659340919, -0.2724761793017612, 0.41936827397426607, 1.488958602064352, -0.779811103736643, -1.564613442648919, -0.18058918832219908, -0.3454475471400498, 0.2932407621783206, -0.8883345583387618, 1.2803820941214752, 3.205785592932629, 1.8009102095110534, 0.9211060791736984, -0.448853493322849, -0.30200826157711547, 0.05697546612366482, -0.1842056973960395, -0.005830410081542872, 0.8529016609253436, -2.2854142392312577, -2.8899863616129533, 0.10967642834710191, -0.31556490283645544, -0.14060335448399772, 0.00715388715644203, 0.444112110003291, -0.21291671360061734, -0.4848274315056886, 0.07510834804429713, -0.4938610656153614, 0.8054222336185921, -2.01084235917396, 0.932196710820158, 0.858071989954808, 0.7413215971758675, 1.279871334620964, 0.46753806794382813, -1.2283945793518722, -0.34186980808400164, 0.3202804776455798, 1.2853035794578231, -0.49864831201596227, -0.8287276526398878], \"yaxis\": \"y12\"}, {\"line\": {\"color\": \"rgba(128, 128, 128, 1.0)\", \"dash\": \"solid\", \"shape\": \"linear\", \"width\": 1.3}, \"marker\": {\"size\": 2, \"symbol\": \"circle\"}, \"mode\": \"markers\", \"name\": \"D\", \"text\": \"\", \"type\": \"scatter\", \"x\": [0.644944253392509, -1.243348684605454, -0.4992529425467864, 2.4951536973358257, 0.7181532996966965, -1.9317140313919021, 0.11474960965809082, -0.1261498964710348, -0.5103316332599934, -0.8276136470561897, -0.2507444797257825, -1.3418672073315923, 0.21175779852862386, 0.5295284425743242, 0.8363177959309905, 0.415861941348495, 0.871861955304613, 0.6681642022568207, 0.6353210567494172, -0.8890269089553131, -0.5757625912203307, 0.0473418279138021, 0.45893720365546087, 0.20533206162680312, 0.5342187570105031, -0.9577761045178981, 0.6215579004212394, 0.3008634269643, 0.33739228720858727, 1.5605524266487771, 1.1653258116847005, 2.293244270264029, -0.7047214962226932, 0.3962295958236032, -0.6537064556460913, -0.4985449582239225, 2.27944819476583, 0.8499011425816464, -0.4860147282091424, -0.6444140483491969, 2.214686187010531, 0.3838743222004633, -0.5539655478660834, -0.9901617877531294, -2.312706735663867, -0.23252768398780077, -1.540241546640356, 1.1808907417329335, 1.0871707946424356, -0.15996342914122272, 0.022131419531764927, 0.5380254693737466, -0.9069222602195819, 0.9098672320142027, 0.39275474249035136, 0.2515091490652439, 0.033273504199668645, -0.4062481423769172, -0.22266747097199469, -0.021543501070881897, 1.1414511969408576, -0.882928566564055, -0.2269953805998093, -1.1414555129144652, -0.19982816122859687, 0.008667300544806618, 0.98104895613813, 0.7000475963198131, -0.9875553180644235, 0.2802041042103516, -0.27841473507495756, -0.28720943739101973, -0.3417889952846551, 0.5204878045371218, -0.434114511660545, -0.2063332906543763, -0.03675127761476961, 1.1901664803851735, 0.01200015667771501, 0.8272860394456298, 0.05409598408964082, -1.270582395308957, -1.5555290581226502, -0.7117188145510055, -0.5312698504250206, -1.5695714005160748, -0.2290634746353095, -1.2991596300694486, 0.12650435754258949, 0.5109620491249028, -1.526578864329696, 0.4182122881950908, 1.4562508551129445, 1.4324202800329318, -0.14732020963007963, -0.8109983196533064, 0.5811563853217354, 1.2867440891345567, -0.6972600913213484, 1.296152728893862], \"xaxis\": \"x13\", \"y\": [2.108994929011714, 0.8070872510433912, -0.7313397784295909, -2.4871211713878845, 0.6166019837528329, -0.7709434173700418, 0.34022723723610104, 2.03308030133366, 0.8624422655356735, -1.2520793644506358, -1.9346072174076763, 1.5590334411151778, 1.6555260446539306, 0.14039508117071453, 0.2896344524423826, 0.5620616204620713, 1.2053296393984896, -1.6175600629176843, 0.9747523003019611, -0.40326199832007914, -0.16071152817746634, -1.0392069937373853, 0.3736020221377302, 0.18868892052250075, -0.4068412982404847, -1.346360707191344, -1.7931604365949598, -0.36866050549532625, -1.5559014093663743, -1.739555082436128, -0.07744503840508507, -0.5200851366375174, 0.281154567705927, 0.8114895426827806, 0.7589999595497369, -1.5120990813712023, -1.0335769009586557, -0.4748527754663108, -0.662163238015597, 0.6916725317574091, 0.6273055535953047, -0.43960931874352555, 0.3967362982610203, 1.0117535992710582, 0.1853478337348335, 0.1014659949645751, -0.33302216273433144, -1.5423758085147905, 0.4732686199257994, -0.07414017702040748, -0.12836375120161939, 0.4153942511385534, 1.2077618908493983, 0.8783725934187534, -0.27061938365128807, -0.015927179289710016, 1.7582576123063614, -0.20578031081416243, -0.6217994069496171, 0.12363253644683327, 0.12043252736150575, 0.678630403243001, 1.2758256172016158, 0.6837832904610815, 0.6290402086439506, 1.3801060320616845, 1.1617994743312978, 1.644530337237929, 2.4429426851046268, -0.44837888593539693, -0.6558008128147459, -0.3962931649023302, 0.004621824175672183, 1.513839370916935, -0.127346979100021, 0.22549985157638552, -1.5945567981818194, 2.1362857325729148, 1.006956771801912, -0.5866436528150469, -1.644721660746748, 0.8309674517870819, 0.11321242291815385, -1.13514916705063, -1.5660367502233106, 0.4236452451300459, -0.200346806825276, 0.3834293304643709, 0.07289243563392446, 0.05275983812000614, -1.3897358640759143, -0.5430383166286531, 0.270047889373564, 0.2921479890529208, 0.11862501134259394, 1.3223808127638017, 2.1055272738203996, 0.9595698564777835, -0.159135395643192, 0.6674658068888306], \"yaxis\": \"y13\"}, {\"line\": {\"color\": \"rgba(128, 128, 128, 1.0)\", \"dash\": \"solid\", \"shape\": \"linear\", \"width\": 1.3}, \"marker\": {\"size\": 2, \"symbol\": \"circle\"}, \"mode\": \"markers\", \"name\": \"D\", \"text\": \"\", \"type\": \"scatter\", \"x\": [-0.08013390570656855, 0.02269628397142565, 2.0327051595328567, -0.7181989100120357, 1.662173623528374, -1.8065217941063234, 1.2110119232992642, 0.964951897071669, -0.85475257177362, -0.8248953729479542, -1.5826159940641324, -0.31771649747982844, 0.4695556889421146, 1.1126965404646199, 0.47540997865652285, 1.5046965559370773, 0.25150127187187826, 0.7342936672975972, 0.5573821763407487, 1.6335921713759398, 0.28423026188458866, -0.3513447045334481, 0.7216116547879913, -2.0192256386128222, -0.6603785846807382, 0.6075414069350706, -1.3040106662584956, -0.13444623772025147, 1.4643238329452812, 0.8287147546248804, 0.5806777413326851, 0.9303244942852352, 0.7259757585380316, -0.06322536505460559, 1.2453254912014053, 0.6080354966321703, 0.006735045164522672, 1.6427954888944556, -0.5032316059134918, -0.8783406051015079, 0.8369992548650931, -0.15452153692557458, 0.4495271766918472, -0.851990999026497, -1.10351719090533, 0.09538065137446597, -1.4065321722524897, -0.6884313359013833, -1.8692741176830965, 0.7535226372890009, 1.7893533378361597, -0.7663252274224117, 1.8026469873249986, 0.04966144641495865, -2.827664478329827, -0.12053078024314415, -0.8406444888833142, 1.1436342481148736, -0.6438301792589787, -0.15968908610736374, -0.03930255640966198, -0.7994520589749605, -1.1940497177919867, 0.10867677592993708, -1.3726391157855171, -0.1326855930801497, -0.5587655308484875, -0.7436168413473584, -1.6228530763718965, 0.06949574404363028, 0.6809559377259978, -0.31448231912903674, -0.3316012072631598, -0.5847889225916768, -1.6805967750833015, -0.3665019767365411, 2.008727649743859, -0.24327605882879857, -0.359785106683067, -0.8924991334740093, 0.12697324601980906, 0.5531647475745822, -1.0258680943681446, 0.8539067657069088, -0.7889592814582247, -1.2162060159782722, -1.0133611160795266, -0.5733977596069428, 2.0491826184025244, -1.0876329251377972, -0.07220169619981867, -0.5633866328881607, -1.2044256319043143, 0.5572001026112121, -0.5831545677877031, -1.428781267332909, -0.45228906215591375, 0.156452198379921, -0.44290164114833663, -0.4004290542117399], \"xaxis\": \"x14\", \"y\": [2.108994929011714, 0.8070872510433912, -0.7313397784295909, -2.4871211713878845, 0.6166019837528329, -0.7709434173700418, 0.34022723723610104, 2.03308030133366, 0.8624422655356735, -1.2520793644506358, -1.9346072174076763, 1.5590334411151778, 1.6555260446539306, 0.14039508117071453, 0.2896344524423826, 0.5620616204620713, 1.2053296393984896, -1.6175600629176843, 0.9747523003019611, -0.40326199832007914, -0.16071152817746634, -1.0392069937373853, 0.3736020221377302, 0.18868892052250075, -0.4068412982404847, -1.346360707191344, -1.7931604365949598, -0.36866050549532625, -1.5559014093663743, -1.739555082436128, -0.07744503840508507, -0.5200851366375174, 0.281154567705927, 0.8114895426827806, 0.7589999595497369, -1.5120990813712023, -1.0335769009586557, -0.4748527754663108, -0.662163238015597, 0.6916725317574091, 0.6273055535953047, -0.43960931874352555, 0.3967362982610203, 1.0117535992710582, 0.1853478337348335, 0.1014659949645751, -0.33302216273433144, -1.5423758085147905, 0.4732686199257994, -0.07414017702040748, -0.12836375120161939, 0.4153942511385534, 1.2077618908493983, 0.8783725934187534, -0.27061938365128807, -0.015927179289710016, 1.7582576123063614, -0.20578031081416243, -0.6217994069496171, 0.12363253644683327, 0.12043252736150575, 0.678630403243001, 1.2758256172016158, 0.6837832904610815, 0.6290402086439506, 1.3801060320616845, 1.1617994743312978, 1.644530337237929, 2.4429426851046268, -0.44837888593539693, -0.6558008128147459, -0.3962931649023302, 0.004621824175672183, 1.513839370916935, -0.127346979100021, 0.22549985157638552, -1.5945567981818194, 2.1362857325729148, 1.006956771801912, -0.5866436528150469, -1.644721660746748, 0.8309674517870819, 0.11321242291815385, -1.13514916705063, -1.5660367502233106, 0.4236452451300459, -0.200346806825276, 0.3834293304643709, 0.07289243563392446, 0.05275983812000614, -1.3897358640759143, -0.5430383166286531, 0.270047889373564, 0.2921479890529208, 0.11862501134259394, 1.3223808127638017, 2.1055272738203996, 0.9595698564777835, -0.159135395643192, 0.6674658068888306], \"yaxis\": \"y14\"}, {\"line\": {\"color\": \"rgba(128, 128, 128, 1.0)\", \"dash\": \"solid\", \"shape\": \"linear\", \"width\": 1.3}, \"marker\": {\"size\": 2, \"symbol\": \"circle\"}, \"mode\": \"markers\", \"name\": \"D\", \"text\": \"\", \"type\": \"scatter\", \"x\": [-1.4477574354068719, -1.7233603802500193, -0.5984209737367858, -0.9368878988604648, 0.9062137919129141, 0.22218284063825272, -2.0417255109737233, -0.2192180825379543, -0.08977230829964371, 1.667983087259697, -0.6361232272678549, -0.5860975409862929, 0.1899516089475176, -0.41979431650782745, 1.2428414520921423, -0.2624917131211503, 0.3034895475375121, 1.4413260459453492, 1.5458349135615945, 0.29655048031503173, 0.17181835748016983, -0.9122902524233049, -1.063669154205758, -0.23710133901362845, 1.3235361574408435, -0.7442166856797351, -0.49932902949870567, 0.7516538398106425, 2.5335247809440373, -0.7026777614846776, -0.8661315259679787, -0.13730753923982933, -0.3160815480385251, 0.7913286350849541, 2.112259129393216, 0.31603244474945724, -0.03141008988740155, -1.227947470679876, -1.5922070078566708, 0.258079605470208, 0.5734548906839825, -0.2777691520070106, -2.0354165726202575, -2.2345736103617595, -0.15622144128515786, 1.2083026639636036, 1.2256193565727835, 0.049295690575631004, 0.5092101544016114, 0.9775815228802811, 1.150036646824441, 0.2427331726119301, 0.7018585458297713, 0.732694391555163, 1.0644900888894022, 0.8315305269862964, -1.754350659340919, -0.2724761793017612, 0.41936827397426607, 1.488958602064352, -0.779811103736643, -1.564613442648919, -0.18058918832219908, -0.3454475471400498, 0.2932407621783206, -0.8883345583387618, 1.2803820941214752, 3.205785592932629, 1.8009102095110534, 0.9211060791736984, -0.448853493322849, -0.30200826157711547, 0.05697546612366482, -0.1842056973960395, -0.005830410081542872, 0.8529016609253436, -2.2854142392312577, -2.8899863616129533, 0.10967642834710191, -0.31556490283645544, -0.14060335448399772, 0.00715388715644203, 0.444112110003291, -0.21291671360061734, -0.4848274315056886, 0.07510834804429713, -0.4938610656153614, 0.8054222336185921, -2.01084235917396, 0.932196710820158, 0.858071989954808, 0.7413215971758675, 1.279871334620964, 0.46753806794382813, -1.2283945793518722, -0.34186980808400164, 0.3202804776455798, 1.2853035794578231, -0.49864831201596227, -0.8287276526398878], \"xaxis\": \"x15\", \"y\": [2.108994929011714, 0.8070872510433912, -0.7313397784295909, -2.4871211713878845, 0.6166019837528329, -0.7709434173700418, 0.34022723723610104, 2.03308030133366, 0.8624422655356735, -1.2520793644506358, -1.9346072174076763, 1.5590334411151778, 1.6555260446539306, 0.14039508117071453, 0.2896344524423826, 0.5620616204620713, 1.2053296393984896, -1.6175600629176843, 0.9747523003019611, -0.40326199832007914, -0.16071152817746634, -1.0392069937373853, 0.3736020221377302, 0.18868892052250075, -0.4068412982404847, -1.346360707191344, -1.7931604365949598, -0.36866050549532625, -1.5559014093663743, -1.739555082436128, -0.07744503840508507, -0.5200851366375174, 0.281154567705927, 0.8114895426827806, 0.7589999595497369, -1.5120990813712023, -1.0335769009586557, -0.4748527754663108, -0.662163238015597, 0.6916725317574091, 0.6273055535953047, -0.43960931874352555, 0.3967362982610203, 1.0117535992710582, 0.1853478337348335, 0.1014659949645751, -0.33302216273433144, -1.5423758085147905, 0.4732686199257994, -0.07414017702040748, -0.12836375120161939, 0.4153942511385534, 1.2077618908493983, 0.8783725934187534, -0.27061938365128807, -0.015927179289710016, 1.7582576123063614, -0.20578031081416243, -0.6217994069496171, 0.12363253644683327, 0.12043252736150575, 0.678630403243001, 1.2758256172016158, 0.6837832904610815, 0.6290402086439506, 1.3801060320616845, 1.1617994743312978, 1.644530337237929, 2.4429426851046268, -0.44837888593539693, -0.6558008128147459, -0.3962931649023302, 0.004621824175672183, 1.513839370916935, -0.127346979100021, 0.22549985157638552, -1.5945567981818194, 2.1362857325729148, 1.006956771801912, -0.5866436528150469, -1.644721660746748, 0.8309674517870819, 0.11321242291815385, -1.13514916705063, -1.5660367502233106, 0.4236452451300459, -0.200346806825276, 0.3834293304643709, 0.07289243563392446, 0.05275983812000614, -1.3897358640759143, -0.5430383166286531, 0.270047889373564, 0.2921479890529208, 0.11862501134259394, 1.3223808127638017, 2.1055272738203996, 0.9595698564777835, -0.159135395643192, 0.6674658068888306], \"yaxis\": \"y15\"}, {\"histfunc\": \"count\", \"histnorm\": \"\", \"marker\": {\"color\": \"rgba(128, 0, 128, 1.0)\", \"line\": {\"color\": \"#4D5663\", \"width\": 1.3}}, \"name\": \"D\", \"nbinsx\": 10, \"opacity\": 0.8, \"orientation\": \"v\", \"type\": \"histogram\", \"x\": [2.108994929011714, 0.8070872510433912, -0.7313397784295909, -2.4871211713878845, 0.6166019837528329, -0.7709434173700418, 0.34022723723610104, 2.03308030133366, 0.8624422655356735, -1.2520793644506358, -1.9346072174076763, 1.5590334411151778, 1.6555260446539306, 0.14039508117071453, 0.2896344524423826, 0.5620616204620713, 1.2053296393984896, -1.6175600629176843, 0.9747523003019611, -0.40326199832007914, -0.16071152817746634, -1.0392069937373853, 0.3736020221377302, 0.18868892052250075, -0.4068412982404847, -1.346360707191344, -1.7931604365949598, -0.36866050549532625, -1.5559014093663743, -1.739555082436128, -0.07744503840508507, -0.5200851366375174, 0.281154567705927, 0.8114895426827806, 0.7589999595497369, -1.5120990813712023, -1.0335769009586557, -0.4748527754663108, -0.662163238015597, 0.6916725317574091, 0.6273055535953047, -0.43960931874352555, 0.3967362982610203, 1.0117535992710582, 0.1853478337348335, 0.1014659949645751, -0.33302216273433144, -1.5423758085147905, 0.4732686199257994, -0.07414017702040748, -0.12836375120161939, 0.4153942511385534, 1.2077618908493983, 0.8783725934187534, -0.27061938365128807, -0.015927179289710016, 1.7582576123063614, -0.20578031081416243, -0.6217994069496171, 0.12363253644683327, 0.12043252736150575, 0.678630403243001, 1.2758256172016158, 0.6837832904610815, 0.6290402086439506, 1.3801060320616845, 1.1617994743312978, 1.644530337237929, 2.4429426851046268, -0.44837888593539693, -0.6558008128147459, -0.3962931649023302, 0.004621824175672183, 1.513839370916935, -0.127346979100021, 0.22549985157638552, -1.5945567981818194, 2.1362857325729148, 1.006956771801912, -0.5866436528150469, -1.644721660746748, 0.8309674517870819, 0.11321242291815385, -1.13514916705063, -1.5660367502233106, 0.4236452451300459, -0.200346806825276, 0.3834293304643709, 0.07289243563392446, 0.05275983812000614, -1.3897358640759143, -0.5430383166286531, 0.270047889373564, 0.2921479890529208, 0.11862501134259394, 1.3223808127638017, 2.1055272738203996, 0.9595698564777835, -0.159135395643192, 0.6674658068888306], \"xaxis\": \"x16\", \"yaxis\": \"y16\"}],                        {\"bargap\": 0.02, \"legend\": {\"bgcolor\": \"#F5F6F9\", \"font\": {\"color\": \"#4D5663\"}}, \"paper_bgcolor\": \"#F5F6F9\", \"plot_bgcolor\": \"#F5F6F9\", \"showlegend\": false, \"template\": {\"data\": {\"bar\": [{\"error_x\": {\"color\": \"#2a3f5f\"}, \"error_y\": {\"color\": \"#2a3f5f\"}, \"marker\": {\"line\": {\"color\": \"#E5ECF6\", \"width\": 0.5}}, \"type\": \"bar\"}], \"barpolar\": [{\"marker\": {\"line\": {\"color\": \"#E5ECF6\", \"width\": 0.5}}, \"type\": \"barpolar\"}], \"carpet\": [{\"aaxis\": {\"endlinecolor\": \"#2a3f5f\", \"gridcolor\": \"white\", \"linecolor\": \"white\", \"minorgridcolor\": \"white\", \"startlinecolor\": \"#2a3f5f\"}, \"baxis\": {\"endlinecolor\": \"#2a3f5f\", \"gridcolor\": \"white\", \"linecolor\": \"white\", \"minorgridcolor\": \"white\", \"startlinecolor\": \"#2a3f5f\"}, \"type\": \"carpet\"}], \"choropleth\": [{\"colorbar\": {\"outlinewidth\": 0, \"ticks\": \"\"}, \"type\": \"choropleth\"}], \"contour\": [{\"colorbar\": {\"outlinewidth\": 0, \"ticks\": \"\"}, \"colorscale\": [[0.0, \"#0d0887\"], [0.1111111111111111, \"#46039f\"], [0.2222222222222222, \"#7201a8\"], [0.3333333333333333, \"#9c179e\"], [0.4444444444444444, \"#bd3786\"], [0.5555555555555556, \"#d8576b\"], [0.6666666666666666, \"#ed7953\"], [0.7777777777777778, \"#fb9f3a\"], [0.8888888888888888, \"#fdca26\"], [1.0, \"#f0f921\"]], \"type\": \"contour\"}], \"contourcarpet\": [{\"colorbar\": {\"outlinewidth\": 0, \"ticks\": \"\"}, \"type\": \"contourcarpet\"}], \"heatmap\": [{\"colorbar\": {\"outlinewidth\": 0, \"ticks\": \"\"}, \"colorscale\": [[0.0, \"#0d0887\"], [0.1111111111111111, \"#46039f\"], [0.2222222222222222, \"#7201a8\"], [0.3333333333333333, \"#9c179e\"], [0.4444444444444444, \"#bd3786\"], [0.5555555555555556, \"#d8576b\"], [0.6666666666666666, \"#ed7953\"], [0.7777777777777778, \"#fb9f3a\"], [0.8888888888888888, \"#fdca26\"], [1.0, \"#f0f921\"]], \"type\": \"heatmap\"}], \"heatmapgl\": [{\"colorbar\": {\"outlinewidth\": 0, \"ticks\": \"\"}, \"colorscale\": [[0.0, \"#0d0887\"], [0.1111111111111111, \"#46039f\"], [0.2222222222222222, \"#7201a8\"], [0.3333333333333333, \"#9c179e\"], [0.4444444444444444, \"#bd3786\"], [0.5555555555555556, \"#d8576b\"], [0.6666666666666666, \"#ed7953\"], [0.7777777777777778, \"#fb9f3a\"], [0.8888888888888888, \"#fdca26\"], [1.0, \"#f0f921\"]], \"type\": \"heatmapgl\"}], \"histogram\": [{\"marker\": {\"colorbar\": {\"outlinewidth\": 0, \"ticks\": \"\"}}, \"type\": \"histogram\"}], \"histogram2d\": [{\"colorbar\": {\"outlinewidth\": 0, \"ticks\": \"\"}, \"colorscale\": [[0.0, \"#0d0887\"], [0.1111111111111111, \"#46039f\"], [0.2222222222222222, \"#7201a8\"], [0.3333333333333333, \"#9c179e\"], [0.4444444444444444, \"#bd3786\"], [0.5555555555555556, \"#d8576b\"], [0.6666666666666666, \"#ed7953\"], [0.7777777777777778, \"#fb9f3a\"], [0.8888888888888888, \"#fdca26\"], [1.0, \"#f0f921\"]], \"type\": \"histogram2d\"}], \"histogram2dcontour\": [{\"colorbar\": {\"outlinewidth\": 0, \"ticks\": \"\"}, \"colorscale\": [[0.0, \"#0d0887\"], [0.1111111111111111, \"#46039f\"], [0.2222222222222222, \"#7201a8\"], [0.3333333333333333, \"#9c179e\"], [0.4444444444444444, \"#bd3786\"], [0.5555555555555556, \"#d8576b\"], [0.6666666666666666, \"#ed7953\"], [0.7777777777777778, \"#fb9f3a\"], [0.8888888888888888, \"#fdca26\"], [1.0, \"#f0f921\"]], \"type\": \"histogram2dcontour\"}], \"mesh3d\": [{\"colorbar\": {\"outlinewidth\": 0, \"ticks\": \"\"}, \"type\": \"mesh3d\"}], \"parcoords\": [{\"line\": {\"colorbar\": {\"outlinewidth\": 0, \"ticks\": \"\"}}, \"type\": \"parcoords\"}], \"pie\": [{\"automargin\": true, \"type\": \"pie\"}], \"scatter\": [{\"marker\": {\"colorbar\": {\"outlinewidth\": 0, \"ticks\": \"\"}}, \"type\": \"scatter\"}], \"scatter3d\": [{\"line\": {\"colorbar\": {\"outlinewidth\": 0, \"ticks\": \"\"}}, \"marker\": {\"colorbar\": {\"outlinewidth\": 0, \"ticks\": \"\"}}, \"type\": \"scatter3d\"}], \"scattercarpet\": [{\"marker\": {\"colorbar\": {\"outlinewidth\": 0, \"ticks\": \"\"}}, \"type\": \"scattercarpet\"}], \"scattergeo\": [{\"marker\": {\"colorbar\": {\"outlinewidth\": 0, \"ticks\": \"\"}}, \"type\": \"scattergeo\"}], \"scattergl\": [{\"marker\": {\"colorbar\": {\"outlinewidth\": 0, \"ticks\": \"\"}}, \"type\": \"scattergl\"}], \"scattermapbox\": [{\"marker\": {\"colorbar\": {\"outlinewidth\": 0, \"ticks\": \"\"}}, \"type\": \"scattermapbox\"}], \"scatterpolar\": [{\"marker\": {\"colorbar\": {\"outlinewidth\": 0, \"ticks\": \"\"}}, \"type\": \"scatterpolar\"}], \"scatterpolargl\": [{\"marker\": {\"colorbar\": {\"outlinewidth\": 0, \"ticks\": \"\"}}, \"type\": \"scatterpolargl\"}], \"scatterternary\": [{\"marker\": {\"colorbar\": {\"outlinewidth\": 0, \"ticks\": \"\"}}, \"type\": \"scatterternary\"}], \"surface\": [{\"colorbar\": {\"outlinewidth\": 0, \"ticks\": \"\"}, \"colorscale\": [[0.0, \"#0d0887\"], [0.1111111111111111, \"#46039f\"], [0.2222222222222222, \"#7201a8\"], [0.3333333333333333, \"#9c179e\"], [0.4444444444444444, \"#bd3786\"], [0.5555555555555556, \"#d8576b\"], [0.6666666666666666, \"#ed7953\"], [0.7777777777777778, \"#fb9f3a\"], [0.8888888888888888, \"#fdca26\"], [1.0, \"#f0f921\"]], \"type\": \"surface\"}], \"table\": [{\"cells\": {\"fill\": {\"color\": \"#EBF0F8\"}, \"line\": {\"color\": \"white\"}}, \"header\": {\"fill\": {\"color\": \"#C8D4E3\"}, \"line\": {\"color\": \"white\"}}, \"type\": \"table\"}]}, \"layout\": {\"annotationdefaults\": {\"arrowcolor\": \"#2a3f5f\", \"arrowhead\": 0, \"arrowwidth\": 1}, \"coloraxis\": {\"colorbar\": {\"outlinewidth\": 0, \"ticks\": \"\"}}, \"colorscale\": {\"diverging\": [[0, \"#8e0152\"], [0.1, \"#c51b7d\"], [0.2, \"#de77ae\"], [0.3, \"#f1b6da\"], [0.4, \"#fde0ef\"], [0.5, \"#f7f7f7\"], [0.6, \"#e6f5d0\"], [0.7, \"#b8e186\"], [0.8, \"#7fbc41\"], [0.9, \"#4d9221\"], [1, \"#276419\"]], \"sequential\": [[0.0, \"#0d0887\"], [0.1111111111111111, \"#46039f\"], [0.2222222222222222, \"#7201a8\"], [0.3333333333333333, \"#9c179e\"], [0.4444444444444444, \"#bd3786\"], [0.5555555555555556, \"#d8576b\"], [0.6666666666666666, \"#ed7953\"], [0.7777777777777778, \"#fb9f3a\"], [0.8888888888888888, \"#fdca26\"], [1.0, \"#f0f921\"]], \"sequentialminus\": [[0.0, \"#0d0887\"], [0.1111111111111111, \"#46039f\"], [0.2222222222222222, \"#7201a8\"], [0.3333333333333333, \"#9c179e\"], [0.4444444444444444, \"#bd3786\"], [0.5555555555555556, \"#d8576b\"], [0.6666666666666666, \"#ed7953\"], [0.7777777777777778, \"#fb9f3a\"], [0.8888888888888888, \"#fdca26\"], [1.0, \"#f0f921\"]]}, \"colorway\": [\"#636efa\", \"#EF553B\", \"#00cc96\", \"#ab63fa\", \"#FFA15A\", \"#19d3f3\", \"#FF6692\", \"#B6E880\", \"#FF97FF\", \"#FECB52\"], \"font\": {\"color\": \"#2a3f5f\"}, \"geo\": {\"bgcolor\": \"white\", \"lakecolor\": \"white\", \"landcolor\": \"#E5ECF6\", \"showlakes\": true, \"showland\": true, \"subunitcolor\": \"white\"}, \"hoverlabel\": {\"align\": \"left\"}, \"hovermode\": \"closest\", \"mapbox\": {\"style\": \"light\"}, \"paper_bgcolor\": \"white\", \"plot_bgcolor\": \"#E5ECF6\", \"polar\": {\"angularaxis\": {\"gridcolor\": \"white\", \"linecolor\": \"white\", \"ticks\": \"\"}, \"bgcolor\": \"#E5ECF6\", \"radialaxis\": {\"gridcolor\": \"white\", \"linecolor\": \"white\", \"ticks\": \"\"}}, \"scene\": {\"xaxis\": {\"backgroundcolor\": \"#E5ECF6\", \"gridcolor\": \"white\", \"gridwidth\": 2, \"linecolor\": \"white\", \"showbackground\": true, \"ticks\": \"\", \"zerolinecolor\": \"white\"}, \"yaxis\": {\"backgroundcolor\": \"#E5ECF6\", \"gridcolor\": \"white\", \"gridwidth\": 2, \"linecolor\": \"white\", \"showbackground\": true, \"ticks\": \"\", \"zerolinecolor\": \"white\"}, \"zaxis\": {\"backgroundcolor\": \"#E5ECF6\", \"gridcolor\": \"white\", \"gridwidth\": 2, \"linecolor\": \"white\", \"showbackground\": true, \"ticks\": \"\", \"zerolinecolor\": \"white\"}}, \"shapedefaults\": {\"line\": {\"color\": \"#2a3f5f\"}}, \"ternary\": {\"aaxis\": {\"gridcolor\": \"white\", \"linecolor\": \"white\", \"ticks\": \"\"}, \"baxis\": {\"gridcolor\": \"white\", \"linecolor\": \"white\", \"ticks\": \"\"}, \"bgcolor\": \"#E5ECF6\", \"caxis\": {\"gridcolor\": \"white\", \"linecolor\": \"white\", \"ticks\": \"\"}}, \"title\": {\"x\": 0.05}, \"xaxis\": {\"automargin\": true, \"gridcolor\": \"white\", \"linecolor\": \"white\", \"ticks\": \"\", \"title\": {\"standoff\": 15}, \"zerolinecolor\": \"white\", \"zerolinewidth\": 2}, \"yaxis\": {\"automargin\": true, \"gridcolor\": \"white\", \"linecolor\": \"white\", \"ticks\": \"\", \"title\": {\"standoff\": 15}, \"zerolinecolor\": \"white\", \"zerolinewidth\": 2}}}, \"title\": {\"font\": {\"color\": \"#4D5663\"}}, \"xaxis\": {\"anchor\": \"y\", \"domain\": [0.0, 0.2125], \"gridcolor\": \"#E1E5ED\", \"showgrid\": false, \"tickfont\": {\"color\": \"#4D5663\"}, \"title\": {\"font\": {\"color\": \"#4D5663\"}, \"text\": \"\"}, \"zerolinecolor\": \"#E1E5ED\"}, \"xaxis10\": {\"anchor\": \"y10\", \"domain\": [0.2625, 0.475], \"gridcolor\": \"#E1E5ED\", \"showgrid\": false, \"tickfont\": {\"color\": \"#4D5663\"}, \"title\": {\"font\": {\"color\": \"#4D5663\"}, \"text\": \"\"}, \"zerolinecolor\": \"#E1E5ED\"}, \"xaxis11\": {\"anchor\": \"y11\", \"domain\": [0.525, 0.7375], \"gridcolor\": \"#E1E5ED\", \"showgrid\": false, \"tickfont\": {\"color\": \"#4D5663\"}, \"title\": {\"font\": {\"color\": \"#4D5663\"}, \"text\": \"\"}, \"zerolinecolor\": \"#E1E5ED\"}, \"xaxis12\": {\"anchor\": \"y12\", \"domain\": [0.7875, 1.0], \"gridcolor\": \"#E1E5ED\", \"showgrid\": false, \"tickfont\": {\"color\": \"#4D5663\"}, \"title\": {\"font\": {\"color\": \"#4D5663\"}, \"text\": \"\"}, \"zerolinecolor\": \"#E1E5ED\"}, \"xaxis13\": {\"anchor\": \"y13\", \"domain\": [0.0, 0.2125], \"gridcolor\": \"#E1E5ED\", \"showgrid\": false, \"tickfont\": {\"color\": \"#4D5663\"}, \"title\": {\"font\": {\"color\": \"#4D5663\"}, \"text\": \"\"}, \"zerolinecolor\": \"#E1E5ED\"}, \"xaxis14\": {\"anchor\": \"y14\", \"domain\": [0.2625, 0.475], \"gridcolor\": \"#E1E5ED\", \"showgrid\": false, \"tickfont\": {\"color\": \"#4D5663\"}, \"title\": {\"font\": {\"color\": \"#4D5663\"}, \"text\": \"\"}, \"zerolinecolor\": \"#E1E5ED\"}, \"xaxis15\": {\"anchor\": \"y15\", \"domain\": [0.525, 0.7375], \"gridcolor\": \"#E1E5ED\", \"showgrid\": false, \"tickfont\": {\"color\": \"#4D5663\"}, \"title\": {\"font\": {\"color\": \"#4D5663\"}, \"text\": \"\"}, \"zerolinecolor\": \"#E1E5ED\"}, \"xaxis16\": {\"anchor\": \"y16\", \"domain\": [0.7875, 1.0], \"gridcolor\": \"#E1E5ED\", \"showgrid\": false, \"tickfont\": {\"color\": \"#4D5663\"}, \"title\": {\"font\": {\"color\": \"#4D5663\"}, \"text\": \"\"}, \"zerolinecolor\": \"#E1E5ED\"}, \"xaxis2\": {\"anchor\": \"y2\", \"domain\": [0.2625, 0.475], \"gridcolor\": \"#E1E5ED\", \"showgrid\": false, \"tickfont\": {\"color\": \"#4D5663\"}, \"title\": {\"font\": {\"color\": \"#4D5663\"}, \"text\": \"\"}, \"zerolinecolor\": \"#E1E5ED\"}, \"xaxis3\": {\"anchor\": \"y3\", \"domain\": [0.525, 0.7375], \"gridcolor\": \"#E1E5ED\", \"showgrid\": false, \"tickfont\": {\"color\": \"#4D5663\"}, \"title\": {\"font\": {\"color\": \"#4D5663\"}, \"text\": \"\"}, \"zerolinecolor\": \"#E1E5ED\"}, \"xaxis4\": {\"anchor\": \"y4\", \"domain\": [0.7875, 1.0], \"gridcolor\": \"#E1E5ED\", \"showgrid\": false, \"tickfont\": {\"color\": \"#4D5663\"}, \"title\": {\"font\": {\"color\": \"#4D5663\"}, \"text\": \"\"}, \"zerolinecolor\": \"#E1E5ED\"}, \"xaxis5\": {\"anchor\": \"y5\", \"domain\": [0.0, 0.2125], \"gridcolor\": \"#E1E5ED\", \"showgrid\": false, \"tickfont\": {\"color\": \"#4D5663\"}, \"title\": {\"font\": {\"color\": \"#4D5663\"}, \"text\": \"\"}, \"zerolinecolor\": \"#E1E5ED\"}, \"xaxis6\": {\"anchor\": \"y6\", \"domain\": [0.2625, 0.475], \"gridcolor\": \"#E1E5ED\", \"showgrid\": false, \"tickfont\": {\"color\": \"#4D5663\"}, \"title\": {\"font\": {\"color\": \"#4D5663\"}, \"text\": \"\"}, \"zerolinecolor\": \"#E1E5ED\"}, \"xaxis7\": {\"anchor\": \"y7\", \"domain\": [0.525, 0.7375], \"gridcolor\": \"#E1E5ED\", \"showgrid\": false, \"tickfont\": {\"color\": \"#4D5663\"}, \"title\": {\"font\": {\"color\": \"#4D5663\"}, \"text\": \"\"}, \"zerolinecolor\": \"#E1E5ED\"}, \"xaxis8\": {\"anchor\": \"y8\", \"domain\": [0.7875, 1.0], \"gridcolor\": \"#E1E5ED\", \"showgrid\": false, \"tickfont\": {\"color\": \"#4D5663\"}, \"title\": {\"font\": {\"color\": \"#4D5663\"}, \"text\": \"\"}, \"zerolinecolor\": \"#E1E5ED\"}, \"xaxis9\": {\"anchor\": \"y9\", \"domain\": [0.0, 0.2125], \"gridcolor\": \"#E1E5ED\", \"showgrid\": false, \"tickfont\": {\"color\": \"#4D5663\"}, \"title\": {\"font\": {\"color\": \"#4D5663\"}, \"text\": \"\"}, \"zerolinecolor\": \"#E1E5ED\"}, \"yaxis\": {\"anchor\": \"x\", \"domain\": [0.8025, 1.0], \"gridcolor\": \"#E1E5ED\", \"showgrid\": false, \"tickfont\": {\"color\": \"#4D5663\"}, \"title\": {\"font\": {\"color\": \"#4D5663\"}, \"text\": \"\"}, \"zerolinecolor\": \"#E1E5ED\"}, \"yaxis10\": {\"anchor\": \"x10\", \"domain\": [0.2675, 0.465], \"gridcolor\": \"#E1E5ED\", \"showgrid\": false, \"tickfont\": {\"color\": \"#4D5663\"}, \"title\": {\"font\": {\"color\": \"#4D5663\"}, \"text\": \"\"}, \"zerolinecolor\": \"#E1E5ED\"}, \"yaxis11\": {\"anchor\": \"x11\", \"domain\": [0.2675, 0.465], \"gridcolor\": \"#E1E5ED\", \"showgrid\": false, \"tickfont\": {\"color\": \"#4D5663\"}, \"title\": {\"font\": {\"color\": \"#4D5663\"}, \"text\": \"\"}, \"zerolinecolor\": \"#E1E5ED\"}, \"yaxis12\": {\"anchor\": \"x12\", \"domain\": [0.2675, 0.465], \"gridcolor\": \"#E1E5ED\", \"showgrid\": false, \"tickfont\": {\"color\": \"#4D5663\"}, \"title\": {\"font\": {\"color\": \"#4D5663\"}, \"text\": \"\"}, \"zerolinecolor\": \"#E1E5ED\"}, \"yaxis13\": {\"anchor\": \"x13\", \"domain\": [0.0, 0.1975], \"gridcolor\": \"#E1E5ED\", \"showgrid\": false, \"tickfont\": {\"color\": \"#4D5663\"}, \"title\": {\"font\": {\"color\": \"#4D5663\"}, \"text\": \"\"}, \"zerolinecolor\": \"#E1E5ED\"}, \"yaxis14\": {\"anchor\": \"x14\", \"domain\": [0.0, 0.1975], \"gridcolor\": \"#E1E5ED\", \"showgrid\": false, \"tickfont\": {\"color\": \"#4D5663\"}, \"title\": {\"font\": {\"color\": \"#4D5663\"}, \"text\": \"\"}, \"zerolinecolor\": \"#E1E5ED\"}, \"yaxis15\": {\"anchor\": \"x15\", \"domain\": [0.0, 0.1975], \"gridcolor\": \"#E1E5ED\", \"showgrid\": false, \"tickfont\": {\"color\": \"#4D5663\"}, \"title\": {\"font\": {\"color\": \"#4D5663\"}, \"text\": \"\"}, \"zerolinecolor\": \"#E1E5ED\"}, \"yaxis16\": {\"anchor\": \"x16\", \"domain\": [0.0, 0.1975], \"gridcolor\": \"#E1E5ED\", \"showgrid\": false, \"tickfont\": {\"color\": \"#4D5663\"}, \"title\": {\"font\": {\"color\": \"#4D5663\"}, \"text\": \"\"}, \"zerolinecolor\": \"#E1E5ED\"}, \"yaxis2\": {\"anchor\": \"x2\", \"domain\": [0.8025, 1.0], \"gridcolor\": \"#E1E5ED\", \"showgrid\": false, \"tickfont\": {\"color\": \"#4D5663\"}, \"title\": {\"font\": {\"color\": \"#4D5663\"}, \"text\": \"\"}, \"zerolinecolor\": \"#E1E5ED\"}, \"yaxis3\": {\"anchor\": \"x3\", \"domain\": [0.8025, 1.0], \"gridcolor\": \"#E1E5ED\", \"showgrid\": false, \"tickfont\": {\"color\": \"#4D5663\"}, \"title\": {\"font\": {\"color\": \"#4D5663\"}, \"text\": \"\"}, \"zerolinecolor\": \"#E1E5ED\"}, \"yaxis4\": {\"anchor\": \"x4\", \"domain\": [0.8025, 1.0], \"gridcolor\": \"#E1E5ED\", \"showgrid\": false, \"tickfont\": {\"color\": \"#4D5663\"}, \"title\": {\"font\": {\"color\": \"#4D5663\"}, \"text\": \"\"}, \"zerolinecolor\": \"#E1E5ED\"}, \"yaxis5\": {\"anchor\": \"x5\", \"domain\": [0.535, 0.7325], \"gridcolor\": \"#E1E5ED\", \"showgrid\": false, \"tickfont\": {\"color\": \"#4D5663\"}, \"title\": {\"font\": {\"color\": \"#4D5663\"}, \"text\": \"\"}, \"zerolinecolor\": \"#E1E5ED\"}, \"yaxis6\": {\"anchor\": \"x6\", \"domain\": [0.535, 0.7325], \"gridcolor\": \"#E1E5ED\", \"showgrid\": false, \"tickfont\": {\"color\": \"#4D5663\"}, \"title\": {\"font\": {\"color\": \"#4D5663\"}, \"text\": \"\"}, \"zerolinecolor\": \"#E1E5ED\"}, \"yaxis7\": {\"anchor\": \"x7\", \"domain\": [0.535, 0.7325], \"gridcolor\": \"#E1E5ED\", \"showgrid\": false, \"tickfont\": {\"color\": \"#4D5663\"}, \"title\": {\"font\": {\"color\": \"#4D5663\"}, \"text\": \"\"}, \"zerolinecolor\": \"#E1E5ED\"}, \"yaxis8\": {\"anchor\": \"x8\", \"domain\": [0.535, 0.7325], \"gridcolor\": \"#E1E5ED\", \"showgrid\": false, \"tickfont\": {\"color\": \"#4D5663\"}, \"title\": {\"font\": {\"color\": \"#4D5663\"}, \"text\": \"\"}, \"zerolinecolor\": \"#E1E5ED\"}, \"yaxis9\": {\"anchor\": \"x9\", \"domain\": [0.2675, 0.465], \"gridcolor\": \"#E1E5ED\", \"showgrid\": false, \"tickfont\": {\"color\": \"#4D5663\"}, \"title\": {\"font\": {\"color\": \"#4D5663\"}, \"text\": \"\"}, \"zerolinecolor\": \"#E1E5ED\"}},                        {\"showLink\": true, \"linkText\": \"Export to plot.ly\", \"plotlyServerURL\": \"https://plot.ly\", \"responsive\": true}                    ).then(function(){\n",
       "                            \n",
       "var gd = document.getElementById('b9a5ddbd-fb3e-42b4-8814-6b95d78266c2');\n",
       "var x = new MutationObserver(function (mutations, observer) {{\n",
       "        var display = window.getComputedStyle(gd).display;\n",
       "        if (!display || display === 'none') {{\n",
       "            console.log([gd, 'removed!']);\n",
       "            Plotly.purge(gd);\n",
       "            observer.disconnect();\n",
       "        }}\n",
       "}});\n",
       "\n",
       "// Listen for the removal of the full notebook cells\n",
       "var notebookContainer = gd.closest('#notebook-container');\n",
       "if (notebookContainer) {{\n",
       "    x.observe(notebookContainer, {childList: true});\n",
       "}}\n",
       "\n",
       "// Listen for the clearing of the current output cell\n",
       "var outputEl = gd.closest('.output');\n",
       "if (outputEl) {{\n",
       "    x.observe(outputEl, {childList: true});\n",
       "}}\n",
       "\n",
       "                        })                };                });            </script>        </div>"
      ]
     },
     "metadata": {},
     "output_type": "display_data"
    }
   ],
   "source": [
    "df.scatter_matrix()"
   ]
  }
 ],
 "metadata": {
  "kernelspec": {
   "display_name": "Python 3",
   "language": "python",
   "name": "python3"
  },
  "language_info": {
   "codemirror_mode": {
    "name": "ipython",
    "version": 3
   },
   "file_extension": ".py",
   "mimetype": "text/x-python",
   "name": "python",
   "nbconvert_exporter": "python",
   "pygments_lexer": "ipython3",
   "version": "3.8.3"
  }
 },
 "nbformat": 4,
 "nbformat_minor": 4
}
