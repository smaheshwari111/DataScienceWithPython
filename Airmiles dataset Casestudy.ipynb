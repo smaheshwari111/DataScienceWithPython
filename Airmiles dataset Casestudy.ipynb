{
 "cells": [
  {
   "cell_type": "markdown",
   "metadata": {},
   "source": [
    "<b>The Stakeholders have asked for an update regarding results of the campaign. Following Key questions to be answered:</b>\n",
    "1. What are the key insights on the following that you can derive from the data?\n",
    "2. Based on the information provided,do you think the campaign was successful?\n",
    "3. What limitations or data issues did you encounter while doing this analysis"
   ]
  },
  {
   "cell_type": "markdown",
   "metadata": {},
   "source": [
    "Load the dataset of Airmiles"
   ]
  },
  {
   "cell_type": "code",
   "execution_count": 168,
   "metadata": {},
   "outputs": [],
   "source": [
    "from IPython.core.interactiveshell import InteractiveShell\n",
    "InteractiveShell.ast_node_interactivity = \"all\"\n",
    "import numpy as np\n",
    "import pandas as pd\n",
    "import datetime as dt\n",
    "import seaborn as sns\n",
    "%matplotlib inline"
   ]
  },
  {
   "cell_type": "code",
   "execution_count": 82,
   "metadata": {},
   "outputs": [],
   "source": [
    "df = pd.read_csv('airmiles_cineplex_sample_dataset_feb15_mar14_2018.csv')"
   ]
  },
  {
   "cell_type": "code",
   "execution_count": 83,
   "metadata": {},
   "outputs": [
    {
     "name": "stdout",
     "output_type": "stream",
     "text": [
      "<class 'pandas.core.frame.DataFrame'>\n",
      "RangeIndex: 309677 entries, 0 to 309676\n",
      "Data columns (total 20 columns):\n",
      " #   Column            Non-Null Count   Dtype \n",
      "---  ------            --------------   ----- \n",
      " 0   fullVisitorId     309677 non-null  int64 \n",
      " 1   visitId           309677 non-null  int64 \n",
      " 2   visitNumber       309677 non-null  int64 \n",
      " 3   visitStartTime    309677 non-null  object\n",
      " 4   hitTime           309677 non-null  int64 \n",
      " 5   hitType           309677 non-null  object\n",
      " 6   hitNumber         309677 non-null  int64 \n",
      " 7   hitIsInteraction  309677 non-null  object\n",
      " 8   hostname          309677 non-null  object\n",
      " 9   pageName          309677 non-null  object\n",
      " 10  eventCategory     145743 non-null  object\n",
      " 11  eventAction       145743 non-null  object\n",
      " 12  eventLabel        145236 non-null  object\n",
      " 13  isEntrance        89621 non-null   object\n",
      " 14  isExit            80454 non-null   object\n",
      " 15  deviceCategory    309677 non-null  object\n",
      " 16  campaign          309677 non-null  object\n",
      " 17  source            309677 non-null  object\n",
      " 18  medium            309677 non-null  object\n",
      " 19  hits              309677 non-null  int64 \n",
      "dtypes: int64(6), object(14)\n",
      "memory usage: 47.3+ MB\n"
     ]
    }
   ],
   "source": [
    "df.info() # we have 309677 entries in the dataset"
   ]
  },
  {
   "cell_type": "code",
   "execution_count": 84,
   "metadata": {
    "scrolled": true
   },
   "outputs": [
    {
     "data": {
      "text/html": [
       "<div>\n",
       "<style scoped>\n",
       "    .dataframe tbody tr th:only-of-type {\n",
       "        vertical-align: middle;\n",
       "    }\n",
       "\n",
       "    .dataframe tbody tr th {\n",
       "        vertical-align: top;\n",
       "    }\n",
       "\n",
       "    .dataframe thead th {\n",
       "        text-align: right;\n",
       "    }\n",
       "</style>\n",
       "<table border=\"1\" class=\"dataframe\">\n",
       "  <thead>\n",
       "    <tr style=\"text-align: right;\">\n",
       "      <th></th>\n",
       "      <th>fullVisitorId</th>\n",
       "      <th>visitId</th>\n",
       "      <th>visitNumber</th>\n",
       "      <th>visitStartTime</th>\n",
       "      <th>hitTime</th>\n",
       "      <th>hitType</th>\n",
       "      <th>hitNumber</th>\n",
       "      <th>hitIsInteraction</th>\n",
       "      <th>hostname</th>\n",
       "      <th>pageName</th>\n",
       "      <th>eventCategory</th>\n",
       "      <th>eventAction</th>\n",
       "      <th>eventLabel</th>\n",
       "      <th>isEntrance</th>\n",
       "      <th>isExit</th>\n",
       "      <th>deviceCategory</th>\n",
       "      <th>campaign</th>\n",
       "      <th>source</th>\n",
       "      <th>medium</th>\n",
       "      <th>hits</th>\n",
       "    </tr>\n",
       "  </thead>\n",
       "  <tbody>\n",
       "    <tr>\n",
       "      <th>0</th>\n",
       "      <td>6171949185047906658</td>\n",
       "      <td>1519045150</td>\n",
       "      <td>2</td>\n",
       "      <td>2018-02-19</td>\n",
       "      <td>15205</td>\n",
       "      <td>PAGE</td>\n",
       "      <td>4</td>\n",
       "      <td>Yes</td>\n",
       "      <td>offers.airmiles.ca</td>\n",
       "      <td>/</td>\n",
       "      <td>NaN</td>\n",
       "      <td>NaN</td>\n",
       "      <td>NaN</td>\n",
       "      <td>NaN</td>\n",
       "      <td>Yes</td>\n",
       "      <td>desktop</td>\n",
       "      <td>37095_CineplexFamilyFavourites</td>\n",
       "      <td>37095_LaunchEmail-Step1</td>\n",
       "      <td>Email-Solo</td>\n",
       "      <td>1</td>\n",
       "    </tr>\n",
       "    <tr>\n",
       "      <th>1</th>\n",
       "      <td>1693734296162181229</td>\n",
       "      <td>1520738414</td>\n",
       "      <td>1</td>\n",
       "      <td>2018-03-11</td>\n",
       "      <td>14403</td>\n",
       "      <td>EVENT</td>\n",
       "      <td>6</td>\n",
       "      <td>No</td>\n",
       "      <td>offers.airmiles.ca</td>\n",
       "      <td>/fr-CA</td>\n",
       "      <td>/utility</td>\n",
       "      <td>promo-site-click</td>\n",
       "      <td>click-get-promo-codes</td>\n",
       "      <td>NaN</td>\n",
       "      <td>NaN</td>\n",
       "      <td>desktop</td>\n",
       "      <td>(not set)</td>\n",
       "      <td>staples.ca</td>\n",
       "      <td>referral</td>\n",
       "      <td>1</td>\n",
       "    </tr>\n",
       "    <tr>\n",
       "      <th>2</th>\n",
       "      <td>3654853287349435385</td>\n",
       "      <td>1520548863</td>\n",
       "      <td>1</td>\n",
       "      <td>2018-03-08</td>\n",
       "      <td>14811</td>\n",
       "      <td>EVENT</td>\n",
       "      <td>5</td>\n",
       "      <td>Yes</td>\n",
       "      <td>offers.airmiles.ca</td>\n",
       "      <td>/en-CA</td>\n",
       "      <td>on-page-interaction</td>\n",
       "      <td>click</td>\n",
       "      <td>/en-CA[/vpv/get-promo-codes-2]</td>\n",
       "      <td>NaN</td>\n",
       "      <td>NaN</td>\n",
       "      <td>mobile</td>\n",
       "      <td>37095_PerksMarchBreakEmail</td>\n",
       "      <td>37569_Email-Solo</td>\n",
       "      <td>Email-Solo</td>\n",
       "      <td>1</td>\n",
       "    </tr>\n",
       "    <tr>\n",
       "      <th>3</th>\n",
       "      <td>6039957534302838246</td>\n",
       "      <td>1519427070</td>\n",
       "      <td>3</td>\n",
       "      <td>2018-02-23</td>\n",
       "      <td>188326</td>\n",
       "      <td>EVENT</td>\n",
       "      <td>6</td>\n",
       "      <td>No</td>\n",
       "      <td>offers.airmiles.ca</td>\n",
       "      <td>/fr-CA</td>\n",
       "      <td>/utility</td>\n",
       "      <td>promo-site-click</td>\n",
       "      <td>click-get-promo-codes</td>\n",
       "      <td>NaN</td>\n",
       "      <td>NaN</td>\n",
       "      <td>mobile</td>\n",
       "      <td>37095_CineplexFamilyFavourites</td>\n",
       "      <td>37095_Facebook-Paid</td>\n",
       "      <td>Facebook-Paid</td>\n",
       "      <td>1</td>\n",
       "    </tr>\n",
       "    <tr>\n",
       "      <th>4</th>\n",
       "      <td>2842891867524286713</td>\n",
       "      <td>1520552184</td>\n",
       "      <td>1</td>\n",
       "      <td>2018-03-08</td>\n",
       "      <td>90347</td>\n",
       "      <td>EVENT</td>\n",
       "      <td>20</td>\n",
       "      <td>No</td>\n",
       "      <td>offers.airmiles.ca</td>\n",
       "      <td>/en-CA</td>\n",
       "      <td>/utility</td>\n",
       "      <td>promo-site-click</td>\n",
       "      <td>click-get-promo-codes</td>\n",
       "      <td>NaN</td>\n",
       "      <td>NaN</td>\n",
       "      <td>tablet</td>\n",
       "      <td>37095_PerksMarchBreakEmail</td>\n",
       "      <td>37569_Email-Solo</td>\n",
       "      <td>Email-Solo</td>\n",
       "      <td>1</td>\n",
       "    </tr>\n",
       "  </tbody>\n",
       "</table>\n",
       "</div>"
      ],
      "text/plain": [
       "         fullVisitorId     visitId  visitNumber visitStartTime  hitTime  \\\n",
       "0  6171949185047906658  1519045150            2     2018-02-19    15205   \n",
       "1  1693734296162181229  1520738414            1     2018-03-11    14403   \n",
       "2  3654853287349435385  1520548863            1     2018-03-08    14811   \n",
       "3  6039957534302838246  1519427070            3     2018-02-23   188326   \n",
       "4  2842891867524286713  1520552184            1     2018-03-08    90347   \n",
       "\n",
       "  hitType  hitNumber hitIsInteraction            hostname pageName  \\\n",
       "0    PAGE          4              Yes  offers.airmiles.ca        /   \n",
       "1   EVENT          6               No  offers.airmiles.ca   /fr-CA   \n",
       "2   EVENT          5              Yes  offers.airmiles.ca   /en-CA   \n",
       "3   EVENT          6               No  offers.airmiles.ca   /fr-CA   \n",
       "4   EVENT         20               No  offers.airmiles.ca   /en-CA   \n",
       "\n",
       "         eventCategory       eventAction                      eventLabel  \\\n",
       "0                  NaN               NaN                             NaN   \n",
       "1             /utility  promo-site-click           click-get-promo-codes   \n",
       "2  on-page-interaction             click  /en-CA[/vpv/get-promo-codes-2]   \n",
       "3             /utility  promo-site-click           click-get-promo-codes   \n",
       "4             /utility  promo-site-click           click-get-promo-codes   \n",
       "\n",
       "  isEntrance isExit deviceCategory                        campaign  \\\n",
       "0        NaN    Yes        desktop  37095_CineplexFamilyFavourites   \n",
       "1        NaN    NaN        desktop                       (not set)   \n",
       "2        NaN    NaN         mobile      37095_PerksMarchBreakEmail   \n",
       "3        NaN    NaN         mobile  37095_CineplexFamilyFavourites   \n",
       "4        NaN    NaN         tablet      37095_PerksMarchBreakEmail   \n",
       "\n",
       "                    source         medium  hits  \n",
       "0  37095_LaunchEmail-Step1     Email-Solo     1  \n",
       "1               staples.ca       referral     1  \n",
       "2         37569_Email-Solo     Email-Solo     1  \n",
       "3      37095_Facebook-Paid  Facebook-Paid     1  \n",
       "4         37569_Email-Solo     Email-Solo     1  "
      ]
     },
     "execution_count": 84,
     "metadata": {},
     "output_type": "execute_result"
    }
   ],
   "source": [
    "df.head()"
   ]
  },
  {
   "cell_type": "markdown",
   "metadata": {},
   "source": [
    "hitTime is in milliseconds which will be converted into minute to have more readability to the column"
   ]
  },
  {
   "cell_type": "code",
   "execution_count": 85,
   "metadata": {},
   "outputs": [],
   "source": [
    "df['hitTime'] = df['hitTime'].div(60000).round(2)"
   ]
  },
  {
   "cell_type": "code",
   "execution_count": 86,
   "metadata": {
    "scrolled": true
   },
   "outputs": [
    {
     "data": {
      "text/html": [
       "<div>\n",
       "<style scoped>\n",
       "    .dataframe tbody tr th:only-of-type {\n",
       "        vertical-align: middle;\n",
       "    }\n",
       "\n",
       "    .dataframe tbody tr th {\n",
       "        vertical-align: top;\n",
       "    }\n",
       "\n",
       "    .dataframe thead th {\n",
       "        text-align: right;\n",
       "    }\n",
       "</style>\n",
       "<table border=\"1\" class=\"dataframe\">\n",
       "  <thead>\n",
       "    <tr style=\"text-align: right;\">\n",
       "      <th></th>\n",
       "      <th>fullVisitorId</th>\n",
       "      <th>visitId</th>\n",
       "      <th>visitNumber</th>\n",
       "      <th>visitStartTime</th>\n",
       "      <th>hitTime</th>\n",
       "      <th>hitType</th>\n",
       "      <th>hitNumber</th>\n",
       "      <th>hitIsInteraction</th>\n",
       "      <th>hostname</th>\n",
       "      <th>pageName</th>\n",
       "      <th>eventCategory</th>\n",
       "      <th>eventAction</th>\n",
       "      <th>eventLabel</th>\n",
       "      <th>isEntrance</th>\n",
       "      <th>isExit</th>\n",
       "      <th>deviceCategory</th>\n",
       "      <th>campaign</th>\n",
       "      <th>source</th>\n",
       "      <th>medium</th>\n",
       "      <th>hits</th>\n",
       "    </tr>\n",
       "  </thead>\n",
       "  <tbody>\n",
       "    <tr>\n",
       "      <th>0</th>\n",
       "      <td>6171949185047906658</td>\n",
       "      <td>1519045150</td>\n",
       "      <td>2</td>\n",
       "      <td>2018-02-19</td>\n",
       "      <td>0.25</td>\n",
       "      <td>PAGE</td>\n",
       "      <td>4</td>\n",
       "      <td>Yes</td>\n",
       "      <td>offers.airmiles.ca</td>\n",
       "      <td>/</td>\n",
       "      <td>NaN</td>\n",
       "      <td>NaN</td>\n",
       "      <td>NaN</td>\n",
       "      <td>NaN</td>\n",
       "      <td>Yes</td>\n",
       "      <td>desktop</td>\n",
       "      <td>37095_CineplexFamilyFavourites</td>\n",
       "      <td>37095_LaunchEmail-Step1</td>\n",
       "      <td>Email-Solo</td>\n",
       "      <td>1</td>\n",
       "    </tr>\n",
       "    <tr>\n",
       "      <th>1</th>\n",
       "      <td>1693734296162181229</td>\n",
       "      <td>1520738414</td>\n",
       "      <td>1</td>\n",
       "      <td>2018-03-11</td>\n",
       "      <td>0.24</td>\n",
       "      <td>EVENT</td>\n",
       "      <td>6</td>\n",
       "      <td>No</td>\n",
       "      <td>offers.airmiles.ca</td>\n",
       "      <td>/fr-CA</td>\n",
       "      <td>/utility</td>\n",
       "      <td>promo-site-click</td>\n",
       "      <td>click-get-promo-codes</td>\n",
       "      <td>NaN</td>\n",
       "      <td>NaN</td>\n",
       "      <td>desktop</td>\n",
       "      <td>(not set)</td>\n",
       "      <td>staples.ca</td>\n",
       "      <td>referral</td>\n",
       "      <td>1</td>\n",
       "    </tr>\n",
       "    <tr>\n",
       "      <th>2</th>\n",
       "      <td>3654853287349435385</td>\n",
       "      <td>1520548863</td>\n",
       "      <td>1</td>\n",
       "      <td>2018-03-08</td>\n",
       "      <td>0.25</td>\n",
       "      <td>EVENT</td>\n",
       "      <td>5</td>\n",
       "      <td>Yes</td>\n",
       "      <td>offers.airmiles.ca</td>\n",
       "      <td>/en-CA</td>\n",
       "      <td>on-page-interaction</td>\n",
       "      <td>click</td>\n",
       "      <td>/en-CA[/vpv/get-promo-codes-2]</td>\n",
       "      <td>NaN</td>\n",
       "      <td>NaN</td>\n",
       "      <td>mobile</td>\n",
       "      <td>37095_PerksMarchBreakEmail</td>\n",
       "      <td>37569_Email-Solo</td>\n",
       "      <td>Email-Solo</td>\n",
       "      <td>1</td>\n",
       "    </tr>\n",
       "    <tr>\n",
       "      <th>3</th>\n",
       "      <td>6039957534302838246</td>\n",
       "      <td>1519427070</td>\n",
       "      <td>3</td>\n",
       "      <td>2018-02-23</td>\n",
       "      <td>3.14</td>\n",
       "      <td>EVENT</td>\n",
       "      <td>6</td>\n",
       "      <td>No</td>\n",
       "      <td>offers.airmiles.ca</td>\n",
       "      <td>/fr-CA</td>\n",
       "      <td>/utility</td>\n",
       "      <td>promo-site-click</td>\n",
       "      <td>click-get-promo-codes</td>\n",
       "      <td>NaN</td>\n",
       "      <td>NaN</td>\n",
       "      <td>mobile</td>\n",
       "      <td>37095_CineplexFamilyFavourites</td>\n",
       "      <td>37095_Facebook-Paid</td>\n",
       "      <td>Facebook-Paid</td>\n",
       "      <td>1</td>\n",
       "    </tr>\n",
       "    <tr>\n",
       "      <th>4</th>\n",
       "      <td>2842891867524286713</td>\n",
       "      <td>1520552184</td>\n",
       "      <td>1</td>\n",
       "      <td>2018-03-08</td>\n",
       "      <td>1.51</td>\n",
       "      <td>EVENT</td>\n",
       "      <td>20</td>\n",
       "      <td>No</td>\n",
       "      <td>offers.airmiles.ca</td>\n",
       "      <td>/en-CA</td>\n",
       "      <td>/utility</td>\n",
       "      <td>promo-site-click</td>\n",
       "      <td>click-get-promo-codes</td>\n",
       "      <td>NaN</td>\n",
       "      <td>NaN</td>\n",
       "      <td>tablet</td>\n",
       "      <td>37095_PerksMarchBreakEmail</td>\n",
       "      <td>37569_Email-Solo</td>\n",
       "      <td>Email-Solo</td>\n",
       "      <td>1</td>\n",
       "    </tr>\n",
       "  </tbody>\n",
       "</table>\n",
       "</div>"
      ],
      "text/plain": [
       "         fullVisitorId     visitId  visitNumber visitStartTime  hitTime  \\\n",
       "0  6171949185047906658  1519045150            2     2018-02-19     0.25   \n",
       "1  1693734296162181229  1520738414            1     2018-03-11     0.24   \n",
       "2  3654853287349435385  1520548863            1     2018-03-08     0.25   \n",
       "3  6039957534302838246  1519427070            3     2018-02-23     3.14   \n",
       "4  2842891867524286713  1520552184            1     2018-03-08     1.51   \n",
       "\n",
       "  hitType  hitNumber hitIsInteraction            hostname pageName  \\\n",
       "0    PAGE          4              Yes  offers.airmiles.ca        /   \n",
       "1   EVENT          6               No  offers.airmiles.ca   /fr-CA   \n",
       "2   EVENT          5              Yes  offers.airmiles.ca   /en-CA   \n",
       "3   EVENT          6               No  offers.airmiles.ca   /fr-CA   \n",
       "4   EVENT         20               No  offers.airmiles.ca   /en-CA   \n",
       "\n",
       "         eventCategory       eventAction                      eventLabel  \\\n",
       "0                  NaN               NaN                             NaN   \n",
       "1             /utility  promo-site-click           click-get-promo-codes   \n",
       "2  on-page-interaction             click  /en-CA[/vpv/get-promo-codes-2]   \n",
       "3             /utility  promo-site-click           click-get-promo-codes   \n",
       "4             /utility  promo-site-click           click-get-promo-codes   \n",
       "\n",
       "  isEntrance isExit deviceCategory                        campaign  \\\n",
       "0        NaN    Yes        desktop  37095_CineplexFamilyFavourites   \n",
       "1        NaN    NaN        desktop                       (not set)   \n",
       "2        NaN    NaN         mobile      37095_PerksMarchBreakEmail   \n",
       "3        NaN    NaN         mobile  37095_CineplexFamilyFavourites   \n",
       "4        NaN    NaN         tablet      37095_PerksMarchBreakEmail   \n",
       "\n",
       "                    source         medium  hits  \n",
       "0  37095_LaunchEmail-Step1     Email-Solo     1  \n",
       "1               staples.ca       referral     1  \n",
       "2         37569_Email-Solo     Email-Solo     1  \n",
       "3      37095_Facebook-Paid  Facebook-Paid     1  \n",
       "4         37569_Email-Solo     Email-Solo     1  "
      ]
     },
     "execution_count": 86,
     "metadata": {},
     "output_type": "execute_result"
    }
   ],
   "source": [
    "df.head()"
   ]
  },
  {
   "cell_type": "markdown",
   "metadata": {},
   "source": [
    "Check the different campaign, we have in the dataset"
   ]
  },
  {
   "cell_type": "markdown",
   "metadata": {},
   "source": [
    "Since we have to analyse the data for the Cineplex Family Favourites, I will be filtering the data with the Cineplex Family Favorite Campaign"
   ]
  },
  {
   "cell_type": "code",
   "execution_count": 89,
   "metadata": {
    "scrolled": false
   },
   "outputs": [
    {
     "data": {
      "text/plain": [
       "37095_CineplexFamilyFavourites    240268\n",
       "37095_cineplexFamilyFavorites         10\n",
       "Name: campaign, dtype: int64"
      ]
     },
     "execution_count": 89,
     "metadata": {},
     "output_type": "execute_result"
    }
   ],
   "source": [
    "df[df['campaign'].str.contains('Family')]['campaign'].value_counts()"
   ]
  },
  {
   "cell_type": "markdown",
   "metadata": {},
   "source": [
    "<b>Define dataframe containing 'CineplexFamilyFavourites' in Campaign"
   ]
  },
  {
   "cell_type": "code",
   "execution_count": 90,
   "metadata": {
    "scrolled": true
   },
   "outputs": [],
   "source": [
    "Cineplex = df[df['campaign'].str.contains('Family')]"
   ]
  },
  {
   "cell_type": "code",
   "execution_count": 92,
   "metadata": {},
   "outputs": [
    {
     "data": {
      "text/html": [
       "<div>\n",
       "<style scoped>\n",
       "    .dataframe tbody tr th:only-of-type {\n",
       "        vertical-align: middle;\n",
       "    }\n",
       "\n",
       "    .dataframe tbody tr th {\n",
       "        vertical-align: top;\n",
       "    }\n",
       "\n",
       "    .dataframe thead th {\n",
       "        text-align: right;\n",
       "    }\n",
       "</style>\n",
       "<table border=\"1\" class=\"dataframe\">\n",
       "  <thead>\n",
       "    <tr style=\"text-align: right;\">\n",
       "      <th></th>\n",
       "      <th>fullVisitorId</th>\n",
       "      <th>visitId</th>\n",
       "      <th>visitNumber</th>\n",
       "      <th>visitStartTime</th>\n",
       "      <th>hitTime</th>\n",
       "      <th>hitType</th>\n",
       "      <th>hitNumber</th>\n",
       "      <th>hitIsInteraction</th>\n",
       "      <th>hostname</th>\n",
       "      <th>pageName</th>\n",
       "      <th>eventCategory</th>\n",
       "      <th>eventAction</th>\n",
       "      <th>eventLabel</th>\n",
       "      <th>isEntrance</th>\n",
       "      <th>isExit</th>\n",
       "      <th>deviceCategory</th>\n",
       "      <th>campaign</th>\n",
       "      <th>source</th>\n",
       "      <th>medium</th>\n",
       "      <th>hits</th>\n",
       "    </tr>\n",
       "  </thead>\n",
       "  <tbody>\n",
       "    <tr>\n",
       "      <th>0</th>\n",
       "      <td>6171949185047906658</td>\n",
       "      <td>1519045150</td>\n",
       "      <td>2</td>\n",
       "      <td>2018-02-19</td>\n",
       "      <td>0.25</td>\n",
       "      <td>PAGE</td>\n",
       "      <td>4</td>\n",
       "      <td>Yes</td>\n",
       "      <td>offers.airmiles.ca</td>\n",
       "      <td>/</td>\n",
       "      <td>NaN</td>\n",
       "      <td>NaN</td>\n",
       "      <td>NaN</td>\n",
       "      <td>NaN</td>\n",
       "      <td>Yes</td>\n",
       "      <td>desktop</td>\n",
       "      <td>37095_CineplexFamilyFavourites</td>\n",
       "      <td>37095_LaunchEmail-Step1</td>\n",
       "      <td>Email-Solo</td>\n",
       "      <td>1</td>\n",
       "    </tr>\n",
       "    <tr>\n",
       "      <th>3</th>\n",
       "      <td>6039957534302838246</td>\n",
       "      <td>1519427070</td>\n",
       "      <td>3</td>\n",
       "      <td>2018-02-23</td>\n",
       "      <td>3.14</td>\n",
       "      <td>EVENT</td>\n",
       "      <td>6</td>\n",
       "      <td>No</td>\n",
       "      <td>offers.airmiles.ca</td>\n",
       "      <td>/fr-CA</td>\n",
       "      <td>/utility</td>\n",
       "      <td>promo-site-click</td>\n",
       "      <td>click-get-promo-codes</td>\n",
       "      <td>NaN</td>\n",
       "      <td>NaN</td>\n",
       "      <td>mobile</td>\n",
       "      <td>37095_CineplexFamilyFavourites</td>\n",
       "      <td>37095_Facebook-Paid</td>\n",
       "      <td>Facebook-Paid</td>\n",
       "      <td>1</td>\n",
       "    </tr>\n",
       "    <tr>\n",
       "      <th>5</th>\n",
       "      <td>6919264011263941984</td>\n",
       "      <td>1518869861</td>\n",
       "      <td>1</td>\n",
       "      <td>2018-02-17</td>\n",
       "      <td>0.00</td>\n",
       "      <td>PAGE</td>\n",
       "      <td>1</td>\n",
       "      <td>Yes</td>\n",
       "      <td>offers.airmiles.ca</td>\n",
       "      <td>/en-CA</td>\n",
       "      <td>NaN</td>\n",
       "      <td>NaN</td>\n",
       "      <td>NaN</td>\n",
       "      <td>Yes</td>\n",
       "      <td>Yes</td>\n",
       "      <td>mobile</td>\n",
       "      <td>37095_CineplexFamilyFavourites</td>\n",
       "      <td>37095_LaunchEmail-Start</td>\n",
       "      <td>Email-Solo</td>\n",
       "      <td>1</td>\n",
       "    </tr>\n",
       "    <tr>\n",
       "      <th>6</th>\n",
       "      <td>2471431596475321569</td>\n",
       "      <td>1519815906</td>\n",
       "      <td>1</td>\n",
       "      <td>2018-02-28</td>\n",
       "      <td>0.00</td>\n",
       "      <td>PAGE</td>\n",
       "      <td>1</td>\n",
       "      <td>Yes</td>\n",
       "      <td>offers.airmiles.ca</td>\n",
       "      <td>/en-CA</td>\n",
       "      <td>NaN</td>\n",
       "      <td>NaN</td>\n",
       "      <td>NaN</td>\n",
       "      <td>Yes</td>\n",
       "      <td>Yes</td>\n",
       "      <td>mobile</td>\n",
       "      <td>37095_CineplexFamilyFavourites</td>\n",
       "      <td>37095_Facebook-Paid</td>\n",
       "      <td>Facebook-Paid</td>\n",
       "      <td>1</td>\n",
       "    </tr>\n",
       "    <tr>\n",
       "      <th>7</th>\n",
       "      <td>2560110748309585883</td>\n",
       "      <td>1520894903</td>\n",
       "      <td>2</td>\n",
       "      <td>2018-03-12</td>\n",
       "      <td>0.92</td>\n",
       "      <td>PAGE</td>\n",
       "      <td>4</td>\n",
       "      <td>Yes</td>\n",
       "      <td>offers.airmiles.ca</td>\n",
       "      <td>/</td>\n",
       "      <td>NaN</td>\n",
       "      <td>NaN</td>\n",
       "      <td>NaN</td>\n",
       "      <td>NaN</td>\n",
       "      <td>NaN</td>\n",
       "      <td>desktop</td>\n",
       "      <td>37095_CineplexFamilyFavourites</td>\n",
       "      <td>37095_ProdThumbnail</td>\n",
       "      <td>AM.CA-Rewards</td>\n",
       "      <td>1</td>\n",
       "    </tr>\n",
       "  </tbody>\n",
       "</table>\n",
       "</div>"
      ],
      "text/plain": [
       "         fullVisitorId     visitId  visitNumber visitStartTime  hitTime  \\\n",
       "0  6171949185047906658  1519045150            2     2018-02-19     0.25   \n",
       "3  6039957534302838246  1519427070            3     2018-02-23     3.14   \n",
       "5  6919264011263941984  1518869861            1     2018-02-17     0.00   \n",
       "6  2471431596475321569  1519815906            1     2018-02-28     0.00   \n",
       "7  2560110748309585883  1520894903            2     2018-03-12     0.92   \n",
       "\n",
       "  hitType  hitNumber hitIsInteraction            hostname pageName  \\\n",
       "0    PAGE          4              Yes  offers.airmiles.ca        /   \n",
       "3   EVENT          6               No  offers.airmiles.ca   /fr-CA   \n",
       "5    PAGE          1              Yes  offers.airmiles.ca   /en-CA   \n",
       "6    PAGE          1              Yes  offers.airmiles.ca   /en-CA   \n",
       "7    PAGE          4              Yes  offers.airmiles.ca        /   \n",
       "\n",
       "  eventCategory       eventAction             eventLabel isEntrance isExit  \\\n",
       "0           NaN               NaN                    NaN        NaN    Yes   \n",
       "3      /utility  promo-site-click  click-get-promo-codes        NaN    NaN   \n",
       "5           NaN               NaN                    NaN        Yes    Yes   \n",
       "6           NaN               NaN                    NaN        Yes    Yes   \n",
       "7           NaN               NaN                    NaN        NaN    NaN   \n",
       "\n",
       "  deviceCategory                        campaign                   source  \\\n",
       "0        desktop  37095_CineplexFamilyFavourites  37095_LaunchEmail-Step1   \n",
       "3         mobile  37095_CineplexFamilyFavourites      37095_Facebook-Paid   \n",
       "5         mobile  37095_CineplexFamilyFavourites  37095_LaunchEmail-Start   \n",
       "6         mobile  37095_CineplexFamilyFavourites      37095_Facebook-Paid   \n",
       "7        desktop  37095_CineplexFamilyFavourites      37095_ProdThumbnail   \n",
       "\n",
       "          medium  hits  \n",
       "0     Email-Solo     1  \n",
       "3  Facebook-Paid     1  \n",
       "5     Email-Solo     1  \n",
       "6  Facebook-Paid     1  \n",
       "7  AM.CA-Rewards     1  "
      ]
     },
     "execution_count": 92,
     "metadata": {},
     "output_type": "execute_result"
    }
   ],
   "source": [
    "Cineplex.head()"
   ]
  },
  {
   "cell_type": "code",
   "execution_count": 125,
   "metadata": {},
   "outputs": [
    {
     "name": "stdout",
     "output_type": "stream",
     "text": [
      "<class 'pandas.core.frame.DataFrame'>\n",
      "Int64Index: 240278 entries, 0 to 309676\n",
      "Data columns (total 21 columns):\n",
      " #   Column            Non-Null Count   Dtype  \n",
      "---  ------            --------------   -----  \n",
      " 0   visitorId         240278 non-null  int64  \n",
      " 1   sessionId         240278 non-null  int64  \n",
      " 2   sessionNumber     240278 non-null  int64  \n",
      " 3   timestamp         240278 non-null  object \n",
      " 4   hitTime           240278 non-null  float64\n",
      " 5   hitType           240278 non-null  object \n",
      " 6   hitNumber         240278 non-null  int64  \n",
      " 7   hitIsInteraction  240278 non-null  object \n",
      " 8   hostname          240278 non-null  object \n",
      " 9   pageName          240278 non-null  object \n",
      " 10  eventCategory     110064 non-null  object \n",
      " 11  eventAction       110064 non-null  object \n",
      " 12  eventLabel        109745 non-null  object \n",
      " 13  isEntrance        74252 non-null   object \n",
      " 14  isExit            65132 non-null   object \n",
      " 15  deviceCategory    240278 non-null  object \n",
      " 16  campaign          240278 non-null  object \n",
      " 17  source            240278 non-null  object \n",
      " 18  medium            240278 non-null  object \n",
      " 19  hits              240278 non-null  int64  \n",
      " 20  language          240278 non-null  object \n",
      "dtypes: float64(1), int64(5), object(15)\n",
      "memory usage: 40.3+ MB\n"
     ]
    }
   ],
   "source": [
    "Cineplex.info()"
   ]
  },
  {
   "cell_type": "markdown",
   "metadata": {},
   "source": [
    "<b>Renaming Column names for better understanding</b>"
   ]
  },
  {
   "cell_type": "code",
   "execution_count": 93,
   "metadata": {},
   "outputs": [],
   "source": [
    "Cineplex = Cineplex.rename(columns = {\"fullVisitorId\": \"visitorId\", \"visitId\": \"sessionId\",\n",
    "                           \"visitNumber\":\"sessionNumber\", \"visitStartTime\": \"timestamp\"})"
   ]
  },
  {
   "cell_type": "code",
   "execution_count": 117,
   "metadata": {
    "scrolled": true
   },
   "outputs": [],
   "source": [
    "# assumed en is the default language.\n",
    "Cineplex['language'] = Cineplex.apply(lambda x: \"fr\" if \"fr-CA\" in x.pageName else \"en\", axis=1)"
   ]
  },
  {
   "cell_type": "code",
   "execution_count": 118,
   "metadata": {
    "scrolled": false
   },
   "outputs": [
    {
     "data": {
      "text/html": [
       "<div>\n",
       "<style scoped>\n",
       "    .dataframe tbody tr th:only-of-type {\n",
       "        vertical-align: middle;\n",
       "    }\n",
       "\n",
       "    .dataframe tbody tr th {\n",
       "        vertical-align: top;\n",
       "    }\n",
       "\n",
       "    .dataframe thead th {\n",
       "        text-align: right;\n",
       "    }\n",
       "</style>\n",
       "<table border=\"1\" class=\"dataframe\">\n",
       "  <thead>\n",
       "    <tr style=\"text-align: right;\">\n",
       "      <th></th>\n",
       "      <th>visitorId</th>\n",
       "      <th>sessionId</th>\n",
       "      <th>sessionNumber</th>\n",
       "      <th>timestamp</th>\n",
       "      <th>hitTime</th>\n",
       "      <th>hitType</th>\n",
       "      <th>hitNumber</th>\n",
       "      <th>hitIsInteraction</th>\n",
       "      <th>hostname</th>\n",
       "      <th>pageName</th>\n",
       "      <th>...</th>\n",
       "      <th>eventAction</th>\n",
       "      <th>eventLabel</th>\n",
       "      <th>isEntrance</th>\n",
       "      <th>isExit</th>\n",
       "      <th>deviceCategory</th>\n",
       "      <th>campaign</th>\n",
       "      <th>source</th>\n",
       "      <th>medium</th>\n",
       "      <th>hits</th>\n",
       "      <th>language</th>\n",
       "    </tr>\n",
       "  </thead>\n",
       "  <tbody>\n",
       "    <tr>\n",
       "      <th>0</th>\n",
       "      <td>6171949185047906658</td>\n",
       "      <td>1519045150</td>\n",
       "      <td>2</td>\n",
       "      <td>2018-02-19</td>\n",
       "      <td>0.25</td>\n",
       "      <td>PAGE</td>\n",
       "      <td>4</td>\n",
       "      <td>Yes</td>\n",
       "      <td>offers.airmiles.ca</td>\n",
       "      <td>/</td>\n",
       "      <td>...</td>\n",
       "      <td>NaN</td>\n",
       "      <td>NaN</td>\n",
       "      <td>NaN</td>\n",
       "      <td>Yes</td>\n",
       "      <td>desktop</td>\n",
       "      <td>37095_CineplexFamilyFavourites</td>\n",
       "      <td>37095_LaunchEmail-Step1</td>\n",
       "      <td>Email-Solo</td>\n",
       "      <td>1</td>\n",
       "      <td>en</td>\n",
       "    </tr>\n",
       "    <tr>\n",
       "      <th>3</th>\n",
       "      <td>6039957534302838246</td>\n",
       "      <td>1519427070</td>\n",
       "      <td>3</td>\n",
       "      <td>2018-02-23</td>\n",
       "      <td>3.14</td>\n",
       "      <td>EVENT</td>\n",
       "      <td>6</td>\n",
       "      <td>No</td>\n",
       "      <td>offers.airmiles.ca</td>\n",
       "      <td>/fr-CA</td>\n",
       "      <td>...</td>\n",
       "      <td>promo-site-click</td>\n",
       "      <td>click-get-promo-codes</td>\n",
       "      <td>NaN</td>\n",
       "      <td>NaN</td>\n",
       "      <td>mobile</td>\n",
       "      <td>37095_CineplexFamilyFavourites</td>\n",
       "      <td>37095_Facebook-Paid</td>\n",
       "      <td>Facebook-Paid</td>\n",
       "      <td>1</td>\n",
       "      <td>fr</td>\n",
       "    </tr>\n",
       "    <tr>\n",
       "      <th>5</th>\n",
       "      <td>6919264011263941984</td>\n",
       "      <td>1518869861</td>\n",
       "      <td>1</td>\n",
       "      <td>2018-02-17</td>\n",
       "      <td>0.00</td>\n",
       "      <td>PAGE</td>\n",
       "      <td>1</td>\n",
       "      <td>Yes</td>\n",
       "      <td>offers.airmiles.ca</td>\n",
       "      <td>/en-CA</td>\n",
       "      <td>...</td>\n",
       "      <td>NaN</td>\n",
       "      <td>NaN</td>\n",
       "      <td>Yes</td>\n",
       "      <td>Yes</td>\n",
       "      <td>mobile</td>\n",
       "      <td>37095_CineplexFamilyFavourites</td>\n",
       "      <td>37095_LaunchEmail-Start</td>\n",
       "      <td>Email-Solo</td>\n",
       "      <td>1</td>\n",
       "      <td>en</td>\n",
       "    </tr>\n",
       "    <tr>\n",
       "      <th>6</th>\n",
       "      <td>2471431596475321569</td>\n",
       "      <td>1519815906</td>\n",
       "      <td>1</td>\n",
       "      <td>2018-02-28</td>\n",
       "      <td>0.00</td>\n",
       "      <td>PAGE</td>\n",
       "      <td>1</td>\n",
       "      <td>Yes</td>\n",
       "      <td>offers.airmiles.ca</td>\n",
       "      <td>/en-CA</td>\n",
       "      <td>...</td>\n",
       "      <td>NaN</td>\n",
       "      <td>NaN</td>\n",
       "      <td>Yes</td>\n",
       "      <td>Yes</td>\n",
       "      <td>mobile</td>\n",
       "      <td>37095_CineplexFamilyFavourites</td>\n",
       "      <td>37095_Facebook-Paid</td>\n",
       "      <td>Facebook-Paid</td>\n",
       "      <td>1</td>\n",
       "      <td>en</td>\n",
       "    </tr>\n",
       "    <tr>\n",
       "      <th>7</th>\n",
       "      <td>2560110748309585883</td>\n",
       "      <td>1520894903</td>\n",
       "      <td>2</td>\n",
       "      <td>2018-03-12</td>\n",
       "      <td>0.92</td>\n",
       "      <td>PAGE</td>\n",
       "      <td>4</td>\n",
       "      <td>Yes</td>\n",
       "      <td>offers.airmiles.ca</td>\n",
       "      <td>/</td>\n",
       "      <td>...</td>\n",
       "      <td>NaN</td>\n",
       "      <td>NaN</td>\n",
       "      <td>NaN</td>\n",
       "      <td>NaN</td>\n",
       "      <td>desktop</td>\n",
       "      <td>37095_CineplexFamilyFavourites</td>\n",
       "      <td>37095_ProdThumbnail</td>\n",
       "      <td>AM.CA-Rewards</td>\n",
       "      <td>1</td>\n",
       "      <td>en</td>\n",
       "    </tr>\n",
       "  </tbody>\n",
       "</table>\n",
       "<p>5 rows × 21 columns</p>\n",
       "</div>"
      ],
      "text/plain": [
       "             visitorId   sessionId  sessionNumber   timestamp  hitTime  \\\n",
       "0  6171949185047906658  1519045150              2  2018-02-19     0.25   \n",
       "3  6039957534302838246  1519427070              3  2018-02-23     3.14   \n",
       "5  6919264011263941984  1518869861              1  2018-02-17     0.00   \n",
       "6  2471431596475321569  1519815906              1  2018-02-28     0.00   \n",
       "7  2560110748309585883  1520894903              2  2018-03-12     0.92   \n",
       "\n",
       "  hitType  hitNumber hitIsInteraction            hostname pageName  ...  \\\n",
       "0    PAGE          4              Yes  offers.airmiles.ca        /  ...   \n",
       "3   EVENT          6               No  offers.airmiles.ca   /fr-CA  ...   \n",
       "5    PAGE          1              Yes  offers.airmiles.ca   /en-CA  ...   \n",
       "6    PAGE          1              Yes  offers.airmiles.ca   /en-CA  ...   \n",
       "7    PAGE          4              Yes  offers.airmiles.ca        /  ...   \n",
       "\n",
       "        eventAction             eventLabel isEntrance isExit deviceCategory  \\\n",
       "0               NaN                    NaN        NaN    Yes        desktop   \n",
       "3  promo-site-click  click-get-promo-codes        NaN    NaN         mobile   \n",
       "5               NaN                    NaN        Yes    Yes         mobile   \n",
       "6               NaN                    NaN        Yes    Yes         mobile   \n",
       "7               NaN                    NaN        NaN    NaN        desktop   \n",
       "\n",
       "                         campaign                   source         medium  \\\n",
       "0  37095_CineplexFamilyFavourites  37095_LaunchEmail-Step1     Email-Solo   \n",
       "3  37095_CineplexFamilyFavourites      37095_Facebook-Paid  Facebook-Paid   \n",
       "5  37095_CineplexFamilyFavourites  37095_LaunchEmail-Start     Email-Solo   \n",
       "6  37095_CineplexFamilyFavourites      37095_Facebook-Paid  Facebook-Paid   \n",
       "7  37095_CineplexFamilyFavourites      37095_ProdThumbnail  AM.CA-Rewards   \n",
       "\n",
       "  hits  language  \n",
       "0    1        en  \n",
       "3    1        fr  \n",
       "5    1        en  \n",
       "6    1        en  \n",
       "7    1        en  \n",
       "\n",
       "[5 rows x 21 columns]"
      ]
     },
     "execution_count": 118,
     "metadata": {},
     "output_type": "execute_result"
    }
   ],
   "source": [
    "Cineplex.head()"
   ]
  },
  {
   "cell_type": "code",
   "execution_count": null,
   "metadata": {},
   "outputs": [],
   "source": []
  },
  {
   "cell_type": "code",
   "execution_count": null,
   "metadata": {},
   "outputs": [],
   "source": []
  },
  {
   "cell_type": "markdown",
   "metadata": {},
   "source": [
    "# Data Exploration"
   ]
  },
  {
   "cell_type": "markdown",
   "metadata": {},
   "source": [
    "<b> How many days of data we have? </b>"
   ]
  },
  {
   "cell_type": "code",
   "execution_count": 121,
   "metadata": {},
   "outputs": [
    {
     "data": {
      "text/plain": [
       "array(['2018-02-15', '2018-02-16', '2018-02-17', '2018-02-18',\n",
       "       '2018-02-19', '2018-02-20', '2018-02-21', '2018-02-22',\n",
       "       '2018-02-23', '2018-02-24', '2018-02-25', '2018-02-26',\n",
       "       '2018-02-27', '2018-02-28', '2018-03-01', '2018-03-02',\n",
       "       '2018-03-03', '2018-03-04', '2018-03-05', '2018-03-06',\n",
       "       '2018-03-07', '2018-03-08', '2018-03-09', '2018-03-10',\n",
       "       '2018-03-11', '2018-03-12', '2018-03-13', '2018-03-14',\n",
       "       '2018-03-15'], dtype=object)"
      ]
     },
     "execution_count": 121,
     "metadata": {},
     "output_type": "execute_result"
    }
   ],
   "source": [
    "x = Cineplex['timestamp'].unique()\n",
    "x.sort()\n",
    "x"
   ]
  },
  {
   "cell_type": "markdown",
   "metadata": {},
   "source": [
    "<b>From above it seems that we have data till March 15th although, the campaign ran till May 17th. This shows that we have incomplete to analyse the success of the campaign.</b>"
   ]
  },
  {
   "cell_type": "markdown",
   "metadata": {},
   "source": [
    " How's total traffic or total session id in this duration ?"
   ]
  },
  {
   "cell_type": "code",
   "execution_count": 135,
   "metadata": {},
   "outputs": [
    {
     "data": {
      "text/plain": [
       "<matplotlib.axes._subplots.AxesSubplot at 0x1e9b8df2ec8>"
      ]
     },
     "execution_count": 135,
     "metadata": {},
     "output_type": "execute_result"
    },
    {
     "data": {
      "image/png": "[encoded data removed]",
      "text/plain": [
       "<Figure size 720x360 with 1 Axes>"
      ]
     },
     "metadata": {
      "needs_background": "light"
     },
     "output_type": "display_data"
    }
   ],
   "source": [
    "line = Cineplex.groupby(by = 'timestamp')['sessionId'].nunique()\n",
    "line.plot.line(x = 'timestamp', y = 'nunique', figsize=(10,5))"
   ]
  },
  {
   "cell_type": "markdown",
   "metadata": {},
   "source": [
    "<b>The above shows that unique sessions increased in the first two days and dropped drastically after february 17th.</b>"
   ]
  },
  {
   "cell_type": "markdown",
   "metadata": {},
   "source": [
    "How many unique visitors we had for Cineplex Family Favourites?"
   ]
  },
  {
   "cell_type": "code",
   "execution_count": 95,
   "metadata": {},
   "outputs": [
    {
     "data": {
      "text/plain": [
       "55094"
      ]
     },
     "execution_count": 95,
     "metadata": {},
     "output_type": "execute_result"
    }
   ],
   "source": [
    "Cineplex['visitorId'].nunique()"
   ]
  },
  {
   "cell_type": "markdown",
   "metadata": {},
   "source": [
    "How many unique sessions we got for Cineplex Family Favourites?"
   ]
  },
  {
   "cell_type": "code",
   "execution_count": 141,
   "metadata": {},
   "outputs": [
    {
     "data": {
      "text/plain": [
       "73710"
      ]
     },
     "execution_count": 141,
     "metadata": {},
     "output_type": "execute_result"
    }
   ],
   "source": [
    "Cineplex['sessionId'].nunique()"
   ]
  },
  {
   "cell_type": "markdown",
   "metadata": {},
   "source": [
    "Which pages are explored the most in the campaign?"
   ]
  },
  {
   "cell_type": "markdown",
   "metadata": {},
   "source": [
    "Total PageView by Session: Counted pageview with HitType as 'Page' by session"
   ]
  },
  {
   "cell_type": "code",
   "execution_count": 180,
   "metadata": {
    "scrolled": true
   },
   "outputs": [
    {
     "data": {
      "text/plain": [
       "pageName\n",
       "/en-CA                                             81778\n",
       "/en-CA/checkout                                    10527\n",
       "/                                                  10495\n",
       "/fr-CA                                              8131\n",
       "/en-CA/confirmation                                 7579\n",
       "/en-CA/my-codes                                     2161\n",
       "/en-CA/terms                                        1722\n",
       "/fr-CA/checkout                                     1032\n",
       "/false-featured-movies                              1025\n",
       "/fr-CA/confirmation                                  684\n",
       "/en-CA[/vpv/main-nav-familyfavourites]               324\n",
       "/en-CA[/vpv/main-nav-theatres]                       294\n",
       "/en-CA[/vpv/main-nav-movies]                         263\n",
       "/fr-CA/terms                                         250\n",
       "/en-CA[/vpv/main-nav-mycodes]                        250\n",
       "/fr-CA/my-codes                                      237\n",
       "/en-CA/checkout[/vpv/main-nav-familyfavourites]      213\n",
       "/en-CA/my-codes[/vpv/main-nav-familyfavourites]      211\n",
       "/en-CA/checkout[/vpv/main-nav-mycodes]               172\n",
       "/en-CA/my-codes[/vpv/main-nav-getpromocodes]         153\n",
       "Name: sessionId, dtype: int64"
      ]
     },
     "execution_count": 180,
     "metadata": {},
     "output_type": "execute_result"
    }
   ],
   "source": [
    "pagehit = Cineplex[Cineplex['hitType'].str.contains('PAGE')]\n",
    "pagehit.groupby(by= 'pageName')['sessionId'].count().sort_values(ascending = False).head(20)"
   ]
  },
  {
   "cell_type": "markdown",
   "metadata": {},
   "source": [
    "Total Unique PageView by Session: Counted Pageview with HitType as 'Page' by unique session"
   ]
  },
  {
   "cell_type": "code",
   "execution_count": 138,
   "metadata": {},
   "outputs": [
    {
     "data": {
      "text/plain": [
       "pageName\n",
       "/en-CA                                             61366\n",
       "/                                                   9787\n",
       "/en-CA/checkout                                     8114\n",
       "/en-CA/confirmation                                 6418\n",
       "/fr-CA                                              6334\n",
       "/en-CA/my-codes                                     1766\n",
       "/en-CA/terms                                        1623\n",
       "/false-featured-movies                              1005\n",
       "/fr-CA/checkout                                      778\n",
       "/fr-CA/confirmation                                  596\n",
       "/en-CA[/vpv/main-nav-familyfavourites]               275\n",
       "/en-CA[/vpv/main-nav-theatres]                       274\n",
       "/en-CA[/vpv/main-nav-movies]                         251\n",
       "/fr-CA/terms                                         235\n",
       "/en-CA[/vpv/main-nav-mycodes]                        219\n",
       "/en-CA/my-codes[/vpv/main-nav-familyfavourites]      199\n",
       "/en-CA/checkout[/vpv/main-nav-familyfavourites]      197\n",
       "/fr-CA/my-codes                                      181\n",
       "/en-CA/checkout[/vpv/main-nav-mycodes]               154\n",
       "/en-CA/my-codes[/vpv/main-nav-getpromocodes]         148\n",
       "Name: sessionId, dtype: int64"
      ]
     },
     "execution_count": 138,
     "metadata": {},
     "output_type": "execute_result"
    }
   ],
   "source": [
    "pagehit.groupby(by= 'pageName')['sessionId'].nunique().sort_values(ascending = False).head(20)"
   ]
  },
  {
   "cell_type": "markdown",
   "metadata": {},
   "source": [
    "<b>Exploring Event Category, Event Action and Event Label</b>"
   ]
  },
  {
   "cell_type": "code",
   "execution_count": 197,
   "metadata": {},
   "outputs": [
    {
     "data": {
      "text/plain": [
       "on-page-interaction    66606\n",
       "/utility               38363\n",
       "/page-scroll            5095\n",
       "Name: eventCategory, dtype: int64"
      ]
     },
     "execution_count": 197,
     "metadata": {},
     "output_type": "execute_result"
    }
   ],
   "source": [
    "Cineplex['eventCategory'].value_counts()"
   ]
  },
  {
   "cell_type": "code",
   "execution_count": 196,
   "metadata": {},
   "outputs": [
    {
     "data": {
      "text/plain": [
       "click                             66606\n",
       "promo-site-click                  37321\n",
       "percent-25                         2298\n",
       "percent-50                         1680\n",
       "percent-80                         1117\n",
       "promo-codes-order-confirmation     1042\n",
       "Name: eventAction, dtype: int64"
      ]
     },
     "execution_count": 196,
     "metadata": {},
     "output_type": "execute_result"
    }
   ],
   "source": [
    "Cineplex['eventAction'].value_counts()"
   ]
  },
  {
   "cell_type": "code",
   "execution_count": 199,
   "metadata": {},
   "outputs": [
    {
     "data": {
      "text/plain": [
       "click-get-promo-codes                                     40997\n",
       "/en-CA[/vpv/get-promo-codes-2]                            23024\n",
       "/en-CA/checkout[/vpv/get-promo-codes-submit-1]            12148\n",
       "click-visit-cineplex                                       7445\n",
       "/en-CA[/vpv/find-location-btn]                             7329\n",
       "/en-CA[/vpv/get-promo-codes-4]                             6472\n",
       "/en-CA[/vpv/get-promo-codes-5]                             3953\n",
       "/en-CA/checkout[/vpv/get-promo-codes-submit-btn]           2610\n",
       "/fr-CA[/vpv/get-promo-codes-2]                             2372\n",
       "/en-CA[/vpv/get-promo-codes-3]                             2048\n",
       "/en-CA[/vpv/get-promo-codes-family-favourites-top-btn]     1653\n",
       "promo-codes-displayed                                      1401\n",
       "/en-CA[/vpv/visit-cineplex-3]                              1100\n",
       "/en-CA[/vpv/get-promo-codes-6]                             1085\n",
       "/fr-CA[/vpv/find-location-btn]                             1034\n",
       "/fr-CA/checkout[/vpv/get-promo-codes-submit-1]             1002\n",
       "/en-CA[/vpv/visit-cineplex-4]                               864\n",
       "/en-CA[/vpv/amca-navlnk]                                    757\n",
       "/en-CA[/vpv/visit-cineplex-2]                               569\n",
       "/en-CA[/vpv/visit-cineplex-1]                               537\n",
       "Name: eventLabel, dtype: int64"
      ]
     },
     "execution_count": 199,
     "metadata": {},
     "output_type": "execute_result"
    }
   ],
   "source": [
    "df['eventLabel'].value_counts().head(20)"
   ]
  },
  {
   "attachments": {},
   "cell_type": "markdown",
   "metadata": {},
   "source": [
    "<b>Assumptions for Eventlabel</b>\n",
    " <ul>Submitting/applying for Promo-Code on checkout: \n",
    "<li>\"/fr-CA/checkout[/vpv/get-promo-codes-submit-1]\"</li>\n",
    "<li>\"/en-CA/checkout[/vpv/get-promo-codes-submit-1]\"</li> </ul>\n",
    "<ul>For Cineplex Website tab from where collector go to Cineplex Website: \n",
    "<li>\"click-visit-cineplex\"</li></ul>\n"
   ]
  },
  {
   "cell_type": "markdown",
   "metadata": {},
   "source": [
    "How many times users clicked on promo-code on checkout page ?"
   ]
  },
  {
   "cell_type": "code",
   "execution_count": 153,
   "metadata": {},
   "outputs": [
    {
     "data": {
      "text/plain": [
       "10005"
      ]
     },
     "execution_count": 153,
     "metadata": {},
     "output_type": "execute_result"
    }
   ],
   "source": [
    "get_promo_code = Cineplex[(Cineplex['eventLabel'] == '/fr-CA/checkout[/vpv/get-promo-codes-submit-1]') | \n",
    "         (Cineplex['eventLabel'] == '/en-CA/checkout[/vpv/get-promo-codes-submit-1]')]['sessionId'].count()\n",
    "get_promo_code"
   ]
  },
  {
   "cell_type": "markdown",
   "metadata": {},
   "source": [
    "How many times users clicked on cineplex tab on the Order confirmation page?"
   ]
  },
  {
   "cell_type": "code",
   "execution_count": 149,
   "metadata": {},
   "outputs": [
    {
     "data": {
      "text/plain": [
       "5096"
      ]
     },
     "execution_count": 149,
     "metadata": {},
     "output_type": "execute_result"
    }
   ],
   "source": [
    "cineplex = Cineplex[Cineplex['eventLabel'] == 'click-visit-cineplex']['pageName'].count()\n",
    "cineplex"
   ]
  },
  {
   "cell_type": "markdown",
   "metadata": {},
   "source": [
    "what percent of sessionId clicked on cineplex tab with respect to confirmation pageviews?"
   ]
  },
  {
   "cell_type": "code",
   "execution_count": 200,
   "metadata": {},
   "outputs": [
    {
     "data": {
      "text/plain": [
       "5.667953152632106"
      ]
     },
     "execution_count": 200,
     "metadata": {},
     "output_type": "execute_result"
    }
   ],
   "source": [
    "(cineplex/89909)*100   #denominator adding the number of pageview on /en-ca and /fr-ca (81778+8131)"
   ]
  },
  {
   "cell_type": "markdown",
   "metadata": {},
   "source": [
    "What percent of sessionId applied for promo-code with respect to checkout pageviews with respect to homepage?"
   ]
  },
  {
   "cell_type": "code",
   "execution_count": 185,
   "metadata": {},
   "outputs": [
    {
     "data": {
      "text/plain": [
       "11.12791822843097"
      ]
     },
     "execution_count": 185,
     "metadata": {},
     "output_type": "execute_result"
    }
   ],
   "source": [
    "(get_promo_code/89909)*100 #denominator adding the number of pageview on /en-ca and /fr-ca (7579+8131)"
   ]
  },
  {
   "cell_type": "markdown",
   "metadata": {},
   "source": [
    "What percent of sessions clicked on Cineplex Visit tab on confirmation page?"
   ]
  },
  {
   "cell_type": "code",
   "execution_count": 190,
   "metadata": {},
   "outputs": [
    {
     "data": {
      "text/plain": [
       "61.672516035338255"
      ]
     },
     "execution_count": 190,
     "metadata": {},
     "output_type": "execute_result"
    }
   ],
   "source": [
    "(cineplex/8263)*100  #denominator adding the number of pageview on /en-ca/confirmation and /fr-ca/confirmation (7579+684)"
   ]
  },
  {
   "cell_type": "markdown",
   "metadata": {},
   "source": [
    "What percent of sessions applied for promo-code on checkout pageviews?"
   ]
  },
  {
   "cell_type": "code",
   "execution_count": 201,
   "metadata": {},
   "outputs": [
    {
     "data": {
      "text/plain": [
       "86.55593044381001"
      ]
     },
     "execution_count": 201,
     "metadata": {},
     "output_type": "execute_result"
    }
   ],
   "source": [
    "(get_promo_code/11559)*100 #denominator adding the number of pageview on /en-ca/checkout and /fr-ca/checkout (10527+1032)"
   ]
  },
  {
   "cell_type": "code",
   "execution_count": 192,
   "metadata": {},
   "outputs": [
    {
     "data": {
      "text/plain": [
       "source\n",
       "37095_LaunchEmail              19324\n",
       "37095_Facebook-Paid            18075\n",
       "37095_Voken                     9019\n",
       "37095_LaunchEmail-Start         8001\n",
       "37095_Vanity                    7811\n",
       "37095_ProdThumbnail             4022\n",
       "37095_CodeConfirmationEmail     2563\n",
       "37095_L2-Cat-Banner             1548\n",
       "37095_MobilePush                1460\n",
       "37095_LaunchEmail-Step1         1443\n",
       "37095_HomePage                  1253\n",
       "37095_L1-Cat-Banner              774\n",
       "37095_PDP-Banner                 606\n",
       "37095_Email-eNewsletter          243\n",
       "37095_LauncheNews                146\n",
       "37095_TeamAM                     124\n",
       "37095_LaunchWeb                   87\n",
       "37095_LaunchEmail-Step2            4\n",
       "37095_Face                         1\n",
       "Name: sessionId, dtype: int64"
      ]
     },
     "execution_count": 192,
     "metadata": {},
     "output_type": "execute_result"
    }
   ],
   "source": [
    "bar = Cineplex.groupby(by = 'source')['sessionId'].nunique().sort_values(ascending = False)\n",
    "bar"
   ]
  },
  {
   "cell_type": "code",
   "execution_count": null,
   "metadata": {},
   "outputs": [],
   "source": []
  }
 ],
 "metadata": {
  "kernelspec": {
   "display_name": "Python 3",
   "language": "python",
   "name": "python3"
  },
  "language_info": {
   "codemirror_mode": {
    "name": "ipython",
    "version": 3
   },
   "file_extension": ".py",
   "mimetype": "text/x-python",
   "name": "python",
   "nbconvert_exporter": "python",
   "pygments_lexer": "ipython3",
   "version": "3.7.6"
  }
 },
 "nbformat": 4,
 "nbformat_minor": 4
}
